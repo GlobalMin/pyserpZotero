{
 "cells": [
  {
   "cell_type": "code",
   "execution_count": 2,
   "id": "535a88e0-6546-4766-bbf4-01e59aec5a76",
   "metadata": {},
   "outputs": [],
   "source": [
    "##import sys\n",
    "##!{sys.executable} -m pip install nameparser\n",
    "\n",
    "# Libraries\n",
    "import bibtexparser\n",
    "import certifi\n",
    "import datetime\n",
    "import json\n",
    "import numpy as np\n",
    "import os\n",
    "import pandas as pd\n",
    "import pycurl\n",
    "import re\n",
    "import requests\n",
    "\n",
    "from bibtexparser.bparser import BibTexParser\n",
    "from datetime import date\n",
    "from habanero import Crossref\n",
    "from io import BytesIO\n",
    "from pyzotero import zotero\n",
    "from serpapi import GoogleSearch\n",
    "from urllib.parse import urlencode"
   ]
  },
  {
   "cell_type": "code",
   "execution_count": 3,
   "id": "9ff20c49-31ea-424a-b13f-0b3d7ca26af0",
   "metadata": {},
   "outputs": [],
   "source": [
    "# Set your API_KEY \n",
    "API_KEY = \"\"\n",
    "MIN_YEAR = 2020\n",
    "TERM = \"brain oxygen memory\"\n",
    "\n",
    "# Search Parameters \n",
    "params = {\n",
    "  \"api_key\": API_KEY,\n",
    "  \"device\": \"desktop\",\n",
    "  \"engine\": \"google_scholar\",\n",
    "  \"q\": TERM,\n",
    "  \"hl\": \"en\",\n",
    "  \"num\": \"20\",\n",
    "  \"as_ylo\": MIN_YEAR\n",
    "}\n",
    "\n",
    "# Search\n",
    "search = GoogleSearch(params)"
   ]
  },
  {
   "cell_type": "code",
   "execution_count": 4,
   "id": "4811165a-de4b-4d8a-8052-3d51b647a20b",
   "metadata": {},
   "outputs": [
    {
     "name": "stdout",
     "output_type": "stream",
     "text": [
      "https://serpapi.com/search\n"
     ]
    }
   ],
   "source": [
    "# Scrape Results, Extract Result Id's\n",
    "json_data = search.get_raw_json()\n",
    "data = json.loads(json_data)\n",
    "df = pd.json_normalize(data['organic_results'])\n",
    "ris = df['result_id']"
   ]
  },
  {
   "cell_type": "code",
   "execution_count": 7,
   "id": "bc8c386d-ebb1-4415-b5f8-d86081f62c09",
   "metadata": {},
   "outputs": [
    {
     "name": "stdout",
     "output_type": "stream",
     "text": [
      "h8qLjPx3QjIJ\n",
      "IlF9j4SFkqgJ\n",
      "XzVO87V5VEIJ\n",
      "LSEqQzeM9N4J\n",
      "k1j0uahSYIcJ\n",
      "rz5KOI2tsjkJ\n",
      "IWx38RIDXnkJ\n",
      "PR9Z8cF-NQYJ\n",
      "7i9dNoqxeBcJ\n",
      "ugfU-qa71lMJ\n",
      "0BDqIHZdnTQJ\n",
      "p-SR6kvjJxwJ\n",
      "gKSLgZo6NB4J\n",
      "6nbEwVplPlYJ\n",
      "Ow3Twp63MpkJ\n",
      "O52qi6OPW0oJ\n",
      "v3e3QcQzlpgJ\n",
      "pLybULKFInoJ\n",
      "aOCCTFh6gTUJ\n",
      "Xp_89DjMc5kJ\n"
     ]
    }
   ],
   "source": [
    "# TEMP\n",
    "#print(ris)\n",
    "\n",
    "for c in ris:\n",
    "    print(c)"
   ]
  },
  {
   "cell_type": "code",
   "execution_count": 456,
   "id": "e1a1a972-7d57-44b6-b353-31050caeaf26",
   "metadata": {},
   "outputs": [
    {
     "name": "stdout",
     "output_type": "stream",
     "text": [
      "https://serpapi.com/search\n"
     ]
    }
   ],
   "source": [
    "# Get the Citation!\n",
    "params = {\n",
    "  \"api_key\": API_KEY,\n",
    "  \"device\": \"desktop\",\n",
    "  \"engine\": \"google_scholar_cite\",\n",
    "  \"q\": ris[0]\n",
    "}\n",
    "\n",
    "search = GoogleSearch(params)\n",
    "citation = search.get_dict()"
   ]
  },
  {
   "cell_type": "code",
   "execution_count": 457,
   "id": "6d4646ba-bd53-4833-88ec-6d5f7a308415",
   "metadata": {},
   "outputs": [
    {
     "data": {
      "text/plain": [
       "'Lucas, Y., Portier, P. E., Laporte, L., He-Guelton, L., Caelen, O., Granitzer, M., & Calabretto, S. (2020). Towards automated feature engineering for credit card fraud detection using multi-perspective HMMs. Future Generation Computer Systems, 102, 393-402.'"
      ]
     },
     "execution_count": 457,
     "metadata": {},
     "output_type": "execute_result"
    }
   ],
   "source": [
    "# Get APA Format Citation and Parse\n",
    "citation['citations'][1]['snippet']"
   ]
  },
  {
   "cell_type": "code",
   "execution_count": 458,
   "id": "0d1a8253-ef43-4e9f-b85e-1552ef8ab2e1",
   "metadata": {},
   "outputs": [],
   "source": [
    "# Cross-reference the Citation with Crossref to Get Bibtext\n",
    "base = 'https://api.crossref.org/works?query.'\n",
    "api_url = {'bibliographic':citation['citations'][1]['snippet']}\n",
    "url = urlencode(api_url)\n",
    "url = base+url\n",
    "response = requests.get(url)"
   ]
  },
  {
   "cell_type": "code",
   "execution_count": 459,
   "id": "14ef30a0-abcd-4a31-a358-dcfec9ff469b",
   "metadata": {},
   "outputs": [],
   "source": [
    "# Parse Bibtext from Crossref\n",
    "jsonResponse = response.json()\n",
    "jsonResponse = jsonResponse['message']\n",
    "jsonResponse = jsonResponse['items']\n",
    "jsonResponse = jsonResponse[0]\n",
    "jsonResponse['DOI']\n",
    "curl_str = 'curl -LH \"Accept: application/x-bibtex\" http://dx.doi.org/' + jsonResponse['DOI']"
   ]
  },
  {
   "cell_type": "code",
   "execution_count": 460,
   "id": "4752e6fe-d85a-4479-ab6a-24cd22f57fe9",
   "metadata": {},
   "outputs": [
    {
     "name": "stderr",
     "output_type": "stream",
     "text": [
      "  % Total    % Received % Xferd  Average Speed   Time    Time     Time  Current\n",
      "                                 Dload  Upload   Total   Spent    Left  Speed\n",
      "  0     0    0     0    0     0      0      0 --:--:-- --:--:-- --:--:--     0\n",
      "100   233  100   233    0     0   1122      0 --:--:-- --:--:-- --:--:--  1122\n",
      "100   534    0   534    0     0   1384      0 --:--:-- --:--:-- --:--:--  1384\n"
     ]
    }
   ],
   "source": [
    "result = os.popen(curl_str).read()"
   ]
  },
  {
   "cell_type": "code",
   "execution_count": 461,
   "id": "153f8de9-304d-4f27-a513-acff32caebe0",
   "metadata": {},
   "outputs": [],
   "source": [
    "# Write bibtext file\n",
    "text_file = open(\"auto_cite.bib\", \"w\")\n",
    "n = text_file.write(result)\n",
    "text_file.close()"
   ]
  },
  {
   "cell_type": "code",
   "execution_count": 462,
   "id": "ed195952-ccd8-4e90-831a-baad4ad6aa5d",
   "metadata": {},
   "outputs": [
    {
     "name": "stdout",
     "output_type": "stream",
     "text": [
      "{'journal': 'Future Generation Computer Systems', 'title': 'Towards automated feature engineering for credit card fraud detection using multi-perspective {HMMs}', 'author': ['Lucas, Yvan', 'Portier, Pierre-Edouard', \"Laporte, L{\\\\'{e}}a\", 'He-Guelton, Liyun', 'Caelen, Olivier', 'Granitzer, Michael', 'Calabretto, Sylvie'], 'pages': '393--402', 'volume': '102', 'publisher': 'Elsevier {BV}', 'month': 'jan', 'year': '2020', 'url': 'https://doi.org/10.1016%2Fj.future.2019.08.029', 'doi': '10.1016/j.future.2019.08.029', 'ENTRYTYPE': 'article', 'ID': 'Lucas_2020'}\n"
     ]
    }
   ],
   "source": [
    "# Parse bibtext\n",
    "with open('auto_cite.bib') as bibtex_file:\n",
    "    parser = BibTexParser()\n",
    "    parser.customization = bibtexparser.customization.author    \n",
    "    bib_database = bibtexparser.load(bibtex_file, parser=parser)\n",
    "bib_dict = bib_database.entries[0]\n",
    "print(bib_dict)"
   ]
  },
  {
   "cell_type": "code",
   "execution_count": 463,
   "id": "9178e5a0-9341-4079-85ac-2955620f1644",
   "metadata": {},
   "outputs": [],
   "source": [
    "# Connect to Zotero\n",
    "zot = zotero.Zotero('7032524', 'user', 'HAk2Mg9hOkkUizABjJEBFWRz')\n",
    "template = zot.item_template('journalArticle') # Set Template"
   ]
  },
  {
   "cell_type": "code",
   "execution_count": 475,
   "id": "af74ef7c-f9fa-4556-9393-e084b2a15661",
   "metadata": {},
   "outputs": [],
   "source": [
    "# Populate Zotero Template with Data\n",
    "try:\n",
    "    template['publicationTitle'] = bib_dict['journal']\n",
    "except:\n",
    "    pass\n",
    "template['title'] = bib_dict['title']\n",
    "template['DOI'] = str(jsonResponse['DOI'])\n",
    "try:\n",
    "    template['accessDate'] = str(date.today())\n",
    "except:\n",
    "    pass\n",
    "try:\n",
    "    template['extra'] = str(bib_database.comments)\n",
    "except:\n",
    "    pass\n",
    "try:\n",
    "    template['url'] = bib_dict['url']\n",
    "except:\n",
    "    pass\n",
    "try:\n",
    "    template['volume'] = bib_dict['volume']\n",
    "except:\n",
    "    pass\n",
    "try:\n",
    "    template['issue'] = bib_dict['number']\n",
    "except:\n",
    "    pass\n",
    "try:\n",
    "    template['abstractNote'] = df['snippet'][0]\n",
    "except:\n",
    "    pass\n",
    "\n",
    "# Fix Date\n",
    "mydate = bib_dict['month']+' '+bib_dict['year']\n",
    "template['date'] = str(datetime.datetime.strptime(mydate, '%b %Y').date())"
   ]
  },
  {
   "cell_type": "code",
   "execution_count": 476,
   "id": "8e1d4988-76f9-4fd3-9743-89975dae82bc",
   "metadata": {},
   "outputs": [
    {
     "name": "stdout",
     "output_type": "stream",
     "text": [
      "{'itemType': 'journalArticle', 'title': 'Towards automated feature engineering for credit card fraud detection using multi-perspective {HMMs}', 'creators': [{'creatorType': 'author', 'firstName': 'Yvan', 'lastName': 'Lucas'}, {'creatorType': 'author', 'firstName': 'Pierre-Edouard', 'lastName': 'Portier'}, {'creatorType': 'author', 'firstName': \"L{\\\\'{e}}a\", 'lastName': 'Laporte'}, {'creatorType': 'author', 'firstName': 'Liyun', 'lastName': 'He-Guelton'}, {'creatorType': 'author', 'firstName': 'Olivier', 'lastName': 'Caelen'}, {'creatorType': 'author', 'firstName': 'Michael', 'lastName': 'Granitzer'}, {'creatorType': 'author', 'firstName': 'Sylvie', 'lastName': 'Calabretto'}], 'abstractNote': '… In order not to depend on expert knowledge, we favour automated feature engineering in a … The multiple perspective property of our HMM-based automated feature engineering strategy …', 'publicationTitle': 'Future Generation Computer Systems', 'volume': '102', 'issue': '', 'pages': '', 'date': '2020-01-01', 'series': '', 'seriesTitle': '', 'seriesText': '', 'journalAbbreviation': '', 'language': '', 'DOI': '10.1016/j.future.2019.08.029', 'ISSN': '', 'shortTitle': '', 'url': 'https://doi.org/10.1016%2Fj.future.2019.08.029', 'accessDate': '2022-12-08', 'archive': '', 'archiveLocation': '', 'libraryCatalog': '', 'callNumber': '', 'rights': '', 'extra': '[]', 'tags': [], 'collections': [], 'relations': {}}\n"
     ]
    }
   ],
   "source": [
    "# Parse Names into Template/Data\n",
    "num_authors = len(bib_dict['author'])\n",
    "template['creators'] = []\n",
    "\n",
    "for a in bib_dict['author']:\n",
    "    split = bibtexparser.customization.splitname(a, strict_mode=False)\n",
    "    template['creators'].append({'creatorType': 'author', 'firstName': split['first'][0], 'lastName': split['last'][0]})\n",
    "\n",
    "print(template)"
   ]
  },
  {
   "cell_type": "code",
   "execution_count": 477,
   "id": "bfe4c913-926c-4076-8601-b9e83a8f6f88",
   "metadata": {},
   "outputs": [
    {
     "data": {
      "text/plain": [
       "{'successful': {'0': {'key': 'JFQKKDQ8',\n",
       "   'version': 311,\n",
       "   'library': {'type': 'user',\n",
       "    'id': 7032524,\n",
       "    'name': 'hackr',\n",
       "    'links': {'alternate': {'href': 'https://www.zotero.org/hackr',\n",
       "      'type': 'text/html'}}},\n",
       "   'links': {'self': {'href': 'https://api.zotero.org/users/7032524/items/JFQKKDQ8',\n",
       "     'type': 'application/json'},\n",
       "    'alternate': {'href': 'https://www.zotero.org/hackr/items/JFQKKDQ8',\n",
       "     'type': 'text/html'}},\n",
       "   'meta': {'creatorSummary': 'Lucas et al.',\n",
       "    'parsedDate': '2020-01-01',\n",
       "    'numChildren': 0},\n",
       "   'data': {'key': 'JFQKKDQ8',\n",
       "    'version': 311,\n",
       "    'itemType': 'journalArticle',\n",
       "    'title': 'Towards automated feature engineering for credit card fraud detection using multi-perspective {HMMs}',\n",
       "    'creators': [{'creatorType': 'author',\n",
       "      'firstName': 'Yvan',\n",
       "      'lastName': 'Lucas'},\n",
       "     {'creatorType': 'author',\n",
       "      'firstName': 'Pierre-Edouard',\n",
       "      'lastName': 'Portier'},\n",
       "     {'creatorType': 'author',\n",
       "      'firstName': \"L{\\\\'{e}}a\",\n",
       "      'lastName': 'Laporte'},\n",
       "     {'creatorType': 'author', 'firstName': 'Liyun', 'lastName': 'He-Guelton'},\n",
       "     {'creatorType': 'author', 'firstName': 'Olivier', 'lastName': 'Caelen'},\n",
       "     {'creatorType': 'author',\n",
       "      'firstName': 'Michael',\n",
       "      'lastName': 'Granitzer'},\n",
       "     {'creatorType': 'author',\n",
       "      'firstName': 'Sylvie',\n",
       "      'lastName': 'Calabretto'}],\n",
       "    'abstractNote': '… In order not to depend on expert knowledge, we favour automated feature engineering in a … The multiple perspective property of our HMM-based automated feature engineering strategy …',\n",
       "    'publicationTitle': 'Future Generation Computer Systems',\n",
       "    'volume': '102',\n",
       "    'issue': '',\n",
       "    'pages': '',\n",
       "    'date': '2020-01-01',\n",
       "    'series': '',\n",
       "    'seriesTitle': '',\n",
       "    'seriesText': '',\n",
       "    'journalAbbreviation': '',\n",
       "    'language': '',\n",
       "    'DOI': '10.1016/j.future.2019.08.029',\n",
       "    'ISSN': '',\n",
       "    'shortTitle': '',\n",
       "    'url': 'https://doi.org/10.1016%2Fj.future.2019.08.029',\n",
       "    'accessDate': '2022-12-08',\n",
       "    'archive': '',\n",
       "    'archiveLocation': '',\n",
       "    'libraryCatalog': '',\n",
       "    'callNumber': '',\n",
       "    'rights': '',\n",
       "    'extra': '[]',\n",
       "    'tags': [],\n",
       "    'collections': [],\n",
       "    'relations': {},\n",
       "    'dateAdded': '2022-12-09T02:07:04Z',\n",
       "    'dateModified': '2022-12-09T02:07:04Z'}}},\n",
       " 'success': {'0': 'JFQKKDQ8'},\n",
       " 'unchanged': {},\n",
       " 'failed': {}}"
      ]
     },
     "execution_count": 477,
     "metadata": {},
     "output_type": "execute_result"
    }
   ],
   "source": [
    "zot.create_items([template])"
   ]
  },
  {
   "cell_type": "code",
   "execution_count": null,
   "id": "36a78bdd-bfc1-48f0-adcb-b7ab0daf076a",
   "metadata": {},
   "outputs": [],
   "source": []
  }
 ],
 "metadata": {
  "kernelspec": {
   "display_name": "Python 3 (ipykernel)",
   "language": "python",
   "name": "python3"
  },
  "language_info": {
   "codemirror_mode": {
    "name": "ipython",
    "version": 3
   },
   "file_extension": ".py",
   "mimetype": "text/x-python",
   "name": "python",
   "nbconvert_exporter": "python",
   "pygments_lexer": "ipython3",
   "version": "3.9.13"
  }
 },
 "nbformat": 4,
 "nbformat_minor": 5
}
