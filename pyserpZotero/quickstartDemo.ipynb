{
 "cells": [
  {
   "cell_type": "code",
   "execution_count": 6,
   "id": "d27d8476-b0d8-49e8-b9a1-9cf6e202dd46",
   "metadata": {},
   "outputs": [
    {
     "data": {
      "text/plain": [
       "<module 'pyserpZotero' from '/Users/jamesonstillwell/code_repos/pyserpZotero/pyserpZotero/pyserpZotero.py'>"
      ]
     },
     "execution_count": 6,
     "metadata": {},
     "output_type": "execute_result"
    }
   ],
   "source": [
    "# Load libraries\n",
    "import importlib # You won't need this\n",
    "import os\n",
    "import pyserpZotero\n",
    "from pyserpZotero import clean_mml\n",
    "import yaml\n",
    "\n",
    "from box import Box\n",
    "\n",
    "importlib.reload(pyserpZotero) # For development only"
   ]
  },
  {
   "cell_type": "code",
   "execution_count": 7,
   "id": "7a3b5bb3-3234-4629-993d-898030899756",
   "metadata": {},
   "outputs": [],
   "source": [
    "# Load a YAML with the following 3 values (Optional)\n",
    "with open(\"config.yaml\", \"r\") as ymlfile:\n",
    "    cfg = Box(yaml.safe_load(ymlfile), default_box=True, default_box_attr=None)\n",
    "    \n",
    "API_KEY = cfg.API_KEY\n",
    "ZOT_ID  = cfg.ZOT_ID\n",
    "ZOT_KEY = cfg.ZOT_KEY"
   ]
  },
  {
   "cell_type": "code",
   "execution_count": 8,
   "id": "cd665cdd",
   "metadata": {},
   "outputs": [],
   "source": [
    "from pyserpZotero import serpZot"
   ]
  },
  {
   "cell_type": "code",
   "execution_count": 9,
   "id": "753aa58d-d8b9-4a39-8847-102b8621185d",
   "metadata": {},
   "outputs": [
    {
     "name": "stdout",
     "output_type": "stream",
     "text": [
      "Reminder: Make sure your Zotero key has write permissions.\n"
     ]
    }
   ],
   "source": [
    "# Instantiate a serpZot object for API management\n",
    "citeObj = serpZot(API_KEY       = API_KEY, \n",
    "                               ZOT_ID        = ZOT_ID, \n",
    "                               ZOT_KEY       = ZOT_KEY,\n",
    "                               DOWNLOAD_DEST = \".\" # Optional (for destinations other than the current directory)\n",
    "                            )"
   ]
  },
  {
   "cell_type": "code",
   "execution_count": 10,
   "id": "958eeb00-0489-4261-b773-d7f407bc1dbe",
   "metadata": {},
   "outputs": [
    {
     "name": "stdout",
     "output_type": "stream",
     "text": [
      "https://serpapi.com/search\n",
      "<pyserpZotero.serpZot object at 0x110675090>\n"
     ]
    }
   ],
   "source": [
    "# # Call the search method\n",
    "\n",
    "print(citeObj.searchScholar(TERM = \"unidentified anomalous phenom*\", MIN_YEAR = \"2000\"))\n",
    "# print(\"This should've returned 0 (sucess)\")\n",
    "\n",
    "# # format print to overwrite the previous line\n"
   ]
  },
  {
   "cell_type": "code",
   "execution_count": 6,
   "id": "cd66052a",
   "metadata": {},
   "outputs": [],
   "source": [
    "\n",
    "# save self.ris as a text file\n",
    "from pathlib import Path\n",
    "from regex import R\n",
    "\n",
    "\n",
    "def save_ris(ris_file_name: str|Path):\n",
    "    \"\"\"Save a RIS file\"\"\"\n",
    "\n",
    "    with open(ris_file_name, \"w\") as f:\n",
    "        ## loop over series and write to file\n",
    "        for line in citeObj.ris.values:\n",
    "            f.write(line+\"\\n\")\n",
    "\n",
    "def load_ris(ris_file):\n",
    "    \"\"\"Load a RIS file into a dictionary\"\"\"\n",
    "    with open(ris_file, \"r\") as f:\n",
    "        ris = f.read()\n",
    "    # convert to list\n",
    "    ris = ris.split(\"\\n\")\n",
    "    # remove empty lines\n",
    "    ris = [line for line in ris if line != \"\"]\n",
    "\n",
    "    return ris\n",
    "\n"
   ]
  },
  {
   "cell_type": "code",
   "execution_count": 11,
   "id": "b901adf9",
   "metadata": {},
   "outputs": [
    {
     "name": "stdout",
     "output_type": "stream",
     "text": [
      "Now processing: M0zeEcuDRKUJ\n",
      "\n",
      "https://serpapi.com/search\n",
      "{'search_metadata': {'id': '63f3c427d5a531304d29c988', 'status': 'Success', 'json_endpoint': 'https://serpapi.com/searches/0a1829a9fe8c7744/63f3c427d5a531304d29c988.json', 'created_at': '2023-02-20 19:04:07 UTC', 'processed_at': '2023-02-20 19:04:07 UTC', 'google_scholar_cite_url': 'https://scholar.google.com/scholar?output=cite&q=info:0:scholar.google.com', 'raw_html_file': 'https://serpapi.com/searches/0a1829a9fe8c7744/63f3c427d5a531304d29c988.html', 'prettify_html_file': 'https://serpapi.com/searches/0a1829a9fe8c7744/63f3c427d5a531304d29c988.prettify', 'total_time_taken': 0.56}, 'search_parameters': {'engine': 'google_scholar_cite', 'q': '0'}, 'search_information': {'citations_results_state': 'Fully empty'}, 'error': \"Google hasn't returned any results for this query.\"}\n",
      "Now processing: ol_HEqgnQ-kJ\n",
      "\n",
      "https://serpapi.com/search\n",
      "{'search_metadata': {'id': '63f3c42847ccf1b4e959f035', 'status': 'Success', 'json_endpoint': 'https://serpapi.com/searches/07dc5ae49fd70112/63f3c42847ccf1b4e959f035.json', 'created_at': '2023-02-20 19:04:08 UTC', 'processed_at': '2023-02-20 19:04:08 UTC', 'google_scholar_cite_url': 'https://scholar.google.com/scholar?output=cite&q=info:1:scholar.google.com', 'raw_html_file': 'https://serpapi.com/searches/07dc5ae49fd70112/63f3c42847ccf1b4e959f035.html', 'prettify_html_file': 'https://serpapi.com/searches/07dc5ae49fd70112/63f3c42847ccf1b4e959f035.prettify', 'total_time_taken': 0.89}, 'search_parameters': {'engine': 'google_scholar_cite', 'q': '1'}, 'search_information': {'citations_results_state': 'Fully empty'}, 'error': \"Google hasn't returned any results for this query.\"}\n",
      "Now processing: BqYnnGCCNJMJ\n",
      "\n",
      "https://serpapi.com/search\n",
      "{'search_metadata': {'id': '63f3c429af5af1bb542f7c35', 'status': 'Success', 'json_endpoint': 'https://serpapi.com/searches/65c8450d186e9cf8/63f3c429af5af1bb542f7c35.json', 'created_at': '2023-02-20 19:04:09 UTC', 'processed_at': '2023-02-20 19:04:09 UTC', 'google_scholar_cite_url': 'https://scholar.google.com/scholar?output=cite&q=info:2:scholar.google.com', 'raw_html_file': 'https://serpapi.com/searches/65c8450d186e9cf8/63f3c429af5af1bb542f7c35.html', 'prettify_html_file': 'https://serpapi.com/searches/65c8450d186e9cf8/63f3c429af5af1bb542f7c35.prettify', 'total_time_taken': 4.54}, 'search_parameters': {'engine': 'google_scholar_cite', 'q': '2'}, 'search_information': {'citations_results_state': 'Fully empty'}, 'error': \"Google hasn't returned any results for this query.\"}\n",
      "Now processing: Q2dEN2B___0J\n",
      "\n",
      "https://serpapi.com/search\n",
      "{'search_metadata': {'id': '63f3c42e925641f8ef9a45ff', 'status': 'Success', 'json_endpoint': 'https://serpapi.com/searches/6b3fdaff78806434/63f3c42e925641f8ef9a45ff.json', 'created_at': '2023-02-20 19:04:14 UTC', 'processed_at': '2023-02-20 19:04:14 UTC', 'google_scholar_cite_url': 'https://scholar.google.com/scholar?output=cite&q=info:3:scholar.google.com', 'raw_html_file': 'https://serpapi.com/searches/6b3fdaff78806434/63f3c42e925641f8ef9a45ff.html', 'prettify_html_file': 'https://serpapi.com/searches/6b3fdaff78806434/63f3c42e925641f8ef9a45ff.prettify', 'total_time_taken': 0.57}, 'search_parameters': {'engine': 'google_scholar_cite', 'q': '3'}, 'search_information': {'citations_results_state': 'Fully empty'}, 'error': \"Google hasn't returned any results for this query.\"}\n",
      "Now processing: I8pUNuspBCIJ\n",
      "\n",
      "https://serpapi.com/search\n",
      "{'search_metadata': {'id': '63f3c42f66440ae313a57188', 'status': 'Success', 'json_endpoint': 'https://serpapi.com/searches/17c4b01912395e3c/63f3c42f66440ae313a57188.json', 'created_at': '2023-02-20 19:04:15 UTC', 'processed_at': '2023-02-20 19:04:15 UTC', 'google_scholar_cite_url': 'https://scholar.google.com/scholar?output=cite&q=info:4:scholar.google.com', 'raw_html_file': 'https://serpapi.com/searches/17c4b01912395e3c/63f3c42f66440ae313a57188.html', 'prettify_html_file': 'https://serpapi.com/searches/17c4b01912395e3c/63f3c42f66440ae313a57188.prettify', 'total_time_taken': 0.45}, 'search_parameters': {'engine': 'google_scholar_cite', 'q': '4'}, 'search_information': {'citations_results_state': 'Fully empty'}, 'error': \"Google hasn't returned any results for this query.\"}\n",
      "Now processing: cPkag2QqT44J\n",
      "\n",
      "https://serpapi.com/search\n",
      "{'search_metadata': {'id': '63f3c430d5ecf43a5bd0096a', 'status': 'Success', 'json_endpoint': 'https://serpapi.com/searches/3222986c46e0f197/63f3c430d5ecf43a5bd0096a.json', 'created_at': '2023-02-20 19:04:16 UTC', 'processed_at': '2023-02-20 19:04:16 UTC', 'google_scholar_cite_url': 'https://scholar.google.com/scholar?output=cite&q=info:5:scholar.google.com', 'raw_html_file': 'https://serpapi.com/searches/3222986c46e0f197/63f3c430d5ecf43a5bd0096a.html', 'prettify_html_file': 'https://serpapi.com/searches/3222986c46e0f197/63f3c430d5ecf43a5bd0096a.prettify', 'total_time_taken': 1.31}, 'search_parameters': {'engine': 'google_scholar_cite', 'q': '5'}, 'search_information': {'citations_results_state': 'Fully empty'}, 'error': \"Google hasn't returned any results for this query.\"}\n",
      "Now processing: LlqfYIBo0dIJ\n",
      "\n",
      "https://serpapi.com/search\n",
      "{'search_metadata': {'id': '63f3c431654a8c7998fc51e2', 'status': 'Success', 'json_endpoint': 'https://serpapi.com/searches/13b59d86a71353a7/63f3c431654a8c7998fc51e2.json', 'created_at': '2023-02-20 19:04:17 UTC', 'processed_at': '2023-02-20 19:04:17 UTC', 'google_scholar_cite_url': 'https://scholar.google.com/scholar?output=cite&q=info:6:scholar.google.com', 'raw_html_file': 'https://serpapi.com/searches/13b59d86a71353a7/63f3c431654a8c7998fc51e2.html', 'prettify_html_file': 'https://serpapi.com/searches/13b59d86a71353a7/63f3c431654a8c7998fc51e2.prettify', 'total_time_taken': 1.51}, 'search_parameters': {'engine': 'google_scholar_cite', 'q': '6'}, 'search_information': {'citations_results_state': 'Fully empty'}, 'error': \"Google hasn't returned any results for this query.\"}\n",
      "Now processing: upPT1RxVKIsJ\n",
      "\n",
      "https://serpapi.com/search\n",
      "{'search_metadata': {'id': '63f3c433af63042cdfc47d69', 'status': 'Success', 'json_endpoint': 'https://serpapi.com/searches/34593866934d5d96/63f3c433af63042cdfc47d69.json', 'created_at': '2023-02-20 19:04:19 UTC', 'processed_at': '2023-02-20 19:04:19 UTC', 'google_scholar_cite_url': 'https://scholar.google.com/scholar?output=cite&q=info:7:scholar.google.com', 'raw_html_file': 'https://serpapi.com/searches/34593866934d5d96/63f3c433af63042cdfc47d69.html', 'prettify_html_file': 'https://serpapi.com/searches/34593866934d5d96/63f3c433af63042cdfc47d69.prettify', 'total_time_taken': 1.11}, 'search_parameters': {'engine': 'google_scholar_cite', 'q': '7'}, 'search_information': {'citations_results_state': 'Fully empty'}, 'error': \"Google hasn't returned any results for this query.\"}\n",
      "Now processing: RKL2Xl8cQwwJ\n",
      "\n",
      "https://serpapi.com/search\n",
      "{'search_metadata': {'id': '63f3c4351988e5363067280b', 'status': 'Success', 'json_endpoint': 'https://serpapi.com/searches/0aa3bc662c240ae1/63f3c4351988e5363067280b.json', 'created_at': '2023-02-20 19:04:21 UTC', 'processed_at': '2023-02-20 19:04:21 UTC', 'google_scholar_cite_url': 'https://scholar.google.com/scholar?output=cite&q=info:8:scholar.google.com', 'raw_html_file': 'https://serpapi.com/searches/0aa3bc662c240ae1/63f3c4351988e5363067280b.html', 'prettify_html_file': 'https://serpapi.com/searches/0aa3bc662c240ae1/63f3c4351988e5363067280b.prettify', 'total_time_taken': 1.09}, 'search_parameters': {'engine': 'google_scholar_cite', 'q': '8'}, 'search_information': {'citations_results_state': 'Fully empty'}, 'error': \"Google hasn't returned any results for this query.\"}\n",
      "Now processing: U7u8rBPgHMkJ\n",
      "\n",
      "https://serpapi.com/search\n",
      "{'search_metadata': {'id': '63f3c4367f83619b970af2bb', 'status': 'Success', 'json_endpoint': 'https://serpapi.com/searches/45390cc1041d7e77/63f3c4367f83619b970af2bb.json', 'created_at': '2023-02-20 19:04:22 UTC', 'processed_at': '2023-02-20 19:04:22 UTC', 'google_scholar_cite_url': 'https://scholar.google.com/scholar?output=cite&q=info:9:scholar.google.com', 'raw_html_file': 'https://serpapi.com/searches/45390cc1041d7e77/63f3c4367f83619b970af2bb.html', 'prettify_html_file': 'https://serpapi.com/searches/45390cc1041d7e77/63f3c4367f83619b970af2bb.prettify', 'total_time_taken': 0.51}, 'search_parameters': {'engine': 'google_scholar_cite', 'q': '9'}, 'search_information': {'citations_results_state': 'Fully empty'}, 'error': \"Google hasn't returned any results for this query.\"}\n",
      "Now processing: KNayHcU-2VQJ\n",
      "\n",
      "https://serpapi.com/search\n",
      "{'search_metadata': {'id': '63f3c4371988e536dbc9fb84', 'status': 'Success', 'json_endpoint': 'https://serpapi.com/searches/6f0fbbaa4f8d9a2b/63f3c4371988e536dbc9fb84.json', 'created_at': '2023-02-20 19:04:23 UTC', 'processed_at': '2023-02-20 19:04:23 UTC', 'google_scholar_cite_url': 'https://scholar.google.com/scholar?output=cite&q=info:10:scholar.google.com', 'raw_html_file': 'https://serpapi.com/searches/6f0fbbaa4f8d9a2b/63f3c4371988e536dbc9fb84.html', 'prettify_html_file': 'https://serpapi.com/searches/6f0fbbaa4f8d9a2b/63f3c4371988e536dbc9fb84.prettify', 'total_time_taken': 1.0}, 'search_parameters': {'engine': 'google_scholar_cite', 'q': '10'}, 'search_information': {'citations_results_state': 'Fully empty'}, 'error': \"Google hasn't returned any results for this query.\"}\n",
      "Now processing: 5-mQMbIYQX0J\n",
      "\n",
      "https://serpapi.com/search\n"
     ]
    },
    {
     "ename": "KeyboardInterrupt",
     "evalue": "",
     "output_type": "error",
     "traceback": [
      "\u001b[0;31m---------------------------------------------------------------------------\u001b[0m",
      "\u001b[0;31mKeyboardInterrupt\u001b[0m                         Traceback (most recent call last)",
      "Cell \u001b[0;32mIn[11], line 1\u001b[0m\n\u001b[0;32m----> 1\u001b[0m citeObj\u001b[39m.\u001b[39;49mconvert_ris_to_bib(use_saved_ris\u001b[39m=\u001b[39;49m\u001b[39mTrue\u001b[39;49;00m, saved_ris_file\u001b[39m=\u001b[39;49m\u001b[39m\"\u001b[39;49m\u001b[39mris_results.txt\u001b[39;49m\u001b[39m\"\u001b[39;49m)\n",
      "File \u001b[0;32m~/code_repos/pyserpZotero/pyserpZotero/pyserpZotero.py:207\u001b[0m, in \u001b[0;36mserpZot.convert_ris_to_bib\u001b[0;34m(self, use_saved_ris, saved_ris_file)\u001b[0m\n\u001b[1;32m    204\u001b[0m params \u001b[39m=\u001b[39m {\u001b[39m\"\u001b[39m\u001b[39mapi_key\u001b[39m\u001b[39m\"\u001b[39m: \u001b[39mself\u001b[39m\u001b[39m.\u001b[39mAPI_KEY, \u001b[39m\"\u001b[39m\u001b[39mdevice\u001b[39m\u001b[39m\"\u001b[39m: \u001b[39m\"\u001b[39m\u001b[39mdesktop\u001b[39m\u001b[39m\"\u001b[39m, \u001b[39m\"\u001b[39m\u001b[39mengine\u001b[39m\u001b[39m\"\u001b[39m: \u001b[39m\"\u001b[39m\u001b[39mgoogle_scholar_cite\u001b[39m\u001b[39m\"\u001b[39m, \u001b[39m\"\u001b[39m\u001b[39mq\u001b[39m\u001b[39m\"\u001b[39m: i}\n\u001b[1;32m    206\u001b[0m search \u001b[39m=\u001b[39m GoogleSearch(params)\n\u001b[0;32m--> 207\u001b[0m citation \u001b[39m=\u001b[39m search\u001b[39m.\u001b[39;49mget_dict()\n\u001b[1;32m    209\u001b[0m \u001b[39m## google search don't print to console\u001b[39;00m\n\u001b[1;32m    210\u001b[0m \u001b[39m# print(citation)\u001b[39;00m\n\u001b[1;32m    212\u001b[0m \u001b[39mself\u001b[39m\u001b[39m.\u001b[39mcitation \u001b[39m=\u001b[39m citation\n",
      "File \u001b[0;32m~/.pyenv/versions/3.11.0/envs/pyserpzotero/lib/python3.11/site-packages/serpapi/serp_api_client.py:103\u001b[0m, in \u001b[0;36mSerpApiClient.get_dict\u001b[0;34m(self)\u001b[0m\n\u001b[1;32m     98\u001b[0m \u001b[39mdef\u001b[39;00m \u001b[39mget_dict\u001b[39m(\u001b[39mself\u001b[39m):\n\u001b[1;32m     99\u001b[0m \u001b[39m    \u001b[39m\u001b[39m\"\"\"Returns:\u001b[39;00m\n\u001b[1;32m    100\u001b[0m \u001b[39m        Dict with the formatted response content\u001b[39;00m\n\u001b[1;32m    101\u001b[0m \u001b[39m        (alias for get_dictionary)\u001b[39;00m\n\u001b[1;32m    102\u001b[0m \u001b[39m    \"\"\"\u001b[39;00m\n\u001b[0;32m--> 103\u001b[0m     \u001b[39mreturn\u001b[39;00m \u001b[39mself\u001b[39;49m\u001b[39m.\u001b[39;49mget_dictionary()\n",
      "File \u001b[0;32m~/.pyenv/versions/3.11.0/envs/pyserpzotero/lib/python3.11/site-packages/serpapi/serp_api_client.py:96\u001b[0m, in \u001b[0;36mSerpApiClient.get_dictionary\u001b[0;34m(self)\u001b[0m\n\u001b[1;32m     92\u001b[0m \u001b[39mdef\u001b[39;00m \u001b[39mget_dictionary\u001b[39m(\u001b[39mself\u001b[39m):\n\u001b[1;32m     93\u001b[0m \u001b[39m    \u001b[39m\u001b[39m\"\"\"Returns:\u001b[39;00m\n\u001b[1;32m     94\u001b[0m \u001b[39m        Dict with the formatted response content\u001b[39;00m\n\u001b[1;32m     95\u001b[0m \u001b[39m    \"\"\"\u001b[39;00m\n\u001b[0;32m---> 96\u001b[0m     \u001b[39mreturn\u001b[39;00m \u001b[39mdict\u001b[39m(\u001b[39mself\u001b[39;49m\u001b[39m.\u001b[39;49mget_json())\n",
      "File \u001b[0;32m~/.pyenv/versions/3.11.0/envs/pyserpzotero/lib/python3.11/site-packages/serpapi/serp_api_client.py:83\u001b[0m, in \u001b[0;36mSerpApiClient.get_json\u001b[0;34m(self)\u001b[0m\n\u001b[1;32m     79\u001b[0m \u001b[39m\u001b[39m\u001b[39m\"\"\"Returns:\u001b[39;00m\n\u001b[1;32m     80\u001b[0m \u001b[39m    Formatted JSON search results using json package\u001b[39;00m\n\u001b[1;32m     81\u001b[0m \u001b[39m\"\"\"\u001b[39;00m\n\u001b[1;32m     82\u001b[0m \u001b[39mself\u001b[39m\u001b[39m.\u001b[39mparams_dict[\u001b[39m\"\u001b[39m\u001b[39moutput\u001b[39m\u001b[39m\"\u001b[39m] \u001b[39m=\u001b[39m \u001b[39m\"\u001b[39m\u001b[39mjson\u001b[39m\u001b[39m\"\u001b[39m\n\u001b[0;32m---> 83\u001b[0m \u001b[39mreturn\u001b[39;00m json\u001b[39m.\u001b[39mloads(\u001b[39mself\u001b[39;49m\u001b[39m.\u001b[39;49mget_results())\n",
      "File \u001b[0;32m~/.pyenv/versions/3.11.0/envs/pyserpzotero/lib/python3.11/site-packages/serpapi/serp_api_client.py:70\u001b[0m, in \u001b[0;36mSerpApiClient.get_results\u001b[0;34m(self, path)\u001b[0m\n\u001b[1;32m     66\u001b[0m \u001b[39mdef\u001b[39;00m \u001b[39mget_results\u001b[39m(\u001b[39mself\u001b[39m, path\u001b[39m=\u001b[39m\u001b[39m'\u001b[39m\u001b[39m/search\u001b[39m\u001b[39m'\u001b[39m):\n\u001b[1;32m     67\u001b[0m \u001b[39m    \u001b[39m\u001b[39m\"\"\"Returns:\u001b[39;00m\n\u001b[1;32m     68\u001b[0m \u001b[39m        Response text field\u001b[39;00m\n\u001b[1;32m     69\u001b[0m \u001b[39m    \"\"\"\u001b[39;00m\n\u001b[0;32m---> 70\u001b[0m     \u001b[39mreturn\u001b[39;00m \u001b[39mself\u001b[39;49m\u001b[39m.\u001b[39;49mget_response(path)\u001b[39m.\u001b[39mtext\n",
      "File \u001b[0;32m~/.pyenv/versions/3.11.0/envs/pyserpzotero/lib/python3.11/site-packages/serpapi/serp_api_client.py:59\u001b[0m, in \u001b[0;36mSerpApiClient.get_response\u001b[0;34m(self, path)\u001b[0m\n\u001b[1;32m     57\u001b[0m     url, parameter \u001b[39m=\u001b[39m \u001b[39mself\u001b[39m\u001b[39m.\u001b[39mconstruct_url(path)\n\u001b[1;32m     58\u001b[0m     \u001b[39mprint\u001b[39m(url)\n\u001b[0;32m---> 59\u001b[0m     response \u001b[39m=\u001b[39m requests\u001b[39m.\u001b[39;49mget(url, parameter, timeout\u001b[39m=\u001b[39;49m\u001b[39mself\u001b[39;49m\u001b[39m.\u001b[39;49mtimeout)\n\u001b[1;32m     60\u001b[0m     \u001b[39mreturn\u001b[39;00m response\n\u001b[1;32m     61\u001b[0m \u001b[39mexcept\u001b[39;00m requests\u001b[39m.\u001b[39mHTTPError \u001b[39mas\u001b[39;00m e:\n",
      "File \u001b[0;32m~/.pyenv/versions/3.11.0/envs/pyserpzotero/lib/python3.11/site-packages/requests/api.py:73\u001b[0m, in \u001b[0;36mget\u001b[0;34m(url, params, **kwargs)\u001b[0m\n\u001b[1;32m     62\u001b[0m \u001b[39mdef\u001b[39;00m \u001b[39mget\u001b[39m(url, params\u001b[39m=\u001b[39m\u001b[39mNone\u001b[39;00m, \u001b[39m*\u001b[39m\u001b[39m*\u001b[39mkwargs):\n\u001b[1;32m     63\u001b[0m \u001b[39m    \u001b[39m\u001b[39mr\u001b[39m\u001b[39m\"\"\"Sends a GET request.\u001b[39;00m\n\u001b[1;32m     64\u001b[0m \n\u001b[1;32m     65\u001b[0m \u001b[39m    :param url: URL for the new :class:`Request` object.\u001b[39;00m\n\u001b[0;32m   (...)\u001b[0m\n\u001b[1;32m     70\u001b[0m \u001b[39m    :rtype: requests.Response\u001b[39;00m\n\u001b[1;32m     71\u001b[0m \u001b[39m    \"\"\"\u001b[39;00m\n\u001b[0;32m---> 73\u001b[0m     \u001b[39mreturn\u001b[39;00m request(\u001b[39m\"\u001b[39;49m\u001b[39mget\u001b[39;49m\u001b[39m\"\u001b[39;49m, url, params\u001b[39m=\u001b[39;49mparams, \u001b[39m*\u001b[39;49m\u001b[39m*\u001b[39;49mkwargs)\n",
      "File \u001b[0;32m~/.pyenv/versions/3.11.0/envs/pyserpzotero/lib/python3.11/site-packages/requests/api.py:59\u001b[0m, in \u001b[0;36mrequest\u001b[0;34m(method, url, **kwargs)\u001b[0m\n\u001b[1;32m     55\u001b[0m \u001b[39m# By using the 'with' statement we are sure the session is closed, thus we\u001b[39;00m\n\u001b[1;32m     56\u001b[0m \u001b[39m# avoid leaving sockets open which can trigger a ResourceWarning in some\u001b[39;00m\n\u001b[1;32m     57\u001b[0m \u001b[39m# cases, and look like a memory leak in others.\u001b[39;00m\n\u001b[1;32m     58\u001b[0m \u001b[39mwith\u001b[39;00m sessions\u001b[39m.\u001b[39mSession() \u001b[39mas\u001b[39;00m session:\n\u001b[0;32m---> 59\u001b[0m     \u001b[39mreturn\u001b[39;00m session\u001b[39m.\u001b[39;49mrequest(method\u001b[39m=\u001b[39;49mmethod, url\u001b[39m=\u001b[39;49murl, \u001b[39m*\u001b[39;49m\u001b[39m*\u001b[39;49mkwargs)\n",
      "File \u001b[0;32m~/.pyenv/versions/3.11.0/envs/pyserpzotero/lib/python3.11/site-packages/requests/sessions.py:587\u001b[0m, in \u001b[0;36mSession.request\u001b[0;34m(self, method, url, params, data, headers, cookies, files, auth, timeout, allow_redirects, proxies, hooks, stream, verify, cert, json)\u001b[0m\n\u001b[1;32m    582\u001b[0m send_kwargs \u001b[39m=\u001b[39m {\n\u001b[1;32m    583\u001b[0m     \u001b[39m\"\u001b[39m\u001b[39mtimeout\u001b[39m\u001b[39m\"\u001b[39m: timeout,\n\u001b[1;32m    584\u001b[0m     \u001b[39m\"\u001b[39m\u001b[39mallow_redirects\u001b[39m\u001b[39m\"\u001b[39m: allow_redirects,\n\u001b[1;32m    585\u001b[0m }\n\u001b[1;32m    586\u001b[0m send_kwargs\u001b[39m.\u001b[39mupdate(settings)\n\u001b[0;32m--> 587\u001b[0m resp \u001b[39m=\u001b[39m \u001b[39mself\u001b[39;49m\u001b[39m.\u001b[39;49msend(prep, \u001b[39m*\u001b[39;49m\u001b[39m*\u001b[39;49msend_kwargs)\n\u001b[1;32m    589\u001b[0m \u001b[39mreturn\u001b[39;00m resp\n",
      "File \u001b[0;32m~/.pyenv/versions/3.11.0/envs/pyserpzotero/lib/python3.11/site-packages/requests/sessions.py:701\u001b[0m, in \u001b[0;36mSession.send\u001b[0;34m(self, request, **kwargs)\u001b[0m\n\u001b[1;32m    698\u001b[0m start \u001b[39m=\u001b[39m preferred_clock()\n\u001b[1;32m    700\u001b[0m \u001b[39m# Send the request\u001b[39;00m\n\u001b[0;32m--> 701\u001b[0m r \u001b[39m=\u001b[39m adapter\u001b[39m.\u001b[39;49msend(request, \u001b[39m*\u001b[39;49m\u001b[39m*\u001b[39;49mkwargs)\n\u001b[1;32m    703\u001b[0m \u001b[39m# Total elapsed time of the request (approximately)\u001b[39;00m\n\u001b[1;32m    704\u001b[0m elapsed \u001b[39m=\u001b[39m preferred_clock() \u001b[39m-\u001b[39m start\n",
      "File \u001b[0;32m~/.pyenv/versions/3.11.0/envs/pyserpzotero/lib/python3.11/site-packages/requests/adapters.py:489\u001b[0m, in \u001b[0;36mHTTPAdapter.send\u001b[0;34m(self, request, stream, timeout, verify, cert, proxies)\u001b[0m\n\u001b[1;32m    487\u001b[0m \u001b[39mtry\u001b[39;00m:\n\u001b[1;32m    488\u001b[0m     \u001b[39mif\u001b[39;00m \u001b[39mnot\u001b[39;00m chunked:\n\u001b[0;32m--> 489\u001b[0m         resp \u001b[39m=\u001b[39m conn\u001b[39m.\u001b[39;49murlopen(\n\u001b[1;32m    490\u001b[0m             method\u001b[39m=\u001b[39;49mrequest\u001b[39m.\u001b[39;49mmethod,\n\u001b[1;32m    491\u001b[0m             url\u001b[39m=\u001b[39;49murl,\n\u001b[1;32m    492\u001b[0m             body\u001b[39m=\u001b[39;49mrequest\u001b[39m.\u001b[39;49mbody,\n\u001b[1;32m    493\u001b[0m             headers\u001b[39m=\u001b[39;49mrequest\u001b[39m.\u001b[39;49mheaders,\n\u001b[1;32m    494\u001b[0m             redirect\u001b[39m=\u001b[39;49m\u001b[39mFalse\u001b[39;49;00m,\n\u001b[1;32m    495\u001b[0m             assert_same_host\u001b[39m=\u001b[39;49m\u001b[39mFalse\u001b[39;49;00m,\n\u001b[1;32m    496\u001b[0m             preload_content\u001b[39m=\u001b[39;49m\u001b[39mFalse\u001b[39;49;00m,\n\u001b[1;32m    497\u001b[0m             decode_content\u001b[39m=\u001b[39;49m\u001b[39mFalse\u001b[39;49;00m,\n\u001b[1;32m    498\u001b[0m             retries\u001b[39m=\u001b[39;49m\u001b[39mself\u001b[39;49m\u001b[39m.\u001b[39;49mmax_retries,\n\u001b[1;32m    499\u001b[0m             timeout\u001b[39m=\u001b[39;49mtimeout,\n\u001b[1;32m    500\u001b[0m         )\n\u001b[1;32m    502\u001b[0m     \u001b[39m# Send the request.\u001b[39;00m\n\u001b[1;32m    503\u001b[0m     \u001b[39melse\u001b[39;00m:\n\u001b[1;32m    504\u001b[0m         \u001b[39mif\u001b[39;00m \u001b[39mhasattr\u001b[39m(conn, \u001b[39m\"\u001b[39m\u001b[39mproxy_pool\u001b[39m\u001b[39m\"\u001b[39m):\n",
      "File \u001b[0;32m~/.pyenv/versions/3.11.0/envs/pyserpzotero/lib/python3.11/site-packages/urllib3/connectionpool.py:703\u001b[0m, in \u001b[0;36mHTTPConnectionPool.urlopen\u001b[0;34m(self, method, url, body, headers, retries, redirect, assert_same_host, timeout, pool_timeout, release_conn, chunked, body_pos, **response_kw)\u001b[0m\n\u001b[1;32m    700\u001b[0m     \u001b[39mself\u001b[39m\u001b[39m.\u001b[39m_prepare_proxy(conn)\n\u001b[1;32m    702\u001b[0m \u001b[39m# Make the request on the httplib connection object.\u001b[39;00m\n\u001b[0;32m--> 703\u001b[0m httplib_response \u001b[39m=\u001b[39m \u001b[39mself\u001b[39;49m\u001b[39m.\u001b[39;49m_make_request(\n\u001b[1;32m    704\u001b[0m     conn,\n\u001b[1;32m    705\u001b[0m     method,\n\u001b[1;32m    706\u001b[0m     url,\n\u001b[1;32m    707\u001b[0m     timeout\u001b[39m=\u001b[39;49mtimeout_obj,\n\u001b[1;32m    708\u001b[0m     body\u001b[39m=\u001b[39;49mbody,\n\u001b[1;32m    709\u001b[0m     headers\u001b[39m=\u001b[39;49mheaders,\n\u001b[1;32m    710\u001b[0m     chunked\u001b[39m=\u001b[39;49mchunked,\n\u001b[1;32m    711\u001b[0m )\n\u001b[1;32m    713\u001b[0m \u001b[39m# If we're going to release the connection in ``finally:``, then\u001b[39;00m\n\u001b[1;32m    714\u001b[0m \u001b[39m# the response doesn't need to know about the connection. Otherwise\u001b[39;00m\n\u001b[1;32m    715\u001b[0m \u001b[39m# it will also try to release it and we'll have a double-release\u001b[39;00m\n\u001b[1;32m    716\u001b[0m \u001b[39m# mess.\u001b[39;00m\n\u001b[1;32m    717\u001b[0m response_conn \u001b[39m=\u001b[39m conn \u001b[39mif\u001b[39;00m \u001b[39mnot\u001b[39;00m release_conn \u001b[39melse\u001b[39;00m \u001b[39mNone\u001b[39;00m\n",
      "File \u001b[0;32m~/.pyenv/versions/3.11.0/envs/pyserpzotero/lib/python3.11/site-packages/urllib3/connectionpool.py:449\u001b[0m, in \u001b[0;36mHTTPConnectionPool._make_request\u001b[0;34m(self, conn, method, url, timeout, chunked, **httplib_request_kw)\u001b[0m\n\u001b[1;32m    444\u001b[0m             httplib_response \u001b[39m=\u001b[39m conn\u001b[39m.\u001b[39mgetresponse()\n\u001b[1;32m    445\u001b[0m         \u001b[39mexcept\u001b[39;00m \u001b[39mBaseException\u001b[39;00m \u001b[39mas\u001b[39;00m e:\n\u001b[1;32m    446\u001b[0m             \u001b[39m# Remove the TypeError from the exception chain in\u001b[39;00m\n\u001b[1;32m    447\u001b[0m             \u001b[39m# Python 3 (including for exceptions like SystemExit).\u001b[39;00m\n\u001b[1;32m    448\u001b[0m             \u001b[39m# Otherwise it looks like a bug in the code.\u001b[39;00m\n\u001b[0;32m--> 449\u001b[0m             six\u001b[39m.\u001b[39;49mraise_from(e, \u001b[39mNone\u001b[39;49;00m)\n\u001b[1;32m    450\u001b[0m \u001b[39mexcept\u001b[39;00m (SocketTimeout, BaseSSLError, SocketError) \u001b[39mas\u001b[39;00m e:\n\u001b[1;32m    451\u001b[0m     \u001b[39mself\u001b[39m\u001b[39m.\u001b[39m_raise_timeout(err\u001b[39m=\u001b[39me, url\u001b[39m=\u001b[39murl, timeout_value\u001b[39m=\u001b[39mread_timeout)\n",
      "File \u001b[0;32m<string>:3\u001b[0m, in \u001b[0;36mraise_from\u001b[0;34m(value, from_value)\u001b[0m\n",
      "File \u001b[0;32m~/.pyenv/versions/3.11.0/envs/pyserpzotero/lib/python3.11/site-packages/urllib3/connectionpool.py:444\u001b[0m, in \u001b[0;36mHTTPConnectionPool._make_request\u001b[0;34m(self, conn, method, url, timeout, chunked, **httplib_request_kw)\u001b[0m\n\u001b[1;32m    441\u001b[0m \u001b[39mexcept\u001b[39;00m \u001b[39mTypeError\u001b[39;00m:\n\u001b[1;32m    442\u001b[0m     \u001b[39m# Python 3\u001b[39;00m\n\u001b[1;32m    443\u001b[0m     \u001b[39mtry\u001b[39;00m:\n\u001b[0;32m--> 444\u001b[0m         httplib_response \u001b[39m=\u001b[39m conn\u001b[39m.\u001b[39;49mgetresponse()\n\u001b[1;32m    445\u001b[0m     \u001b[39mexcept\u001b[39;00m \u001b[39mBaseException\u001b[39;00m \u001b[39mas\u001b[39;00m e:\n\u001b[1;32m    446\u001b[0m         \u001b[39m# Remove the TypeError from the exception chain in\u001b[39;00m\n\u001b[1;32m    447\u001b[0m         \u001b[39m# Python 3 (including for exceptions like SystemExit).\u001b[39;00m\n\u001b[1;32m    448\u001b[0m         \u001b[39m# Otherwise it looks like a bug in the code.\u001b[39;00m\n\u001b[1;32m    449\u001b[0m         six\u001b[39m.\u001b[39mraise_from(e, \u001b[39mNone\u001b[39;00m)\n",
      "File \u001b[0;32m~/.pyenv/versions/3.11.0/lib/python3.11/http/client.py:1374\u001b[0m, in \u001b[0;36mHTTPConnection.getresponse\u001b[0;34m(self)\u001b[0m\n\u001b[1;32m   1372\u001b[0m \u001b[39mtry\u001b[39;00m:\n\u001b[1;32m   1373\u001b[0m     \u001b[39mtry\u001b[39;00m:\n\u001b[0;32m-> 1374\u001b[0m         response\u001b[39m.\u001b[39;49mbegin()\n\u001b[1;32m   1375\u001b[0m     \u001b[39mexcept\u001b[39;00m \u001b[39mConnectionError\u001b[39;00m:\n\u001b[1;32m   1376\u001b[0m         \u001b[39mself\u001b[39m\u001b[39m.\u001b[39mclose()\n",
      "File \u001b[0;32m~/.pyenv/versions/3.11.0/lib/python3.11/http/client.py:318\u001b[0m, in \u001b[0;36mHTTPResponse.begin\u001b[0;34m(self)\u001b[0m\n\u001b[1;32m    316\u001b[0m \u001b[39m# read until we get a non-100 response\u001b[39;00m\n\u001b[1;32m    317\u001b[0m \u001b[39mwhile\u001b[39;00m \u001b[39mTrue\u001b[39;00m:\n\u001b[0;32m--> 318\u001b[0m     version, status, reason \u001b[39m=\u001b[39m \u001b[39mself\u001b[39;49m\u001b[39m.\u001b[39;49m_read_status()\n\u001b[1;32m    319\u001b[0m     \u001b[39mif\u001b[39;00m status \u001b[39m!=\u001b[39m CONTINUE:\n\u001b[1;32m    320\u001b[0m         \u001b[39mbreak\u001b[39;00m\n",
      "File \u001b[0;32m~/.pyenv/versions/3.11.0/lib/python3.11/http/client.py:279\u001b[0m, in \u001b[0;36mHTTPResponse._read_status\u001b[0;34m(self)\u001b[0m\n\u001b[1;32m    278\u001b[0m \u001b[39mdef\u001b[39;00m \u001b[39m_read_status\u001b[39m(\u001b[39mself\u001b[39m):\n\u001b[0;32m--> 279\u001b[0m     line \u001b[39m=\u001b[39m \u001b[39mstr\u001b[39m(\u001b[39mself\u001b[39m\u001b[39m.\u001b[39mfp\u001b[39m.\u001b[39mreadline(_MAXLINE \u001b[39m+\u001b[39m \u001b[39m1\u001b[39m), \u001b[39m\"\u001b[39m\u001b[39miso-8859-1\u001b[39m\u001b[39m\"\u001b[39m)\n\u001b[1;32m    280\u001b[0m     \u001b[39mif\u001b[39;00m \u001b[39mlen\u001b[39m(line) \u001b[39m>\u001b[39m _MAXLINE:\n\u001b[1;32m    281\u001b[0m         \u001b[39mraise\u001b[39;00m LineTooLong(\u001b[39m\"\u001b[39m\u001b[39mstatus line\u001b[39m\u001b[39m\"\u001b[39m)\n",
      "File \u001b[0;32m~/.pyenv/versions/3.11.0/lib/python3.11/socket.py:705\u001b[0m, in \u001b[0;36mSocketIO.readinto\u001b[0;34m(self, b)\u001b[0m\n\u001b[1;32m    703\u001b[0m \u001b[39mwhile\u001b[39;00m \u001b[39mTrue\u001b[39;00m:\n\u001b[1;32m    704\u001b[0m     \u001b[39mtry\u001b[39;00m:\n\u001b[0;32m--> 705\u001b[0m         \u001b[39mreturn\u001b[39;00m \u001b[39mself\u001b[39;49m\u001b[39m.\u001b[39;49m_sock\u001b[39m.\u001b[39;49mrecv_into(b)\n\u001b[1;32m    706\u001b[0m     \u001b[39mexcept\u001b[39;00m timeout:\n\u001b[1;32m    707\u001b[0m         \u001b[39mself\u001b[39m\u001b[39m.\u001b[39m_timeout_occurred \u001b[39m=\u001b[39m \u001b[39mTrue\u001b[39;00m\n",
      "File \u001b[0;32m~/.pyenv/versions/3.11.0/lib/python3.11/ssl.py:1278\u001b[0m, in \u001b[0;36mSSLSocket.recv_into\u001b[0;34m(self, buffer, nbytes, flags)\u001b[0m\n\u001b[1;32m   1274\u001b[0m     \u001b[39mif\u001b[39;00m flags \u001b[39m!=\u001b[39m \u001b[39m0\u001b[39m:\n\u001b[1;32m   1275\u001b[0m         \u001b[39mraise\u001b[39;00m \u001b[39mValueError\u001b[39;00m(\n\u001b[1;32m   1276\u001b[0m           \u001b[39m\"\u001b[39m\u001b[39mnon-zero flags not allowed in calls to recv_into() on \u001b[39m\u001b[39m%s\u001b[39;00m\u001b[39m\"\u001b[39m \u001b[39m%\u001b[39m\n\u001b[1;32m   1277\u001b[0m           \u001b[39mself\u001b[39m\u001b[39m.\u001b[39m\u001b[39m__class__\u001b[39m)\n\u001b[0;32m-> 1278\u001b[0m     \u001b[39mreturn\u001b[39;00m \u001b[39mself\u001b[39;49m\u001b[39m.\u001b[39;49mread(nbytes, buffer)\n\u001b[1;32m   1279\u001b[0m \u001b[39melse\u001b[39;00m:\n\u001b[1;32m   1280\u001b[0m     \u001b[39mreturn\u001b[39;00m \u001b[39msuper\u001b[39m()\u001b[39m.\u001b[39mrecv_into(buffer, nbytes, flags)\n",
      "File \u001b[0;32m~/.pyenv/versions/3.11.0/lib/python3.11/ssl.py:1134\u001b[0m, in \u001b[0;36mSSLSocket.read\u001b[0;34m(self, len, buffer)\u001b[0m\n\u001b[1;32m   1132\u001b[0m \u001b[39mtry\u001b[39;00m:\n\u001b[1;32m   1133\u001b[0m     \u001b[39mif\u001b[39;00m buffer \u001b[39mis\u001b[39;00m \u001b[39mnot\u001b[39;00m \u001b[39mNone\u001b[39;00m:\n\u001b[0;32m-> 1134\u001b[0m         \u001b[39mreturn\u001b[39;00m \u001b[39mself\u001b[39;49m\u001b[39m.\u001b[39;49m_sslobj\u001b[39m.\u001b[39;49mread(\u001b[39mlen\u001b[39;49m, buffer)\n\u001b[1;32m   1135\u001b[0m     \u001b[39melse\u001b[39;00m:\n\u001b[1;32m   1136\u001b[0m         \u001b[39mreturn\u001b[39;00m \u001b[39mself\u001b[39m\u001b[39m.\u001b[39m_sslobj\u001b[39m.\u001b[39mread(\u001b[39mlen\u001b[39m)\n",
      "\u001b[0;31mKeyboardInterrupt\u001b[0m: "
     ]
    }
   ],
   "source": [
    "citeObj.convert_ris_to_bib(use_saved_ris=True, saved_ris_file=\"ris_results.txt\")"
   ]
  },
  {
   "cell_type": "code",
   "execution_count": null,
   "id": "21bfd299",
   "metadata": {},
   "outputs": [],
   "source": [
    "ris = load_ris(\"ris.txt\")\n",
    "\n",
    "citeObj.convert_ris_to_bib(ris)"
   ]
  },
  {
   "cell_type": "code",
   "execution_count": 161,
   "id": "64216d85-0931-4de0-9a2e-f887d2f64303",
   "metadata": {},
   "outputs": [
    {
     "name": "stdout",
     "output_type": "stream",
     "text": [
      "Now processing: M0zeEcuDRKUJ\n",
      "https://serpapi.com/search\n",
      "Paxton, Charles GM. \"The plural of ‘anecdote’can be ‘data’: statistical analysis of viewing distances in reports of unidentified large marine animals 1758–2000.\" Journal of Zoology 279.4 (2009): 381-387.\n"
     ]
    },
    {
     "name": "stderr",
     "output_type": "stream",
     "text": [
      "  % Total    % Received % Xferd  Average Speed   Time    Time     Time  Current\n",
      "                                 Dload  Upload   Total   Spent    Left  Speed\n",
      "  0     0    0     0    0     0      0      0 --:--:-- --:--:-- --:--:--     0\n",
      "100   241  100   241    0     0   1669      0 --:--:-- --:--:-- --:--:--  1669\n",
      "100   457    0   457    0     0   1710      0 --:--:-- --:--:-- --:--:--  1710\n"
     ]
    },
    {
     "name": "stdout",
     "output_type": "stream",
     "text": [
      "Now processing: ol_HEqgnQ-kJ\n",
      "https://serpapi.com/search\n",
      "Platov, Yu V., and B. A. Sokolov. \"The Study of Unidentified Flying Objects in the Soviet Union.\" HERALD-RUSSIAN ACADEMY OF SCIENCES C/C OF VESTNIK-ROSSIISKAIA AKADEMIIA NAUK 70.3 (2000): 244-251.\n"
     ]
    },
    {
     "name": "stderr",
     "output_type": "stream",
     "text": [
      "  % Total    % Received % Xferd  Average Speed   Time    Time     Time  Current\n",
      "                                 Dload  Upload   Total   Spent    Left  Speed\n",
      "  0     0    0     0    0     0      0      0 --:--:-- --:--:-- --:--:--     0\n",
      "100   227  100   227    0     0   1443      0 --:--:-- --:--:-- --:--:--  1443\n",
      "100   478    0   478    0     0   1327      0 --:--:-- --:--:-- --:--:--  1327\n"
     ]
    },
    {
     "name": "stdout",
     "output_type": "stream",
     "text": [
      "Now processing: BqYnnGCCNJMJ\n",
      "https://serpapi.com/search\n",
      "Dewan, W. J. (2006). \" A saucerful of secrets\": an interdisciplinary analysis of UFO experiences. Journal of American Folklore, 119(472), 184-202.\n"
     ]
    },
    {
     "name": "stderr",
     "output_type": "stream",
     "text": [
      "  % Total    % Received % Xferd  Average Speed   Time    Time     Time  Current\n",
      "                                 Dload  Upload   Total   Spent    Left  Speed\n",
      "  0     0    0     0    0     0      0      0 --:--:-- --:--:-- --:--:--     0\n",
      "100   207  100   207    0     0   1776      0 --:--:-- --:--:-- --:--:--  1776\n",
      "100   383    0   383    0     0   1671      0 --:--:-- --:--:-- --:--:--  1671\n"
     ]
    },
    {
     "name": "stdout",
     "output_type": "stream",
     "text": [
      "Now processing: Q2dEN2B___0J\n",
      "https://serpapi.com/search\n",
      "Zusne, Leonard, and Warren H. Jones. Anomalistic psychology: A study of magical thinking. Psychology Press, 2014.\n"
     ]
    },
    {
     "name": "stderr",
     "output_type": "stream",
     "text": [
      "  % Total    % Received % Xferd  Average Speed   Time    Time     Time  Current\n",
      "                                 Dload  Upload   Total   Spent    Left  Speed\n",
      "  0     0    0     0    0     0      0      0 --:--:-- --:--:-- --:--:--     0\n",
      "100   219  100   219    0     0    577      0 --:--:-- --:--:-- --:--:--   577\n",
      "100   245    0   245    0     0    271      0 --:--:-- --:--:-- --:--:--     0\n"
     ]
    },
    {
     "name": "stdout",
     "output_type": "stream",
     "text": [
      "Now processing: I8pUNuspBCIJ\n",
      "https://serpapi.com/search\n",
      "Teodorani, Massimo. \"A long-term scientific survey of the Hessdalen phenomenon.\" Journal of Scientific Exploration 18.2 (2004): 217-251.\n"
     ]
    },
    {
     "name": "stderr",
     "output_type": "stream",
     "text": [
      "  % Total    % Received % Xferd  Average Speed   Time    Time     Time  Current\n",
      "                                 Dload  Upload   Total   Spent    Left  Speed\n",
      "  0     0    0     0    0     0      0      0 --:--:-- --:--:-- --:--:--     0\n",
      "100   211  100   211    0     0   1772      0 --:--:-- --:--:-- --:--:--  1772\n",
      "100   389    0   389    0     0   1658      0 --:--:-- --:--:-- --:--:--  1658\n"
     ]
    },
    {
     "name": "stdout",
     "output_type": "stream",
     "text": [
      "Now processing: cPkag2QqT44J\n",
      "https://serpapi.com/search\n",
      "Belitz, Dietrich, et al. \"Transport anomalies and marginal-Fermi-liquid effects at a quantum critical point.\" Physical Review Letters 85.21 (2000): 4602.\n"
     ]
    },
    {
     "name": "stderr",
     "output_type": "stream",
     "text": [
      "  % Total    % Received % Xferd  Average Speed   Time    Time     Time  Current\n",
      "                                 Dload  Upload   Total   Spent    Left  Speed\n",
      "  0     0    0     0    0     0      0      0 --:--:-- --:--:-- --:--:--     0\n",
      "100   231  100   231    0     0   1438      0 --:--:-- --:--:-- --:--:--  1438\n",
      "100   462    0   462    0     0   1243      0 --:--:-- --:--:-- --:--:--  1243\n"
     ]
    },
    {
     "name": "stdout",
     "output_type": "stream",
     "text": [
      "Now processing: LlqfYIBo0dIJ\n",
      "https://serpapi.com/search\n",
      "Fedan, Jeffrey S., et al. \"Biological effects of inhaled hydraulic fracturing sand dust. II. Particle characterization and pulmonary effects 30 d following intratracheal instillation.\" Toxicology and applied pharmacology 409 (2020): 115282.\n"
     ]
    },
    {
     "name": "stderr",
     "output_type": "stream",
     "text": [
      "  % Total    % Received % Xferd  Average Speed   Time    Time     Time  Current\n",
      "                                 Dload  Upload   Total   Spent    Left  Speed\n",
      "  0     0    0     0    0     0      0      0 --:--:-- --:--:-- --:--:--     0\n",
      "100   229  100   229    0     0    578      0 --:--:-- --:--:-- --:--:--   578\n",
      "100   741    0   741    0     0   1417      0 --:--:-- --:--:-- --:--:--  1417\n"
     ]
    },
    {
     "name": "stdout",
     "output_type": "stream",
     "text": [
      "Now processing: upPT1RxVKIsJ\n",
      "https://serpapi.com/search\n",
      "McClenon, James. \"Content analysis of an anomalous experience collection: Evaluating evolutionary perspectives.\" The Journal of Parapsychology 66.3 (2002): 291.\n"
     ]
    },
    {
     "name": "stderr",
     "output_type": "stream",
     "text": [
      "  % Total    % Received % Xferd  Average Speed   Time    Time     Time  Current\n",
      "                                 Dload  Upload   Total   Spent    Left  Speed\n",
      "  0     0    0     0    0     0      0      0 --:--:-- --:--:-- --:--:--     0\n",
      "100   207  100   207    0     0   1390      0 --:--:-- --:--:-- --:--:--  1390\n",
      "100   381    0   381    0     0   1089      0 --:--:-- --:--:-- --:--:--  1089\n"
     ]
    },
    {
     "name": "stdout",
     "output_type": "stream",
     "text": [
      "Now processing: RKL2Xl8cQwwJ\n",
      "https://serpapi.com/search\n",
      "Lee, Gyunghee, et al. \"New reproductive anomalies in fruitless‐mutant Drosophila males: Extreme lengthening of mating durations and infertility correlated with defective serotonergic innervation of reproductive organs.\" Journal of neurobiology 47.2 (2001): 121-149.\n"
     ]
    },
    {
     "name": "stderr",
     "output_type": "stream",
     "text": [
      "  % Total    % Received % Xferd  Average Speed   Time    Time     Time  Current\n",
      "                                 Dload  Upload   Total   Spent    Left  Speed\n",
      "  0     0    0     0    0     0      0      0 --:--:-- --:--:-- --:--:--     0\n",
      "100   209  100   209    0     0   1507      0 --:--:-- --:--:-- --:--:--  1507\n",
      "100   513    0   513    0     0    766      0 --:--:-- --:--:-- --:--:--  7125\n"
     ]
    },
    {
     "name": "stdout",
     "output_type": "stream",
     "text": [
      "Now processing: U7u8rBPgHMkJ\n",
      "https://serpapi.com/search\n",
      "Shemesh, Abraham Ofir. \"“The rabbis maintained that it was Flaxseed”: The identification and interpretation of unidentified Biblical plants in aggadic homilies.\" Biblical Theology Bulletin 49.3 (2019): 156-168.\n"
     ]
    },
    {
     "name": "stderr",
     "output_type": "stream",
     "text": [
      "  % Total    % Received % Xferd  Average Speed   Time    Time     Time  Current\n",
      "                                 Dload  Upload   Total   Spent    Left  Speed\n",
      "  0     0    0     0    0     0      0      0 --:--:-- --:--:-- --:--:--     0\n",
      "100   225  100   225    0     0    670      0 --:--:-- --:--:-- --:--:--   670\n",
      "100   519    0   519    0     0    981      0 --:--:-- --:--:-- --:--:--   981\n"
     ]
    },
    {
     "name": "stdout",
     "output_type": "stream",
     "text": [
      "Now processing: KNayHcU-2VQJ\n",
      "https://serpapi.com/search\n",
      "Crake, Dennis A., and Juan Rafael Martínez-Galarza. \"Linking Anomalous Behaviour with Stellar Properties: An Unsupervised Exploration of TESS Light Curves.\" arXiv preprint arXiv:2301.10264 (2023).\n"
     ]
    },
    {
     "name": "stderr",
     "output_type": "stream",
     "text": [
      "  % Total    % Received % Xferd  Average Speed   Time    Time     Time  Current\n",
      "                                 Dload  Upload   Total   Spent    Left  Speed\n",
      "  0     0    0     0    0     0      0      0 --:--:-- --:--:-- --:--:--     0\n",
      "100   225  100   225    0     0   1461      0 --:--:-- --:--:-- --:--:--     0\n",
      "100   568    0   568    0     0   1348      0 --:--:-- --:--:-- --:--:--  1348\n"
     ]
    },
    {
     "name": "stdout",
     "output_type": "stream",
     "text": [
      "Now processing: 5-mQMbIYQX0J\n",
      "https://serpapi.com/search\n",
      "Shi, R., J. Russo, and H. Tanaka. \"origin for water's thermodynamic and dynamic anomalies. Journal of Chemical Physics, 149 (22),[224502]. https://doi. org/10.1063/1.5055908.\"\n"
     ]
    },
    {
     "name": "stderr",
     "output_type": "stream",
     "text": [
      "  % Total    % Received % Xferd  Average Speed   Time    Time     Time  Current\n",
      "                                 Dload  Upload   Total   Spent    Left  Speed\n",
      "  0     0    0     0    0     0      0      0 --:--:-- --:--:-- --:--:--     0\n",
      "100   211  100   211    0     0    383      0 --:--:-- --:--:-- --:--:--   383\n",
      "100   405    0   405    0     0    500      0 --:--:-- --:--:-- --:--:--   500\n"
     ]
    },
    {
     "name": "stdout",
     "output_type": "stream",
     "text": [
      "Now processing: 7UYDrT8kO-0J\n",
      "https://serpapi.com/search\n",
      "Shajahan, Md, Y. H. Mo, and K. S. Nahm. \"Effect of chemical vapor deposition energy sources on the structure of SiC prepared by carbon nanotubes-confined reaction.\" Journal of Vacuum Science & Technology B: Microelectronics and Nanometer Structures Processing, Measurement, and Phenomena 21.3 (2003): 1149-1156.\n"
     ]
    },
    {
     "name": "stderr",
     "output_type": "stream",
     "text": [
      "  % Total    % Received % Xferd  Average Speed   Time    Time     Time  Current\n",
      "                                 Dload  Upload   Total   Spent    Left  Speed\n",
      "  0     0    0     0    0     0      0      0 --:--:-- --:--:-- --:--:--     0\n",
      "100   211  100   211    0     0   2331      0 --:--:-- --:--:-- --:--:--  2331\n",
      "100   510    0   510    0     0   1459      0 --:--:-- --:--:-- --:--:--  1459\n"
     ]
    },
    {
     "name": "stdout",
     "output_type": "stream",
     "text": [
      "Now processing: hSyf7vXqHt4J\n",
      "https://serpapi.com/search\n",
      "Courtman, Sandra. Not Good Enough or Not Man Enough? Beryl Gilroy as the Anomaly in the Evolving ‘Black British Canon’. Palgrave Macmillan UK, 2006.\n"
     ]
    },
    {
     "name": "stderr",
     "output_type": "stream",
     "text": [
      "  % Total    % Received % Xferd  Average Speed   Time    Time     Time  Current\n",
      "                                 Dload  Upload   Total   Spent    Left  Speed\n",
      "  0     0    0     0    0     0      0      0 --:--:-- --:--:-- --:--:--     0\n",
      "100   223  100   223    0     0   2598      0 --:--:-- --:--:-- --:--:--  2598\n",
      "100   369    0   369    0     0   1386      0 --:--:-- --:--:-- --:--:--  1386\n"
     ]
    },
    {
     "name": "stdout",
     "output_type": "stream",
     "text": [
      "Now processing: F_HW1wNFQGcJ\n",
      "https://serpapi.com/search\n",
      "Brázdil, Rudolf, et al. \"Climatic effects and impacts of the 1815 eruption of Mount Tambora in the Czech Lands.\" Climate of the Past 12.6 (2016): 1361-1374.\n"
     ]
    },
    {
     "name": "stderr",
     "output_type": "stream",
     "text": [
      "  % Total    % Received % Xferd  Average Speed   Time    Time     Time  Current\n",
      "                                 Dload  Upload   Total   Spent    Left  Speed\n",
      "  0     0    0     0    0     0      0      0 --:--:-- --:--:-- --:--:--     0\n",
      "100   223  100   223    0     0   1704      0 --:--:-- --:--:-- --:--:--  1704\n",
      "100   533    0   533    0     0   1375      0 --:--:-- --:--:-- --:--:--  1375\n"
     ]
    },
    {
     "name": "stdout",
     "output_type": "stream",
     "text": [
      "Now processing: sB6TnDmJ1mYJ\n",
      "https://serpapi.com/search\n",
      "Lewis, Edward. \"“Strange Particles”: Plasmoids and the Need for Paradigm Change in Physics.\"\n"
     ]
    },
    {
     "name": "stderr",
     "output_type": "stream",
     "text": [
      "  % Total    % Received % Xferd  Average Speed   Time    Time     Time  Current\n",
      "                                 Dload  Upload   Total   Spent    Left  Speed\n",
      "  0     0    0     0    0     0      0      0 --:--:-- --:--:-- --:--:--     0\n",
      "100   243  100   243    0     0    581      0 --:--:-- --:--:-- --:--:--     0\n",
      "100   244    0   244    0     0    270      0 --:--:-- --:--:-- --:--:--   270\n"
     ]
    },
    {
     "name": "stdout",
     "output_type": "stream",
     "text": [
      "Now processing: _l5P5LX4UTIJ\n",
      "https://serpapi.com/search\n",
      "Plummer, Christopher T., et al. \"An independently dated 2000-yr volcanic record from Law Dome, East Antarctica, including a new perspective on the dating of the 1450s CE eruption of Kuwae, Vanuatu.\" Climate of the Past 8.6 (2012): 1929-1940.\n"
     ]
    },
    {
     "name": "stderr",
     "output_type": "stream",
     "text": [
      "  % Total    % Received % Xferd  Average Speed   Time    Time     Time  Current\n",
      "                                 Dload  Upload   Total   Spent    Left  Speed\n",
      "  0     0    0     0    0     0      0      0 --:--:-- --:--:-- --:--:--     0\n",
      "100   221  100   221    0     0   1162      0 --:--:-- --:--:-- --:--:--  1162\n",
      "100   607    0   607    0     0   1259      0 --:--:-- --:--:-- --:--:--  1259\n"
     ]
    },
    {
     "name": "stdout",
     "output_type": "stream",
     "text": [
      "Now processing: MQYd5x8yynsJ\n",
      "https://serpapi.com/search\n",
      "Butler, Tom. \"Electronic Voice Phenomena: A Tool for Validating Personal Survival.\" Journal of Religion & Psychical Research 25.4 (2002).\n"
     ]
    },
    {
     "name": "stderr",
     "output_type": "stream",
     "text": [
      "  % Total    % Received % Xferd  Average Speed   Time    Time     Time  Current\n",
      "                                 Dload  Upload   Total   Spent    Left  Speed\n",
      "  0     0    0     0    0     0      0      0 --:--:-- --:--:-- --:--:--     0\n",
      "100   225  100   225    0     0    457      0 --:--:-- --:--:-- --:--:--   457\n",
      "100   315    0   315    0     0    309      0 --:--:--  0:00:01 --:--:--   987\n"
     ]
    },
    {
     "name": "stdout",
     "output_type": "stream",
     "text": [
      "Now processing: 51s6g4eHVwMJ\n",
      "https://serpapi.com/search\n",
      "Kovalyov, Mikhail. \"Comparative analysis of unidentified aerial phenomena (UAP).\" (2022).\n"
     ]
    },
    {
     "name": "stderr",
     "output_type": "stream",
     "text": [
      "  % Total    % Received % Xferd  Average Speed   Time    Time     Time  Current\n",
      "                                 Dload  Upload   Total   Spent    Left  Speed\n",
      "  0     0    0     0    0     0      0      0 --:--:-- --:--:-- --:--:--     0\n",
      "100   221  100   221    0     0   1849      0 --:--:-- --:--:-- --:--:--  1849\n",
      "100   268    0   268    0     0    731      0 --:--:-- --:--:-- --:--:--   731\n"
     ]
    },
    {
     "name": "stdout",
     "output_type": "stream",
     "text": [
      "Now processing: eGGuac5nTk0J\n",
      "https://serpapi.com/search\n",
      "Hallas, A. M., et al. \"Phase Competition in the Palmer-Chalker X Y Pyrochlore Er 2 Pt 2 O 7.\" Physical Review Letters 119.18 (2017): 187201.\n"
     ]
    },
    {
     "name": "stderr",
     "output_type": "stream",
     "text": [
      "  % Total    % Received % Xferd  Average Speed   Time    Time     Time  Current\n",
      "                                 Dload  Upload   Total   Spent    Left  Speed\n",
      "  0     0    0     0    0     0      0      0 --:--:-- --:--:-- --:--:--     0\n",
      "100   237  100   237    0     0   2063      0 --:--:-- --:--:-- --:--:--  2063\n"
     ]
    },
    {
     "name": "stdout",
     "output_type": "stream",
     "text": [
      "0\r"
     ]
    },
    {
     "name": "stderr",
     "output_type": "stream",
     "text": [
      "100  1721    0  1721    0     0   4505      0 --:--:-- --:--:-- --:--:--  4505\n"
     ]
    }
   ],
   "source": [
    "# Upload the parsed results\n",
    "print(citeObj.search2Zotero(), end=\"\\r\")"
   ]
  },
  {
   "cell_type": "code",
   "execution_count": 162,
   "id": "0bb7efef",
   "metadata": {},
   "outputs": [
    {
     "data": {
      "text/plain": [
       "{'journal': 'Journal of Zoology',\n",
       " 'title': \"The plural of `anecdote' can be `data': statistical analysis of viewing distances in reports of unidentified large marine animals 1758{\\\\textendash}2000\",\n",
       " 'author': ['Paxton, C. G. M.'],\n",
       " 'pages': '381--387',\n",
       " 'number': '4',\n",
       " 'volume': '279',\n",
       " 'publisher': 'Wiley',\n",
       " 'month': 'nov',\n",
       " 'year': '2009',\n",
       " 'url': 'https://doi.org/10.1111%2Fj.1469-7998.2009.00630.x',\n",
       " 'doi': '10.1111/j.1469-7998.2009.00630.x',\n",
       " 'ENTRYTYPE': 'article',\n",
       " 'ID': 'Paxton_2009'}"
      ]
     },
     "execution_count": 162,
     "metadata": {},
     "output_type": "execute_result"
    }
   ],
   "source": [
    "citeObj.bib_dict"
   ]
  },
  {
   "cell_type": "code",
   "execution_count": 170,
   "id": "c3200543",
   "metadata": {},
   "outputs": [
    {
     "data": {
      "text/plain": [
       "0     M0zeEcuDRKUJ\n",
       "1     ol_HEqgnQ-kJ\n",
       "2     BqYnnGCCNJMJ\n",
       "3     Q2dEN2B___0J\n",
       "4     I8pUNuspBCIJ\n",
       "5     cPkag2QqT44J\n",
       "6     LlqfYIBo0dIJ\n",
       "7     upPT1RxVKIsJ\n",
       "8     RKL2Xl8cQwwJ\n",
       "9     U7u8rBPgHMkJ\n",
       "10    KNayHcU-2VQJ\n",
       "11    5-mQMbIYQX0J\n",
       "12    7UYDrT8kO-0J\n",
       "13    hSyf7vXqHt4J\n",
       "14    F_HW1wNFQGcJ\n",
       "15    sB6TnDmJ1mYJ\n",
       "16    _l5P5LX4UTIJ\n",
       "17    MQYd5x8yynsJ\n",
       "18    51s6g4eHVwMJ\n",
       "19    eGGuac5nTk0J\n",
       "Name: result_id, dtype: object"
      ]
     },
     "execution_count": 170,
     "metadata": {},
     "output_type": "execute_result"
    }
   ],
   "source": [
    "citeObj.ris"
   ]
  },
  {
   "cell_type": "code",
   "execution_count": 164,
   "id": "df231e6b",
   "metadata": {},
   "outputs": [
    {
     "name": "stdout",
     "output_type": "stream",
     "text": [
      "[\"The plural of `anecdote' can be `data': statistical analysis of viewing distances in reports of unidentified large marine animals 1758{\\\\textendash}2000\"]\n",
      "The plural of `anecdote' can be `data': statistical analysis of viewing distances in reports of unidentified large marine animals 1758{\\textendash}2000\n"
     ]
    },
    {
     "data": {
      "text/plain": [
       "\"The plural of `anecdote' can be `data': statistical analysis of viewing distances in reports of unidentified large marine animals 1758{\\\\textendash}2000\""
      ]
     },
     "execution_count": 164,
     "metadata": {},
     "output_type": "execute_result"
    }
   ],
   "source": [
    "clean_mml(citeObj.bib_dict['title'])"
   ]
  },
  {
   "cell_type": "code",
   "execution_count": 165,
   "id": "40c758cf",
   "metadata": {},
   "outputs": [
    {
     "name": "stdout",
     "output_type": "stream",
     "text": [
      "The plural of `anecdote' can be `data': statistical analysis of viewing distances in reports of unidentified large marine animals 1758–2000\n"
     ]
    }
   ],
   "source": [
    "## strip latex from title using pylatexenc\n",
    "from pylatexenc.latex2text import LatexNodes2Text\n",
    "latex2text = LatexNodes2Text()\n",
    "cleaned = latex2text.latex_to_text(citeObj.bib_dict['title'])\n",
    "\n",
    "print(cleaned)\n"
   ]
  },
  {
   "cell_type": "code",
   "execution_count": 166,
   "metadata": {},
   "outputs": [
    {
     "name": "stdout",
     "output_type": "stream",
     "text": [
      "The plural of `anecdote' can be `data': statistical analysis of viewing distances in reports of unidentified large marine animals 1758{\\textendash}2000\n",
      "\n",
      "\n",
      "The plural of `anecdote' can be `data': statistical analysis of viewing distances in reports of unidentified large marine animals 1758{\\textendash}2000\n",
      "\n",
      "\n",
      "The plural of `anecdote' can be `data': statistical analysis of viewing distances in reports of unidentified large marine animals 1758{\\textendash}2000\n",
      "The plural of `anecdote' can be `data': statistical analysis of viewing distances in reports of unidentified large marine animals 1758{\\textendash}2000\n"
     ]
    }
   ],
   "source": [
    "# coding=utf8\n",
    "# the above tag defines encoding for this document and is for Python 2.x compatibility\n",
    "\n",
    "import re\n",
    "\n",
    "\n",
    "regex = r\"(\\$+)(?:(?!\\1)[\\s\\S])*\\1\"\n",
    "\n",
    "test_str = citeObj.bib_dict[\"title\"]\n",
    "\n",
    "subst = \"\"\n",
    "\n",
    "# You can manually specify the number of replacements by changing the 4th argument\n",
    "# result = re.sub(regex, subst, test_str, 0, re.MULTILINE)\n",
    "result = test_str\n",
    "result = result.replace(r\"$\\less$\", \"<\")\n",
    "result = result.replace(r\"$\\greater$\", \">\")\n",
    "# result = re.sub(r\"<(.*?>)(.*)</\\1\", \"\", result)\n",
    "\n",
    "if result:\n",
    "    print (result)\n",
    "\n",
    "print('\\n')\n",
    "result = re.sub(r\"<(.*?>)(.*)</\\1\", \"\", result)\n",
    "print(result)\n",
    "print('\\n')\n",
    "result = re.sub(r\"<mml:math (.*)>(.*)</mml:math>\", \"\", result)\n",
    "print(result)\n",
    "\n",
    "# Convert multiline string to single line\n",
    "result = [line.strip() for line in result.splitlines()]\n",
    "# join results and if not first item wrap in ()\n",
    "result = ' '.join(result) if len(result) > 1 else result[0]\n",
    "print(result)\n",
    "\n",
    "# Note: for Python 2.7 compatibility, use ur\"\" to prefix the regex and u\"\" to prefix the test string and substitution.\n"
   ]
  },
  {
   "cell_type": "code",
   "execution_count": 167,
   "id": "2ae6071e",
   "metadata": {},
   "outputs": [
    {
     "data": {
      "text/plain": [
       "{'journal': 'Journal of Zoology',\n",
       " 'title': \"The plural of `anecdote' can be `data': statistical analysis of viewing distances in reports of unidentified large marine animals 1758{\\\\textendash}2000\",\n",
       " 'author': ['Paxton, C. G. M.'],\n",
       " 'pages': '381--387',\n",
       " 'number': '4',\n",
       " 'volume': '279',\n",
       " 'publisher': 'Wiley',\n",
       " 'month': 'nov',\n",
       " 'year': '2009',\n",
       " 'url': 'https://doi.org/10.1111%2Fj.1469-7998.2009.00630.x',\n",
       " 'doi': '10.1111/j.1469-7998.2009.00630.x',\n",
       " 'ENTRYTYPE': 'article',\n",
       " 'ID': 'Paxton_2009'}"
      ]
     },
     "execution_count": 167,
     "metadata": {},
     "output_type": "execute_result"
    }
   ],
   "source": [
    "citeObj.bib_dict "
   ]
  },
  {
   "cell_type": "code",
   "execution_count": 168,
   "id": "7fb57a2c-ed14-422f-b99e-c24b256bd2b0",
   "metadata": {},
   "outputs": [
    {
     "name": "stdout",
     "output_type": "stream",
     "text": [
      "Number of items retreived from your library:0\n",
      "Updating your cloud library...\n",
      "Done! I hope this made things more readable.\n"
     ]
    },
    {
     "data": {
      "text/plain": [
       "0"
      ]
     },
     "execution_count": 168,
     "metadata": {},
     "output_type": "execute_result"
    }
   ],
   "source": [
    "# Clean Ugly Raw LaText (as Much as Possible)\n",
    "citeObj.cleanZot(ZOT_ID      = ZOT_ID, \n",
    "                 ZOT_KEY     = ZOT_KEY,\n",
    "                 SEARCH_TERM = \"unidentified anomalous phenom*\") # Search is optional - filters the Zotero items considered"
   ]
  },
  {
   "cell_type": "code",
   "execution_count": 169,
   "id": "11974f98-b792-4f56-bcc1-bf51b4be0293",
   "metadata": {
    "scrolled": true,
    "tags": []
   },
   "outputs": [
    {
     "name": "stdout",
     "output_type": "stream",
     "text": [
      "Number of items retreived from your library:18\n",
      "Processing number: 1\n",
      "Processing number: 2\n",
      "Processing number: 3\n",
      "Processing number: 4\n",
      "Processing number: 5\n",
      "Processing number: 6\n",
      "Processing number: 7\n",
      "Processing number: 8\n",
      "Processing number: 9\n",
      "Processing number: 10\n",
      "Processing number: 11\n",
      "Processing number: 12\n",
      "Processing number: 13\n",
      "Processing number: 14\n",
      "Processing number: 15\n",
      "Processing number: 16\n",
      "Processing number: 17\n",
      "Processing number: 18\n"
     ]
    },
    {
     "data": {
      "text/plain": [
       "0"
      ]
     },
     "execution_count": 169,
     "metadata": {},
     "output_type": "execute_result"
    }
   ],
   "source": [
    "# Check Arxiv for Free PDFs of Papers and Attach / Upload Them To Zotero\n",
    "citeObj.arxivDownload()"
   ]
  },
  {
   "cell_type": "code",
   "execution_count": null,
   "id": "1085a514-df92-4f82-bf6b-bc6fc6da1ef1",
   "metadata": {},
   "outputs": [],
   "source": []
  }
 ],
 "metadata": {
  "kernelspec": {
   "display_name": "pyserpzotero",
   "language": "python",
   "name": "python3"
  },
  "language_info": {
   "codemirror_mode": {
    "name": "ipython",
    "version": 3
   },
   "file_extension": ".py",
   "mimetype": "text/x-python",
   "name": "python",
   "nbconvert_exporter": "python",
   "pygments_lexer": "ipython3",
   "version": "3.11.0"
  },
  "vscode": {
   "interpreter": {
    "hash": "32e30f83a52d50fbdbbd680052f9bd5c2c76b17249bcc6130aee9b01f9b6c18b"
   }
  }
 },
 "nbformat": 4,
 "nbformat_minor": 5
}
