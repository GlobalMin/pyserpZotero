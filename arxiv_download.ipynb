{
 "cells": [
  {
   "cell_type": "code",
   "execution_count": 9,
   "id": "8d9f6fe8-549e-4e08-b1e7-a3936265be5d",
   "metadata": {},
   "outputs": [],
   "source": [
    "#import sys\n",
    "#!{sys.executable} -m pip install arxiv # Only if needed\n",
    "\n",
    "import arxiv"
   ]
  },
  {
   "cell_type": "code",
   "execution_count": 10,
   "id": "5525e767-4f44-47e2-80f3-b0eb6fc1b3b9",
   "metadata": {},
   "outputs": [
    {
     "name": "stdout",
     "output_type": "stream",
     "text": [
      "Interacting Bose-condensed gases\n",
      "Dynamic metal along grain boundaries in Floquet topological crystals\n",
      "Riemannian embeddings in codimension one as unbounded $KK$-cycles\n",
      "Quadratic gravity scattering amplitudes in de Sitter spacetime\n",
      "A Graphical #SAT Algorithm for Formulae with Small Clause Density\n",
      "Demonstration of machine-learning-enhanced Bayesian quantum state estimation\n",
      "Watching the seeds of dynamical phase transitions: the complex-time survival amplitude\n",
      "Unequal-mass boson-star binaries: Initial data and merger dynamics\n",
      "Emergent flat band and topological Kondo semimetal driven by orbital-selective correlations\n",
      "Electric field tuning of magnetic states in single magnetic molecules\n"
     ]
    }
   ],
   "source": [
    "search = arxiv.Search(\n",
    "  query = \"quantum\",\n",
    "  max_results = 10,\n",
    "  sort_by = arxiv.SortCriterion.SubmittedDate\n",
    ")\n",
    "\n",
    "for result in search.results():\n",
    "  print(result.title)"
   ]
  },
  {
   "cell_type": "code",
   "execution_count": 11,
   "id": "4c5abb2f-5741-41f8-9d70-43ac511680ac",
   "metadata": {},
   "outputs": [
    {
     "name": "stdout",
     "output_type": "stream",
     "text": [
      "Heat-bath random walks with Markov bases\n"
     ]
    }
   ],
   "source": [
    "search = arxiv.Search(id_list=[\"1605.08386v1\"])\n",
    "paper = next(search.results())\n",
    "print(paper.title)"
   ]
  },
  {
   "cell_type": "code",
   "execution_count": 13,
   "id": "bf5d10d1-9034-42f9-b8cd-d6c079c0bd09",
   "metadata": {},
   "outputs": [
    {
     "data": {
      "text/plain": [
       "'./downloaded-paper.pdf'"
      ]
     },
     "execution_count": 13,
     "metadata": {},
     "output_type": "execute_result"
    }
   ],
   "source": [
    "paper = next(arxiv.Search(id_list=[\"1605.08386v1\"]).results())\n",
    "# Download the PDF to the PWD with a default filename.\n",
    "paper.download_pdf()\n",
    "# Download the PDF to the PWD with a custom filename.\n",
    "paper.download_pdf(filename=\"downloaded-paper.pdf\")\n",
    "# Download the PDF to a specified directory with a custom filename.\n",
    "paper.download_pdf(dirpath=\".\", filename=\"downloaded-paper.pdf\")"
   ]
  },
  {
   "cell_type": "code",
   "execution_count": null,
   "id": "56444a73-5a44-4077-9037-142011e5af54",
   "metadata": {},
   "outputs": [],
   "source": []
  }
 ],
 "metadata": {
  "kernelspec": {
   "display_name": "Python 3 (ipykernel)",
   "language": "python",
   "name": "python3"
  },
  "language_info": {
   "codemirror_mode": {
    "name": "ipython",
    "version": 3
   },
   "file_extension": ".py",
   "mimetype": "text/x-python",
   "name": "python",
   "nbconvert_exporter": "python",
   "pygments_lexer": "ipython3",
   "version": "3.9.13"
  }
 },
 "nbformat": 4,
 "nbformat_minor": 5
}
