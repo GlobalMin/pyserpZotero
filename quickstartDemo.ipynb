{
 "cells": [
  {
   "cell_type": "code",
   "execution_count": 1,
   "id": "d27d8476-b0d8-49e8-b9a1-9cf6e202dd46",
   "metadata": {},
   "outputs": [],
   "source": [
    "# Load libraries\n",
    "\n",
    "import re\n",
    "from re import template\n",
    "\n",
    "import yaml\n",
    "from box import Box\n",
    "## strip latex from title using pylatexenc\n",
    "from pylatexenc.latex2text import LatexNodes2Text\n",
    "from pyzotero import zotero\n",
    "\n",
    "from pyserpZotero import clean_mml, serpZot\n",
    "\n",
    "# importlib.reload(pyserpZotero) # For development only"
   ]
  },
  {
   "cell_type": "code",
   "execution_count": 2,
   "id": "7a3b5bb3-3234-4629-993d-898030899756",
   "metadata": {},
   "outputs": [],
   "source": [
    "# Load a YAML with the following 3 values (Optional)\n",
    "with open(\"config.yaml\", \"r\") as ymlfile:\n",
    "    cfg = Box(yaml.safe_load(ymlfile), default_box=True, default_box_attr=None)\n",
    "\n",
    "API_KEY = cfg.API_KEY\n",
    "ZOT_ID = cfg.ZOT_ID\n",
    "ZOT_KEY = cfg.ZOT_KEY"
   ]
  },
  {
   "cell_type": "code",
   "execution_count": 3,
   "id": "753aa58d-d8b9-4a39-8847-102b8621185d",
   "metadata": {},
   "outputs": [
    {
     "name": "stdout",
     "output_type": "stream",
     "text": [
      "Reminder: Make sure your Zotero key has write permissions.\n"
     ]
    }
   ],
   "source": [
    "# Instantiate a serpZot object for API management\n",
    "citeObj = serpZot(\n",
    "    API_KEY=API_KEY,\n",
    "    ZOT_ID=ZOT_ID,\n",
    "    ZOT_KEY=ZOT_KEY,\n",
    "    DOWNLOAD_DEST=\".\",  # Optional (for destinations other than the current directory)\n",
    ")"
   ]
  },
  {
   "cell_type": "code",
   "execution_count": 4,
   "id": "793f197a",
   "metadata": {},
   "outputs": [
    {
     "data": {
      "text/plain": [
       "'\\nOrder of methods to use:\\n1. citeObj.searchShcoolar()\\n2. citeObj.convert_ris_to_apa_citation()\\n3. citeObj.make_bib_from_apa_cross_ref()\\n'"
      ]
     },
     "execution_count": 4,
     "metadata": {},
     "output_type": "execute_result"
    }
   ],
   "source": [
    "\"\"\"\n",
    "Order of methods to use:\n",
    "1. citeObj.searchShcoolar()\n",
    "2. citeObj.convert_ris_to_apa_citation()\n",
    "3. citeObj.make_bib_from_apa_cross_ref()\n",
    "\"\"\""
   ]
  },
  {
   "cell_type": "code",
   "execution_count": 5,
   "id": "958eeb00-0489-4261-b773-d7f407bc1dbe",
   "metadata": {},
   "outputs": [
    {
     "name": "stdout",
     "output_type": "stream",
     "text": [
      "Search results saved to scholar_search_results.json.\n"
     ]
    }
   ],
   "source": [
    "# # Call the search method\n",
    "\n",
    "citeObj.searchScholar(TERM=\"unidentified anomalous phenom*\", MIN_YEAR=\"2000\")\n",
    "# print(\"This should've returned 0 (sucess)\")\n",
    "\n",
    "# # format print to overwrite the previous line"
   ]
  },
  {
   "cell_type": "code",
   "execution_count": 6,
   "id": "357f4bdb",
   "metadata": {},
   "outputs": [
    {
     "name": "stdout",
     "output_type": "stream",
     "text": [
      "Now processing: M0zeEcuDRKUJ\n",
      "Now processing: ol_HEqgnQ-kJ\n",
      "Now processing: BqYnnGCCNJMJ\n",
      "Now processing: Q2dEN2B___0J\n",
      "Now processing: I8pUNuspBCIJ\n",
      "Now processing: cPkag2QqT44J\n",
      "Now processing: LlqfYIBo0dIJ\n",
      "Now processing: upPT1RxVKIsJ\n",
      "Now processing: RKL2Xl8cQwwJ\n",
      "Now processing: U7u8rBPgHMkJ\n",
      "Now processing: KNayHcU-2VQJ\n",
      "Now processing: 5-mQMbIYQX0J\n",
      "Now processing: 7UYDrT8kO-0J\n",
      "Now processing: hSyf7vXqHt4J\n",
      "Now processing: F_HW1wNFQGcJ\n",
      "Now processing: sB6TnDmJ1mYJ\n",
      "Now processing: _l5P5LX4UTIJ\n",
      "Now processing: MQYd5x8yynsJ\n",
      "Now processing: 51s6g4eHVwMJ\n",
      "Now processing: eGGuac5nTk0J\n",
      "All citations saved to all_google_api_citations.json\n"
     ]
    }
   ],
   "source": [
    "citeObj.convert_ris_to_apa_citation()"
   ]
  },
  {
   "cell_type": "code",
   "execution_count": 7,
   "id": "51cfd840",
   "metadata": {},
   "outputs": [
    {
     "name": "stdout",
     "output_type": "stream",
     "text": [
      "Wrote entry to file. Loop number: 0\n",
      "Wrote entry to file. Loop number: 1\n",
      "Wrote entry to file. Loop number: 2\n",
      "Wrote entry to file. Loop number: 3\n",
      "Wrote entry to file. Loop number: 4\n",
      "Wrote entry to file. Loop number: 5\n",
      "Wrote entry to file. Loop number: 6\n",
      "Wrote entry to file. Loop number: 7\n",
      "Wrote entry to file. Loop number: 8\n",
      "Wrote entry to file. Loop number: 9\n",
      "Wrote entry to file. Loop number: 10\n",
      "Wrote entry to file. Loop number: 11\n",
      "Wrote entry to file. Loop number: 12\n",
      "Wrote entry to file. Loop number: 13\n",
      "Wrote entry to file. Loop number: 14\n",
      "Wrote entry to file. Loop number: 15\n",
      "Wrote entry to file. Loop number: 16\n",
      "Wrote entry to file. Loop number: 17\n",
      "Wrote entry to file. Loop number: 18\n",
      "Wrote entry to file. Loop number: 19\n",
      "Saved bibtext to auto_cite.bib\n"
     ]
    }
   ],
   "source": [
    "citeObj.make_bib_from_apa_cross_ref()"
   ]
  },
  {
   "cell_type": "code",
   "execution_count": 8,
   "id": "e82ece26",
   "metadata": {},
   "outputs": [
    {
     "data": {
      "text/plain": [
       "['Paxton, C. G. (2009). The plural of ‘anecdote’can be ‘data’: statistical analysis of viewing distances in reports of unidentified large marine animals 1758–2000. Journal of Zoology, 279(4), 381-387.',\n",
       " 'Platov, Y. V., & Sokolov, B. A. (2000). The Study of Unidentified Flying Objects in the Soviet Union. HERALD-RUSSIAN ACADEMY OF SCIENCES C/C OF VESTNIK-ROSSIISKAIA AKADEMIIA NAUK, 70(3), 244-251.',\n",
       " 'Dewan, W. J. (2006). \" A saucerful of secrets\": an interdisciplinary analysis of UFO experiences. Journal of American Folklore, 119(472), 184-202.',\n",
       " 'Zusne, L., & Jones, W. H. (2014). Anomalistic psychology: A study of magical thinking. Psychology Press.',\n",
       " 'Teodorani, M. (2004). A long-term scientific survey of the Hessdalen phenomenon. Journal of Scientific Exploration, 18(2), 217-251.',\n",
       " 'Belitz, D., Kirkpatrick, T. R., Narayanan, R., & Vojta, T. (2000). Transport anomalies and marginal-Fermi-liquid effects at a quantum critical point. Physical Review Letters, 85(21), 4602.',\n",
       " 'Fedan, J. S., Hubbs, A. F., Barger, M., Schwegler-Berry, D., Friend, S. A., Leonard, S. S., ... & Roberts, J. R. (2020). Biological effects of inhaled hydraulic fracturing sand dust. II. Particle characterization and pulmonary effects 30 d following intratracheal instillation. Toxicology and applied pharmacology, 409, 115282.',\n",
       " 'McClenon, J. (2002). Content analysis of an anomalous experience collection: Evaluating evolutionary perspectives. The Journal of Parapsychology, 66(3), 291.',\n",
       " 'Lee, G., Villella, A., Taylor, B. J., & Hall, J. C. (2001). New reproductive anomalies in fruitless‐mutant Drosophila males: Extreme lengthening of mating durations and infertility correlated with defective serotonergic innervation of reproductive organs. Journal of neurobiology, 47(2), 121-149.',\n",
       " 'Shemesh, A. O. (2019). “The rabbis maintained that it was Flaxseed”: The identification and interpretation of unidentified Biblical plants in aggadic homilies. Biblical Theology Bulletin, 49(3), 156-168.',\n",
       " 'Crake, D. A., & Martínez-Galarza, J. R. (2023). Linking Anomalous Behaviour with Stellar Properties: An Unsupervised Exploration of TESS Light Curves. arXiv preprint arXiv:2301.10264.',\n",
       " \"Shi, R., Russo, J., & Tanaka, H. origin for water's thermodynamic and dynamic anomalies. Journal of Chemical Physics, 149 (22),[224502]. https://doi. org/10.1063/1.5055908.\",\n",
       " 'Shajahan, M., Mo, Y. H., & Nahm, K. S. (2003). Effect of chemical vapor deposition energy sources on the structure of SiC prepared by carbon nanotubes-confined reaction. Journal of Vacuum Science & Technology B: Microelectronics and Nanometer Structures Processing, Measurement, and Phenomena, 21(3), 1149-1156.',\n",
       " 'Courtman, S. (2006). Not Good Enough or Not Man Enough? Beryl Gilroy as the Anomaly in the Evolving ‘Black British Canon’ (pp. 50-73). Palgrave Macmillan UK.',\n",
       " 'Brázdil, R., Řezníčková, L., Valášek, H., Dolák, L., & Kotyza, O. (2016). Climatic effects and impacts of the 1815 eruption of Mount Tambora in the Czech Lands. Climate of the Past, 12(6), 1361-1374.',\n",
       " 'Lewis, E. “Strange Particles”: Plasmoids and the Need for Paradigm Change in Physics.',\n",
       " 'Plummer, C. T., Curran, M. A., van Ommen, T. D., Rasmussen, S. O., Moy, A. D., Vance, T. R., ... & Mayewski, P. A. (2012). An independently dated 2000-yr volcanic record from Law Dome, East Antarctica, including a new perspective on the dating of the 1450s CE eruption of Kuwae, Vanuatu. Climate of the Past, 8(6), 1929-1940.',\n",
       " 'Butler, T. (2002). Electronic Voice Phenomena: A Tool for Validating Personal Survival. Journal of Religion & Psychical Research, 25(4).',\n",
       " 'Kovalyov, M. (2022). Comparative analysis of unidentified aerial phenomena (UAP).',\n",
       " 'Hallas, A. M., Gaudet, J., Butch, N. P., Xu, G., Tachibana, M., Wiebe, C. R., ... & Gaulin, B. D. (2017). Phase Competition in the Palmer-Chalker X Y Pyrochlore Er 2 Pt 2 O 7. Physical Review Letters, 119(18), 187201.']"
      ]
     },
     "execution_count": 8,
     "metadata": {},
     "output_type": "execute_result"
    }
   ],
   "source": [
    "citeObj.all_apa_citations"
   ]
  },
  {
   "cell_type": "code",
   "execution_count": 9,
   "id": "f4efb9ca",
   "metadata": {},
   "outputs": [
    {
     "name": "stdout",
     "output_type": "stream",
     "text": [
      "entry_dict_list: [{'publicationTitle': 'Journal of Zoology', 'title': \"The plural of `anecdote' can be `data': statistical analysis of viewing distances in reports of unidentified large marine animals 1758{\\\\textendash}2000\", 'issue': '4', 'volume': '279', 'url': 'https://doi.org/10.1111%2Fj.1469-7998.2009.00630.x', 'DOI': '10.1111/j.1469-7998.2009.00630.x', 'itemType': 'journalArticle', 'accessDate': '2023-02-21'}, {'publicationTitle': 'Herald of the Russian Academy of Sciences', 'title': 'Study of the Fundamental Causes Behind the Collapse of the Soviet Union is an Urgent Problem for Russian Science (Russian Federation Council)', 'issue': 'S1', 'volume': '92', 'url': 'https://doi.org/10.1134%2Fs1019331622070024', 'DOI': '10.1134/s1019331622070024', 'itemType': 'journalArticle', 'accessDate': '2023-02-21'}, {'publicationTitle': 'Journal of American Folklore', 'title': '\"A Saucerful of Secrets\": An Interdisciplinary Analysis of {UFO} Experiences', 'issue': '472', 'volume': '119', 'url': 'https://doi.org/10.2307%2F4137923', 'DOI': '10.2307/4137923', 'itemType': 'journalArticle', 'accessDate': '2023-02-21'}, {'title': 'Anomalistic Psychology', 'url': 'https://doi.org/10.4324%2F9781315807706', 'DOI': '10.4324/9781315807706', 'itemType': 'journalArticle', 'accessDate': '2023-02-21'}, {'publicationTitle': 'Journal of Scientific Exploration', 'title': 'Are the Hessdalen Lights a Reality, an Illusion, or a Mix of the Two ?', 'issue': '3', 'volume': '35', 'url': 'https://doi.org/10.31275%2F20212171', 'DOI': '10.31275/20212171', 'itemType': 'journalArticle', 'accessDate': '2023-02-21'}, {'publicationTitle': 'Physical Review Letters', 'title': 'Transport Anomalies and Marginal-Fermi-Liquid Effects at a Quantum Critical Point', 'issue': '21', 'volume': '85', 'url': 'https://doi.org/10.1103%2Fphysrevlett.85.4602', 'DOI': '10.1103/physrevlett.85.4602', 'itemType': 'journalArticle', 'accessDate': '2023-02-21'}, {'publicationTitle': 'Toxicology and Applied Pharmacology', 'title': 'Biological effects of inhaled hydraulic fracturing sand dust. {II}. Particle characterization and pulmonary effects 30 d following intratracheal instillation', 'volume': '409', 'url': 'https://doi.org/10.1016%2Fj.taap.2020.115282', 'DOI': '10.1016/j.taap.2020.115282', 'itemType': 'journalArticle', 'accessDate': '2023-02-21'}, {'publicationTitle': 'Sociology of Religion', 'title': 'Content Analysis of an Anomalous Memorate Collection: Testing Hypotheses regarding Universal Features', 'issue': '2', 'volume': '61', 'url': 'https://doi.org/10.2307%2F3712283', 'DOI': '10.2307/3712283', 'itemType': 'journalArticle', 'accessDate': '2023-02-21'}, {'publicationTitle': 'Journal of Neurobiology', 'title': 'New reproductive anomalies infruitless-{mutantDrosophila} males: Extreme lengthening of mating durations and infertility correlated with defective serotonergic innervation of reproductive organs', 'issue': '2', 'volume': '47', 'url': 'https://doi.org/10.1002%2Fneu.1021', 'DOI': '10.1002/neu.1021', 'itemType': 'journalArticle', 'accessDate': '2023-02-21'}, {'publicationTitle': 'Biblical Theology Bulletin: Journal of Bible and Culture', 'title': '{\\\\textquotedblleft}The Rabbis Maintained that it was Flaxseed{\\\\textquotedblright}: The Identification and Interpretation of Unidentified Biblical Plants in Aggadic Homilies', 'issue': '3', 'volume': '49', 'url': 'https://doi.org/10.1177%2F0146107919852274', 'DOI': '10.1177/0146107919852274', 'itemType': 'journalArticle', 'accessDate': '2023-02-21'}, {'title': 'Using {arXiv} and {ADS}', 'url': 'https://doi.org/10.1017%2F9781108181914.033', 'DOI': '10.1017/9781108181914.033', 'itemType': 'journalArticle', 'accessDate': '2023-02-21'}, {'publicationTitle': 'The Journal of Chemical Physics', 'title': \"Common microscopic structural origin for water's thermodynamic and dynamic anomalies\", 'issue': '22', 'volume': '149', 'url': 'https://doi.org/10.1063%2F1.5055908', 'DOI': '10.1063/1.5055908', 'itemType': 'journalArticle', 'accessDate': '2023-02-21'}, {'publicationTitle': 'Journal of Vacuum Science {\\\\&}amp$\\\\mathsemicolon$ Technology B: Microelectronics and Nanometer Structures', 'title': 'Effect of chemical vapor deposition energy sources on the structure of {SiC} prepared by carbon nanotubes-confined reaction', 'issue': '3', 'volume': '21', 'url': 'https://doi.org/10.1116%2F1.1577571', 'DOI': '10.1116/1.1577571', 'itemType': 'journalArticle', 'accessDate': '2023-02-21'}, {'title': \"Not Good Enough or Not Man Enough? Beryl Gilroy as the Anomaly in the Evolving `Black British Canon'\", 'url': 'https://doi.org/10.1057%2F9780230625693_4', 'DOI': '10.1057/9780230625693_4', 'itemType': 'journalArticle', 'accessDate': '2023-02-21'}, {'publicationTitle': 'Climate of the Past', 'title': 'Climatic effects and impacts of the 1815 eruption of Mount Tambora in the Czech Lands', 'issue': '6', 'volume': '12', 'url': 'https://doi.org/10.5194%2Fcp-12-1361-2016', 'DOI': '10.5194/cp-12-1361-2016', 'itemType': 'journalArticle', 'accessDate': '2023-02-21'}, {'title': 'Review for \"Vaccine production and supply need a paradigm change\"', 'url': 'https://doi.org/10.1002%2Fcjce.24399%2Fv1%2Freview1', 'DOI': '10.1002/cjce.24399/v1/review1', 'itemType': 'journalArticle', 'accessDate': '2023-02-21'}, {'publicationTitle': 'Climate of the Past', 'title': 'An independently dated 2000-yr volcanic record from Law Dome, East Antarctica, including a new perspective on the dating of the 1450s {CE} eruption of Kuwae, Vanuatu', 'issue': '6', 'volume': '8', 'url': 'https://doi.org/10.5194%2Fcp-8-1929-2012', 'DOI': '10.5194/cp-8-1929-2012', 'itemType': 'journalArticle', 'accessDate': '2023-02-21'}, {'title': 'Psychical Research and Religion', 'url': 'https://doi.org/10.4324%2F9781003290926-29', 'DOI': '10.4324/9781003290926-29', 'itemType': 'journalArticle', 'accessDate': '2023-02-21'}, {'title': '{FOREWORD}:', 'url': 'https://doi.org/10.2307%2Fj.ctt2005r2h.3', 'DOI': '10.2307/j.ctt2005r2h.3', 'itemType': 'journalArticle', 'accessDate': '2023-02-21'}, {'publicationTitle': 'Physical Review Letters', 'title': 'Phase Competition in the Palmer-Chalker \\n$\\\\less$mml:math xmlns:mml=\"http://www.w3.org/1998/Math/{MathML}\" display=\"inline\"$\\\\greater$$\\\\less$mml:mi$\\\\greater$X$\\\\less$/mml:mi$\\\\greater$$\\\\less$mml:mi$\\\\greater$Y$\\\\less$/mml:mi$\\\\greater$$\\\\less$/mml:math$\\\\greater$\\nPyrochlore \\n$\\\\less$mml:math xmlns:mml=\"http://www.w3.org/1998/Math/{MathML}\" display=\"inline\"$\\\\greater$$\\\\less$mml:mrow$\\\\greater$$\\\\less$mml:msub$\\\\greater$$\\\\less$mml:mrow$\\\\greater$$\\\\less$mml:mi$\\\\greater$Er$\\\\less$/mml:mi$\\\\greater$$\\\\less$/mml:mrow$\\\\greater$$\\\\less$mml:mrow$\\\\greater$$\\\\less$mml:mn$\\\\greater$2$\\\\less$/mml:mn$\\\\greater$$\\\\less$/mml:mrow$\\\\greater$$\\\\less$/mml:msub$\\\\greater$$\\\\less$mml:msub$\\\\greater$$\\\\less$mml:mrow$\\\\greater$$\\\\less$mml:mi$\\\\greater$Pt$\\\\less$/mml:mi$\\\\greater$$\\\\less$/mml:mrow$\\\\greater$$\\\\less$mml:mrow$\\\\greater$$\\\\less$mml:mn$\\\\greater$2$\\\\less$/mml:mn$\\\\greater$$\\\\less$/mml:mrow$\\\\greater$$\\\\less$/mml:msub$\\\\greater$$\\\\less$mml:msub$\\\\greater$$\\\\less$mml:mrow$\\\\greater$$\\\\less$mml:mi mathvariant=\"normal\"$\\\\greater$O$\\\\less$/mml:mi$\\\\greater$$\\\\less$/mml:mrow$\\\\greater$$\\\\less$mml:mrow$\\\\greater$$\\\\less$mml:mn$\\\\greater$7$\\\\less$/mml:mn$\\\\greater$$\\\\less$/mml:mrow$\\\\greater$$\\\\less$/mml:msub$\\\\greater$$\\\\less$/mml:mrow$\\\\greater$$\\\\less$/mml:math$\\\\greater$', 'issue': '18', 'volume': '119', 'url': 'https://doi.org/10.1103%2Fphysrevlett.119.187201', 'DOI': '10.1103/physrevlett.119.187201', 'itemType': 'journalArticle', 'accessDate': '2023-02-21'}]\n",
      "{'publicationTitle': 'Journal of Zoology', 'title': \"The plural of `anecdote' can be `data': statistical analysis of viewing distances in reports of unidentified large marine animals 1758{\\\\textendash}2000\", 'issue': '4', 'volume': '279', 'url': 'https://doi.org/10.1111%2Fj.1469-7998.2009.00630.x', 'DOI': '10.1111/j.1469-7998.2009.00630.x', 'itemType': 'journalArticle', 'accessDate': '2023-02-21'}\n",
      "{'publicationTitle': 'Herald of the Russian Academy of Sciences', 'title': 'Study of the Fundamental Causes Behind the Collapse of the Soviet Union is an Urgent Problem for Russian Science (Russian Federation Council)', 'issue': 'S1', 'volume': '92', 'url': 'https://doi.org/10.1134%2Fs1019331622070024', 'DOI': '10.1134/s1019331622070024', 'itemType': 'journalArticle', 'accessDate': '2023-02-21'}\n",
      "{'publicationTitle': 'Journal of American Folklore', 'title': '\"A Saucerful of Secrets\": An Interdisciplinary Analysis of {UFO} Experiences', 'issue': '472', 'volume': '119', 'url': 'https://doi.org/10.2307%2F4137923', 'DOI': '10.2307/4137923', 'itemType': 'journalArticle', 'accessDate': '2023-02-21'}\n",
      "{'title': 'Anomalistic Psychology', 'url': 'https://doi.org/10.4324%2F9781315807706', 'DOI': '10.4324/9781315807706', 'itemType': 'journalArticle', 'accessDate': '2023-02-21'}\n",
      "{'publicationTitle': 'Journal of Scientific Exploration', 'title': 'Are the Hessdalen Lights a Reality, an Illusion, or a Mix of the Two ?', 'issue': '3', 'volume': '35', 'url': 'https://doi.org/10.31275%2F20212171', 'DOI': '10.31275/20212171', 'itemType': 'journalArticle', 'accessDate': '2023-02-21'}\n",
      "{'publicationTitle': 'Physical Review Letters', 'title': 'Transport Anomalies and Marginal-Fermi-Liquid Effects at a Quantum Critical Point', 'issue': '21', 'volume': '85', 'url': 'https://doi.org/10.1103%2Fphysrevlett.85.4602', 'DOI': '10.1103/physrevlett.85.4602', 'itemType': 'journalArticle', 'accessDate': '2023-02-21'}\n",
      "{'publicationTitle': 'Toxicology and Applied Pharmacology', 'title': 'Biological effects of inhaled hydraulic fracturing sand dust. {II}. Particle characterization and pulmonary effects 30 d following intratracheal instillation', 'volume': '409', 'url': 'https://doi.org/10.1016%2Fj.taap.2020.115282', 'DOI': '10.1016/j.taap.2020.115282', 'itemType': 'journalArticle', 'accessDate': '2023-02-21'}\n",
      "{'publicationTitle': 'Sociology of Religion', 'title': 'Content Analysis of an Anomalous Memorate Collection: Testing Hypotheses regarding Universal Features', 'issue': '2', 'volume': '61', 'url': 'https://doi.org/10.2307%2F3712283', 'DOI': '10.2307/3712283', 'itemType': 'journalArticle', 'accessDate': '2023-02-21'}\n",
      "{'publicationTitle': 'Journal of Neurobiology', 'title': 'New reproductive anomalies infruitless-{mutantDrosophila} males: Extreme lengthening of mating durations and infertility correlated with defective serotonergic innervation of reproductive organs', 'issue': '2', 'volume': '47', 'url': 'https://doi.org/10.1002%2Fneu.1021', 'DOI': '10.1002/neu.1021', 'itemType': 'journalArticle', 'accessDate': '2023-02-21'}\n",
      "{'publicationTitle': 'Biblical Theology Bulletin: Journal of Bible and Culture', 'title': '{\\\\textquotedblleft}The Rabbis Maintained that it was Flaxseed{\\\\textquotedblright}: The Identification and Interpretation of Unidentified Biblical Plants in Aggadic Homilies', 'issue': '3', 'volume': '49', 'url': 'https://doi.org/10.1177%2F0146107919852274', 'DOI': '10.1177/0146107919852274', 'itemType': 'journalArticle', 'accessDate': '2023-02-21'}\n",
      "{'title': 'Using {arXiv} and {ADS}', 'url': 'https://doi.org/10.1017%2F9781108181914.033', 'DOI': '10.1017/9781108181914.033', 'itemType': 'journalArticle', 'accessDate': '2023-02-21'}\n",
      "{'publicationTitle': 'The Journal of Chemical Physics', 'title': \"Common microscopic structural origin for water's thermodynamic and dynamic anomalies\", 'issue': '22', 'volume': '149', 'url': 'https://doi.org/10.1063%2F1.5055908', 'DOI': '10.1063/1.5055908', 'itemType': 'journalArticle', 'accessDate': '2023-02-21'}\n",
      "{'publicationTitle': 'Journal of Vacuum Science {\\\\&}amp$\\\\mathsemicolon$ Technology B: Microelectronics and Nanometer Structures', 'title': 'Effect of chemical vapor deposition energy sources on the structure of {SiC} prepared by carbon nanotubes-confined reaction', 'issue': '3', 'volume': '21', 'url': 'https://doi.org/10.1116%2F1.1577571', 'DOI': '10.1116/1.1577571', 'itemType': 'journalArticle', 'accessDate': '2023-02-21'}\n",
      "{'title': \"Not Good Enough or Not Man Enough? Beryl Gilroy as the Anomaly in the Evolving `Black British Canon'\", 'url': 'https://doi.org/10.1057%2F9780230625693_4', 'DOI': '10.1057/9780230625693_4', 'itemType': 'journalArticle', 'accessDate': '2023-02-21'}\n",
      "{'publicationTitle': 'Climate of the Past', 'title': 'Climatic effects and impacts of the 1815 eruption of Mount Tambora in the Czech Lands', 'issue': '6', 'volume': '12', 'url': 'https://doi.org/10.5194%2Fcp-12-1361-2016', 'DOI': '10.5194/cp-12-1361-2016', 'itemType': 'journalArticle', 'accessDate': '2023-02-21'}\n",
      "{'title': 'Review for \"Vaccine production and supply need a paradigm change\"', 'url': 'https://doi.org/10.1002%2Fcjce.24399%2Fv1%2Freview1', 'DOI': '10.1002/cjce.24399/v1/review1', 'itemType': 'journalArticle', 'accessDate': '2023-02-21'}\n",
      "{'publicationTitle': 'Climate of the Past', 'title': 'An independently dated 2000-yr volcanic record from Law Dome, East Antarctica, including a new perspective on the dating of the 1450s {CE} eruption of Kuwae, Vanuatu', 'issue': '6', 'volume': '8', 'url': 'https://doi.org/10.5194%2Fcp-8-1929-2012', 'DOI': '10.5194/cp-8-1929-2012', 'itemType': 'journalArticle', 'accessDate': '2023-02-21'}\n",
      "{'title': 'Psychical Research and Religion', 'url': 'https://doi.org/10.4324%2F9781003290926-29', 'DOI': '10.4324/9781003290926-29', 'itemType': 'journalArticle', 'accessDate': '2023-02-21'}\n",
      "{'title': '{FOREWORD}:', 'url': 'https://doi.org/10.2307%2Fj.ctt2005r2h.3', 'DOI': '10.2307/j.ctt2005r2h.3', 'itemType': 'journalArticle', 'accessDate': '2023-02-21'}\n",
      "{'publicationTitle': 'Physical Review Letters', 'title': 'Phase Competition in the Palmer-Chalker \\n$\\\\less$mml:math xmlns:mml=\"http://www.w3.org/1998/Math/{MathML}\" display=\"inline\"$\\\\greater$$\\\\less$mml:mi$\\\\greater$X$\\\\less$/mml:mi$\\\\greater$$\\\\less$mml:mi$\\\\greater$Y$\\\\less$/mml:mi$\\\\greater$$\\\\less$/mml:math$\\\\greater$\\nPyrochlore \\n$\\\\less$mml:math xmlns:mml=\"http://www.w3.org/1998/Math/{MathML}\" display=\"inline\"$\\\\greater$$\\\\less$mml:mrow$\\\\greater$$\\\\less$mml:msub$\\\\greater$$\\\\less$mml:mrow$\\\\greater$$\\\\less$mml:mi$\\\\greater$Er$\\\\less$/mml:mi$\\\\greater$$\\\\less$/mml:mrow$\\\\greater$$\\\\less$mml:mrow$\\\\greater$$\\\\less$mml:mn$\\\\greater$2$\\\\less$/mml:mn$\\\\greater$$\\\\less$/mml:mrow$\\\\greater$$\\\\less$/mml:msub$\\\\greater$$\\\\less$mml:msub$\\\\greater$$\\\\less$mml:mrow$\\\\greater$$\\\\less$mml:mi$\\\\greater$Pt$\\\\less$/mml:mi$\\\\greater$$\\\\less$/mml:mrow$\\\\greater$$\\\\less$mml:mrow$\\\\greater$$\\\\less$mml:mn$\\\\greater$2$\\\\less$/mml:mn$\\\\greater$$\\\\less$/mml:mrow$\\\\greater$$\\\\less$/mml:msub$\\\\greater$$\\\\less$mml:msub$\\\\greater$$\\\\less$mml:mrow$\\\\greater$$\\\\less$mml:mi mathvariant=\"normal\"$\\\\greater$O$\\\\less$/mml:mi$\\\\greater$$\\\\less$/mml:mrow$\\\\greater$$\\\\less$mml:mrow$\\\\greater$$\\\\less$mml:mn$\\\\greater$7$\\\\less$/mml:mn$\\\\greater$$\\\\less$/mml:mrow$\\\\greater$$\\\\less$/mml:msub$\\\\greater$$\\\\less$/mml:mrow$\\\\greater$$\\\\less$/mml:math$\\\\greater$', 'issue': '18', 'volume': '119', 'url': 'https://doi.org/10.1103%2Fphysrevlett.119.187201', 'DOI': '10.1103/physrevlett.119.187201', 'itemType': 'journalArticle', 'accessDate': '2023-02-21'}\n"
     ]
    }
   ],
   "source": [
    "citeObj.make_zot_template_from_bib()"
   ]
  },
  {
   "cell_type": "code",
   "execution_count": null,
   "id": "128e516c",
   "metadata": {},
   "outputs": [],
   "source": []
  },
  {
   "cell_type": "code",
   "execution_count": null,
   "id": "814da53b",
   "metadata": {},
   "outputs": [],
   "source": []
  },
  {
   "attachments": {},
   "cell_type": "markdown",
   "id": "415d0152",
   "metadata": {},
   "source": [
    "## scratch"
   ]
  },
  {
   "cell_type": "code",
   "execution_count": null,
   "id": "df231e6b",
   "metadata": {},
   "outputs": [],
   "source": [
    "clean_mml(citeObj. [0][\"title\"])\n",
    "citeObj.bib_database"
   ]
  },
  {
   "cell_type": "code",
   "execution_count": 165,
   "id": "40c758cf",
   "metadata": {},
   "outputs": [
    {
     "name": "stdout",
     "output_type": "stream",
     "text": [
      "The plural of `anecdote' can be `data': statistical analysis of viewing distances in reports of unidentified large marine animals 1758–2000\n"
     ]
    }
   ],
   "source": [
    "latex2text = LatexNodes2Text()\n",
    "cleaned = latex2text.latex_to_text(citeObj.bib_dict[\"title\"])\n",
    "\n",
    "print(cleaned)"
   ]
  },
  {
   "cell_type": "code",
   "execution_count": 166,
   "id": "a585ed37",
   "metadata": {},
   "outputs": [
    {
     "name": "stdout",
     "output_type": "stream",
     "text": [
      "The plural of `anecdote' can be `data': statistical analysis of viewing distances in reports of unidentified large marine animals 1758{\\textendash}2000\n",
      "\n",
      "\n",
      "The plural of `anecdote' can be `data': statistical analysis of viewing distances in reports of unidentified large marine animals 1758{\\textendash}2000\n",
      "\n",
      "\n",
      "The plural of `anecdote' can be `data': statistical analysis of viewing distances in reports of unidentified large marine animals 1758{\\textendash}2000\n",
      "The plural of `anecdote' can be `data': statistical analysis of viewing distances in reports of unidentified large marine animals 1758{\\textendash}2000\n"
     ]
    }
   ],
   "source": [
    "# coding=utf8\n",
    "# the above tag defines encoding for this document and is for Python 2.x compatibility\n",
    "\n",
    "\n",
    "regex = r\"(\\$+)(?:(?!\\1)[\\s\\S])*\\1\"\n",
    "\n",
    "test_str = citeObj.bib_dict[\"title\"]\n",
    "\n",
    "subst = \"\"\n",
    "\n",
    "# You can manually specify the number of replacements by changing the 4th argument\n",
    "# result = re.sub(regex, subst, test_str, 0, re.MULTILINE)\n",
    "result = test_str\n",
    "result = result.replace(r\"$\\less$\", \"<\")\n",
    "result = result.replace(r\"$\\greater$\", \">\")\n",
    "# result = re.sub(r\"<(.*?>)(.*)</\\1\", \"\", result)\n",
    "\n",
    "if result:\n",
    "    print(result)\n",
    "\n",
    "print(\"\\n\")\n",
    "result = re.sub(r\"<(.*?>)(.*)</\\1\", \"\", result)\n",
    "print(result)\n",
    "print(\"\\n\")\n",
    "result = re.sub(r\"<mml:math (.*)>(.*)</mml:math>\", \"\", result)\n",
    "print(result)\n",
    "\n",
    "# Convert multiline string to single line\n",
    "result = [line.strip() for line in result.splitlines()]\n",
    "# join results and if not first item wrap in ()\n",
    "result = \" \".join(result) if len(result) > 1 else result[0]\n",
    "print(result)\n",
    "\n",
    "# Note: for Python 2.7 compatibility, use ur\"\" to prefix the regex and u\"\" to prefix the test string and substitution."
   ]
  },
  {
   "cell_type": "code",
   "execution_count": 167,
   "id": "2ae6071e",
   "metadata": {},
   "outputs": [
    {
     "data": {
      "text/plain": [
       "{'journal': 'Journal of Zoology',\n",
       " 'title': \"The plural of `anecdote' can be `data': statistical analysis of viewing distances in reports of unidentified large marine animals 1758{\\\\textendash}2000\",\n",
       " 'author': ['Paxton, C. G. M.'],\n",
       " 'pages': '381--387',\n",
       " 'number': '4',\n",
       " 'volume': '279',\n",
       " 'publisher': 'Wiley',\n",
       " 'month': 'nov',\n",
       " 'year': '2009',\n",
       " 'url': 'https://doi.org/10.1111%2Fj.1469-7998.2009.00630.x',\n",
       " 'doi': '10.1111/j.1469-7998.2009.00630.x',\n",
       " 'ENTRYTYPE': 'article',\n",
       " 'ID': 'Paxton_2009'}"
      ]
     },
     "execution_count": 167,
     "metadata": {},
     "output_type": "execute_result"
    }
   ],
   "source": [
    "citeObj.bib_dict"
   ]
  },
  {
   "cell_type": "code",
   "execution_count": 168,
   "id": "7fb57a2c-ed14-422f-b99e-c24b256bd2b0",
   "metadata": {},
   "outputs": [
    {
     "name": "stdout",
     "output_type": "stream",
     "text": [
      "Number of items retreived from your library:0\n",
      "Updating your cloud library...\n",
      "Done! I hope this made things more readable.\n"
     ]
    },
    {
     "data": {
      "text/plain": [
       "0"
      ]
     },
     "execution_count": 168,
     "metadata": {},
     "output_type": "execute_result"
    }
   ],
   "source": [
    "# Clean Ugly Raw LaText (as Much as Possible)\n",
    "citeObj.cleanZot(\n",
    "    ZOT_ID=ZOT_ID, ZOT_KEY=ZOT_KEY, SEARCH_TERM=\"unidentified anomalous phenom*\"\n",
    ")  # Search is optional - filters the Zotero items considered"
   ]
  },
  {
   "cell_type": "code",
   "execution_count": 169,
   "id": "11974f98-b792-4f56-bcc1-bf51b4be0293",
   "metadata": {
    "scrolled": true,
    "tags": []
   },
   "outputs": [
    {
     "name": "stdout",
     "output_type": "stream",
     "text": [
      "Number of items retreived from your library:18\n",
      "Processing number: 1\n",
      "Processing number: 2\n",
      "Processing number: 3\n",
      "Processing number: 4\n",
      "Processing number: 5\n",
      "Processing number: 6\n",
      "Processing number: 7\n",
      "Processing number: 8\n",
      "Processing number: 9\n",
      "Processing number: 10\n",
      "Processing number: 11\n",
      "Processing number: 12\n",
      "Processing number: 13\n",
      "Processing number: 14\n",
      "Processing number: 15\n",
      "Processing number: 16\n",
      "Processing number: 17\n",
      "Processing number: 18\n"
     ]
    },
    {
     "data": {
      "text/plain": [
       "0"
      ]
     },
     "execution_count": 169,
     "metadata": {},
     "output_type": "execute_result"
    }
   ],
   "source": [
    "# Check Arxiv for Free PDFs of Papers and Attach / Upload Them To Zotero\n",
    "citeObj.arxivDownload()"
   ]
  },
  {
   "cell_type": "code",
   "execution_count": null,
   "id": "1085a514-df92-4f82-bf6b-bc6fc6da1ef1",
   "metadata": {},
   "outputs": [],
   "source": []
  }
 ],
 "metadata": {
  "kernelspec": {
   "display_name": "pyserpzotero",
   "language": "python",
   "name": "python3"
  },
  "language_info": {
   "codemirror_mode": {
    "name": "ipython",
    "version": 3
   },
   "file_extension": ".py",
   "mimetype": "text/x-python",
   "name": "python",
   "nbconvert_exporter": "python",
   "pygments_lexer": "ipython3",
   "version": "3.11.0"
  },
  "vscode": {
   "interpreter": {
    "hash": "32e30f83a52d50fbdbbd680052f9bd5c2c76b17249bcc6130aee9b01f9b6c18b"
   }
  }
 },
 "nbformat": 4,
 "nbformat_minor": 5
}
