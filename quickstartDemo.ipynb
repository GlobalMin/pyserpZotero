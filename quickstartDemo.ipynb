{
 "cells": [
  {
   "cell_type": "code",
   "execution_count": 1,
   "id": "d27d8476-b0d8-49e8-b9a1-9cf6e202dd46",
   "metadata": {},
   "outputs": [
    {
     "ename": "SyntaxError",
     "evalue": "(unicode error) 'unicodeescape' codec can't decode bytes in position 18-19: truncated \\uXXXX escape (pyserpZotero.py, line 358)",
     "output_type": "error",
     "traceback": [
      "Traceback \u001b[0;36m(most recent call last)\u001b[0m:\n",
      "\u001b[0m  File \u001b[1;32m~/.pyenv/versions/3.11.0/envs/pyserpzotero/lib/python3.11/site-packages/IPython/core/interactiveshell.py:3460\u001b[0m in \u001b[1;35mrun_code\u001b[0m\n    exec(code_obj, self.user_global_ns, self.user_ns)\u001b[0m\n",
      "\u001b[0;36m  Cell \u001b[0;32mIn[1], line 4\u001b[0;36m\n\u001b[0;31m    import pyserpZotero\u001b[0;36m\n",
      "\u001b[0;36m  File \u001b[0;32m~/.pyenv/versions/3.11.0/envs/pyserpzotero/lib/python3.11/site-packages/pyserpZotero.py:358\u001b[0;36m\u001b[0m\n\u001b[0;31m    item['data'][FIELD] = item['data'][FIELD].replace(\"{\\’{\\u}}\",\"u\")\u001b[0m\n\u001b[0m                                                                  ^\u001b[0m\n\u001b[0;31mSyntaxError\u001b[0m\u001b[0;31m:\u001b[0m (unicode error) 'unicodeescape' codec can't decode bytes in position 18-19: truncated \\uXXXX escape\n"
     ]
    }
   ],
   "source": [
    "# Load libraries\n",
    "import importlib # You won't need this\n",
    "import os\n",
    "import pyserpZotero\n",
    "import yaml\n",
    "\n",
    "from box import Box\n",
    "\n",
    "importlib.reload(pyserpZotero) # For development only"
   ]
  },
  {
   "cell_type": "code",
   "execution_count": null,
   "id": "7a3b5bb3-3234-4629-993d-898030899756",
   "metadata": {},
   "outputs": [],
   "source": [
    "# Load a YAML with the following 3 values (Optional)\n",
    "with open(\"config.yaml\", \"r\") as ymlfile:\n",
    "    cfg = Box(yaml.safe_load(ymlfile), default_box=True, default_box_attr=None)\n",
    "    \n",
    "API_KEY = cfg.API_KEY\n",
    "ZOT_ID  = cfg.ZOT_ID\n",
    "ZOT_KEY = cfg.ZOT_KEY"
   ]
  },
  {
   "cell_type": "code",
   "execution_count": null,
   "id": "753aa58d-d8b9-4a39-8847-102b8621185d",
   "metadata": {},
   "outputs": [],
   "source": [
    "# Instantiate a serpZot object for API management\n",
    "citeObj = pyserpZotero.serpZot(API_KEY       = API_KEY, \n",
    "                               ZOT_ID        = ZOT_ID, \n",
    "                               ZOT_KEY       = ZOT_KEY,\n",
    "                               DOWNLOAD_DEST = \".\" # Optional (for destinations other than the current directory)\n",
    "                            )"
   ]
  },
  {
   "cell_type": "code",
   "execution_count": null,
   "id": "958eeb00-0489-4261-b773-d7f407bc1dbe",
   "metadata": {},
   "outputs": [],
   "source": [
    "# Call the search method\n",
    "print(citeObj.searchScholar(TERM = \"unidentified anomalous phenom*\", MIN_YEAR = \"2000\"))\n",
    "print(\"This should've returned 0 (sucess)\")"
   ]
  },
  {
   "cell_type": "code",
   "execution_count": null,
   "id": "64216d85-0931-4de0-9a2e-f887d2f64303",
   "metadata": {},
   "outputs": [],
   "source": [
    "# Upload the parsed results\n",
    "print(citeObj.search2Zotero())"
   ]
  },
  {
   "cell_type": "code",
   "execution_count": null,
   "id": "7fb57a2c-ed14-422f-b99e-c24b256bd2b0",
   "metadata": {},
   "outputs": [],
   "source": [
    "# Clean Ugly Raw LaText (as Much as Possible)\n",
    "citeObj.cleanZot(ZOT_ID      = ZOT_ID, \n",
    "                 ZOT_KEY     = ZOT_KEY,\n",
    "                 SEARCH_TERM = \"\") # Search is optional - filters the Zotero items considered"
   ]
  },
  {
   "cell_type": "code",
   "execution_count": null,
   "id": "11974f98-b792-4f56-bcc1-bf51b4be0293",
   "metadata": {
    "scrolled": true,
    "tags": []
   },
   "outputs": [],
   "source": [
    "# Check Arxiv for Free PDFs of Papers and Attach / Upload Them To Zotero\n",
    "citeObj.arxivDownload()"
   ]
  },
  {
   "cell_type": "code",
   "execution_count": null,
   "id": "1085a514-df92-4f82-bf6b-bc6fc6da1ef1",
   "metadata": {},
   "outputs": [],
   "source": []
  }
 ],
 "metadata": {
  "kernelspec": {
   "display_name": "pyserpzotero",
   "language": "python",
   "name": "python3"
  },
  "language_info": {
   "codemirror_mode": {
    "name": "ipython",
    "version": 3
   },
   "file_extension": ".py",
   "mimetype": "text/x-python",
   "name": "python",
   "nbconvert_exporter": "python",
   "pygments_lexer": "ipython3",
   "version": "3.11.0"
  },
  "vscode": {
   "interpreter": {
    "hash": "32e30f83a52d50fbdbbd680052f9bd5c2c76b17249bcc6130aee9b01f9b6c18b"
   }
  }
 },
 "nbformat": 4,
 "nbformat_minor": 5
}
