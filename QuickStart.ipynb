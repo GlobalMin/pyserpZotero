{
 "cells": [
  {
   "cell_type": "code",
   "execution_count": 16,
   "id": "5720e1cb-8ad7-4cde-9744-5015080c9dc0",
   "metadata": {},
   "outputs": [
    {
     "name": "stdout",
     "output_type": "stream",
     "text": [
      "\u001b[33mDEPRECATION: Configuring installation scheme with distutils config files is deprecated and will no longer work in the near future. If you are using a Homebrew or Linuxbrew Python, please see discussion at https://github.com/Homebrew/homebrew-core/issues/76621\u001b[0m\u001b[33m\n",
      "\u001b[0mRequirement already satisfied: pyserpZotero in /usr/local/lib/python3.9/site-packages (1.0.5)\n",
      "\u001b[33mDEPRECATION: Configuring installation scheme with distutils config files is deprecated and will no longer work in the near future. If you are using a Homebrew or Linuxbrew Python, please see discussion at https://github.com/Homebrew/homebrew-core/issues/76621\u001b[0m\u001b[33m\n",
      "\u001b[0m\n",
      "\u001b[1m[\u001b[0m\u001b[34;49mnotice\u001b[0m\u001b[1;39;49m]\u001b[0m\u001b[39;49m A new release of pip available: \u001b[0m\u001b[31;49m22.2.2\u001b[0m\u001b[39;49m -> \u001b[0m\u001b[32;49m22.3.1\u001b[0m\n",
      "\u001b[1m[\u001b[0m\u001b[34;49mnotice\u001b[0m\u001b[1;39;49m]\u001b[0m\u001b[39;49m To update, run: \u001b[0m\u001b[32;49m/usr/local/opt/python@3.9/bin/python3.9 -m pip install --upgrade pip\u001b[0m\n"
     ]
    }
   ],
   "source": [
    "import sys\n",
    "\n",
    "!{sys.executable} -m pip install pyserpZotero"
   ]
  },
  {
   "cell_type": "code",
   "execution_count": 21,
   "id": "e76c4d3d-762c-4186-9e93-36afa0cbaacc",
   "metadata": {},
   "outputs": [],
   "source": [
    "import pyserpCite"
   ]
  },
  {
   "cell_type": "code",
   "execution_count": 26,
   "id": "d42589ff-8a60-4cff-939a-cb4751f64b66",
   "metadata": {},
   "outputs": [
    {
     "name": "stdout",
     "output_type": "stream",
     "text": [
      "Reminder: Make sure your Zotero key has write permissions.\n",
      "https://serpapi.com/search\n",
      "0\n",
      "This should've returned 0 (sucess)\n",
      "Now processing: SPbBJc-JaPIJ\n",
      "https://serpapi.com/search\n",
      "Van Voren, R. (2010). Political abuse of psychiatry—An historical overview. Schizophrenia bulletin, 36(1), 33-35.\n"
     ]
    },
    {
     "name": "stderr",
     "output_type": "stream",
     "text": [
      "  % Total    % Received % Xferd  Average Speed   Time    Time     Time  Current\n",
      "                                 Dload  Upload   Total   Spent    Left  Speed\n",
      "  0     0    0     0    0     0      0      0 --:--:-- --:--:-- --:--:--     0\n",
      "100   223  100   223    0     0    966      0 --:--:-- --:--:-- --:--:--  4955\n",
      "100   366    0   366    0     0    901      0 --:--:-- --:--:-- --:--:--   901\n"
     ]
    },
    {
     "name": "stdout",
     "output_type": "stream",
     "text": [
      "{'itemType': 'journalArticle', 'title': 'Political Abuse of Psychiatry--An Historical Overview', 'creators': [{'creatorType': 'author', 'firstName': 'R.', 'lastName': 'Voren'}], 'abstractNote': '', 'publicationTitle': 'Schizophrenia Bulletin', 'volume': '36', 'issue': '1', 'pages': '', 'date': '2009-11-01', 'series': '', 'seriesTitle': '', 'seriesText': '', 'journalAbbreviation': '', 'language': '', 'DOI': '10.1093/schbul/sbp119', 'ISSN': '', 'shortTitle': '', 'url': 'https://doi.org/10.1093%2Fschbul%2Fsbp119', 'accessDate': '2022-12-18', 'archive': '', 'archiveLocation': '', 'libraryCatalog': '', 'callNumber': '', 'rights': '', 'extra': '[]', 'tags': [], 'collections': [], 'relations': {}}\n",
      "Now processing: VX3KnsGWJ9sJ\n",
      "https://serpapi.com/search\n",
      "Buoli, M., & Giannuli, A. S. (2017). The political use of psychiatry: A comparison between totalitarian regimes. International Journal of Social Psychiatry, 63(2), 169-174.\n"
     ]
    },
    {
     "name": "stderr",
     "output_type": "stream",
     "text": [
      "  % Total    % Received % Xferd  Average Speed   Time    Time     Time  Current\n",
      "                                 Dload  Upload   Total   Spent    Left  Speed\n",
      "  0     0    0     0    0     0      0      0 --:--:-- --:--:-- --:--:--     0\n",
      "100   225  100   225    0     0    990      0 --:--:-- --:--:-- --:--:--     0\n",
      "100   428    0   428    0     0   1026      0 --:--:-- --:--:-- --:--:--  1026\n"
     ]
    },
    {
     "name": "stdout",
     "output_type": "stream",
     "text": [
      "{'itemType': 'journalArticle', 'title': 'The political use of psychiatry: A comparison between totalitarian regimes', 'creators': [{'creatorType': 'author', 'firstName': 'Massimiliano', 'lastName': 'Buoli'}, {'creatorType': 'author', 'firstName': 'Aldo', 'lastName': 'Giannuli'}], 'abstractNote': '', 'publicationTitle': 'International Journal of Social Psychiatry', 'volume': '63', 'issue': '2', 'pages': '', 'date': '2017-01-01', 'series': '', 'seriesTitle': '', 'seriesText': '', 'journalAbbreviation': '', 'language': '', 'DOI': '10.1177/0020764016688714', 'ISSN': '', 'shortTitle': '', 'url': 'https://doi.org/10.1177%2F0020764016688714', 'accessDate': '2022-12-18', 'archive': '', 'archiveLocation': '', 'libraryCatalog': '', 'callNumber': '', 'rights': '', 'extra': '[]', 'tags': [], 'collections': [], 'relations': {}}\n",
      "Now processing: UU7jXsCSZa8J\n",
      "https://serpapi.com/search\n",
      "Bloch, S., & Reddaway, P. (2019). Soviet psychiatric abuse: The shadow over world psychiatry. Routledge.\n"
     ]
    },
    {
     "name": "stderr",
     "output_type": "stream",
     "text": [
      "  % Total    % Received % Xferd  Average Speed   Time    Time     Time  Current\n",
      "                                 Dload  Upload   Total   Spent    Left  Speed\n",
      "  0     0    0     0    0     0      0      0 --:--:-- --:--:-- --:--:--     0\n",
      "100   219  100   219    0     0    574      0 --:--:-- --:--:-- --:--:--   574\n",
      "100   238    0   238    0     0    425      0 --:--:-- --:--:-- --:--:--  1776\n"
     ]
    },
    {
     "name": "stdout",
     "output_type": "stream",
     "text": [
      "{'itemType': 'journalArticle', 'title': 'Soviet Psychiatric Abuse', 'creators': [{'creatorType': 'author', 'firstName': 'Sidney', 'lastName': 'Bloch'}, {'creatorType': 'author', 'firstName': 'Peter', 'lastName': 'Reddaway'}], 'abstractNote': '', 'publicationTitle': '', 'volume': '', 'issue': '', 'pages': '', 'date': '2019-07-01', 'series': '', 'seriesTitle': '', 'seriesText': '', 'journalAbbreviation': '', 'language': '', 'DOI': '10.4324/9780429307119', 'ISSN': '', 'shortTitle': '', 'url': 'https://doi.org/10.4324%2F9780429307119', 'accessDate': '2022-12-18', 'archive': '', 'archiveLocation': '', 'libraryCatalog': '', 'callNumber': '', 'rights': '', 'extra': '[]', 'tags': [], 'collections': [], 'relations': {}}\n",
      "Now processing: o1bbT6R_cT8J\n",
      "https://serpapi.com/search\n",
      "Savelli, M., & Marks, S. (2015). Psychiatry in communist Europe. Palgrave Macmillan.\n"
     ]
    },
    {
     "name": "stderr",
     "output_type": "stream",
     "text": [
      "  % Total    % Received % Xferd  Average Speed   Time    Time     Time  Current\n",
      "                                 Dload  Upload   Total   Spent    Left  Speed\n",
      "  0     0    0     0    0     0      0      0 --:--:-- --:--:-- --:--:--     0\n",
      "100   237  100   237    0     0   1407      0 --:--:-- --:--:-- --:--:--  1407\n",
      "100   539    0   539    0     0   1538      0 --:--:-- --:--:-- --:--:--  1538\n"
     ]
    },
    {
     "name": "stdout",
     "output_type": "stream",
     "text": [
      "{'itemType': 'journalArticle', 'title': 'Psychiatry in Communist Europe - \\nPsychiatry in Communist Europe. Ed. Mat Savelli and Sarah Marks. Basingstoke: Palgrave Macmillan, 2015. xii, 222 pp. Index. Notes. Bibliography. Hard bound.', 'creators': [{'creatorType': 'author', 'firstName': 'Maria', 'lastName': 'Galmarini-Kabala'}], 'abstractNote': '', 'publicationTitle': 'Slavic Review', 'volume': '75', 'issue': '3', 'pages': '', 'date': '2016', 'series': '', 'seriesTitle': '', 'seriesText': '', 'journalAbbreviation': '', 'language': '', 'DOI': '10.5612/slavicreview.75.3.0745', 'ISSN': '', 'shortTitle': '', 'url': 'https://doi.org/10.5612%2Fslavicreview.75.3.0745', 'accessDate': '2022-12-18', 'archive': '', 'archiveLocation': '', 'libraryCatalog': '', 'callNumber': '', 'rights': '', 'extra': '[]', 'tags': [], 'collections': [], 'relations': {}}\n",
      "Now processing: Kedd58qKkAUJ\n",
      "https://serpapi.com/search\n",
      "Jargin, S. V. (2011). Some aspects of psychiatry in Russia. International Journal of Culture and Mental Health, 4(2), 116-120.\n"
     ]
    },
    {
     "name": "stderr",
     "output_type": "stream",
     "text": [
      "  % Total    % Received % Xferd  Average Speed   Time    Time     Time  Current\n",
      "                                 Dload  Upload   Total   Spent    Left  Speed\n",
      "  0     0    0     0    0     0      0      0 --:--:-- --:--:-- --:--:--     0\n",
      "100   233  100   233    0     0   1282      0 --:--:-- --:--:-- --:--:--  1282\n",
      "100   380    0   380    0     0   1028      0 --:--:-- --:--:-- --:--:--  1028\n"
     ]
    },
    {
     "name": "stdout",
     "output_type": "stream",
     "text": [
      "{'itemType': 'journalArticle', 'title': 'Some aspects of psychiatry in Russia', 'creators': [{'creatorType': 'author', 'firstName': 'Sergei', 'lastName': 'Jargin'}], 'abstractNote': '', 'publicationTitle': 'International Journal of Culture and Mental Health', 'volume': '4', 'issue': '2', 'pages': '', 'date': '2011-12-01', 'series': '', 'seriesTitle': '', 'seriesText': '', 'journalAbbreviation': '', 'language': '', 'DOI': '10.1080/17542863.2010.519485', 'ISSN': '', 'shortTitle': '', 'url': 'https://doi.org/10.1080%2F17542863.2010.519485', 'accessDate': '2022-12-18', 'archive': '', 'archiveLocation': '', 'libraryCatalog': '', 'callNumber': '', 'rights': '', 'extra': '[]', 'tags': [], 'collections': [], 'relations': {}}\n",
      "Now processing: My809lkSJmQJ\n",
      "https://serpapi.com/search\n",
      "Zajicek, B. (2015). Insulin Coma Therapy and the Construction of Therapeutic Effectiveness in Stalin’s Soviet Union, 1936–1953. In Psychiatry in communist Europe (pp. 50-72). Palgrave Macmillan, London.\n"
     ]
    },
    {
     "name": "stderr",
     "output_type": "stream",
     "text": [
      "  % Total    % Received % Xferd  Average Speed   Time    Time     Time  Current\n",
      "                                 Dload  Upload   Total   Spent    Left  Speed\n",
      "  0     0    0     0    0     0      0      0 --:--:-- --:--:-- --:--:--     0\n",
      "100   231  100   231    0     0   1454      0 --:--:-- --:--:-- --:--:--  1454\n",
      "100   403    0   403    0     0   1202      0 --:--:-- --:--:-- --:--:--     0\n"
     ]
    },
    {
     "name": "stdout",
     "output_type": "stream",
     "text": [
      "{'itemType': 'journalArticle', 'title': \"Insulin Coma Therapy and the Construction of Therapeutic Effectiveness in Stalin's Soviet Union, 1936{\\\\textendash}1953\", 'creators': [{'creatorType': 'author', 'firstName': 'Benjamin', 'lastName': 'Zajicek'}], 'abstractNote': '', 'publicationTitle': '', 'volume': '', 'issue': '', 'pages': '', 'date': '2015', 'series': '', 'seriesTitle': '', 'seriesText': '', 'journalAbbreviation': '', 'language': '', 'DOI': '10.1007/978-1-137-49092-6_3', 'ISSN': '', 'shortTitle': '', 'url': 'https://doi.org/10.1007%2F978-1-137-49092-6_3', 'accessDate': '2022-12-18', 'archive': '', 'archiveLocation': '', 'libraryCatalog': '', 'callNumber': '', 'rights': '', 'extra': '[]', 'tags': [], 'collections': [], 'relations': {}}\n",
      "Now processing: m0_7iLecnVMJ\n",
      "https://serpapi.com/search\n",
      "N. Krasnov, V., & Gurovich, I. (2012). History and current condition of Russian psychiatry. International Review of Psychiatry, 24(4), 328-333.\n"
     ]
    },
    {
     "name": "stderr",
     "output_type": "stream",
     "text": [
      "  % Total    % Received % Xferd  Average Speed   Time    Time     Time  Current\n",
      "                                 Dload  Upload   Total   Spent    Left  Speed\n",
      "  0     0    0     0    0     0      0      0 --:--:-- --:--:-- --:--:--     0\n",
      "100   233  100   233    0     0   1011      0 --:--:-- --:--:-- --:--:--  1011\n",
      "100   403    0   403    0     0   1014      0 --:--:-- --:--:-- --:--:--  1014\n"
     ]
    },
    {
     "name": "stdout",
     "output_type": "stream",
     "text": [
      "{'itemType': 'journalArticle', 'title': 'History and current condition of Russian psychiatry', 'creators': [{'creatorType': 'author', 'firstName': 'Valery', 'lastName': 'Krasnov'}, {'creatorType': 'author', 'firstName': 'Isaak', 'lastName': 'Gurovich'}], 'abstractNote': '', 'publicationTitle': 'International Review of Psychiatry', 'volume': '24', 'issue': '4', 'pages': '', 'date': '2012-08-01', 'series': '', 'seriesTitle': '', 'seriesText': '', 'journalAbbreviation': '', 'language': '', 'DOI': '10.3109/09540261.2012.694857', 'ISSN': '', 'shortTitle': '', 'url': 'https://doi.org/10.3109%2F09540261.2012.694857', 'accessDate': '2022-12-18', 'archive': '', 'archiveLocation': '', 'libraryCatalog': '', 'callNumber': '', 'rights': '', 'extra': '[]', 'tags': [], 'collections': [], 'relations': {}}\n",
      "Now processing: _iMU2mXI_T0J\n",
      "https://serpapi.com/search\n",
      "Targum, S. D., Chaban, O., & Mykhnyak, S. (2013). Psychiatry in the Ukraine. Innovations in Clinical Neuroscience, 10(4), 41.\n"
     ]
    },
    {
     "name": "stderr",
     "output_type": "stream",
     "text": [
      "/bin/sh: -c: line 0: syntax error near unexpected token `('\n",
      "/bin/sh: -c: line 0: `curl -LH \"Accept: application/x-bibtex\" http://dx.doi.org/10.1016/s0270-6644(13)70030-4'\n"
     ]
    },
    {
     "name": "stdout",
     "output_type": "stream",
     "text": [
      "Now processing: UavR4h-vAMoJ\n",
      "https://serpapi.com/search\n",
      "Zajicek, B. (2014). Soviet madness: Nervousness, mild schizophrenia, and the professional jurisdiction of psychiatry in the USSR, 1918–1936. Ab Imperio, 2014(4), 167-194.\n"
     ]
    },
    {
     "name": "stderr",
     "output_type": "stream",
     "text": [
      "  % Total    % Received % Xferd  Average Speed   Time    Time     Time  Current\n",
      "                                 Dload  Upload   Total   Spent    Left  Speed\n",
      "  0     0    0     0    0     0      0      0 --:--:-- --:--:-- --:--:--     0\n",
      "100   219  100   219    0     0   1165      0 --:--:-- --:--:-- --:--:--  1165\n",
      "100   403    0   403    0     0   1059      0 --:--:-- --:--:-- --:--:--  1059\n"
     ]
    },
    {
     "name": "stdout",
     "output_type": "stream",
     "text": [
      "{'itemType': 'journalArticle', 'title': 'Soviet Madness: Nervousness, Mild Schizophrenia, and the Professional Jurisdiction of Psychiatry in the {USSR}, 1918{\\\\textendash}1936', 'creators': [{'creatorType': 'author', 'firstName': 'Benjamin', 'lastName': 'Zajicek'}], 'abstractNote': '', 'publicationTitle': 'Ab Imperio', 'volume': '2014', 'issue': '4', 'pages': '', 'date': '2014', 'series': '', 'seriesTitle': '', 'seriesText': '', 'journalAbbreviation': '', 'language': '', 'DOI': '10.1353/imp.2014.0096', 'ISSN': '', 'shortTitle': '', 'url': 'https://doi.org/10.1353%2Fimp.2014.0096', 'accessDate': '2022-12-18', 'archive': '', 'archiveLocation': '', 'libraryCatalog': '', 'callNumber': '', 'rights': '', 'extra': '[]', 'tags': [], 'collections': [], 'relations': {}}\n",
      "Now processing: DNZZpYepUQsJ\n",
      "https://serpapi.com/search\n",
      "van Voren, R. (2016). Ending political abuse of psychiatry: Where we are at and what needs to be done. BJPsych bulletin, 40(1), 30-33.\n"
     ]
    },
    {
     "name": "stderr",
     "output_type": "stream",
     "text": [
      "  % Total    % Received % Xferd  Average Speed   Time    Time     Time  Current\n",
      "                                 Dload  Upload   Total   Spent    Left  Speed\n",
      "  0     0    0     0    0     0      0      0 --:--:-- --:--:-- --:--:--     0\n",
      "100   225  100   225    0     0   1318      0 --:--:-- --:--:-- --:--:--  1318\n",
      "100   395    0   395    0     0   1127      0 --:--:-- --:--:-- --:--:--  1127\n"
     ]
    },
    {
     "name": "stdout",
     "output_type": "stream",
     "text": [
      "{'itemType': 'journalArticle', 'title': 'Ending political abuse of psychiatry: where we are at and what needs to be done', 'creators': [{'creatorType': 'author', 'firstName': 'Robert', 'lastName': 'Voren'}], 'abstractNote': '', 'publicationTitle': '{BJPsych} Bulletin', 'volume': '40', 'issue': '1', 'pages': '', 'date': '2016-02-01', 'series': '', 'seriesTitle': '', 'seriesText': '', 'journalAbbreviation': '', 'language': '', 'DOI': '10.1192/pb.bp.114.049494', 'ISSN': '', 'shortTitle': '', 'url': 'https://doi.org/10.1192%2Fpb.bp.114.049494', 'accessDate': '2022-12-18', 'archive': '', 'archiveLocation': '', 'libraryCatalog': '', 'callNumber': '', 'rights': '', 'extra': '[]', 'tags': [], 'collections': [], 'relations': {}}\n",
      "Now processing: oO5v04kzpSIJ\n",
      "https://serpapi.com/search\n",
      "Ullmann, E., Barthel, A., Licinio, J., Petrowski, K., Bornstein, S. R., & Strauß, B. (2013). Increased rate of depression and psychosomatic symptoms in Jewish migrants from the post-Soviet-Union to Germany in the 3rd generation after the Shoa. Translational psychiatry, 3(3), e241-e241.\n"
     ]
    },
    {
     "name": "stderr",
     "output_type": "stream",
     "text": [
      "  % Total    % Received % Xferd  Average Speed   Time    Time     Time  Current\n",
      "                                 Dload  Upload   Total   Spent    Left  Speed\n",
      "  0     0    0     0    0     0      0      0 --:--:-- --:--:-- --:--:--     0\n",
      "100   213  100   213    0     0   1159      0 --:--:-- --:--:-- --:--:--  1159\n",
      "100   543    0   543    0     0   1477      0 --:--:-- --:--:-- --:--:--  1477\n"
     ]
    },
    {
     "name": "stdout",
     "output_type": "stream",
     "text": [
      "{'itemType': 'journalArticle', 'title': 'Increased rate of depression and psychosomatic symptoms in Jewish migrants from the post-Soviet-Union to Germany in the 3rd generation after the Shoa', 'creators': [{'creatorType': 'author', 'firstName': 'E', 'lastName': 'Ullmann'}, {'creatorType': 'author', 'firstName': 'A', 'lastName': 'Barthel'}, {'creatorType': 'author', 'firstName': 'J', 'lastName': 'Licinio'}, {'creatorType': 'author', 'firstName': 'K', 'lastName': 'Petrowski'}, {'creatorType': 'author', 'firstName': 'S', 'lastName': 'Bornstein'}, {'creatorType': 'author', 'firstName': 'B', 'lastName': 'Strau{\\\\ss}'}], 'abstractNote': '', 'publicationTitle': 'Translational Psychiatry', 'volume': '3', 'issue': '3', 'pages': '', 'date': '2013-03-01', 'series': '', 'seriesTitle': '', 'seriesText': '', 'journalAbbreviation': '', 'language': '', 'DOI': '10.1038/tp.2013.17', 'ISSN': '', 'shortTitle': '', 'url': 'https://doi.org/10.1038%2Ftp.2013.17', 'accessDate': '2022-12-18', 'archive': '', 'archiveLocation': '', 'libraryCatalog': '', 'callNumber': '', 'rights': '', 'extra': '[]', 'tags': [], 'collections': [], 'relations': {}}\n",
      "Now processing: E7M_g8klO0gJ\n",
      "https://serpapi.com/search\n",
      "Romach, M. K., & Rutka, J. T. (2018). Building healthcare capacity in pediatric neurosurgery and psychiatry in a post-Soviet system: Ukraine. World Neurosurgery, 111, 166-174.\n"
     ]
    },
    {
     "name": "stderr",
     "output_type": "stream",
     "text": [
      "  % Total    % Received % Xferd  Average Speed   Time    Time     Time  Current\n",
      "                                 Dload  Upload   Total   Spent    Left  Speed\n",
      "  0     0    0     0    0     0      0      0 --:--:-- --:--:-- --:--:--     0\n",
      "100   229  100   229    0     0   1299      0 --:--:-- --:--:-- --:--:--  1299\n",
      "100   412    0   412    0     0   1173      0 --:--:-- --:--:-- --:--:--  1173\n"
     ]
    },
    {
     "name": "stdout",
     "output_type": "stream",
     "text": [
      "{'itemType': 'journalArticle', 'title': 'Building Healthcare Capacity in Pediatric Neurosurgery and Psychiatry in a Post-Soviet System: Ukraine', 'creators': [{'creatorType': 'author', 'firstName': 'Myroslava', 'lastName': 'Romach'}, {'creatorType': 'author', 'firstName': 'James', 'lastName': 'Rutka'}], 'abstractNote': '', 'publicationTitle': 'World Neurosurgery', 'volume': '111', 'issue': '', 'pages': '', 'date': '2018-03-01', 'series': '', 'seriesTitle': '', 'seriesText': '', 'journalAbbreviation': '', 'language': '', 'DOI': '10.1016/j.wneu.2017.11.178', 'ISSN': '', 'shortTitle': '', 'url': 'https://doi.org/10.1016%2Fj.wneu.2017.11.178', 'accessDate': '2022-12-18', 'archive': '', 'archiveLocation': '', 'libraryCatalog': '', 'callNumber': '', 'rights': '', 'extra': '[]', 'tags': [], 'collections': [], 'relations': {}}\n",
      "Now processing: pXPOC_hFvUgJ\n",
      "https://serpapi.com/search\n",
      "Dufaud, G., & Rzesnitzek, L. (2016). Soviet psychiatry through the prism of circulation: the case of outpatient psychiatry in the interwar period. Kritika: Explorations in Russian and Eurasian History, 17(4), 781-803.\n"
     ]
    },
    {
     "name": "stderr",
     "output_type": "stream",
     "text": [
      "  % Total    % Received % Xferd  Average Speed   Time    Time     Time  Current\n",
      "                                 Dload  Upload   Total   Spent    Left  Speed\n",
      "  0     0    0     0    0     0      0      0 --:--:-- --:--:-- --:--:--     0\n",
      "100   219  100   219    0     0    985      0 --:--:-- --:--:-- --:--:--   985\n",
      "100   442    0   442    0     0   1081      0 --:--:-- --:--:-- --:--:--  1081\n"
     ]
    },
    {
     "name": "stdout",
     "output_type": "stream",
     "text": [
      "{'itemType': 'journalArticle', 'title': 'Soviet Psychiatry through the Prism of Circulation: The Case of Outpatient Psychiatry in the Interwar Period', 'creators': [{'creatorType': 'author', 'firstName': \"Gr{\\\\'{e}}gory\", 'lastName': 'Dufaud'}, {'creatorType': 'author', 'firstName': 'Lara', 'lastName': 'Rzesnitzek'}], 'abstractNote': '', 'publicationTitle': 'Kritika: Explorations in Russian and Eurasian History', 'volume': '17', 'issue': '4', 'pages': '', 'date': '2016', 'series': '', 'seriesTitle': '', 'seriesText': '', 'journalAbbreviation': '', 'language': '', 'DOI': '10.1353/kri.2016.0049', 'ISSN': '', 'shortTitle': '', 'url': 'https://doi.org/10.1353%2Fkri.2016.0049', 'accessDate': '2022-12-18', 'archive': '', 'archiveLocation': '', 'libraryCatalog': '', 'callNumber': '', 'rights': '', 'extra': '[]', 'tags': [], 'collections': [], 'relations': {}}\n",
      "Now processing: lpTeoHRkYUwJ\n",
      "https://serpapi.com/search\n",
      "Knaifel, E., & Mirsky, J. (2015). Interplay of identities: A narrative study of self-perceptions among immigrants with severe mental illness from the former Soviet Union. Transcultural Psychiatry, 52(1), 74-95.\n"
     ]
    },
    {
     "name": "stderr",
     "output_type": "stream",
     "text": [
      "  % Total    % Received % Xferd  Average Speed   Time    Time     Time  Current\n",
      "                                 Dload  Upload   Total   Spent    Left  Speed\n",
      "  0     0    0     0    0     0      0      0 --:--:-- --:--:-- --:--:--     0\n",
      "100   225  100   225    0     0   1229      0 --:--:-- --:--:-- --:--:--  1229\n",
      "100   459    0   459    0     0   1284      0 --:--:-- --:--:-- --:--:--  1284\n"
     ]
    },
    {
     "name": "stdout",
     "output_type": "stream",
     "text": [
      "{'itemType': 'journalArticle', 'title': 'Interplay of identities: A narrative study of self-perceptions among immigrants with severe mental illness from the former Soviet Union', 'creators': [{'creatorType': 'author', 'firstName': 'Evgeny', 'lastName': 'Knaifel'}, {'creatorType': 'author', 'firstName': 'Julia', 'lastName': 'Mirsky'}], 'abstractNote': '', 'publicationTitle': 'Transcultural Psychiatry', 'volume': '52', 'issue': '1', 'pages': '', 'date': '2014-10-01', 'series': '', 'seriesTitle': '', 'seriesText': '', 'journalAbbreviation': '', 'language': '', 'DOI': '10.1177/1363461514552585', 'ISSN': '', 'shortTitle': '', 'url': 'https://doi.org/10.1177%2F1363461514552585', 'accessDate': '2022-12-18', 'archive': '', 'archiveLocation': '', 'libraryCatalog': '', 'callNumber': '', 'rights': '', 'extra': '[]', 'tags': [], 'collections': [], 'relations': {}}\n",
      "Now processing: _eTkhL4m3jAJ\n",
      "https://serpapi.com/search\n",
      "Reich, R. (2018). State of madness: Psychiatry, literature, and dissent after Stalin. Northern Illinois University Press.\n"
     ]
    },
    {
     "name": "stderr",
     "output_type": "stream",
     "text": [
      "  % Total    % Received % Xferd  Average Speed   Time    Time     Time  Current\n",
      "                                 Dload  Upload   Total   Spent    Left  Speed\n",
      "  0     0    0     0    0     0      0      0 --:--:-- --:--:-- --:--:--     0\n",
      "100   219  100   219    0     0   1257      0 --:--:-- --:--:-- --:--:--  1257\n",
      "100   227    0   227    0     0    625      0 --:--:-- --:--:-- --:--:--   625\n"
     ]
    },
    {
     "name": "stdout",
     "output_type": "stream",
     "text": [
      "{'itemType': 'journalArticle', 'title': 'State of Madness', 'creators': [{'creatorType': 'author', 'firstName': 'Rebecca', 'lastName': 'Reich'}], 'abstractNote': '', 'publicationTitle': '', 'volume': '', 'issue': '', 'pages': '', 'date': '2018-01-01', 'series': '', 'seriesTitle': '', 'seriesText': '', 'journalAbbreviation': '', 'language': '', 'DOI': '10.1515/9781501757600', 'ISSN': '', 'shortTitle': '', 'url': 'https://doi.org/10.1515%2F9781501757600', 'accessDate': '2022-12-18', 'archive': '', 'archiveLocation': '', 'libraryCatalog': '', 'callNumber': '', 'rights': '', 'extra': '[]', 'tags': [], 'collections': [], 'relations': {}}\n",
      "Now processing: SwH7i39PhBoJ\n",
      "https://serpapi.com/search\n",
      "Narayan, C. L. (2013). Political abuse of psychiatry. Indian journal of psychiatry, 55(1), 96.\n"
     ]
    },
    {
     "name": "stderr",
     "output_type": "stream",
     "text": [
      "  % Total    % Received % Xferd  Average Speed   Time    Time     Time  Current\n",
      "                                 Dload  Upload   Total   Spent    Left  Speed\n",
      "  0     0    0     0    0     0      0      0 --:--:-- --:--:-- --:--:--     0\n",
      "100   225  100   225    0     0   1229      0 --:--:-- --:--:-- --:--:--  1229\n",
      "100   316    0   316    0     0    877      0 --:--:-- --:--:-- --:--:--   877\n"
     ]
    },
    {
     "name": "stdout",
     "output_type": "stream",
     "text": [
      "{'itemType': 'journalArticle', 'title': 'Political abuse of psychiatry', 'creators': [{'creatorType': 'author', 'firstName': 'ChoudharyLaxmi', 'lastName': 'Narayan'}], 'abstractNote': '', 'publicationTitle': 'Indian Journal of Psychiatry', 'volume': '55', 'issue': '1', 'pages': '', 'date': '2013', 'series': '', 'seriesTitle': '', 'seriesText': '', 'journalAbbreviation': '', 'language': '', 'DOI': '10.4103/0019-5545.105529', 'ISSN': '', 'shortTitle': '', 'url': 'https://doi.org/10.4103%2F0019-5545.105529', 'accessDate': '2022-12-18', 'archive': '', 'archiveLocation': '', 'libraryCatalog': '', 'callNumber': '', 'rights': '', 'extra': '[]', 'tags': [], 'collections': [], 'relations': {}}\n",
      "Now processing: kyW4nIifIj4J\n",
      "https://serpapi.com/search\n",
      "Zajicek, B. (2017). Banning the Soviet lobotomy: Psychiatry, ethics, and professional politics during late Stalinism. Bulletin of the History of Medicine, 91(1), 33-61.\n"
     ]
    },
    {
     "name": "stderr",
     "output_type": "stream",
     "text": [
      "  % Total    % Received % Xferd  Average Speed   Time    Time     Time  Current\n",
      "                                 Dload  Upload   Total   Spent    Left  Speed\n",
      "  0     0    0     0    0     0      0      0 --:--:-- --:--:-- --:--:--     0\n",
      "100   219  100   219    0     0   1158      0 --:--:-- --:--:-- --:--:--  1158\n",
      "100   387    0   387    0     0   1068      0 --:--:-- --:--:-- --:--:--  1068\n"
     ]
    },
    {
     "name": "stdout",
     "output_type": "stream",
     "text": [
      "{'itemType': 'journalArticle', 'title': 'Banning the Soviet Lobotomy: Psychiatry, Ethics, and Professional Politics during Late Stalinism', 'creators': [{'creatorType': 'author', 'firstName': 'Benjamin', 'lastName': 'Zajicek'}], 'abstractNote': '', 'publicationTitle': 'Bulletin of the History of Medicine', 'volume': '91', 'issue': '1', 'pages': '', 'date': '2017', 'series': '', 'seriesTitle': '', 'seriesText': '', 'journalAbbreviation': '', 'language': '', 'DOI': '10.1353/bhm.2017.0002', 'ISSN': '', 'shortTitle': '', 'url': 'https://doi.org/10.1353%2Fbhm.2017.0002', 'accessDate': '2022-12-18', 'archive': '', 'archiveLocation': '', 'libraryCatalog': '', 'callNumber': '', 'rights': '', 'extra': '[]', 'tags': [], 'collections': [], 'relations': {}}\n",
      "Now processing: ZObFEqJZ7gwJ\n",
      "https://serpapi.com/search\n",
      "Voren, R. V. (2010). Abuse of psychiatry for political purposes in the USSR: A case-study and personal account of the efforts to bring them to an end. In Ethics in Psychiatry (pp. 489-507). Springer, Dordrecht.\n"
     ]
    },
    {
     "name": "stderr",
     "output_type": "stream",
     "text": [
      "  % Total    % Received % Xferd  Average Speed   Time    Time     Time  Current\n",
      "                                 Dload  Upload   Total   Spent    Left  Speed\n",
      "  0     0    0     0    0     0      0      0 --:--:-- --:--:-- --:--:--     0\n",
      "100   233  100   233    0     0   1259      0 --:--:-- --:--:-- --:--:--  1259\n",
      "100   408    0   408    0     0   1112      0 --:--:-- --:--:-- --:--:--  1112\n"
     ]
    },
    {
     "name": "stdout",
     "output_type": "stream",
     "text": [
      "{'itemType': 'journalArticle', 'title': 'Abuse of Psychiatry for Political Purposes in the {USSR}: A Case-Study and Personal Account of the Efforts to Bring Them to an End', 'creators': [{'creatorType': 'author', 'firstName': 'Robert', 'lastName': 'Voren'}], 'abstractNote': '', 'publicationTitle': '', 'volume': '', 'issue': '', 'pages': '', 'date': '2010', 'series': '', 'seriesTitle': '', 'seriesText': '', 'journalAbbreviation': '', 'language': '', 'DOI': '10.1007/978-90-481-8721-8_29', 'ISSN': '', 'shortTitle': '', 'url': 'https://doi.org/10.1007%2F978-90-481-8721-8_29', 'accessDate': '2022-12-18', 'archive': '', 'archiveLocation': '', 'libraryCatalog': '', 'callNumber': '', 'rights': '', 'extra': '[]', 'tags': [], 'collections': [], 'relations': {}}\n",
      "Now processing: U1prZRlt2IEJ\n",
      "https://serpapi.com/search\n",
      "Healey, D. (2014). Russian and Soviet forensic psychiatry: Troubled and troubling. International Journal of Law and Psychiatry, 37(1), 71-81.\n"
     ]
    },
    {
     "name": "stderr",
     "output_type": "stream",
     "text": [
      "  % Total    % Received % Xferd  Average Speed   Time    Time     Time  Current\n",
      "                                 Dload  Upload   Total   Spent    Left  Speed\n",
      "  0     0    0     0    0     0      0      0 --:--:-- --:--:-- --:--:--     0\n",
      "100   229  100   229    0     0   1232      0 --:--:-- --:--:-- --:--:--  1232\n",
      "100   381    0   381    0     0    962      0 --:--:-- --:--:-- --:--:--   962\n"
     ]
    },
    {
     "name": "stdout",
     "output_type": "stream",
     "text": [
      "{'itemType': 'journalArticle', 'title': 'Russian and Soviet forensic psychiatry: Troubled and troubling', 'creators': [{'creatorType': 'author', 'firstName': 'Dan', 'lastName': 'Healey'}], 'abstractNote': '', 'publicationTitle': 'International Journal of Law and Psychiatry', 'volume': '37', 'issue': '1', 'pages': '', 'date': '2014-01-01', 'series': '', 'seriesTitle': '', 'seriesText': '', 'journalAbbreviation': '', 'language': '', 'DOI': '10.1016/j.ijlp.2013.09.007', 'ISSN': '', 'shortTitle': '', 'url': 'https://doi.org/10.1016%2Fj.ijlp.2013.09.007', 'accessDate': '2022-12-18', 'archive': '', 'archiveLocation': '', 'libraryCatalog': '', 'callNumber': '', 'rights': '', 'extra': '[]', 'tags': [], 'collections': [], 'relations': {}}\n",
      "Now processing: -NbWH7lqnn8J\n",
      "https://serpapi.com/search\n",
      "Deckert, A., Winkler, V., Meisinger, C., Heier, M., & Becher, H. (2015). Suicide and external mortality pattern in a cohort of migrants from the former Soviet Union to Germany. Journal of psychiatric research, 63, 36-42.\n"
     ]
    },
    {
     "name": "stderr",
     "output_type": "stream",
     "text": [
      "  % Total    % Received % Xferd  Average Speed   Time    Time     Time  Current\n",
      "                                 Dload  Upload   Total   Spent    Left  Speed\n",
      "  0     0    0     0    0     0      0      0 --:--:-- --:--:-- --:--:--     0\n",
      "100   241  100   241    0     0   1477      0 --:--:-- --:--:-- --:--:--  1477\n",
      "100   487    0   487    0     0   1387      0 --:--:-- --:--:-- --:--:--  1387\n"
     ]
    },
    {
     "name": "stdout",
     "output_type": "stream",
     "text": [
      "{'itemType': 'journalArticle', 'title': 'Suicide and external mortality pattern in a cohort of migrants from the former Soviet Union to Germany', 'creators': [{'creatorType': 'author', 'firstName': 'Andreas', 'lastName': 'Deckert'}, {'creatorType': 'author', 'firstName': 'Volker', 'lastName': 'Winkler'}, {'creatorType': 'author', 'firstName': 'Christa', 'lastName': 'Meisinger'}, {'creatorType': 'author', 'firstName': 'Margit', 'lastName': 'Heier'}, {'creatorType': 'author', 'firstName': 'Heiko', 'lastName': 'Becher'}], 'abstractNote': '', 'publicationTitle': 'Journal of Psychiatric Research', 'volume': '63', 'issue': '', 'pages': '', 'date': '2015-04-01', 'series': '', 'seriesTitle': '', 'seriesText': '', 'journalAbbreviation': '', 'language': '', 'DOI': '10.1016/j.jpsychires.2015.02.020', 'ISSN': '', 'shortTitle': '', 'url': 'https://doi.org/10.1016%2Fj.jpsychires.2015.02.020', 'accessDate': '2022-12-18', 'archive': '', 'archiveLocation': '', 'libraryCatalog': '', 'callNumber': '', 'rights': '', 'extra': '[]', 'tags': [], 'collections': [], 'relations': {}}\n",
      "0\n",
      "https://serpapi.com/search\n",
      "0\n",
      "This should've returned 0 (sucess)\n",
      "Now processing: gSAdFKx5fX4J\n",
      "https://serpapi.com/search\n",
      "Van Voren, R. (2013). Psychiatry as a tool for coercion in post-Soviet countries.\n"
     ]
    },
    {
     "name": "stderr",
     "output_type": "stream",
     "text": [
      "  % Total    % Received % Xferd  Average Speed   Time    Time     Time  Current\n",
      "                                 Dload  Upload   Total   Spent    Left  Speed\n",
      "  0     0    0     0    0     0      0      0 --:--:-- --:--:-- --:--:--     0\n",
      "100   227  100   227    0     0   1348      0 --:--:-- --:--:-- --:--:--     0\n",
      "100   386    0   386    0     0   1138      0 --:--:-- --:--:-- --:--:--  1138\n"
     ]
    },
    {
     "name": "stdout",
     "output_type": "stream",
     "text": [
      "{'itemType': 'journalArticle', 'title': 'Coercion in psychiatry: still an instrument of political misuse?', 'creators': [{'creatorType': 'author', 'firstName': 'Rob', 'lastName': 'Keukens'}, {'creatorType': 'author', 'firstName': 'Robert', 'lastName': 'Voren'}], 'abstractNote': '', 'publicationTitle': '{BMC} Psychiatry', 'volume': '7', 'issue': 'S1', 'pages': '', 'date': '2007-12-01', 'series': '', 'seriesTitle': '', 'seriesText': '', 'journalAbbreviation': '', 'language': '', 'DOI': '10.1186/1471-244x-7-s1-s4', 'ISSN': '', 'shortTitle': '', 'url': 'https://doi.org/10.1186%2F1471-244x-7-s1-s4', 'accessDate': '2022-12-18', 'archive': '', 'archiveLocation': '', 'libraryCatalog': '', 'callNumber': '', 'rights': '', 'extra': '[]', 'tags': [], 'collections': [], 'relations': {}}\n",
      "Now processing: LTv2wNFsLusJ\n",
      "https://serpapi.com/search\n",
      "Park, Y. S., Park, S. M., Jun, J. Y., & Kim, S. J. (2014). Psychiatry in former socialist countries: implications for North Korean psychiatry. Psychiatry investigation, 11(4), 363.\n"
     ]
    },
    {
     "name": "stderr",
     "output_type": "stream",
     "text": [
      "  % Total    % Received % Xferd  Average Speed   Time    Time     Time  Current\n",
      "                                 Dload  Upload   Total   Spent    Left  Speed\n",
      "  0     0    0     0    0     0      0      0 --:--:-- --:--:-- --:--:--     0\n",
      "100   225  100   225    0     0   1215      0 --:--:-- --:--:-- --:--:--  1215\n",
      "100   433    0   433    0     0   1153      0 --:--:-- --:--:-- --:--:--  1153\n"
     ]
    },
    {
     "name": "stdout",
     "output_type": "stream",
     "text": [
      "{'itemType': 'journalArticle', 'title': 'Psychiatry in Former Socialist Countries: Implications for North Korean Psychiatry', 'creators': [{'creatorType': 'author', 'firstName': 'Young', 'lastName': 'Park'}, {'creatorType': 'author', 'firstName': 'Sang', 'lastName': 'Park'}, {'creatorType': 'author', 'firstName': 'Jin', 'lastName': 'Jun'}, {'creatorType': 'author', 'firstName': 'Seog', 'lastName': 'Kim'}], 'abstractNote': '', 'publicationTitle': 'Psychiatry Investigation', 'volume': '11', 'issue': '4', 'pages': '', 'date': '2014', 'series': '', 'seriesTitle': '', 'seriesText': '', 'journalAbbreviation': '', 'language': '', 'DOI': '10.4306/pi.2014.11.4.363', 'ISSN': '', 'shortTitle': '', 'url': 'https://doi.org/10.4306%2Fpi.2014.11.4.363', 'accessDate': '2022-12-18', 'archive': '', 'archiveLocation': '', 'libraryCatalog': '', 'callNumber': '', 'rights': '', 'extra': '[]', 'tags': [], 'collections': [], 'relations': {}}\n",
      "Now processing: WJnYyCQ69BgJ\n",
      "https://serpapi.com/search\n",
      "Corson, S. (Ed.). (2012). Psychiatry and Psychology in the USSR. Springer Science & Business Media.\n"
     ]
    },
    {
     "name": "stderr",
     "output_type": "stream",
     "text": [
      "  % Total    % Received % Xferd  Average Speed   Time    Time     Time  Current\n",
      "                                 Dload  Upload   Total   Spent    Left  Speed\n",
      "  0     0    0     0    0     0      0      0 --:--:-- --:--:-- --:--:--     0\n",
      "100   227  100   227    0     0   1011      0 --:--:-- --:--:-- --:--:--  1011\n",
      "100   257    0   257    0     0    616      0 --:--:-- --:--:-- --:--:--   616\n"
     ]
    },
    {
     "name": "stdout",
     "output_type": "stream",
     "text": [
      "Now processing: UavR4h-vAMoJ\n",
      "https://serpapi.com/search\n",
      "Zajicek, B. (2014). Soviet madness: Nervousness, mild schizophrenia, and the professional jurisdiction of psychiatry in the USSR, 1918–1936. Ab Imperio, 2014(4), 167-194.\n"
     ]
    },
    {
     "name": "stderr",
     "output_type": "stream",
     "text": [
      "  % Total    % Received % Xferd  Average Speed   Time    Time     Time  Current\n",
      "                                 Dload  Upload   Total   Spent    Left  Speed\n",
      "  0     0    0     0    0     0      0      0 --:--:-- --:--:-- --:--:--     0\n",
      "100   219  100   219    0     0   1278      0 --:--:-- --:--:-- --:--:--  1278\n",
      "100   403    0   403    0     0   1156      0 --:--:-- --:--:-- --:--:--  1156\n"
     ]
    },
    {
     "name": "stdout",
     "output_type": "stream",
     "text": [
      "{'itemType': 'journalArticle', 'title': 'Soviet Madness: Nervousness, Mild Schizophrenia, and the Professional Jurisdiction of Psychiatry in the {USSR}, 1918{\\\\textendash}1936', 'creators': [{'creatorType': 'author', 'firstName': 'Benjamin', 'lastName': 'Zajicek'}], 'abstractNote': '', 'publicationTitle': 'Ab Imperio', 'volume': '2014', 'issue': '4', 'pages': '', 'date': '2014', 'series': '', 'seriesTitle': '', 'seriesText': '', 'journalAbbreviation': '', 'language': '', 'DOI': '10.1353/imp.2014.0096', 'ISSN': '', 'shortTitle': '', 'url': 'https://doi.org/10.1353%2Fimp.2014.0096', 'accessDate': '2022-12-18', 'archive': '', 'archiveLocation': '', 'libraryCatalog': '', 'callNumber': '', 'rights': '', 'extra': '[]', 'tags': [], 'collections': [], 'relations': {}}\n",
      "Now processing: ZObFEqJZ7gwJ\n",
      "https://serpapi.com/search\n",
      "Voren, R. V. (2010). Abuse of psychiatry for political purposes in the USSR: A case-study and personal account of the efforts to bring them to an end. In Ethics in Psychiatry (pp. 489-507). Springer, Dordrecht.\n"
     ]
    },
    {
     "name": "stderr",
     "output_type": "stream",
     "text": [
      "  % Total    % Received % Xferd  Average Speed   Time    Time     Time  Current\n",
      "                                 Dload  Upload   Total   Spent    Left  Speed\n",
      "  0     0    0     0    0     0      0      0 --:--:-- --:--:-- --:--:--     0\n",
      "100   233  100   233    0     0   1379      0 --:--:-- --:--:-- --:--:--  1379\n",
      "100   408    0   408    0     0   1184      0 --:--:-- --:--:-- --:--:--     0\n"
     ]
    },
    {
     "name": "stdout",
     "output_type": "stream",
     "text": [
      "{'itemType': 'journalArticle', 'title': 'Abuse of Psychiatry for Political Purposes in the {USSR}: A Case-Study and Personal Account of the Efforts to Bring Them to an End', 'creators': [{'creatorType': 'author', 'firstName': 'Robert', 'lastName': 'Voren'}], 'abstractNote': '', 'publicationTitle': '', 'volume': '', 'issue': '', 'pages': '', 'date': '2010', 'series': '', 'seriesTitle': '', 'seriesText': '', 'journalAbbreviation': '', 'language': '', 'DOI': '10.1007/978-90-481-8721-8_29', 'ISSN': '', 'shortTitle': '', 'url': 'https://doi.org/10.1007%2F978-90-481-8721-8_29', 'accessDate': '2022-12-18', 'archive': '', 'archiveLocation': '', 'libraryCatalog': '', 'callNumber': '', 'rights': '', 'extra': '[]', 'tags': [], 'collections': [], 'relations': {}}\n",
      "Now processing: oLgaY7DS1XQJ\n",
      "https://serpapi.com/search\n",
      "Zajicek, B. (2019). The Psychopharmacological Revolution in the USSR: Schizophrenia Treatment and the Thaw in Soviet Psychiatry, 1954–64. Medical History, 63(3), 249-269.\n"
     ]
    },
    {
     "name": "stderr",
     "output_type": "stream",
     "text": [
      "  % Total    % Received % Xferd  Average Speed   Time    Time     Time  Current\n",
      "                                 Dload  Upload   Total   Spent    Left  Speed\n",
      "  0     0    0     0    0     0      0      0 --:--:-- --:--:-- --:--:--     0\n",
      "100   215  100   215    0     0   1140      0 --:--:-- --:--:-- --:--:--  1140\n",
      "100   437    0   437    0     0   1171      0 --:--:-- --:--:-- --:--:--  4698\n"
     ]
    },
    {
     "name": "stdout",
     "output_type": "stream",
     "text": [
      "{'itemType': 'journalArticle', 'title': 'The Psychopharmacological Revolution in the {USSR}: Schizophrenia Treatment and the Thaw in Soviet Psychiatry, 1954{\\\\textendash}64', 'creators': [{'creatorType': 'author', 'firstName': 'Benjamin', 'lastName': 'Zajicek'}], 'abstractNote': '', 'publicationTitle': 'Medical History', 'volume': '63', 'issue': '3', 'pages': '', 'date': '2019-06-01', 'series': '', 'seriesTitle': '', 'seriesText': '', 'journalAbbreviation': '', 'language': '', 'DOI': '10.1017/mdh.2019.26', 'ISSN': '', 'shortTitle': '', 'url': 'https://doi.org/10.1017%2Fmdh.2019.26', 'accessDate': '2022-12-18', 'archive': '', 'archiveLocation': '', 'libraryCatalog': '', 'callNumber': '', 'rights': '', 'extra': '[]', 'tags': [], 'collections': [], 'relations': {}}\n",
      "Now processing: o1bbT6R_cT8J\n",
      "https://serpapi.com/search\n",
      "Savelli, M., & Marks, S. (2015). Psychiatry in communist Europe. Palgrave Macmillan.\n"
     ]
    },
    {
     "name": "stderr",
     "output_type": "stream",
     "text": [
      "  % Total    % Received % Xferd  Average Speed   Time    Time     Time  Current\n",
      "                                 Dload  Upload   Total   Spent    Left  Speed\n",
      "  0     0    0     0    0     0      0      0 --:--:-- --:--:-- --:--:--     0\n",
      "100   237  100   237    0     0   1336      0 --:--:-- --:--:-- --:--:--     0\n",
      "100   539    0   539    0     0   1457      0 --:--:-- --:--:-- --:--:--  1457\n"
     ]
    },
    {
     "name": "stdout",
     "output_type": "stream",
     "text": [
      "{'itemType': 'journalArticle', 'title': 'Psychiatry in Communist Europe - \\nPsychiatry in Communist Europe. Ed. Mat Savelli and Sarah Marks. Basingstoke: Palgrave Macmillan, 2015. xii, 222 pp. Index. Notes. Bibliography. Hard bound.', 'creators': [{'creatorType': 'author', 'firstName': 'Maria', 'lastName': 'Galmarini-Kabala'}], 'abstractNote': '', 'publicationTitle': 'Slavic Review', 'volume': '75', 'issue': '3', 'pages': '', 'date': '2016', 'series': '', 'seriesTitle': '', 'seriesText': '', 'journalAbbreviation': '', 'language': '', 'DOI': '10.5612/slavicreview.75.3.0745', 'ISSN': '', 'shortTitle': '', 'url': 'https://doi.org/10.5612%2Fslavicreview.75.3.0745', 'accessDate': '2022-12-18', 'archive': '', 'archiveLocation': '', 'libraryCatalog': '', 'callNumber': '', 'rights': '', 'extra': '[]', 'tags': [], 'collections': [], 'relations': {}}\n",
      "Now processing: DNZZpYepUQsJ\n",
      "https://serpapi.com/search\n",
      "van Voren, R. (2016). Ending political abuse of psychiatry: Where we are at and what needs to be done. BJPsych bulletin, 40(1), 30-33.\n"
     ]
    },
    {
     "name": "stderr",
     "output_type": "stream",
     "text": [
      "  % Total    % Received % Xferd  Average Speed   Time    Time     Time  Current\n",
      "                                 Dload  Upload   Total   Spent    Left  Speed\n",
      "  0     0    0     0    0     0      0      0 --:--:-- --:--:-- --:--:--     0\n",
      "100   225  100   225    0     0   1455      0 --:--:-- --:--:-- --:--:--  1455\n",
      "100   395    0   395    0     0   1183      0 --:--:-- --:--:-- --:--:--  1183\n"
     ]
    },
    {
     "name": "stdout",
     "output_type": "stream",
     "text": [
      "{'itemType': 'journalArticle', 'title': 'Ending political abuse of psychiatry: where we are at and what needs to be done', 'creators': [{'creatorType': 'author', 'firstName': 'Robert', 'lastName': 'Voren'}], 'abstractNote': '', 'publicationTitle': '{BJPsych} Bulletin', 'volume': '40', 'issue': '1', 'pages': '', 'date': '2016-02-01', 'series': '', 'seriesTitle': '', 'seriesText': '', 'journalAbbreviation': '', 'language': '', 'DOI': '10.1192/pb.bp.114.049494', 'ISSN': '', 'shortTitle': '', 'url': 'https://doi.org/10.1192%2Fpb.bp.114.049494', 'accessDate': '2022-12-18', 'archive': '', 'archiveLocation': '', 'libraryCatalog': '', 'callNumber': '', 'rights': '', 'extra': '[]', 'tags': [], 'collections': [], 'relations': {}}\n",
      "Now processing: NX1mhRSh5K4J\n",
      "https://serpapi.com/search\n",
      "Van Voren, R. (2011). Psychiatry as a Tool of Repression Against Dissidents in the USSR. Darbai ir dienos, (55), 29-42.\n"
     ]
    },
    {
     "name": "stderr",
     "output_type": "stream",
     "text": [
      "  % Total    % Received % Xferd  Average Speed   Time    Time     Time  Current\n",
      "                                 Dload  Upload   Total   Spent    Left  Speed\n",
      "  0     0    0     0    0     0      0      0 --:--:-- --:--:-- --:--:--     0\n",
      "100   221  100   221    0     0   1140      0 --:--:-- --:--:-- --:--:--  1140\n",
      "100   313    0   313    0     0    820      0 --:--:-- --:--:-- --:--:--  6260\n"
     ]
    },
    {
     "name": "stdout",
     "output_type": "stream",
     "text": [
      "{'itemType': 'journalArticle', 'title': 'Psychiatry as a tool of repression against dissidents in the {USSR}', 'creators': [{'creatorType': 'author', 'firstName': 'Johannes', 'lastName': 'Baks'}], 'abstractNote': '', 'publicationTitle': 'Deeds and Days', 'volume': '55', 'issue': '', 'pages': '', 'date': '2011', 'series': '', 'seriesTitle': '', 'seriesText': '', 'journalAbbreviation': '', 'language': '', 'DOI': '10.7220/2335-8769.55.2', 'ISSN': '', 'shortTitle': '', 'url': 'https://doi.org/10.7220%2F2335-8769.55.2', 'accessDate': '2022-12-18', 'archive': '', 'archiveLocation': '', 'libraryCatalog': '', 'callNumber': '', 'rights': '', 'extra': '[]', 'tags': [], 'collections': [], 'relations': {}}\n",
      "Now processing: EKEm7Jdwjr0J\n",
      "https://serpapi.com/search\n",
      "Heath-Kelly, C. (2022). Cold War Psychiatry, Extremism, and Expertise: The “Special Committee on the Political Abuse of Psychiatry”. International Political Sociology.\n"
     ]
    },
    {
     "name": "stderr",
     "output_type": "stream",
     "text": [
      "  % Total    % Received % Xferd  Average Speed   Time    Time     Time  Current\n",
      "                                 Dload  Upload   Total   Spent    Left  Speed\n",
      "  0     0    0     0    0     0      0      0 --:--:-- --:--:-- --:--:--     0\n",
      "100   219  100   219    0     0   1141      0 --:--:-- --:--:-- --:--:--  1141\n",
      "100   456    0   456    0     0   1161      0 --:--:-- --:--:-- --:--:--  1161\n"
     ]
    },
    {
     "name": "stdout",
     "output_type": "stream",
     "text": [
      "{'itemType': 'journalArticle', 'title': 'Cold War Psychiatry, Extremism, and Expertise: The {\\\\textquotedblleft}Special Committee on the Political Abuse of Psychiatry{\\\\textquotedblright}', 'creators': [{'creatorType': 'author', 'firstName': 'Charlotte', 'lastName': 'Heath-Kelly'}], 'abstractNote': '', 'publicationTitle': 'International Political Sociology', 'volume': '16', 'issue': '1', 'pages': '', 'date': '2021-12-01', 'series': '', 'seriesTitle': '', 'seriesText': '', 'journalAbbreviation': '', 'language': '', 'DOI': '10.1093/ips/olab034', 'ISSN': '', 'shortTitle': '', 'url': 'https://doi.org/10.1093%2Fips%2Folab034', 'accessDate': '2022-12-18', 'archive': '', 'archiveLocation': '', 'libraryCatalog': '', 'callNumber': '', 'rights': '', 'extra': '[]', 'tags': [], 'collections': [], 'relations': {}}\n",
      "Now processing: tHlserxgLdcJ\n",
      "https://serpapi.com/search\n",
      "Nebylitsyn, V. D., & Gray, J. A. (Eds.). (2013). Biological bases of individual behavior. Academic Press.\n"
     ]
    },
    {
     "name": "stderr",
     "output_type": "stream",
     "text": [
      "  % Total    % Received % Xferd  Average Speed   Time    Time     Time  Current\n",
      "                                 Dload  Upload   Total   Spent    Left  Speed\n",
      "  0     0    0     0    0     0      0      0 --:--:-- --:--:-- --:--:--     0\n",
      "100   245  100   245    0     0   1456      0 --:--:-- --:--:-- --:--:--  1456\n",
      "100   305    0   305    0     0    858      0 --:--:-- --:--:-- --:--:--   858\n"
     ]
    },
    {
     "name": "stdout",
     "output_type": "stream",
     "text": [
      "{'itemType': 'journalArticle', 'title': 'Foreword', 'creators': [{'creatorType': 'author', 'firstName': 'V.', 'lastName': 'Nebylitsyn'}], 'abstractNote': '', 'publicationTitle': '', 'volume': '', 'issue': '', 'pages': '', 'date': '1972', 'series': '', 'seriesTitle': '', 'seriesText': '', 'journalAbbreviation': '', 'language': '', 'DOI': '10.1016/b978-0-12-515350-8.50005-3', 'ISSN': '', 'shortTitle': '', 'url': 'https://doi.org/10.1016%2Fb978-0-12-515350-8.50005-3', 'accessDate': '2022-12-18', 'archive': '', 'archiveLocation': '', 'libraryCatalog': '', 'callNumber': '', 'rights': '', 'extra': '[]', 'tags': [], 'collections': [], 'relations': {}}\n",
      "Now processing: jhYO5qwYegQJ\n",
      "https://serpapi.com/search\n",
      "Van Voren, R. (2010). Cold War in psychiatry: Human factors, secret actors. In Cold War in Psychiatry. Brill.\n"
     ]
    },
    {
     "name": "stderr",
     "output_type": "stream",
     "text": [
      "  % Total    % Received % Xferd  Average Speed   Time    Time     Time  Current\n",
      "                                 Dload  Upload   Total   Spent    Left  Speed\n",
      "  0     0    0     0    0     0      0      0 --:--:-- --:--:-- --:--:--     0\n",
      "100   219  100   219    0     0   1140      0 --:--:-- --:--:-- --:--:--  1140\n",
      "100   223    0   223    0     0    590      0 --:--:-- --:--:-- --:--:--   590\n"
     ]
    },
    {
     "name": "stdout",
     "output_type": "stream",
     "text": [
      "{'itemType': 'journalArticle', 'title': 'Cold War in Psychiatry', 'creators': [{'creatorType': 'author', 'firstName': 'Robert', 'lastName': 'Voren'}], 'abstractNote': '', 'publicationTitle': '', 'volume': '', 'issue': '', 'pages': '', 'date': '2010-01-01', 'series': '', 'seriesTitle': '', 'seriesText': '', 'journalAbbreviation': '', 'language': '', 'DOI': '10.1163/9789042030473', 'ISSN': '', 'shortTitle': '', 'url': 'https://doi.org/10.1163%2F9789042030473', 'accessDate': '2022-12-18', 'archive': '', 'archiveLocation': '', 'libraryCatalog': '', 'callNumber': '', 'rights': '', 'extra': '[]', 'tags': [], 'collections': [], 'relations': {}}\n",
      "Now processing: UU7jXsCSZa8J\n",
      "https://serpapi.com/search\n",
      "Bloch, S., & Reddaway, P. (2019). Soviet psychiatric abuse: The shadow over world psychiatry. Routledge.\n"
     ]
    },
    {
     "name": "stderr",
     "output_type": "stream",
     "text": [
      "  % Total    % Received % Xferd  Average Speed   Time    Time     Time  Current\n",
      "                                 Dload  Upload   Total   Spent    Left  Speed\n",
      "  0     0    0     0    0     0      0      0 --:--:-- --:--:-- --:--:--     0\n",
      "100   219  100   219    0     0   1281      0 --:--:-- --:--:-- --:--:--  1281\n",
      "100   238    0   238    0     0    680      0 --:--:-- --:--:-- --:--:--   680\n"
     ]
    },
    {
     "name": "stdout",
     "output_type": "stream",
     "text": [
      "{'itemType': 'journalArticle', 'title': 'Soviet Psychiatric Abuse', 'creators': [{'creatorType': 'author', 'firstName': 'Sidney', 'lastName': 'Bloch'}, {'creatorType': 'author', 'firstName': 'Peter', 'lastName': 'Reddaway'}], 'abstractNote': '', 'publicationTitle': '', 'volume': '', 'issue': '', 'pages': '', 'date': '2019-07-01', 'series': '', 'seriesTitle': '', 'seriesText': '', 'journalAbbreviation': '', 'language': '', 'DOI': '10.4324/9780429307119', 'ISSN': '', 'shortTitle': '', 'url': 'https://doi.org/10.4324%2F9780429307119', 'accessDate': '2022-12-18', 'archive': '', 'archiveLocation': '', 'libraryCatalog': '', 'callNumber': '', 'rights': '', 'extra': '[]', 'tags': [], 'collections': [], 'relations': {}}\n",
      "Now processing: VkBx-7hWUe8J\n",
      "https://serpapi.com/search\n",
      "Landa, A., Skritskaya, N., Nicasio, A., Humensky, J., & Lewis-Fernández, R. (2015). Unmet need for treatment of depression among immigrants from the former USSR in the US: A primary care study. The International Journal of Psychiatry in Medicine, 50(3), 271-289.\n"
     ]
    },
    {
     "name": "stderr",
     "output_type": "stream",
     "text": [
      "  % Total    % Received % Xferd  Average Speed   Time    Time     Time  Current\n",
      "                                 Dload  Upload   Total   Spent    Left  Speed\n",
      "  0     0    0     0    0     0      0      0 --:--:-- --:--:-- --:--:--     0\n",
      "100   225  100   225    0     0   1206      0 --:--:-- --:--:-- --:--:--  1206\n",
      "100   539    0   539    0     0   1441      0 --:--:-- --:--:-- --:--:--  1441\n"
     ]
    },
    {
     "name": "stdout",
     "output_type": "stream",
     "text": [
      "{'itemType': 'journalArticle', 'title': 'Unmet need for treatment of depression among immigrants from the former {USSR} in the {US}: A primary care study', 'creators': [{'creatorType': 'author', 'firstName': 'Alla', 'lastName': 'Landa'}, {'creatorType': 'author', 'firstName': 'Natalia', 'lastName': 'Skritskaya'}, {'creatorType': 'author', 'firstName': 'Andel', 'lastName': 'Nicasio'}, {'creatorType': 'author', 'firstName': 'Jennifer', 'lastName': 'Humensky'}, {'creatorType': 'author', 'firstName': 'Roberto', 'lastName': \"Lewis-Fern{\\\\'{a}}ndez\"}], 'abstractNote': '', 'publicationTitle': 'The International Journal of Psychiatry in Medicine', 'volume': '50', 'issue': '3', 'pages': '', 'date': '2015-10-01', 'series': '', 'seriesTitle': '', 'seriesText': '', 'journalAbbreviation': '', 'language': '', 'DOI': '10.1177/0091217415610320', 'ISSN': '', 'shortTitle': '', 'url': 'https://doi.org/10.1177%2F0091217415610320', 'accessDate': '2022-12-18', 'archive': '', 'archiveLocation': '', 'libraryCatalog': '', 'callNumber': '', 'rights': '', 'extra': '[]', 'tags': [], 'collections': [], 'relations': {}}\n",
      "Now processing: SPbBJc-JaPIJ\n",
      "https://serpapi.com/search\n",
      "Van Voren, R. (2010). Political abuse of psychiatry—An historical overview. Schizophrenia bulletin, 36(1), 33-35.\n"
     ]
    },
    {
     "name": "stderr",
     "output_type": "stream",
     "text": [
      "  % Total    % Received % Xferd  Average Speed   Time    Time     Time  Current\n",
      "                                 Dload  Upload   Total   Spent    Left  Speed\n",
      "  0     0    0     0    0     0      0      0 --:--:-- --:--:-- --:--:--     0\n",
      "100   223  100   223    0     0   1140      0 --:--:-- --:--:-- --:--:--  2623\n",
      "100   366    0   366    0     0    975      0 --:--:-- --:--:-- --:--:--   975\n"
     ]
    },
    {
     "name": "stdout",
     "output_type": "stream",
     "text": [
      "{'itemType': 'journalArticle', 'title': 'Political Abuse of Psychiatry--An Historical Overview', 'creators': [{'creatorType': 'author', 'firstName': 'R.', 'lastName': 'Voren'}], 'abstractNote': '', 'publicationTitle': 'Schizophrenia Bulletin', 'volume': '36', 'issue': '1', 'pages': '', 'date': '2009-11-01', 'series': '', 'seriesTitle': '', 'seriesText': '', 'journalAbbreviation': '', 'language': '', 'DOI': '10.1093/schbul/sbp119', 'ISSN': '', 'shortTitle': '', 'url': 'https://doi.org/10.1093%2Fschbul%2Fsbp119', 'accessDate': '2022-12-18', 'archive': '', 'archiveLocation': '', 'libraryCatalog': '', 'callNumber': '', 'rights': '', 'extra': '[]', 'tags': [], 'collections': [], 'relations': {}}\n",
      "Now processing: 68hBQSriKlgJ\n",
      "https://serpapi.com/search\n",
      "Kurstak, E. (Ed.). (2012). Psychiatry and biological factors. Springer Science & Business Media.\n"
     ]
    },
    {
     "name": "stderr",
     "output_type": "stream",
     "text": [
      "  % Total    % Received % Xferd  Average Speed   Time    Time     Time  Current\n",
      "                                 Dload  Upload   Total   Spent    Left  Speed\n",
      "  0     0    0     0    0     0      0      0 --:--:-- --:--:-- --:--:--     0\n",
      "100   227  100   227    0     0   1334      0 --:--:-- --:--:-- --:--:--  1334\n",
      "100   221    0   221    0     0    622      0 --:--:-- --:--:-- --:--:--   622\n"
     ]
    },
    {
     "name": "stdout",
     "output_type": "stream",
     "text": [
      "Now processing: LmTr82vUsLQJ\n",
      "https://serpapi.com/search\n",
      "Marks, S., & Savelli, M. (2015). Communist Europe and transnational psychiatry. In Psychiatry in communist Europe (pp. 1-26). Palgrave Macmillan, London.\n"
     ]
    },
    {
     "name": "stderr",
     "output_type": "stream",
     "text": [
      "  % Total    % Received % Xferd  Average Speed   Time    Time     Time  Current\n",
      "                                 Dload  Upload   Total   Spent    Left  Speed\n",
      "  0     0    0     0    0     0      0      0 --:--:-- --:--:-- --:--:--     0\n",
      "100   231  100   231    0     0   1323      0 --:--:-- --:--:-- --:--:--  1323\n",
      "100   338    0   338    0     0    963      0 --:--:-- --:--:-- --:--:--   963\n"
     ]
    },
    {
     "name": "stdout",
     "output_type": "stream",
     "text": [
      "{'itemType': 'journalArticle', 'title': 'Communist Europe and Transnational Psychiatry', 'creators': [{'creatorType': 'author', 'firstName': 'Sarah', 'lastName': 'Marks'}, {'creatorType': 'author', 'firstName': 'Mat', 'lastName': 'Savelli'}], 'abstractNote': '', 'publicationTitle': '', 'volume': '', 'issue': '', 'pages': '', 'date': '2015', 'series': '', 'seriesTitle': '', 'seriesText': '', 'journalAbbreviation': '', 'language': '', 'DOI': '10.1007/978-1-137-49092-6_1', 'ISSN': '', 'shortTitle': '', 'url': 'https://doi.org/10.1007%2F978-1-137-49092-6_1', 'accessDate': '2022-12-18', 'archive': '', 'archiveLocation': '', 'libraryCatalog': '', 'callNumber': '', 'rights': '', 'extra': '[]', 'tags': [], 'collections': [], 'relations': {}}\n",
      "Now processing: pXPOC_hFvUgJ\n",
      "https://serpapi.com/search\n",
      "Dufaud, G., & Rzesnitzek, L. (2016). Soviet psychiatry through the prism of circulation: the case of outpatient psychiatry in the interwar period. Kritika: Explorations in Russian and Eurasian History, 17(4), 781-803.\n"
     ]
    },
    {
     "name": "stderr",
     "output_type": "stream",
     "text": [
      "  % Total    % Received % Xferd  Average Speed   Time    Time     Time  Current\n",
      "                                 Dload  Upload   Total   Spent    Left  Speed\n",
      "  0     0    0     0    0     0      0      0 --:--:-- --:--:-- --:--:--     0\n",
      "100   219  100   219    0     0   1360      0 --:--:-- --:--:-- --:--:--  1360\n",
      "100   442    0   442    0     0   1307      0 --:--:-- --:--:-- --:--:--  1307\n"
     ]
    },
    {
     "name": "stdout",
     "output_type": "stream",
     "text": [
      "{'itemType': 'journalArticle', 'title': 'Soviet Psychiatry through the Prism of Circulation: The Case of Outpatient Psychiatry in the Interwar Period', 'creators': [{'creatorType': 'author', 'firstName': \"Gr{\\\\'{e}}gory\", 'lastName': 'Dufaud'}, {'creatorType': 'author', 'firstName': 'Lara', 'lastName': 'Rzesnitzek'}], 'abstractNote': '', 'publicationTitle': 'Kritika: Explorations in Russian and Eurasian History', 'volume': '17', 'issue': '4', 'pages': '', 'date': '2016', 'series': '', 'seriesTitle': '', 'seriesText': '', 'journalAbbreviation': '', 'language': '', 'DOI': '10.1353/kri.2016.0049', 'ISSN': '', 'shortTitle': '', 'url': 'https://doi.org/10.1353%2Fkri.2016.0049', 'accessDate': '2022-12-18', 'archive': '', 'archiveLocation': '', 'libraryCatalog': '', 'callNumber': '', 'rights': '', 'extra': '[]', 'tags': [], 'collections': [], 'relations': {}}\n",
      "Now processing: Kedd58qKkAUJ\n",
      "https://serpapi.com/search\n",
      "Jargin, S. V. (2011). Some aspects of psychiatry in Russia. International Journal of Culture and Mental Health, 4(2), 116-120.\n"
     ]
    },
    {
     "name": "stderr",
     "output_type": "stream",
     "text": [
      "  % Total    % Received % Xferd  Average Speed   Time    Time     Time  Current\n",
      "                                 Dload  Upload   Total   Spent    Left  Speed\n",
      "  0     0    0     0    0     0      0      0 --:--:-- --:--:-- --:--:--     0\n",
      "100   233  100   233    0     0   1432      0 --:--:-- --:--:-- --:--:--  1432\n",
      "100   380    0   380    0     0   1086      0 --:--:-- --:--:-- --:--:--  1086\n"
     ]
    },
    {
     "name": "stdout",
     "output_type": "stream",
     "text": [
      "{'itemType': 'journalArticle', 'title': 'Some aspects of psychiatry in Russia', 'creators': [{'creatorType': 'author', 'firstName': 'Sergei', 'lastName': 'Jargin'}], 'abstractNote': '', 'publicationTitle': 'International Journal of Culture and Mental Health', 'volume': '4', 'issue': '2', 'pages': '', 'date': '2011-12-01', 'series': '', 'seriesTitle': '', 'seriesText': '', 'journalAbbreviation': '', 'language': '', 'DOI': '10.1080/17542863.2010.519485', 'ISSN': '', 'shortTitle': '', 'url': 'https://doi.org/10.1080%2F17542863.2010.519485', 'accessDate': '2022-12-18', 'archive': '', 'archiveLocation': '', 'libraryCatalog': '', 'callNumber': '', 'rights': '', 'extra': '[]', 'tags': [], 'collections': [], 'relations': {}}\n",
      "Now processing: kgekV9p2ug0J\n",
      "https://serpapi.com/search\n",
      "Luty, J. (2014). Psychiatry and the dark side: eugenics, Nazi and Soviet psychiatry. Advances in psychiatric treatment, 20(1), 52-60.\n"
     ]
    },
    {
     "name": "stderr",
     "output_type": "stream",
     "text": [
      "  % Total    % Received % Xferd  Average Speed   Time    Time     Time  Current\n",
      "                                 Dload  Upload   Total   Spent    Left  Speed\n",
      "  0     0    0     0    0     0      0      0 --:--:-- --:--:-- --:--:--     0\n",
      "100   227  100   227    0     0   1236      0 --:--:-- --:--:-- --:--:--  1236\n",
      "100   392    0   392    0     0   1102      0 --:--:-- --:--:-- --:--:--  1102\n"
     ]
    },
    {
     "name": "stdout",
     "output_type": "stream",
     "text": [
      "{'itemType': 'journalArticle', 'title': 'Psychiatry and the dark side: eugenics, Nazi and Soviet psychiatry', 'creators': [{'creatorType': 'author', 'firstName': 'Jason', 'lastName': 'Luty'}], 'abstractNote': '', 'publicationTitle': 'Advances in Psychiatric Treatment', 'volume': '20', 'issue': '1', 'pages': '', 'date': '2014-01-01', 'series': '', 'seriesTitle': '', 'seriesText': '', 'journalAbbreviation': '', 'language': '', 'DOI': '10.1192/apt.bp.112.010330', 'ISSN': '', 'shortTitle': '', 'url': 'https://doi.org/10.1192%2Fapt.bp.112.010330', 'accessDate': '2022-12-18', 'archive': '', 'archiveLocation': '', 'libraryCatalog': '', 'callNumber': '', 'rights': '', 'extra': '[]', 'tags': [], 'collections': [], 'relations': {}}\n",
      "0\n",
      "https://serpapi.com/search\n",
      "0\n",
      "This should've returned 0 (sucess)\n",
      "Now processing: SPbBJc-JaPIJ\n",
      "https://serpapi.com/search\n",
      "Van Voren, R. (2010). Political abuse of psychiatry—An historical overview. Schizophrenia bulletin, 36(1), 33-35.\n"
     ]
    },
    {
     "name": "stderr",
     "output_type": "stream",
     "text": [
      "  % Total    % Received % Xferd  Average Speed   Time    Time     Time  Current\n",
      "                                 Dload  Upload   Total   Spent    Left  Speed\n",
      "  0     0    0     0    0     0      0      0 --:--:-- --:--:-- --:--:--     0\n",
      "100   223  100   223    0     0   1288      0 --:--:-- --:--:-- --:--:--  1288\n",
      "100   366    0   366    0     0   1064      0 --:--:-- --:--:-- --:--:--  1064\n"
     ]
    },
    {
     "name": "stdout",
     "output_type": "stream",
     "text": [
      "{'itemType': 'journalArticle', 'title': 'Political Abuse of Psychiatry--An Historical Overview', 'creators': [{'creatorType': 'author', 'firstName': 'R.', 'lastName': 'Voren'}], 'abstractNote': '', 'publicationTitle': 'Schizophrenia Bulletin', 'volume': '36', 'issue': '1', 'pages': '', 'date': '2009-11-01', 'series': '', 'seriesTitle': '', 'seriesText': '', 'journalAbbreviation': '', 'language': '', 'DOI': '10.1093/schbul/sbp119', 'ISSN': '', 'shortTitle': '', 'url': 'https://doi.org/10.1093%2Fschbul%2Fsbp119', 'accessDate': '2022-12-18', 'archive': '', 'archiveLocation': '', 'libraryCatalog': '', 'callNumber': '', 'rights': '', 'extra': '[]', 'tags': [], 'collections': [], 'relations': {}}\n",
      "Now processing: 7_qhKWNY31YJ\n",
      "https://serpapi.com/search\n",
      "Warner, R. (2013). Recovery from schizophrenia: Psychiatry and political economy. Routledge.\n"
     ]
    },
    {
     "name": "stderr",
     "output_type": "stream",
     "text": [
      "  % Total    % Received % Xferd  Average Speed   Time    Time     Time  Current\n",
      "                                 Dload  Upload   Total   Spent    Left  Speed\n",
      "  0     0    0     0    0     0      0      0 --:--:-- --:--:-- --:--:--     0\n",
      "100   223  100   223    0     0   1300      0 --:--:-- --:--:-- --:--:--  1300\n",
      "100   505    0   505    0     0   1418      0 --:--:-- --:--:-- --:--:--  1418\n"
     ]
    },
    {
     "name": "stdout",
     "output_type": "stream",
     "text": [
      "{'itemType': 'journalArticle', 'title': 'Recovery from Schizophrenia Psychiatry and Political Economy Richard Warner Recovery from Schizophrenia Psychiatry and Political Economy Brunner-Routledge Third 424{\\\\textsterling}20.9904152126770415212677', 'creators': [{'creatorType': 'author', 'firstName': 'Tony', 'lastName': 'Gillam'}], 'abstractNote': '', 'publicationTitle': 'Mental Health Practice', 'volume': '10', 'issue': '8', 'pages': '', 'date': '2007-05-01', 'series': '', 'seriesTitle': '', 'seriesText': '', 'journalAbbreviation': '', 'language': '', 'DOI': '10.7748/mhp.10.8.26.s25', 'ISSN': '', 'shortTitle': '', 'url': 'https://doi.org/10.7748%2Fmhp.10.8.26.s25', 'accessDate': '2022-12-18', 'archive': '', 'archiveLocation': '', 'libraryCatalog': '', 'callNumber': '', 'rights': '', 'extra': '[]', 'tags': [], 'collections': [], 'relations': {}}\n",
      "Now processing: hN4FPDf9uBsJ\n",
      "https://serpapi.com/search\n",
      "Priebe, S. (2015). The political mission of psychiatry. World Psychiatry, 14(1), 1.\n"
     ]
    },
    {
     "name": "stderr",
     "output_type": "stream",
     "text": [
      "  % Total    % Received % Xferd  Average Speed   Time    Time     Time  Current\n",
      "                                 Dload  Upload   Total   Spent    Left  Speed\n",
      "  0     0    0     0    0     0      0      0 --:--:-- --:--:-- --:--:--     0\n",
      "100   211  100   211    0     0    896      0 --:--:-- --:--:-- --:--:--   896\n",
      "100   302    0   302    0     0    742      0 --:--:-- --:--:-- --:--:--  5592\n"
     ]
    },
    {
     "name": "stdout",
     "output_type": "stream",
     "text": [
      "{'itemType': 'journalArticle', 'title': 'The political mission of psychiatry', 'creators': [{'creatorType': 'author', 'firstName': 'Stefan', 'lastName': 'Priebe'}], 'abstractNote': '', 'publicationTitle': 'World Psychiatry', 'volume': '14', 'issue': '1', 'pages': '', 'date': '2015-02-01', 'series': '', 'seriesTitle': '', 'seriesText': '', 'journalAbbreviation': '', 'language': '', 'DOI': '10.1002/wps.20172', 'ISSN': '', 'shortTitle': '', 'url': 'https://doi.org/10.1002%2Fwps.20172', 'accessDate': '2022-12-18', 'archive': '', 'archiveLocation': '', 'libraryCatalog': '', 'callNumber': '', 'rights': '', 'extra': '[]', 'tags': [], 'collections': [], 'relations': {}}\n",
      "Now processing: rU4YtYNMrYUJ\n",
      "https://serpapi.com/search\n",
      "Jakovljević, M. (2011). Hubris syndrome and a new perspective on political psychiatry: need to protect prosocial behavior, public benefit and safety of our civilisation. Psychiatria danubina, 23(2.), 136-138.\n"
     ]
    },
    {
     "name": "stderr",
     "output_type": "stream",
     "text": [
      "  % Total    % Received % Xferd  Average Speed   Time    Time     Time  Current\n",
      "                                 Dload  Upload   Total   Spent    Left  Speed\n",
      "  0     0    0     0    0     0      0      0 --:--:-- --:--:-- --:--:--     0\n",
      "100   221  100   221    0     0    886      0 --:--:-- --:--:-- --:--:--   886\n",
      "100   422    0   422    0     0   1007      0 --:--:-- --:--:-- --:--:--  1007\n"
     ]
    },
    {
     "name": "stdout",
     "output_type": "stream",
     "text": [
      "{'itemType': 'journalArticle', 'title': '{FROM} {ANCIENT} {HATEI} {TO} {HUBRIS} {SYNDROME} {IN} {SARS}-{COV}-2 {HEALTH} {CRISIS} {MANAGEMENT}', 'creators': [{'creatorType': 'author', 'firstName': 'Christos', 'lastName': 'and'}], 'abstractNote': '', 'publicationTitle': '{PSYCHIATRIA} {DANUBINA}', 'volume': '34', 'issue': '1', 'pages': '', 'date': '2022-04-01', 'series': '', 'seriesTitle': '', 'seriesText': '', 'journalAbbreviation': '', 'language': '', 'DOI': '10.24869/psyd.2022.111', 'ISSN': '', 'shortTitle': '', 'url': 'https://doi.org/10.24869%2Fpsyd.2022.111', 'accessDate': '2022-12-18', 'archive': '', 'archiveLocation': '', 'libraryCatalog': '', 'callNumber': '', 'rights': '', 'extra': '[]', 'tags': [], 'collections': [], 'relations': {}}\n",
      "Now processing: 9zMMaBeShXsJ\n",
      "https://serpapi.com/search\n",
      "Moncrieff, J. (2010). Psychiatric diagnosis as a political device. Social Theory & Health, 8(4), 370-382.\n"
     ]
    },
    {
     "name": "stderr",
     "output_type": "stream",
     "text": [
      "  % Total    % Received % Xferd  Average Speed   Time    Time     Time  Current\n",
      "                                 Dload  Upload   Total   Spent    Left  Speed\n",
      "  0     0    0     0    0     0      0      0 --:--:-- --:--:-- --:--:--     0\n",
      "100   215  100   215    0     0   1165      0 --:--:-- --:--:-- --:--:--  1165\n",
      "100   387    0   387    0     0   1037      0 --:--:-- --:--:-- --:--:--  1037\n"
     ]
    },
    {
     "name": "stdout",
     "output_type": "stream",
     "text": [
      "{'itemType': 'journalArticle', 'title': 'Psychiatric diagnosis as a political device', 'creators': [{'creatorType': 'author', 'firstName': 'Joanna', 'lastName': 'Moncrieff'}], 'abstractNote': '', 'publicationTitle': 'Social Theory {\\\\&}amp$\\\\mathsemicolon$ Health', 'volume': '8', 'issue': '4', 'pages': '', 'date': '2010-10-01', 'series': '', 'seriesTitle': '', 'seriesText': '', 'journalAbbreviation': '', 'language': '', 'DOI': '10.1057/sth.2009.11', 'ISSN': '', 'shortTitle': '', 'url': 'https://doi.org/10.1057%2Fsth.2009.11', 'accessDate': '2022-12-18', 'archive': '', 'archiveLocation': '', 'libraryCatalog': '', 'callNumber': '', 'rights': '', 'extra': '[]', 'tags': [], 'collections': [], 'relations': {}}\n",
      "Now processing: DNZZpYepUQsJ\n",
      "https://serpapi.com/search\n",
      "van Voren, R. (2016). Ending political abuse of psychiatry: Where we are at and what needs to be done. BJPsych bulletin, 40(1), 30-33.\n"
     ]
    },
    {
     "name": "stderr",
     "output_type": "stream",
     "text": [
      "  % Total    % Received % Xferd  Average Speed   Time    Time     Time  Current\n",
      "                                 Dload  Upload   Total   Spent    Left  Speed\n",
      "  0     0    0     0    0     0      0      0 --:--:-- --:--:-- --:--:--     0\n",
      "100   225  100   225    0     0   1362      0 --:--:-- --:--:-- --:--:--  3571\n",
      "100   395    0   395    0     0   1162      0 --:--:-- --:--:-- --:--:--  1162\n"
     ]
    },
    {
     "name": "stdout",
     "output_type": "stream",
     "text": [
      "{'itemType': 'journalArticle', 'title': 'Ending political abuse of psychiatry: where we are at and what needs to be done', 'creators': [{'creatorType': 'author', 'firstName': 'Robert', 'lastName': 'Voren'}], 'abstractNote': '', 'publicationTitle': '{BJPsych} Bulletin', 'volume': '40', 'issue': '1', 'pages': '', 'date': '2016-02-01', 'series': '', 'seriesTitle': '', 'seriesText': '', 'journalAbbreviation': '', 'language': '', 'DOI': '10.1192/pb.bp.114.049494', 'ISSN': '', 'shortTitle': '', 'url': 'https://doi.org/10.1192%2Fpb.bp.114.049494', 'accessDate': '2022-12-18', 'archive': '', 'archiveLocation': '', 'libraryCatalog': '', 'callNumber': '', 'rights': '', 'extra': '[]', 'tags': [], 'collections': [], 'relations': {}}\n",
      "Now processing: D1BZvd-TMhAJ\n",
      "https://serpapi.com/search\n",
      "Sfera, A. (2013). Can psychiatry be misused again?. Frontiers in Psychiatry, 4, 101.\n"
     ]
    },
    {
     "name": "stderr",
     "output_type": "stream",
     "text": [
      "  % Total    % Received % Xferd  Average Speed   Time    Time     Time  Current\n",
      "                                 Dload  Upload   Total   Spent    Left  Speed\n",
      "  0     0    0     0    0     0      0      0 --:--:-- --:--:-- --:--:--     0\n",
      "100   225  100   225    0     0   1280      0 --:--:-- --:--:-- --:--:--  1280\n",
      "100   284    0   284    0     0    802      0 --:--:-- --:--:-- --:--:--   802\n"
     ]
    },
    {
     "name": "stdout",
     "output_type": "stream",
     "text": [
      "{'itemType': 'journalArticle', 'title': 'Can Psychiatry be Misused Again?', 'creators': [{'creatorType': 'author', 'firstName': 'Adonis', 'lastName': 'Sfera'}], 'abstractNote': '', 'publicationTitle': 'Frontiers in Psychiatry', 'volume': '4', 'issue': '', 'pages': '', 'date': '2013', 'series': '', 'seriesTitle': '', 'seriesText': '', 'journalAbbreviation': '', 'language': '', 'DOI': '10.3389/fpsyt.2013.00101', 'ISSN': '', 'shortTitle': '', 'url': 'https://doi.org/10.3389%2Ffpsyt.2013.00101', 'accessDate': '2022-12-18', 'archive': '', 'archiveLocation': '', 'libraryCatalog': '', 'callNumber': '', 'rights': '', 'extra': '[]', 'tags': [], 'collections': [], 'relations': {}}\n",
      "Now processing: QFozUxYVOzkJ\n",
      "https://serpapi.com/search\n",
      "Dillon, J. (2019). The personal is political. In Telling Stories? (pp. 23-50). Routledge.\n"
     ]
    },
    {
     "name": "stderr",
     "output_type": "stream",
     "text": [
      "  % Total    % Received % Xferd  Average Speed   Time    Time     Time  Current\n",
      "                                 Dload  Upload   Total   Spent    Left  Speed\n",
      "  0     0    0     0    0     0      0      0 --:--:-- --:--:-- --:--:--     0\n",
      "100   223  100   223    0     0   1204      0 --:--:-- --:--:-- --:--:--     0\n",
      "100   286    0   286    0     0    763      0 --:--:-- --:--:-- --:--:--   763\n"
     ]
    },
    {
     "name": "stdout",
     "output_type": "stream",
     "text": [
      "{'itemType': 'journalArticle', 'title': 'The personal is political', 'creators': [{'creatorType': 'author', 'firstName': 'Jacqui', 'lastName': 'Dillon'}], 'abstractNote': '', 'publicationTitle': '', 'volume': '', 'issue': '', 'pages': '', 'date': '2019-10-01', 'series': '', 'seriesTitle': '', 'seriesText': '', 'journalAbbreviation': '', 'language': '', 'DOI': '10.4324/9780429480911-4', 'ISSN': '', 'shortTitle': '', 'url': 'https://doi.org/10.4324%2F9780429480911-4', 'accessDate': '2022-12-18', 'archive': '', 'archiveLocation': '', 'libraryCatalog': '', 'callNumber': '', 'rights': '', 'extra': '[]', 'tags': [], 'collections': [], 'relations': {}}\n",
      "Now processing: SMX1kpMHZcAJ\n",
      "https://serpapi.com/search\n",
      "Lūse, A. (2011). From social pathologies to individual psyches: psychiatry navigating socio-political currents in 20th-century Latvia. History of psychiatry, 22(1), 20-39.\n"
     ]
    },
    {
     "name": "stderr",
     "output_type": "stream",
     "text": [
      "  % Total    % Received % Xferd  Average Speed   Time    Time     Time  Current\n",
      "                                 Dload  Upload   Total   Spent    Left  Speed\n",
      "  0     0    0     0    0     0      0      0 --:--:-- --:--:-- --:--:--     0\n",
      "100   225  100   225    0     0   1321      0 --:--:-- --:--:-- --:--:--  1321\n",
      "100   419    0   419    0     0   1153      0 --:--:-- --:--:-- --:--:--  1153\n"
     ]
    },
    {
     "name": "stdout",
     "output_type": "stream",
     "text": [
      "{'itemType': 'journalArticle', 'title': 'From social pathologies to individual psyches: psychiatry navigating socio-political currents in 20th-century Latvia', 'creators': [{'creatorType': 'author', 'firstName': 'Agita', 'lastName': 'L{\\\\={u}}se'}], 'abstractNote': '', 'publicationTitle': 'History of Psychiatry', 'volume': '22', 'issue': '1', 'pages': '', 'date': '2011-02-01', 'series': '', 'seriesTitle': '', 'seriesText': '', 'journalAbbreviation': '', 'language': '', 'DOI': '10.1177/0957154x09351045', 'ISSN': '', 'shortTitle': '', 'url': 'https://doi.org/10.1177%2F0957154x09351045', 'accessDate': '2022-12-18', 'archive': '', 'archiveLocation': '', 'libraryCatalog': '', 'callNumber': '', 'rights': '', 'extra': '[]', 'tags': [], 'collections': [], 'relations': {}}\n",
      "Now processing: pkGaglX4E7cJ\n",
      "https://serpapi.com/search\n",
      "Kohrt, B. A., Hruschka, D. J., Worthman, C. M., Kunz, R. D., Baldwin, J. L., Upadhaya, N., ... & Nepal, M. K. (2012). Political violence and mental health in Nepal: prospective study. The British Journal of Psychiatry, 201(4), 268-275.\n"
     ]
    },
    {
     "name": "stderr",
     "output_type": "stream",
     "text": [
      "  % Total    % Received % Xferd  Average Speed   Time    Time     Time  Current\n",
      "                                 Dload  Upload   Total   Spent    Left  Speed\n",
      "  0     0    0     0    0     0      0      0 --:--:-- --:--:-- --:--:--     0\n",
      "100   227  100   227    0     0   1271      0 --:--:-- --:--:-- --:--:--  1271\n",
      "100   688    0   688    0     0   1846      0 --:--:-- --:--:-- --:--:--  1846\n"
     ]
    },
    {
     "name": "stdout",
     "output_type": "stream",
     "text": [
      "{'itemType': 'journalArticle', 'title': 'Political violence and mental health in Nepal: prospective\\nstudy', 'creators': [{'creatorType': 'author', 'firstName': 'Brandon', 'lastName': 'Kohrt'}, {'creatorType': 'author', 'firstName': 'Daniel', 'lastName': 'Hruschka'}, {'creatorType': 'author', 'firstName': 'Carol', 'lastName': 'Worthman'}, {'creatorType': 'author', 'firstName': 'Richard', 'lastName': 'Kunz'}, {'creatorType': 'author', 'firstName': 'Jennifer', 'lastName': 'Baldwin'}, {'creatorType': 'author', 'firstName': 'Nawaraj', 'lastName': 'Upadhaya'}, {'creatorType': 'author', 'firstName': 'Nanda', 'lastName': 'Acharya'}, {'creatorType': 'author', 'firstName': 'Suraj', 'lastName': 'Koirala'}, {'creatorType': 'author', 'firstName': 'Suraj', 'lastName': 'Thapa'}, {'creatorType': 'author', 'firstName': 'Wietse', 'lastName': 'Tol'}, {'creatorType': 'author', 'firstName': 'Mark', 'lastName': 'Jordans'}, {'creatorType': 'author', 'firstName': 'Navit', 'lastName': 'Robkin'}, {'creatorType': 'author', 'firstName': 'Vidya', 'lastName': 'Sharma'}, {'creatorType': 'author', 'firstName': 'Mahendra', 'lastName': 'Nepal'}], 'abstractNote': '', 'publicationTitle': 'British Journal of Psychiatry', 'volume': '201', 'issue': '4', 'pages': '', 'date': '2012-10-01', 'series': '', 'seriesTitle': '', 'seriesText': '', 'journalAbbreviation': '', 'language': '', 'DOI': '10.1192/bjp.bp.111.096222', 'ISSN': '', 'shortTitle': '', 'url': 'https://doi.org/10.1192%2Fbjp.bp.111.096222', 'accessDate': '2022-12-18', 'archive': '', 'archiveLocation': '', 'libraryCatalog': '', 'callNumber': '', 'rights': '', 'extra': '[]', 'tags': [], 'collections': [], 'relations': {}}\n",
      "Now processing: Mmk7l-6R3FgJ\n",
      "https://serpapi.com/search\n",
      "Lambe, J. L. (2016). Madhouse: Psychiatry and politics in Cuban history. UNC Press Books.\n"
     ]
    },
    {
     "name": "stderr",
     "output_type": "stream",
     "text": [
      "  % Total    % Received % Xferd  Average Speed   Time    Time     Time  Current\n",
      "                                 Dload  Upload   Total   Spent    Left  Speed\n",
      "  0     0    0     0    0     0      0      0 --:--:-- --:--:-- --:--:--     0\n",
      "100   269  100   269    0     0   1388      0 --:--:-- --:--:-- --:--:--  1388\n",
      "100   281    0   281    0     0    740      0 --:--:-- --:--:-- --:--:--   740\n"
     ]
    },
    {
     "name": "stdout",
     "output_type": "stream",
     "text": [
      "{'itemType': 'journalArticle', 'title': 'Madhouse', 'creators': [{'creatorType': 'author', 'firstName': 'Jennifer', 'lastName': 'Lambe'}], 'abstractNote': '', 'publicationTitle': '', 'volume': '', 'issue': '', 'pages': '', 'date': '2017-02-01', 'series': '', 'seriesTitle': '', 'seriesText': '', 'journalAbbreviation': '', 'language': '', 'DOI': '10.5149/northcarolina/9781469631028.001.0001', 'ISSN': '', 'shortTitle': '', 'url': 'https://doi.org/10.5149%2Fnorthcarolina%2F9781469631028.001.0001', 'accessDate': '2022-12-18', 'archive': '', 'archiveLocation': '', 'libraryCatalog': '', 'callNumber': '', 'rights': '', 'extra': '[]', 'tags': [], 'collections': [], 'relations': {}}\n",
      "Now processing: jhYO5qwYegQJ\n",
      "https://serpapi.com/search\n",
      "Van Voren, R. (2010). Cold War in psychiatry: Human factors, secret actors. In Cold War in Psychiatry. Brill.\n"
     ]
    },
    {
     "name": "stderr",
     "output_type": "stream",
     "text": [
      "  % Total    % Received % Xferd  Average Speed   Time    Time     Time  Current\n",
      "                                 Dload  Upload   Total   Spent    Left  Speed\n",
      "  0     0    0     0    0     0      0      0 --:--:-- --:--:-- --:--:--     0\n",
      "100   219  100   219    0     0   1274      0 --:--:-- --:--:-- --:--:--  1274\n",
      "100   223    0   223    0     0    588      0 --:--:-- --:--:-- --:--:--   588\n"
     ]
    },
    {
     "name": "stdout",
     "output_type": "stream",
     "text": [
      "{'itemType': 'journalArticle', 'title': 'Cold War in Psychiatry', 'creators': [{'creatorType': 'author', 'firstName': 'Robert', 'lastName': 'Voren'}], 'abstractNote': '', 'publicationTitle': '', 'volume': '', 'issue': '', 'pages': '', 'date': '2010-01-01', 'series': '', 'seriesTitle': '', 'seriesText': '', 'journalAbbreviation': '', 'language': '', 'DOI': '10.1163/9789042030473', 'ISSN': '', 'shortTitle': '', 'url': 'https://doi.org/10.1163%2F9789042030473', 'accessDate': '2022-12-18', 'archive': '', 'archiveLocation': '', 'libraryCatalog': '', 'callNumber': '', 'rights': '', 'extra': '[]', 'tags': [], 'collections': [], 'relations': {}}\n",
      "Now processing: _nw_kFXSFjwJ\n",
      "https://serpapi.com/search\n",
      "Canetti, D., Galea, S., Hall, B. J., Johnson, R. J., Palmieri, P. A., & Hobfoll, S. E. (2010). Exposure to prolonged socio-political conflict and the risk of PTSD and depression among Palestinians. Psychiatry, 73(3), 219-231.\n"
     ]
    },
    {
     "name": "stderr",
     "output_type": "stream",
     "text": [
      "  % Total    % Received % Xferd  Average Speed   Time    Time     Time  Current\n",
      "                                 Dload  Upload   Total   Spent    Left  Speed\n",
      "  0     0    0     0    0     0      0      0 --:--:-- --:--:-- --:--:--     0\n",
      "100   229  100   229    0     0   1336      0 --:--:-- --:--:-- --:--:--  1336\n",
      "100   547    0   547    0     0   1580      0 --:--:-- --:--:-- --:--:--  3275\n"
     ]
    },
    {
     "name": "stdout",
     "output_type": "stream",
     "text": [
      "{'itemType': 'journalArticle', 'title': 'Exposure to Prolonged Socio-Political Conflict and the Risk of {PTSD} and Depression among Palestinians', 'creators': [{'creatorType': 'author', 'firstName': 'Daphna', 'lastName': 'Canetti'}, {'creatorType': 'author', 'firstName': 'Sandro', 'lastName': 'Galea'}, {'creatorType': 'author', 'firstName': 'Brian', 'lastName': 'Hall'}, {'creatorType': 'author', 'firstName': 'Robert', 'lastName': 'Johnson'}, {'creatorType': 'author', 'firstName': 'Patrick', 'lastName': 'Palmieri'}, {'creatorType': 'author', 'firstName': 'Stevan', 'lastName': 'Hobfoll'}], 'abstractNote': '', 'publicationTitle': 'Psychiatry: Interpersonal and Biological Processes', 'volume': '73', 'issue': '3', 'pages': '', 'date': '2010-09-01', 'series': '', 'seriesTitle': '', 'seriesText': '', 'journalAbbreviation': '', 'language': '', 'DOI': '10.1521/psyc.2010.73.3.219', 'ISSN': '', 'shortTitle': '', 'url': 'https://doi.org/10.1521%2Fpsyc.2010.73.3.219', 'accessDate': '2022-12-18', 'archive': '', 'archiveLocation': '', 'libraryCatalog': '', 'callNumber': '', 'rights': '', 'extra': '[]', 'tags': [], 'collections': [], 'relations': {}}\n",
      "Now processing: ptHRRxZZZGcJ\n",
      "https://serpapi.com/search\n",
      "Engstrom, E. J. (2018). Clinical psychiatry in imperial Germany. In Clinical Psychiatry in Imperial Germany. Cornell University Press.\n"
     ]
    },
    {
     "name": "stderr",
     "output_type": "stream",
     "text": [
      "  % Total    % Received % Xferd  Average Speed   Time    Time     Time  Current\n",
      "                                 Dload  Upload   Total   Spent    Left  Speed\n",
      "  0     0    0     0    0     0      0      0 --:--:-- --:--:-- --:--:--     0\n",
      "100   219  100   219    0     0   1260      0 --:--:-- --:--:-- --:--:--  1260\n",
      "100   256    0   256    0     0    707      0 --:--:-- --:--:-- --:--:--  1954\n"
     ]
    },
    {
     "name": "stdout",
     "output_type": "stream",
     "text": [
      "{'itemType': 'journalArticle', 'title': 'Clinical Psychiatry in Imperial Germany', 'creators': [{'creatorType': 'author', 'firstName': 'Eric', 'lastName': 'Engstrom'}], 'abstractNote': '', 'publicationTitle': '', 'volume': '', 'issue': '', 'pages': '', 'date': '2019-01-01', 'series': '', 'seriesTitle': '', 'seriesText': '', 'journalAbbreviation': '', 'language': '', 'DOI': '10.7591/9781501723940', 'ISSN': '', 'shortTitle': '', 'url': 'https://doi.org/10.7591%2F9781501723940', 'accessDate': '2022-12-18', 'archive': '', 'archiveLocation': '', 'libraryCatalog': '', 'callNumber': '', 'rights': '', 'extra': '[]', 'tags': [], 'collections': [], 'relations': {}}\n",
      "Now processing: k3rdGLjWg8EJ\n",
      "https://serpapi.com/search\n",
      "Ramos, M. A. (2013). Psychiatry, authoritarianism, and revolution: The politics of mental illness during military dictatorships in Argentina, 1966–1983. Bulletin of the History of Medicine, 87(2), 250-278.\n"
     ]
    },
    {
     "name": "stderr",
     "output_type": "stream",
     "text": [
      "  % Total    % Received % Xferd  Average Speed   Time    Time     Time  Current\n",
      "                                 Dload  Upload   Total   Spent    Left  Speed\n",
      "  0     0    0     0    0     0      0      0 --:--:-- --:--:-- --:--:--     0\n",
      "100   219  100   219    0     0   1177      0 --:--:-- --:--:-- --:--:--  1177\n",
      "100   431    0   431    0     0   1172      0 --:--:-- --:--:-- --:--:--     0\n"
     ]
    },
    {
     "name": "stdout",
     "output_type": "stream",
     "text": [
      "{'itemType': 'journalArticle', 'title': 'Psychiatry, Authoritarianism, and Revolution: The Politics of Mental Illness during Military Dictatorships in Argentina, 1966{\\\\textendash}1983', 'creators': [{'creatorType': 'author', 'firstName': 'Marco', 'lastName': 'Ramos'}], 'abstractNote': '', 'publicationTitle': 'Bulletin of the History of Medicine', 'volume': '87', 'issue': '2', 'pages': '', 'date': '2013', 'series': '', 'seriesTitle': '', 'seriesText': '', 'journalAbbreviation': '', 'language': '', 'DOI': '10.1353/bhm.2013.0029', 'ISSN': '', 'shortTitle': '', 'url': 'https://doi.org/10.1353%2Fbhm.2013.0029', 'accessDate': '2022-12-18', 'archive': '', 'archiveLocation': '', 'libraryCatalog': '', 'callNumber': '', 'rights': '', 'extra': '[]', 'tags': [], 'collections': [], 'relations': {}}\n",
      "Now processing: nzvvErk1CpoJ\n",
      "https://serpapi.com/search\n",
      "Barnett, M. (2018). People, not psychiatry. Routledge.\n"
     ]
    },
    {
     "name": "stderr",
     "output_type": "stream",
     "text": [
      "  % Total    % Received % Xferd  Average Speed   Time    Time     Time  Current\n",
      "                                 Dload  Upload   Total   Spent    Left  Speed\n",
      "  0     0    0     0    0     0      0      0 --:--:-- --:--:-- --:--:--     0\n",
      "100   219  100   219    0     0    841      0 --:--:-- --:--:-- --:--:--   841\n",
      "100   222    0   222    0     0    500      0 --:--:-- --:--:-- --:--:--   500\n"
     ]
    },
    {
     "name": "stdout",
     "output_type": "stream",
     "text": [
      "{'itemType': 'journalArticle', 'title': 'People, not Psychiatry', 'creators': [{'creatorType': 'author', 'firstName': 'Michael', 'lastName': 'Barnett'}], 'abstractNote': '', 'publicationTitle': '', 'volume': '', 'issue': '', 'pages': '', 'date': '2018-09-01', 'series': '', 'seriesTitle': '', 'seriesText': '', 'journalAbbreviation': '', 'language': '', 'DOI': '10.4324/9780429460777', 'ISSN': '', 'shortTitle': '', 'url': 'https://doi.org/10.4324%2F9780429460777', 'accessDate': '2022-12-18', 'archive': '', 'archiveLocation': '', 'libraryCatalog': '', 'callNumber': '', 'rights': '', 'extra': '[]', 'tags': [], 'collections': [], 'relations': {}}\n",
      "Now processing: CFuH8zM6Iz0J\n",
      "https://serpapi.com/search\n",
      "Szasz, T. (2019). Psychiatry: The science of lies. Syracuse University Press.\n"
     ]
    },
    {
     "name": "stderr",
     "output_type": "stream",
     "text": [
      "  % Total    % Received % Xferd  Average Speed   Time    Time     Time  Current\n",
      "                                 Dload  Upload   Total   Spent    Left  Speed\n",
      "  0     0    0     0    0     0      0      0 --:--:-- --:--:-- --:--:--     0\n",
      "100   217  100   217    0     0    869      0 --:--:-- --:--:-- --:--:--   869\n",
      "100   219    0   219    0     0    509      0 --:--:-- --:--:-- --:--:--     0\n"
     ]
    },
    {
     "name": "stdout",
     "output_type": "stream",
     "text": [
      "{'itemType': 'journalArticle', 'title': 'Psychiatry', 'creators': [{'creatorType': 'author', 'firstName': 'Thomas', 'lastName': 'Szasz'}], 'abstractNote': '', 'publicationTitle': '', 'volume': '', 'issue': '', 'pages': '', 'date': '2019-02-01', 'series': '', 'seriesTitle': '', 'seriesText': '', 'journalAbbreviation': '', 'language': '', 'DOI': '10.2307/j.ctv17vf3p6', 'ISSN': '', 'shortTitle': '', 'url': 'https://doi.org/10.2307%2Fj.ctv17vf3p6', 'accessDate': '2022-12-18', 'archive': '', 'archiveLocation': '', 'libraryCatalog': '', 'callNumber': '', 'rights': '', 'extra': '[]', 'tags': [], 'collections': [], 'relations': {}}\n",
      "Now processing: UU7jXsCSZa8J\n",
      "https://serpapi.com/search\n",
      "Bloch, S., & Reddaway, P. (2019). Soviet psychiatric abuse: The shadow over world psychiatry. Routledge.\n"
     ]
    },
    {
     "name": "stderr",
     "output_type": "stream",
     "text": [
      "  % Total    % Received % Xferd  Average Speed   Time    Time     Time  Current\n",
      "                                 Dload  Upload   Total   Spent    Left  Speed\n",
      "  0     0    0     0    0     0      0      0 --:--:-- --:--:-- --:--:--     0\n",
      "100   219  100   219    0     0   1184      0 --:--:-- --:--:-- --:--:--  1184\n",
      "100   238    0   238    0     0    671      0 --:--:-- --:--:-- --:--:--   671\n"
     ]
    },
    {
     "name": "stdout",
     "output_type": "stream",
     "text": [
      "{'itemType': 'journalArticle', 'title': 'Soviet Psychiatric Abuse', 'creators': [{'creatorType': 'author', 'firstName': 'Sidney', 'lastName': 'Bloch'}, {'creatorType': 'author', 'firstName': 'Peter', 'lastName': 'Reddaway'}], 'abstractNote': '', 'publicationTitle': '', 'volume': '', 'issue': '', 'pages': '', 'date': '2019-07-01', 'series': '', 'seriesTitle': '', 'seriesText': '', 'journalAbbreviation': '', 'language': '', 'DOI': '10.4324/9780429307119', 'ISSN': '', 'shortTitle': '', 'url': 'https://doi.org/10.4324%2F9780429307119', 'accessDate': '2022-12-18', 'archive': '', 'archiveLocation': '', 'libraryCatalog': '', 'callNumber': '', 'rights': '', 'extra': '[]', 'tags': [], 'collections': [], 'relations': {}}\n",
      "Now processing: znYBpsJ2-C8J\n",
      "https://serpapi.com/search\n",
      "Kirmayer, L. J., & Gold, I. (2012). Re-socializing psychiatry. Critical neuroscience, 305-330.\n"
     ]
    },
    {
     "name": "stderr",
     "output_type": "stream",
     "text": [
      "  % Total    % Received % Xferd  Average Speed   Time    Time     Time  Current\n",
      "                                 Dload  Upload   Total   Spent    Left  Speed\n",
      "  0     0    0     0    0     0      0      0 --:--:-- --:--:-- --:--:--     0\n",
      "100   229  100   229    0     0   1424      0 --:--:-- --:--:-- --:--:--  1424\n",
      "100   271    0   271    0     0    797      0 --:--:-- --:--:-- --:--:--   797\n"
     ]
    },
    {
     "name": "stdout",
     "output_type": "stream",
     "text": [
      "{'itemType': 'journalArticle', 'title': 'Re-Socializing Psychiatry', 'creators': [{'creatorType': 'author', 'firstName': 'Laurence', 'lastName': 'Kirmayer'}, {'creatorType': 'author', 'firstName': 'Ian', 'lastName': 'Gold'}], 'abstractNote': '', 'publicationTitle': '', 'volume': '', 'issue': '', 'pages': '', 'date': '2011-09-01', 'series': '', 'seriesTitle': '', 'seriesText': '', 'journalAbbreviation': '', 'language': '', 'DOI': '10.1002/9781444343359.ch15', 'ISSN': '', 'shortTitle': '', 'url': 'https://doi.org/10.1002%2F9781444343359.ch15', 'accessDate': '2022-12-18', 'archive': '', 'archiveLocation': '', 'libraryCatalog': '', 'callNumber': '', 'rights': '', 'extra': '[]', 'tags': [], 'collections': [], 'relations': {}}\n",
      "Now processing: wST5GJhc4nYJ\n",
      "https://serpapi.com/search\n",
      "Gao, Z. (2021). Mental Health and Psychiatry During the Maoist Era: 1949–1976. Mental health in China and the Chinese diaspora: Historical and cultural perspectives, 41-55.\n"
     ]
    },
    {
     "name": "stderr",
     "output_type": "stream",
     "text": [
      "  % Total    % Received % Xferd  Average Speed   Time    Time     Time  Current\n",
      "                                 Dload  Upload   Total   Spent    Left  Speed\n",
      "  0     0    0     0    0     0      0      0 --:--:-- --:--:-- --:--:--     0\n",
      "100   231  100   231    0     0   1171      0 --:--:-- --:--:-- --:--:--  2887\n",
      "100   366    0   366    0     0    924      0 --:--:-- --:--:-- --:--:--   924\n"
     ]
    },
    {
     "name": "stdout",
     "output_type": "stream",
     "text": [
      "{'itemType': 'journalArticle', 'title': 'Mental Health and Psychiatry During the Maoist Era: 1949{\\\\textendash}1976', 'creators': [{'creatorType': 'author', 'firstName': 'Zhipeng', 'lastName': 'Gao'}], 'abstractNote': '', 'publicationTitle': '', 'volume': '', 'issue': '', 'pages': '', 'date': '2021', 'series': '', 'seriesTitle': '', 'seriesText': '', 'journalAbbreviation': '', 'language': '', 'DOI': '10.1007/978-3-030-65161-9_4', 'ISSN': '', 'shortTitle': '', 'url': 'https://doi.org/10.1007%2F978-3-030-65161-9_4', 'accessDate': '2022-12-18', 'archive': '', 'archiveLocation': '', 'libraryCatalog': '', 'callNumber': '', 'rights': '', 'extra': '[]', 'tags': [], 'collections': [], 'relations': {}}\n",
      "0\n",
      "https://serpapi.com/search\n",
      "0\n",
      "This should've returned 0 (sucess)\n",
      "Now processing: lTjGhcveFE4J\n",
      "https://serpapi.com/search\n",
      "Di Carlo, F., Sociali, A., Picutti, E., Pettorruso, M., Vellante, F., Verrastro, V., ... & di Giannantonio, M. (2021). Telepsychiatry and other cutting‐edge technologies in COVID‐19 pandemic: Bridging the distance in mental health assistance. International Journal of Clinical Practice, 75(1).\n"
     ]
    },
    {
     "name": "stderr",
     "output_type": "stream",
     "text": [
      "  % Total    % Received % Xferd  Average Speed   Time    Time     Time  Current\n",
      "                                 Dload  Upload   Total   Spent    Left  Speed\n",
      "  0     0    0     0    0     0      0      0 --:--:-- --:--:-- --:--:--     0\n",
      "100   213  100   213    0     0   1234      0 --:--:-- --:--:-- --:--:--  1234\n",
      "100   576    0   576    0     0   1665      0 --:--:-- --:--:-- --:--:--  1665\n"
     ]
    },
    {
     "name": "stdout",
     "output_type": "stream",
     "text": [
      "{'itemType': 'journalArticle', 'title': 'Telepsychiatry and other cutting-edge technologies in {COVID}-19 pandemic: Bridging the distance in mental health assistance', 'creators': [{'creatorType': 'author', 'firstName': 'Francesco', 'lastName': 'Carlo'}, {'creatorType': 'author', 'firstName': 'Antonella', 'lastName': 'Sociali'}, {'creatorType': 'author', 'firstName': 'Elena', 'lastName': 'Picutti'}, {'creatorType': 'author', 'firstName': 'Mauro', 'lastName': 'Pettorruso'}, {'creatorType': 'author', 'firstName': 'Federica', 'lastName': 'Vellante'}, {'creatorType': 'author', 'firstName': 'Valeria', 'lastName': 'Verrastro'}, {'creatorType': 'author', 'firstName': 'Giovanni', 'lastName': 'Martinotti'}, {'creatorType': 'author', 'firstName': 'Massimo', 'lastName': 'Giannantonio'}], 'abstractNote': '', 'publicationTitle': 'International Journal of Clinical Practice', 'volume': '75', 'issue': '1', 'pages': '', 'date': '2020-10-01', 'series': '', 'seriesTitle': '', 'seriesText': '', 'journalAbbreviation': '', 'language': '', 'DOI': '10.1111/ijcp.13716', 'ISSN': '', 'shortTitle': '', 'url': 'https://doi.org/10.1111%2Fijcp.13716', 'accessDate': '2022-12-18', 'archive': '', 'archiveLocation': '', 'libraryCatalog': '', 'callNumber': '', 'rights': '', 'extra': '[]', 'tags': [], 'collections': [], 'relations': {}}\n",
      "Now processing: LTv2wNFsLusJ\n",
      "https://serpapi.com/search\n",
      "Park, Y. S., Park, S. M., Jun, J. Y., & Kim, S. J. (2014). Psychiatry in former socialist countries: implications for North Korean psychiatry. Psychiatry investigation, 11(4), 363.\n"
     ]
    },
    {
     "name": "stderr",
     "output_type": "stream",
     "text": [
      "  % Total    % Received % Xferd  Average Speed   Time    Time     Time  Current\n",
      "                                 Dload  Upload   Total   Spent    Left  Speed\n",
      "  0     0    0     0    0     0      0      0 --:--:-- --:--:-- --:--:--     0\n",
      "100   225  100   225    0     0   1160      0 --:--:-- --:--:-- --:--:--  1160\n",
      "100   433    0   433    0     0   1059      0 --:--:-- --:--:-- --:--:--  1059\n"
     ]
    },
    {
     "name": "stdout",
     "output_type": "stream",
     "text": [
      "{'itemType': 'journalArticle', 'title': 'Psychiatry in Former Socialist Countries: Implications for North Korean Psychiatry', 'creators': [{'creatorType': 'author', 'firstName': 'Young', 'lastName': 'Park'}, {'creatorType': 'author', 'firstName': 'Sang', 'lastName': 'Park'}, {'creatorType': 'author', 'firstName': 'Jin', 'lastName': 'Jun'}, {'creatorType': 'author', 'firstName': 'Seog', 'lastName': 'Kim'}], 'abstractNote': '', 'publicationTitle': 'Psychiatry Investigation', 'volume': '11', 'issue': '4', 'pages': '', 'date': '2014', 'series': '', 'seriesTitle': '', 'seriesText': '', 'journalAbbreviation': '', 'language': '', 'DOI': '10.4306/pi.2014.11.4.363', 'ISSN': '', 'shortTitle': '', 'url': 'https://doi.org/10.4306%2Fpi.2014.11.4.363', 'accessDate': '2022-12-18', 'archive': '', 'archiveLocation': '', 'libraryCatalog': '', 'callNumber': '', 'rights': '', 'extra': '[]', 'tags': [], 'collections': [], 'relations': {}}\n",
      "Now processing: 6Jc0MIiGdTQJ\n",
      "https://serpapi.com/search\n",
      "De Risio, L., Borgi, M., Pettorruso, M., Miuli, A., Ottomana, A. M., Sociali, A., ... & Zoratto, F. (2020). Recovering from depression with repetitive transcranial magnetic stimulation (rTMS): a systematic review and meta-analysis of preclinical studies. Translational psychiatry, 10(1), 1-19.\n"
     ]
    },
    {
     "name": "stderr",
     "output_type": "stream",
     "text": [
      "  % Total    % Received % Xferd  Average Speed   Time    Time     Time  Current\n",
      "                                 Dload  Upload   Total   Spent    Left  Speed\n",
      "  0     0    0     0    0     0      0      0 --:--:-- --:--:-- --:--:--     0\n",
      "100   229  100   229    0     0   1287      0 --:--:-- --:--:-- --:--:--  1287\n",
      "100   688    0   688    0     0   1911      0 --:--:-- --:--:-- --:--:--  1911\n"
     ]
    },
    {
     "name": "stdout",
     "output_type": "stream",
     "text": [
      "{'itemType': 'journalArticle', 'title': 'Recovering from depression with repetitive transcranial magnetic stimulation ({rTMS}): a systematic review and meta-analysis of preclinical studies', 'creators': [{'creatorType': 'author', 'firstName': 'Luisa', 'lastName': 'Risio'}, {'creatorType': 'author', 'firstName': 'Marta', 'lastName': 'Borgi'}, {'creatorType': 'author', 'firstName': 'Mauro', 'lastName': 'Pettorruso'}, {'creatorType': 'author', 'firstName': 'Andrea', 'lastName': 'Miuli'}, {'creatorType': 'author', 'firstName': 'Angela', 'lastName': 'Ottomana'}, {'creatorType': 'author', 'firstName': 'Antonella', 'lastName': 'Sociali'}, {'creatorType': 'author', 'firstName': 'Giovanni', 'lastName': 'Martinotti'}, {'creatorType': 'author', 'firstName': 'Giuseppe', 'lastName': 'Nicol{\\\\`{o}}'}, {'creatorType': 'author', 'firstName': 'Simone', 'lastName': 'Macr{\\\\`{\\\\i}}'}, {'creatorType': 'author', 'firstName': 'Massimo', 'lastName': 'Giannantonio'}, {'creatorType': 'author', 'firstName': 'Francesca', 'lastName': 'Zoratto'}], 'abstractNote': '', 'publicationTitle': 'Translational Psychiatry', 'volume': '10', 'issue': '1', 'pages': '', 'date': '2020-11-01', 'series': '', 'seriesTitle': '', 'seriesText': '', 'journalAbbreviation': '', 'language': '', 'DOI': '10.1038/s41398-020-01055-2', 'ISSN': '', 'shortTitle': '', 'url': 'https://doi.org/10.1038%2Fs41398-020-01055-2', 'accessDate': '2022-12-18', 'archive': '', 'archiveLocation': '', 'libraryCatalog': '', 'callNumber': '', 'rights': '', 'extra': '[]', 'tags': [], 'collections': [], 'relations': {}}\n",
      "Now processing: t7-RLRF0dtkJ\n",
      "https://serpapi.com/search\n",
      "Savelli, M. (2018). Beyond ideological platitudes: socialism and psychiatry in Eastern Europe. Palgrave communications, 4(1), 1-8.\n"
     ]
    },
    {
     "name": "stderr",
     "output_type": "stream",
     "text": [
      "  % Total    % Received % Xferd  Average Speed   Time    Time     Time  Current\n",
      "                                 Dload  Upload   Total   Spent    Left  Speed\n",
      "  0     0    0     0    0     0      0      0 --:--:-- --:--:-- --:--:--     0\n",
      "100   227  100   227    0     0   1058      0 --:--:-- --:--:-- --:--:--  1058\n",
      "100   380    0   380    0     0    920      0 --:--:-- --:--:-- --:--:--   920\n"
     ]
    },
    {
     "name": "stdout",
     "output_type": "stream",
     "text": [
      "{'itemType': 'journalArticle', 'title': 'Beyond ideological platitudes: socialism and psychiatry in Eastern Europe', 'creators': [{'creatorType': 'author', 'firstName': 'Mat', 'lastName': 'Savelli'}], 'abstractNote': '', 'publicationTitle': 'Palgrave Communications', 'volume': '4', 'issue': '1', 'pages': '', 'date': '2018-04-01', 'series': '', 'seriesTitle': '', 'seriesText': '', 'journalAbbreviation': '', 'language': '', 'DOI': '10.1057/s41599-018-0100-1', 'ISSN': '', 'shortTitle': '', 'url': 'https://doi.org/10.1057%2Fs41599-018-0100-1', 'accessDate': '2022-12-18', 'archive': '', 'archiveLocation': '', 'libraryCatalog': '', 'callNumber': '', 'rights': '', 'extra': '[]', 'tags': [], 'collections': [], 'relations': {}}\n",
      "Now processing: 1q57WTFVDaEJ\n",
      "https://serpapi.com/search\n",
      "Schneider, F. (2011). Psychiatry under National Socialism: remembrance and responsibility. European archives of psychiatry and clinical neuroscience, 261(2), 111-118.\n"
     ]
    },
    {
     "name": "stderr",
     "output_type": "stream",
     "text": [
      "  % Total    % Received % Xferd  Average Speed   Time    Time     Time  Current\n",
      "                                 Dload  Upload   Total   Spent    Left  Speed\n",
      "  0     0    0     0    0     0      0      0 --:--:-- --:--:-- --:--:--     0\n",
      "100   227  100   227    0     0   1277      0 --:--:-- --:--:-- --:--:--  1277\n",
      "100   438    0   438    0     0   1179      0 --:--:-- --:--:-- --:--:--  1179\n"
     ]
    },
    {
     "name": "stdout",
     "output_type": "stream",
     "text": [
      "{'itemType': 'journalArticle', 'title': 'Psychiatry under National Socialism: Remembrance and Responsibility', 'creators': [{'creatorType': 'author', 'firstName': 'Frank', 'lastName': 'Schneider'}], 'abstractNote': '', 'publicationTitle': 'European Archives of Psychiatry and Clinical Neuroscience', 'volume': '261', 'issue': 'S2', 'pages': '', 'date': '2011-09-01', 'series': '', 'seriesTitle': '', 'seriesText': '', 'journalAbbreviation': '', 'language': '', 'DOI': '10.1007/s00406-011-0243-1', 'ISSN': '', 'shortTitle': '', 'url': 'https://doi.org/10.1007%2Fs00406-011-0243-1', 'accessDate': '2022-12-18', 'archive': '', 'archiveLocation': '', 'libraryCatalog': '', 'callNumber': '', 'rights': '', 'extra': '[]', 'tags': [], 'collections': [], 'relations': {}}\n",
      "Now processing: ThPsZ3oiIs0J\n",
      "https://serpapi.com/search\n",
      "Martinotti, G., Alessi, M. C., Di Natale, C., Sociali, A., Ceci, F., Lucidi, L., ... & di Giannantonio, M. (2020). Psychopathological burden and quality of life in substance users during the COVID-19 lockdown period in Italy. Frontiers in Psychiatry, 11, 572245.\n"
     ]
    },
    {
     "name": "stderr",
     "output_type": "stream",
     "text": [
      "  % Total    % Received % Xferd  Average Speed   Time    Time     Time  Current\n",
      "                                 Dload  Upload   Total   Spent    Left  Speed\n",
      "  0     0    0     0    0     0      0      0 --:--:-- --:--:-- --:--:--     0\n",
      "100   227  100   227    0     0   1205      0 --:--:-- --:--:-- --:--:--  1205\n",
      "100   913    0   913    0     0   2444      0 --:--:-- --:--:-- --:--:--  2444\n"
     ]
    },
    {
     "name": "stdout",
     "output_type": "stream",
     "text": [
      "{'itemType': 'journalArticle', 'title': 'Psychopathological Burden and Quality of Life in Substance Users During the {COVID}-19 Lockdown Period in Italy', 'creators': [{'creatorType': 'author', 'firstName': 'Giovanni', 'lastName': 'Martinotti'}, {'creatorType': 'author', 'firstName': 'Maria', 'lastName': 'Alessi'}, {'creatorType': 'author', 'firstName': 'Chiara', 'lastName': 'Natale'}, {'creatorType': 'author', 'firstName': 'Antonella', 'lastName': 'Sociali'}, {'creatorType': 'author', 'firstName': 'Franca', 'lastName': 'Ceci'}, {'creatorType': 'author', 'firstName': 'Lorenza', 'lastName': 'Lucidi'}, {'creatorType': 'author', 'firstName': 'Elena', 'lastName': 'Picutti'}, {'creatorType': 'author', 'firstName': 'Francesco', 'lastName': 'Carlo'}, {'creatorType': 'author', 'firstName': 'Mariangela', 'lastName': 'Corbo'}, {'creatorType': 'author', 'firstName': 'Federica', 'lastName': 'Vellante'}, {'creatorType': 'author', 'firstName': 'Federica', 'lastName': 'Fiori'}, {'creatorType': 'author', 'firstName': 'Gaia', 'lastName': 'Tourjansky'}, {'creatorType': 'author', 'firstName': 'Gabriella', 'lastName': 'Catalano'}, {'creatorType': 'author', 'firstName': 'Maria', 'lastName': 'Carenti'}, {'creatorType': 'author', 'firstName': 'Chiara', 'lastName': 'Incerti'}, {'creatorType': 'author', 'firstName': 'Luigi', 'lastName': 'Bartoletti'}, {'creatorType': 'author', 'firstName': 'Stefano', 'lastName': 'Barlati'}, {'creatorType': 'author', 'firstName': 'Vincenzo', 'lastName': 'Romeo'}, {'creatorType': 'author', 'firstName': 'Valeria', 'lastName': 'Verrastro'}, {'creatorType': 'author', 'firstName': 'Fabio', 'lastName': 'Giorgio'}, {'creatorType': 'author', 'firstName': 'Alessandro', 'lastName': 'Valchera'}, {'creatorType': 'author', 'firstName': 'Gianna', 'lastName': 'Sepede'}, {'creatorType': 'author', 'firstName': 'Pietro', 'lastName': 'Casella'}, {'creatorType': 'author', 'firstName': 'Mauro', 'lastName': 'Pettorruso'}, {'creatorType': 'author', 'firstName': 'Massimo', 'lastName': 'Giannantonio'}], 'abstractNote': '', 'publicationTitle': 'Frontiers in Psychiatry', 'volume': '11', 'issue': '', 'pages': '', 'date': '2020-09-01', 'series': '', 'seriesTitle': '', 'seriesText': '', 'journalAbbreviation': '', 'language': '', 'DOI': '10.3389/fpsyt.2020.572245', 'ISSN': '', 'shortTitle': '', 'url': 'https://doi.org/10.3389%2Ffpsyt.2020.572245', 'accessDate': '2022-12-18', 'archive': '', 'archiveLocation': '', 'libraryCatalog': '', 'callNumber': '', 'rights': '', 'extra': '[]', 'tags': [], 'collections': [], 'relations': {}}\n",
      "Now processing: wR8qqnTrUMYJ\n",
      "https://serpapi.com/search\n",
      "Braun, B. (2020). Person and ethics of a psychiatrist during National Socialism: Friedrich Meggendorfer (1880–1953). History of Psychiatry, 31(1), 93-104.\n"
     ]
    },
    {
     "name": "stderr",
     "output_type": "stream",
     "text": [
      "  % Total    % Received % Xferd  Average Speed   Time    Time     Time  Current\n",
      "                                 Dload  Upload   Total   Spent    Left  Speed\n",
      "  0     0    0     0    0     0      0      0 --:--:-- --:--:-- --:--:--     0\n",
      "100   225  100   225    0     0    914      0 --:--:-- --:--:-- --:--:--   914\n",
      "100   410    0   410    0     0    935      0 --:--:-- --:--:-- --:--:--   935\n"
     ]
    },
    {
     "name": "stdout",
     "output_type": "stream",
     "text": [
      "{'itemType': 'journalArticle', 'title': 'Person and ethics of a psychiatrist during National Socialism: Friedrich Meggendorfer (1880{\\\\textendash}1953)', 'creators': [{'creatorType': 'author', 'firstName': 'Birgit', 'lastName': 'Braun'}], 'abstractNote': '', 'publicationTitle': 'History of Psychiatry', 'volume': '31', 'issue': '1', 'pages': '', 'date': '2019-11-01', 'series': '', 'seriesTitle': '', 'seriesText': '', 'journalAbbreviation': '', 'language': '', 'DOI': '10.1177/0957154x19886272', 'ISSN': '', 'shortTitle': '', 'url': 'https://doi.org/10.1177%2F0957154x19886272', 'accessDate': '2022-12-18', 'archive': '', 'archiveLocation': '', 'libraryCatalog': '', 'callNumber': '', 'rights': '', 'extra': '[]', 'tags': [], 'collections': [], 'relations': {}}\n",
      "Now processing: FW37ebuZQTMJ\n",
      "https://serpapi.com/search\n",
      "Czech, H. (2018). Hans Asperger, national socialism, and “race hygiene” in Nazi-era Vienna. Molecular autism, 9(1), 1-43.\n"
     ]
    },
    {
     "name": "stderr",
     "output_type": "stream",
     "text": [
      "  % Total    % Received % Xferd  Average Speed   Time    Time     Time  Current\n",
      "                                 Dload  Upload   Total   Spent    Left  Speed\n",
      "  0     0    0     0    0     0      0      0 --:--:-- --:--:-- --:--:--     0\n",
      "100   227  100   227    0     0   1261      0 --:--:-- --:--:-- --:--:--  1261\n",
      "100   408    0   408    0     0   1131      0 --:--:-- --:--:-- --:--:--  1131\n"
     ]
    },
    {
     "name": "stdout",
     "output_type": "stream",
     "text": [
      "{'itemType': 'journalArticle', 'title': 'Hans Asperger, National Socialism, and {\\\\textquotedblleft}race hygiene{\\\\textquotedblright} in Nazi-era Vienna', 'creators': [{'creatorType': 'author', 'firstName': 'Herwig', 'lastName': 'Czech'}], 'abstractNote': '', 'publicationTitle': 'Molecular Autism', 'volume': '9', 'issue': '1', 'pages': '', 'date': '2018-04-01', 'series': '', 'seriesTitle': '', 'seriesText': '', 'journalAbbreviation': '', 'language': '', 'DOI': '10.1186/s13229-018-0208-6', 'ISSN': '', 'shortTitle': '', 'url': 'https://doi.org/10.1186%2Fs13229-018-0208-6', 'accessDate': '2022-12-18', 'archive': '', 'archiveLocation': '', 'libraryCatalog': '', 'callNumber': '', 'rights': '', 'extra': '[]', 'tags': [], 'collections': [], 'relations': {}}\n",
      "Now processing: IZBRsgdKwaQJ\n",
      "https://serpapi.com/search\n",
      "Martinotti, G., Alessi, M. C., Di Natale, C., Sociali, A., Ceci, F., Lucidi, L., ... & di Giannantonio, M. (2022). Psychopathological burden and quality of life in substance users during the COVID-19 lockdown period in Italy. Front. Drug and Behavioral Addictions During Social-Distancing for the COVID-19 Pandemic, 11, 572245.\n"
     ]
    },
    {
     "name": "stderr",
     "output_type": "stream",
     "text": [
      "  % Total    % Received % Xferd  Average Speed   Time    Time     Time  Current\n",
      "                                 Dload  Upload   Total   Spent    Left  Speed\n",
      "  0     0    0     0    0     0      0      0 --:--:-- --:--:-- --:--:--     0\n",
      "100   227  100   227    0     0   1328      0 --:--:-- --:--:-- --:--:--  1328\n",
      "100   913    0   913    0     0   2481      0 --:--:-- --:--:-- --:--:--  2481\n"
     ]
    },
    {
     "name": "stdout",
     "output_type": "stream",
     "text": [
      "{'itemType': 'journalArticle', 'title': 'Psychopathological Burden and Quality of Life in Substance Users During the {COVID}-19 Lockdown Period in Italy', 'creators': [{'creatorType': 'author', 'firstName': 'Giovanni', 'lastName': 'Martinotti'}, {'creatorType': 'author', 'firstName': 'Maria', 'lastName': 'Alessi'}, {'creatorType': 'author', 'firstName': 'Chiara', 'lastName': 'Natale'}, {'creatorType': 'author', 'firstName': 'Antonella', 'lastName': 'Sociali'}, {'creatorType': 'author', 'firstName': 'Franca', 'lastName': 'Ceci'}, {'creatorType': 'author', 'firstName': 'Lorenza', 'lastName': 'Lucidi'}, {'creatorType': 'author', 'firstName': 'Elena', 'lastName': 'Picutti'}, {'creatorType': 'author', 'firstName': 'Francesco', 'lastName': 'Carlo'}, {'creatorType': 'author', 'firstName': 'Mariangela', 'lastName': 'Corbo'}, {'creatorType': 'author', 'firstName': 'Federica', 'lastName': 'Vellante'}, {'creatorType': 'author', 'firstName': 'Federica', 'lastName': 'Fiori'}, {'creatorType': 'author', 'firstName': 'Gaia', 'lastName': 'Tourjansky'}, {'creatorType': 'author', 'firstName': 'Gabriella', 'lastName': 'Catalano'}, {'creatorType': 'author', 'firstName': 'Maria', 'lastName': 'Carenti'}, {'creatorType': 'author', 'firstName': 'Chiara', 'lastName': 'Incerti'}, {'creatorType': 'author', 'firstName': 'Luigi', 'lastName': 'Bartoletti'}, {'creatorType': 'author', 'firstName': 'Stefano', 'lastName': 'Barlati'}, {'creatorType': 'author', 'firstName': 'Vincenzo', 'lastName': 'Romeo'}, {'creatorType': 'author', 'firstName': 'Valeria', 'lastName': 'Verrastro'}, {'creatorType': 'author', 'firstName': 'Fabio', 'lastName': 'Giorgio'}, {'creatorType': 'author', 'firstName': 'Alessandro', 'lastName': 'Valchera'}, {'creatorType': 'author', 'firstName': 'Gianna', 'lastName': 'Sepede'}, {'creatorType': 'author', 'firstName': 'Pietro', 'lastName': 'Casella'}, {'creatorType': 'author', 'firstName': 'Mauro', 'lastName': 'Pettorruso'}, {'creatorType': 'author', 'firstName': 'Massimo', 'lastName': 'Giannantonio'}], 'abstractNote': '', 'publicationTitle': 'Frontiers in Psychiatry', 'volume': '11', 'issue': '', 'pages': '', 'date': '2020-09-01', 'series': '', 'seriesTitle': '', 'seriesText': '', 'journalAbbreviation': '', 'language': '', 'DOI': '10.3389/fpsyt.2020.572245', 'ISSN': '', 'shortTitle': '', 'url': 'https://doi.org/10.3389%2Ffpsyt.2020.572245', 'accessDate': '2022-12-18', 'archive': '', 'archiveLocation': '', 'libraryCatalog': '', 'callNumber': '', 'rights': '', 'extra': '[]', 'tags': [], 'collections': [], 'relations': {}}\n",
      "Now processing: ZQMbFB6Gh6EJ\n",
      "https://serpapi.com/search\n",
      "Rzesnitzek, L. (2019). The introduction of leucotomy in Germany: National Socialism, émigrés, a divided Germany and the development of neurosurgery. History of Psychiatry, 30(3), 325-335.\n"
     ]
    },
    {
     "name": "stderr",
     "output_type": "stream",
     "text": [
      "  % Total    % Received % Xferd  Average Speed   Time    Time     Time  Current\n",
      "                                 Dload  Upload   Total   Spent    Left  Speed\n",
      "  0     0    0     0    0     0      0      0 --:--:-- --:--:-- --:--:--     0\n",
      "100   225  100   225    0     0   1020      0 --:--:-- --:--:-- --:--:--  1020\n",
      "100   446    0   446    0     0   1103      0 --:--:-- --:--:-- --:--:--  1103\n"
     ]
    },
    {
     "name": "stdout",
     "output_type": "stream",
     "text": [
      "{'itemType': 'journalArticle', 'title': \"The introduction of leucotomy in Germany: National Socialism, {\\\\'{e}}migr{\\\\'{e}}s, a divided Germany and the development of neurosurgery\", 'creators': [{'creatorType': 'author', 'firstName': 'Lara', 'lastName': 'Rzesnitzek'}], 'abstractNote': '', 'publicationTitle': 'History of Psychiatry', 'volume': '30', 'issue': '3', 'pages': '', 'date': '2019-04-01', 'series': '', 'seriesTitle': '', 'seriesText': '', 'journalAbbreviation': '', 'language': '', 'DOI': '10.1177/0957154x19843036', 'ISSN': '', 'shortTitle': '', 'url': 'https://doi.org/10.1177%2F0957154x19843036', 'accessDate': '2022-12-18', 'archive': '', 'archiveLocation': '', 'libraryCatalog': '', 'callNumber': '', 'rights': '', 'extra': '[]', 'tags': [], 'collections': [], 'relations': {}}\n",
      "Now processing: 3iI3E1cV0b8J\n",
      "https://serpapi.com/search\n",
      "Zeidman, L. A., von Villiez, A., Stellmann, J. P., & van den Bussche, H. (2016). “History had taken such a large piece out of my life”—Neuroscientist refugees from Hamburg during National Socialism. Journal of the History of the Neurosciences, 25(3), 275-298.\n"
     ]
    },
    {
     "name": "stderr",
     "output_type": "stream",
     "text": [
      "  % Total    % Received % Xferd  Average Speed   Time    Time     Time  Current\n",
      "                                 Dload  Upload   Total   Spent    Left  Speed\n",
      "  0     0    0     0    0     0      0      0 --:--:-- --:--:-- --:--:--     0\n",
      "100   235  100   235    0     0   1349      0 --:--:-- --:--:-- --:--:--  1349\n",
      "100   586    0   586    0     0   1610      0 --:--:-- --:--:-- --:--:--  1610\n"
     ]
    },
    {
     "name": "stdout",
     "output_type": "stream",
     "text": [
      "{'itemType': 'journalArticle', 'title': '{\\\\textquotedblleft}History had taken such a large piece out of my life{\\\\textquotedblright} {\\\\textemdash} Neuroscientist refugees from Hamburg during National Socialism', 'creators': [{'creatorType': 'author', 'firstName': 'Lawrence', 'lastName': 'Zeidman'}, {'creatorType': 'author', 'firstName': 'Anna', 'lastName': 'Villiez'}, {'creatorType': 'author', 'firstName': 'Jan-Patrick', 'lastName': 'Stellmann'}, {'creatorType': 'author', 'firstName': 'Hendrik', 'lastName': 'Bussche'}], 'abstractNote': '', 'publicationTitle': 'Journal of the History of the Neurosciences', 'volume': '25', 'issue': '3', 'pages': '', 'date': '2016-02-01', 'series': '', 'seriesTitle': '', 'seriesText': '', 'journalAbbreviation': '', 'language': '', 'DOI': '10.1080/0964704x.2015.1121696', 'ISSN': '', 'shortTitle': '', 'url': 'https://doi.org/10.1080%2F0964704x.2015.1121696', 'accessDate': '2022-12-18', 'archive': '', 'archiveLocation': '', 'libraryCatalog': '', 'callNumber': '', 'rights': '', 'extra': '[]', 'tags': [], 'collections': [], 'relations': {}}\n",
      "Now processing: HeJynx5yT0wJ\n",
      "https://serpapi.com/search\n",
      "Schmuhl, H. W. (2011). Resources for each other.” The society of German neurologists and psychiatrists and the Nazi “health leadership. European archives of psychiatry and clinical neuroscience, 261(2), 197-201.\n"
     ]
    },
    {
     "name": "stderr",
     "output_type": "stream",
     "text": [
      "  % Total    % Received % Xferd  Average Speed   Time    Time     Time  Current\n",
      "                                 Dload  Upload   Total   Spent    Left  Speed\n",
      "  0     0    0     0    0     0      0      0 --:--:-- --:--:-- --:--:--     0\n",
      "100   227  100   227    0     0   1103      0 --:--:-- --:--:-- --:--:--  1103\n",
      "100   560    0   560    0     0   1453      0 --:--:-- --:--:-- --:--:--  1453\n"
     ]
    },
    {
     "name": "stdout",
     "output_type": "stream",
     "text": [
      "{'itemType': 'journalArticle', 'title': '{\\\\textquotedblleft}Resources for each other.{\\\\textquotedblright} The society of German neurologists and psychiatrists and the Nazi {\\\\textquotedblleft}health leadership{\\\\textquotedblright}', 'creators': [{'creatorType': 'author', 'firstName': 'Hans-Walter', 'lastName': 'Schmuhl'}], 'abstractNote': '', 'publicationTitle': 'European Archives of Psychiatry and Clinical Neuroscience', 'volume': '261', 'issue': 'S2', 'pages': '', 'date': '2011-08-01', 'series': '', 'seriesTitle': '', 'seriesText': '', 'journalAbbreviation': '', 'language': '', 'DOI': '10.1007/s00406-011-0248-9', 'ISSN': '', 'shortTitle': '', 'url': 'https://doi.org/10.1007%2Fs00406-011-0248-9', 'accessDate': '2022-12-18', 'archive': '', 'archiveLocation': '', 'libraryCatalog': '', 'callNumber': '', 'rights': '', 'extra': '[]', 'tags': [], 'collections': [], 'relations': {}}\n",
      "Now processing: W4SUUSK_0j8J\n",
      "https://serpapi.com/search\n",
      "Weindling, P., von Villiez, A., Loewenau, A., & Farron, N. (2016). The victims of unethical human experiments and coerced research under National Socialism. Endeavour, 40(1), 1-6.\n"
     ]
    },
    {
     "name": "stderr",
     "output_type": "stream",
     "text": [
      "  % Total    % Received % Xferd  Average Speed   Time    Time     Time  Current\n",
      "                                 Dload  Upload   Total   Spent    Left  Speed\n",
      "  0     0    0     0    0     0      0      0 --:--:-- --:--:-- --:--:--     0\n",
      "100   239  100   239    0     0   1394      0 --:--:-- --:--:-- --:--:--  1394\n",
      "100   452    0   452    0     0   1275      0 --:--:-- --:--:-- --:--:--  1275\n"
     ]
    },
    {
     "name": "stdout",
     "output_type": "stream",
     "text": [
      "{'itemType': 'journalArticle', 'title': 'The victims of unethical human experiments and coerced research under National Socialism', 'creators': [{'creatorType': 'author', 'firstName': 'Paul', 'lastName': 'Weindling'}, {'creatorType': 'author', 'firstName': 'Anna', 'lastName': 'Villiez'}, {'creatorType': 'author', 'firstName': 'Aleksandra', 'lastName': 'Loewenau'}, {'creatorType': 'author', 'firstName': 'Nichola', 'lastName': 'Farron'}], 'abstractNote': '', 'publicationTitle': 'Endeavour', 'volume': '40', 'issue': '1', 'pages': '', 'date': '2016-03-01', 'series': '', 'seriesTitle': '', 'seriesText': '', 'journalAbbreviation': '', 'language': '', 'DOI': '10.1016/j.endeavour.2015.10.005', 'ISSN': '', 'shortTitle': '', 'url': 'https://doi.org/10.1016%2Fj.endeavour.2015.10.005', 'accessDate': '2022-12-18', 'archive': '', 'archiveLocation': '', 'libraryCatalog': '', 'callNumber': '', 'rights': '', 'extra': '[]', 'tags': [], 'collections': [], 'relations': {}}\n",
      "Now processing: CvA_HhbwsCQJ\n",
      "https://serpapi.com/search\n",
      "Raikhel, E., & Bemme, D. (2016). Postsocialism, the psy-ences and mental health. Transcultural Psychiatry, 53(2), 151-175.\n"
     ]
    },
    {
     "name": "stderr",
     "output_type": "stream",
     "text": [
      "  % Total    % Received % Xferd  Average Speed   Time    Time     Time  Current\n",
      "                                 Dload  Upload   Total   Spent    Left  Speed\n",
      "  0     0    0     0    0     0      0      0 --:--:-- --:--:-- --:--:--     0\n",
      "100   225  100   225    0     0   1308      0 --:--:-- --:--:-- --:--:--  1308\n",
      "100   372    0   372    0     0   1003      0 --:--:-- --:--:-- --:--:--  1003\n"
     ]
    },
    {
     "name": "stdout",
     "output_type": "stream",
     "text": [
      "{'itemType': 'journalArticle', 'title': 'Postsocialism, the psy-ences and mental health', 'creators': [{'creatorType': 'author', 'firstName': 'Eugene', 'lastName': 'Raikhel'}, {'creatorType': 'author', 'firstName': 'Dörte', 'lastName': 'Bemme'}], 'abstractNote': '', 'publicationTitle': 'Transcultural Psychiatry', 'volume': '53', 'issue': '2', 'pages': '', 'date': '2016-03-01', 'series': '', 'seriesTitle': '', 'seriesText': '', 'journalAbbreviation': '', 'language': '', 'DOI': '10.1177/1363461516635534', 'ISSN': '', 'shortTitle': '', 'url': 'https://doi.org/10.1177%2F1363461516635534', 'accessDate': '2022-12-18', 'archive': '', 'archiveLocation': '', 'libraryCatalog': '', 'callNumber': '', 'rights': '', 'extra': '[]', 'tags': [], 'collections': [], 'relations': {}}\n",
      "Now processing: GZH22MIIjiQJ\n",
      "https://serpapi.com/search\n",
      "Westermann, S. (2012). Secret suffering: the victims of compulsory sterilization during National Socialism. History of Psychiatry, 23(4), 483-487.\n"
     ]
    },
    {
     "name": "stderr",
     "output_type": "stream",
     "text": [
      "  % Total    % Received % Xferd  Average Speed   Time    Time     Time  Current\n",
      "                                 Dload  Upload   Total   Spent    Left  Speed\n",
      "  0     0    0     0    0     0      0      0 --:--:-- --:--:-- --:--:--     0\n",
      "100   225  100   225    0     0   1179      0 --:--:-- --:--:-- --:--:--  1179\n",
      "100   397    0   397    0     0   1056      0 --:--:-- --:--:-- --:--:--  3030\n"
     ]
    },
    {
     "name": "stdout",
     "output_type": "stream",
     "text": [
      "{'itemType': 'journalArticle', 'title': 'Secret suffering: the victims of compulsory sterilization during National Socialism', 'creators': [{'creatorType': 'author', 'firstName': 'Stefanie', 'lastName': 'Westermann'}], 'abstractNote': '', 'publicationTitle': 'History of Psychiatry', 'volume': '23', 'issue': '4', 'pages': '', 'date': '2012-11-01', 'series': '', 'seriesTitle': '', 'seriesText': '', 'journalAbbreviation': '', 'language': '', 'DOI': '10.1177/0957154x12464181', 'ISSN': '', 'shortTitle': '', 'url': 'https://doi.org/10.1177%2F0957154x12464181', 'accessDate': '2022-12-18', 'archive': '', 'archiveLocation': '', 'libraryCatalog': '', 'callNumber': '', 'rights': '', 'extra': '[]', 'tags': [], 'collections': [], 'relations': {}}\n",
      "Now processing: xZdpn3xo9lUJ\n",
      "https://serpapi.com/search\n",
      "Yankovsky, S. (2011). Neoliberal transitions in Ukraine: The view from psychiatry. Anthropology of East Europe Review, 29(1), 35-49.\n"
     ]
    },
    {
     "name": "stderr",
     "output_type": "stream",
     "text": [
      "  % Total    % Received % Xferd  Average Speed   Time    Time     Time  Current\n",
      "                                 Dload  Upload   Total   Spent    Left  Speed\n",
      "  0     0    0     0    0     0      0      0 --:--:-- --:--:-- --:--:--     0\n",
      "100   221  100   221    0     0   1217      0 --:--:-- --:--:-- --:--:--  1217\n",
      "100   427    0   427    0     0   1152      0 --:--:-- --:--:-- --:--:--  1152\n"
     ]
    },
    {
     "name": "stdout",
     "output_type": "stream",
     "text": [
      "{'itemType': 'journalArticle', 'title': 'Poland and Ukraine in East-Central Europe: View from Ukraine', 'creators': [{'creatorType': 'author', 'firstName': 'Leonid', 'lastName': 'Zashkilnyak'}], 'abstractNote': '', 'publicationTitle': 'Confrontation and Cooperation: 1000 Years of Polish-German-Russian Relations', 'volume': '2', 'issue': '2', 'pages': '', 'date': '2015-12-01', 'series': '', 'seriesTitle': '', 'seriesText': '', 'journalAbbreviation': '', 'language': '', 'DOI': '10.1515/conc-2015-0012', 'ISSN': '', 'shortTitle': '', 'url': 'https://doi.org/10.1515%2Fconc-2015-0012', 'accessDate': '2022-12-18', 'archive': '', 'archiveLocation': '', 'libraryCatalog': '', 'callNumber': '', 'rights': '', 'extra': '[]', 'tags': [], 'collections': [], 'relations': {}}\n",
      "Now processing: wlOEKIgfR0IJ\n",
      "https://serpapi.com/search\n",
      "Zeidman, L. A. (2016). The central role of neuroscientists under National Socialism. In War neurology (Vol. 38, pp. 168-183). Karger Publishers.\n"
     ]
    },
    {
     "name": "stderr",
     "output_type": "stream",
     "text": [
      "  % Total    % Received % Xferd  Average Speed   Time    Time     Time  Current\n",
      "                                 Dload  Upload   Total   Spent    Left  Speed\n",
      "  0     0    0     0    0     0      0      0 --:--:-- --:--:-- --:--:--     0\n",
      "100   211  100   211    0     0   1197      0 --:--:-- --:--:-- --:--:--  1197\n",
      "100   304    0   304    0     0    863      0 --:--:-- --:--:-- --:--:--   863\n"
     ]
    },
    {
     "name": "stdout",
     "output_type": "stream",
     "text": [
      "{'itemType': 'journalArticle', 'title': 'The Central Role of Neuroscientists under National Socialism', 'creators': [{'creatorType': 'author', 'firstName': 'Lawrence', 'lastName': 'Zeidman'}], 'abstractNote': '', 'publicationTitle': '', 'volume': '', 'issue': '', 'pages': '', 'date': '2016', 'series': '', 'seriesTitle': '', 'seriesText': '', 'journalAbbreviation': '', 'language': '', 'DOI': '10.1159/000442682', 'ISSN': '', 'shortTitle': '', 'url': 'https://doi.org/10.1159%2F000442682', 'accessDate': '2022-12-18', 'archive': '', 'archiveLocation': '', 'libraryCatalog': '', 'callNumber': '', 'rights': '', 'extra': '[]', 'tags': [], 'collections': [], 'relations': {}}\n",
      "Now processing: 8_ATbfY-lpUJ\n",
      "https://serpapi.com/search\n",
      "Kolb, S., Weindling, P., Roelcke, V., & Seithe, H. (2012). Apologising for Nazi medicine: a constructive starting point. The Lancet, 380(9843), 722-723.\n"
     ]
    },
    {
     "name": "stderr",
     "output_type": "stream",
     "text": [
      "/bin/sh: -c: line 0: syntax error near unexpected token `('\n",
      "/bin/sh: -c: line 0: `curl -LH \"Accept: application/x-bibtex\" http://dx.doi.org/10.1016/s0140-6736(12)61396-8'\n"
     ]
    },
    {
     "name": "stdout",
     "output_type": "stream",
     "text": [
      "Now processing: 4Cft3NN-EQoJ\n",
      "https://serpapi.com/search\n",
      "Tseng, W. S. (2018). Chinese psychiatry: development and characteristics. In Transcultural psychiatry (pp. 274-290). Routledge.\n"
     ]
    },
    {
     "name": "stderr",
     "output_type": "stream",
     "text": [
      "  % Total    % Received % Xferd  Average Speed   Time    Time     Time  Current\n",
      "                                 Dload  Upload   Total   Spent    Left  Speed\n",
      "  0     0    0     0    0     0      0      0 --:--:-- --:--:-- --:--:--     0\n",
      "100   225  100   225    0     0   1034      0 --:--:-- --:--:-- --:--:--  1034\n",
      "100   325    0   325    0     0    780      0 --:--:-- --:--:-- --:--:--   780\n"
     ]
    },
    {
     "name": "stdout",
     "output_type": "stream",
     "text": [
      "{'itemType': 'journalArticle', 'title': 'Chinese Psychiatry: Development and Characteristics', 'creators': [{'creatorType': 'author', 'firstName': 'Wen-Shing', 'lastName': 'Tseng'}], 'abstractNote': '', 'publicationTitle': '', 'volume': '', 'issue': '', 'pages': '', 'date': '2018-09-01', 'series': '', 'seriesTitle': '', 'seriesText': '', 'journalAbbreviation': '', 'language': '', 'DOI': '10.4324/9780429447464-16', 'ISSN': '', 'shortTitle': '', 'url': 'https://doi.org/10.4324%2F9780429447464-16', 'accessDate': '2022-12-18', 'archive': '', 'archiveLocation': '', 'libraryCatalog': '', 'callNumber': '', 'rights': '', 'extra': '[]', 'tags': [], 'collections': [], 'relations': {}}\n",
      "Now processing: uuO_es_-wAwJ\n",
      "https://serpapi.com/search\n",
      "Müller, T. (2018). Remembering psychiatric patients murdered by the Nazi regime in Germany. The Lancet Psychiatry, 5(10), 789-790.\n"
     ]
    },
    {
     "name": "stderr",
     "output_type": "stream",
     "text": [
      "/bin/sh: -c: line 0: syntax error near unexpected token `('\n",
      "/bin/sh: -c: line 0: `curl -LH \"Accept: application/x-bibtex\" http://dx.doi.org/10.1016/s2215-0366(18)30213-x'\n"
     ]
    },
    {
     "name": "stdout",
     "output_type": "stream",
     "text": [
      "0\n",
      "https://serpapi.com/search\n",
      "0\n",
      "This should've returned 0 (sucess)\n",
      "Now processing: L0_zd6gYgQkJ\n",
      "https://serpapi.com/search\n",
      "Triandis, H. C. (2018). Individualism and collectivism. Routledge.\n"
     ]
    },
    {
     "name": "stderr",
     "output_type": "stream",
     "text": [
      "  % Total    % Received % Xferd  Average Speed   Time    Time     Time  Current\n",
      "                                 Dload  Upload   Total   Spent    Left  Speed\n",
      "  0     0    0     0    0     0      0      0 --:--:-- --:--:-- --:--:--     0\n",
      "100   223  100   223    0     0    991      0 --:--:-- --:--:-- --:--:--   991\n",
      "100   325    0   325    0     0    805      0 --:--:-- --:--:-- --:--:--   805\n"
     ]
    },
    {
     "name": "stdout",
     "output_type": "stream",
     "text": [
      "{'itemType': 'journalArticle', 'title': 'Attributes of Individualism and Collectivism', 'creators': [{'creatorType': 'author', 'firstName': 'Harry', 'lastName': 'Triandis'}], 'abstractNote': '', 'publicationTitle': '', 'volume': '', 'issue': '', 'pages': '', 'date': '2018-10-01', 'series': '', 'seriesTitle': '', 'seriesText': '', 'journalAbbreviation': '', 'language': '', 'DOI': '10.4324/9780429499845-3', 'ISSN': '', 'shortTitle': '', 'url': 'https://doi.org/10.4324%2F9780429499845-3', 'accessDate': '2022-12-18', 'archive': '', 'archiveLocation': '', 'libraryCatalog': '', 'callNumber': '', 'rights': '', 'extra': '[]', 'tags': [], 'collections': [], 'relations': {}}\n",
      "Now processing: zbHDP9ajbSAJ\n",
      "https://serpapi.com/search\n",
      "Verma, J., & Triandis, H. C. (2020). The measurement of collectivism in India. In Merging past, present, and future in cross-cultural psychology (pp. 256-265). Garland Science.\n"
     ]
    },
    {
     "name": "stderr",
     "output_type": "stream",
     "text": [
      "  % Total    % Received % Xferd  Average Speed   Time    Time     Time  Current\n",
      "                                 Dload  Upload   Total   Spent    Left  Speed\n",
      "  0     0    0     0    0     0      0      0 --:--:-- --:--:-- --:--:--     0\n",
      "100   225  100   225    0     0   1360      0 --:--:-- --:--:-- --:--:--  1360\n",
      "100   376    0   376    0     0   1087      0 --:--:-- --:--:-- --:--:--     0\n"
     ]
    },
    {
     "name": "stdout",
     "output_type": "stream",
     "text": [
      "{'itemType': 'journalArticle', 'title': 'The Measurement of Collectivism in India', 'creators': [{'creatorType': 'author', 'firstName': 'Jyoti', 'lastName': 'Verma'}, {'creatorType': 'author', 'firstName': 'Harry', 'lastName': 'Triandis'}], 'abstractNote': '', 'publicationTitle': '', 'volume': '', 'issue': '', 'pages': '', 'date': '2020-07-01', 'series': '', 'seriesTitle': '', 'seriesText': '', 'journalAbbreviation': '', 'language': '', 'DOI': '10.1201/9781003077473-35', 'ISSN': '', 'shortTitle': '', 'url': 'https://doi.org/10.1201%2F9781003077473-35', 'accessDate': '2022-12-18', 'archive': '', 'archiveLocation': '', 'libraryCatalog': '', 'callNumber': '', 'rights': '', 'extra': '[]', 'tags': [], 'collections': [], 'relations': {}}\n",
      "Now processing: ni-wsplbcNgJ\n",
      "https://serpapi.com/search\n",
      "Triandis, H. C., & Gelfand, M. J. (2012). A theory of individualism and collectivism.\n"
     ]
    },
    {
     "name": "stderr",
     "output_type": "stream",
     "text": [
      "  % Total    % Received % Xferd  Average Speed   Time    Time     Time  Current\n",
      "                                 Dload  Upload   Total   Spent    Left  Speed\n",
      "  0     0    0     0    0     0      0      0 --:--:-- --:--:-- --:--:--     0\n",
      "100   213  100   213    0     0   1110      0 --:--:-- --:--:-- --:--:--  1110\n",
      "100   273    0   273    0     0    731      0 --:--:-- --:--:-- --:--:--   731\n"
     ]
    },
    {
     "name": "stdout",
     "output_type": "stream",
     "text": [
      "{'itemType': 'journalArticle', 'title': 'Individualism and Collectivism Scale', 'creators': [{'creatorType': 'author', 'firstName': 'Harry', 'lastName': 'Triandis'}, {'creatorType': 'author', 'firstName': 'Michele', 'lastName': 'Gelfand'}], 'abstractNote': '', 'publicationTitle': '', 'volume': '', 'issue': '', 'pages': '', 'date': '1998', 'series': '', 'seriesTitle': '', 'seriesText': '', 'journalAbbreviation': '', 'language': '', 'DOI': '10.1037/t01556-000', 'ISSN': '', 'shortTitle': '', 'url': 'https://doi.org/10.1037%2Ft01556-000', 'accessDate': '2022-12-18', 'archive': '', 'archiveLocation': '', 'libraryCatalog': '', 'callNumber': '', 'rights': '', 'extra': '[]', 'tags': [], 'collections': [], 'relations': {}}\n",
      "Now processing: GSCg5AH_VF0J\n",
      "https://serpapi.com/search\n",
      "Kuo, B. C. (2013). Collectivism and coping: Current theories, evidence, and measurements of collective coping. International Journal of psychology, 48(3), 374-388.\n"
     ]
    },
    {
     "name": "stderr",
     "output_type": "stream",
     "text": [
      "  % Total    % Received % Xferd  Average Speed   Time    Time     Time  Current\n",
      "                                 Dload  Upload   Total   Spent    Left  Speed\n",
      "  0     0    0     0    0     0      0      0 --:--:-- --:--:-- --:--:--     0\n",
      "100   233  100   233    0     0   1147      0 --:--:-- --:--:-- --:--:--  1147\n",
      "100   399    0   399    0     0    721      0 --:--:-- --:--:-- --:--:--   721\n"
     ]
    },
    {
     "name": "stdout",
     "output_type": "stream",
     "text": [
      "{'itemType': 'journalArticle', 'title': 'Collectivism and coping: Current theories, evidence, and measurements of collective coping', 'creators': [{'creatorType': 'author', 'firstName': 'Ben', 'lastName': 'Kuo'}], 'abstractNote': '', 'publicationTitle': 'International Journal of Psychology', 'volume': '48', 'issue': '3', 'pages': '', 'date': '2013-06-01', 'series': '', 'seriesTitle': '', 'seriesText': '', 'journalAbbreviation': '', 'language': '', 'DOI': '10.1080/00207594.2011.640681', 'ISSN': '', 'shortTitle': '', 'url': 'https://doi.org/10.1080%2F00207594.2011.640681', 'accessDate': '2022-12-18', 'archive': '', 'archiveLocation': '', 'libraryCatalog': '', 'callNumber': '', 'rights': '', 'extra': '[]', 'tags': [], 'collections': [], 'relations': {}}\n",
      "Now processing: SUG2gnZxA6gJ\n",
      "https://serpapi.com/search\n",
      "Yamawaki, N. (2012). Within-culture variations of collectivism in Japan. Journal of Cross-Cultural Psychology, 43(8), 1191-1204.\n"
     ]
    },
    {
     "name": "stderr",
     "output_type": "stream",
     "text": [
      "  % Total    % Received % Xferd  Average Speed   Time    Time     Time  Current\n",
      "                                 Dload  Upload   Total   Spent    Left  Speed\n",
      "  0     0    0     0    0     0      0      0 --:--:-- --:--:-- --:--:--     0\n",
      "100   225  100   225    0     0   1319      0 --:--:-- --:--:-- --:--:--  1319\n",
      "100   375    0   375    0     0    882      0 --:--:-- --:--:-- --:--:--   882\n"
     ]
    },
    {
     "name": "stdout",
     "output_type": "stream",
     "text": [
      "{'itemType': 'journalArticle', 'title': 'Within-Culture Variations of Collectivism in Japan', 'creators': [{'creatorType': 'author', 'firstName': 'Niwako', 'lastName': 'Yamawaki'}], 'abstractNote': '', 'publicationTitle': 'Journal of Cross-Cultural Psychology', 'volume': '43', 'issue': '8', 'pages': '', 'date': '2011-12-01', 'series': '', 'seriesTitle': '', 'seriesText': '', 'journalAbbreviation': '', 'language': '', 'DOI': '10.1177/0022022111428171', 'ISSN': '', 'shortTitle': '', 'url': 'https://doi.org/10.1177%2F0022022111428171', 'accessDate': '2022-12-18', 'archive': '', 'archiveLocation': '', 'libraryCatalog': '', 'callNumber': '', 'rights': '', 'extra': '[]', 'tags': [], 'collections': [], 'relations': {}}\n",
      "Now processing: Cac0PqPooiwJ\n",
      "https://serpapi.com/search\n",
      "Way, B. M., & Lieberman, M. D. (2010). Is there a genetic contribution to cultural differences? Collectivism, individualism and genetic markers of social sensitivity. Social cognitive and affective neuroscience, 5(2-3), 203-211.\n"
     ]
    },
    {
     "name": "stderr",
     "output_type": "stream",
     "text": [
      "  % Total    % Received % Xferd  Average Speed   Time    Time     Time  Current\n",
      "                                 Dload  Upload   Total   Spent    Left  Speed\n",
      "  0     0    0     0    0     0      0      0 --:--:-- --:--:-- --:--:--     0\n",
      "100   219  100   219    0     0   1112      0 --:--:-- --:--:-- --:--:--  1112\n",
      "100   480    0   480    0     0   1277      0 --:--:-- --:--:-- --:--:--  1277\n"
     ]
    },
    {
     "name": "stdout",
     "output_type": "stream",
     "text": [
      "{'itemType': 'journalArticle', 'title': 'Is there a genetic contribution to cultural differences? Collectivism, individualism and genetic markers of social sensitivity', 'creators': [{'creatorType': 'author', 'firstName': 'Baldwin', 'lastName': 'Way'}, {'creatorType': 'author', 'firstName': 'Matthew', 'lastName': 'Lieberman'}], 'abstractNote': '', 'publicationTitle': 'Social Cognitive and Affective Neuroscience', 'volume': '5', 'issue': '2-3', 'pages': '', 'date': '2010-06-01', 'series': '', 'seriesTitle': '', 'seriesText': '', 'journalAbbreviation': '', 'language': '', 'DOI': '10.1093/scan/nsq059', 'ISSN': '', 'shortTitle': '', 'url': 'https://doi.org/10.1093%2Fscan%2Fnsq059', 'accessDate': '2022-12-18', 'archive': '', 'archiveLocation': '', 'libraryCatalog': '', 'callNumber': '', 'rights': '', 'extra': '[]', 'tags': [], 'collections': [], 'relations': {}}\n",
      "Now processing: xglFzQ78MxMJ\n",
      "https://serpapi.com/search\n",
      "Kim, U., & Choi, S. H. (2014). Individualism, collectivism, and child development. Cross-cultural roots of minority child development, 227-258.\n"
     ]
    },
    {
     "name": "stderr",
     "output_type": "stream",
     "text": [
      "  % Total    % Received % Xferd  Average Speed   Time    Time     Time  Current\n",
      "                                 Dload  Upload   Total   Spent    Left  Speed\n",
      "  0     0    0     0    0     0      0      0 --:--:-- --:--:-- --:--:--     0\n",
      "100   225  100   225    0     0    354      0 --:--:-- --:--:-- --:--:--     0\n",
      "100   369    0   369    0     0    450      0 --:--:-- --:--:-- --:--:--   450\n"
     ]
    },
    {
     "name": "stdout",
     "output_type": "stream",
     "text": [
      "{'itemType': 'journalArticle', 'title': 'Individualism, Collectivism, and Child Development', 'creators': [{'creatorType': 'author', 'firstName': 'Uichol', 'lastName': 'Kim'}, {'creatorType': 'author', 'firstName': 'Soo-Hyang', 'lastName': 'Choi'}], 'abstractNote': '', 'publicationTitle': '', 'volume': '', 'issue': '', 'pages': '', 'date': '2014-12-01', 'series': '', 'seriesTitle': '', 'seriesText': '', 'journalAbbreviation': '', 'language': '', 'DOI': '10.4324/9781315746555-14', 'ISSN': '', 'shortTitle': '', 'url': 'https://doi.org/10.4324%2F9781315746555-14', 'accessDate': '2022-12-18', 'archive': '', 'archiveLocation': '', 'libraryCatalog': '', 'callNumber': '', 'rights': '', 'extra': '[]', 'tags': [], 'collections': [], 'relations': {}}\n",
      "Now processing: DaNM3V2Lg8MJ\n",
      "https://serpapi.com/search\n",
      "Brewer, P., & Venaik, S. (2011). Individualism–collectivism in Hofstede and GLOBE.\n"
     ]
    },
    {
     "name": "stderr",
     "output_type": "stream",
     "text": [
      "  % Total    % Received % Xferd  Average Speed   Time    Time     Time  Current\n",
      "                                 Dload  Upload   Total   Spent    Left  Speed\n",
      "  0     0    0     0    0     0      0      0 --:--:-- --:--:-- --:--:--     0\n",
      "100   217  100   217    0     0   1313      0 --:--:-- --:--:-- --:--:--  1313\n",
      "100   415    0   415    0     0   1213      0 --:--:-- --:--:-- --:--:--  1213\n"
     ]
    },
    {
     "name": "stdout",
     "output_type": "stream",
     "text": [
      "{'itemType': 'journalArticle', 'title': 'Individualism{\\\\textendash}Collectivism in Hofstede and {GLOBE}', 'creators': [{'creatorType': 'author', 'firstName': 'Paul', 'lastName': 'Brewer'}, {'creatorType': 'author', 'firstName': 'Sunil', 'lastName': 'Venaik'}], 'abstractNote': '', 'publicationTitle': 'Journal of International Business Studies', 'volume': '42', 'issue': '3', 'pages': '', 'date': '2011-01-01', 'series': '', 'seriesTitle': '', 'seriesText': '', 'journalAbbreviation': '', 'language': '', 'DOI': '10.1057/jibs.2010.62', 'ISSN': '', 'shortTitle': '', 'url': 'https://doi.org/10.1057%2Fjibs.2010.62', 'accessDate': '2022-12-18', 'archive': '', 'archiveLocation': '', 'libraryCatalog': '', 'callNumber': '', 'rights': '', 'extra': '[]', 'tags': [], 'collections': [], 'relations': {}}\n",
      "Now processing: Yc2Mn6P0rhoJ\n",
      "https://serpapi.com/search\n",
      "Lu, J. G., Jin, P., & English, A. S. (2021). Collectivism predicts mask use during COVID-19. Proceedings of the National Academy of Sciences, 118(23), e2021793118.\n"
     ]
    },
    {
     "name": "stderr",
     "output_type": "stream",
     "text": [
      "  % Total    % Received % Xferd  Average Speed   Time    Time     Time  Current\n",
      "                                 Dload  Upload   Total   Spent    Left  Speed\n",
      "  0     0    0     0    0     0      0      0 --:--:-- --:--:-- --:--:--     0\n",
      "100   223  100   223    0     0    791      0 --:--:-- --:--:-- --:--:--   791\n",
      "100   420    0   420    0     0    896      0 --:--:-- --:--:-- --:--:--   896\n"
     ]
    },
    {
     "name": "stdout",
     "output_type": "stream",
     "text": [
      "{'itemType': 'journalArticle', 'title': 'Collectivism predicts mask use during {COVID}-19', 'creators': [{'creatorType': 'author', 'firstName': 'Jackson', 'lastName': 'Lu'}, {'creatorType': 'author', 'firstName': 'Peter', 'lastName': 'Jin'}, {'creatorType': 'author', 'firstName': 'Alexander', 'lastName': 'English'}], 'abstractNote': '', 'publicationTitle': 'Proceedings of the National Academy of Sciences', 'volume': '118', 'issue': '23', 'pages': '', 'date': '2021-05-01', 'series': '', 'seriesTitle': '', 'seriesText': '', 'journalAbbreviation': '', 'language': '', 'DOI': '10.1073/pnas.2021793118', 'ISSN': '', 'shortTitle': '', 'url': 'https://doi.org/10.1073%2Fpnas.2021793118', 'accessDate': '2022-12-18', 'archive': '', 'archiveLocation': '', 'libraryCatalog': '', 'callNumber': '', 'rights': '', 'extra': '[]', 'tags': [], 'collections': [], 'relations': {}}\n",
      "Now processing: YReQ8icAU9oJ\n",
      "https://serpapi.com/search\n",
      "Finkelstein, M. A. (2010). Individualism/collectivism: Implications for the volunteer process. Social Behavior and Personality: an international journal, 38(4), 445-452.\n"
     ]
    },
    {
     "name": "stderr",
     "output_type": "stream",
     "text": [
      "  % Total    % Received % Xferd  Average Speed   Time    Time     Time  Current\n",
      "                                 Dload  Upload   Total   Spent    Left  Speed\n",
      "  0     0    0     0    0     0      0      0 --:--:-- --:--:-- --:--:--     0\n",
      "100   227  100   227    0     0    938      0 --:--:-- --:--:-- --:--:--   938\n",
      "100   437    0   437    0     0    996      0 --:--:-- --:--:-- --:--:--   996\n"
     ]
    },
    {
     "name": "stdout",
     "output_type": "stream",
     "text": [
      "{'itemType': 'journalArticle', 'title': 'Individualism/collectivism: {ImplicatIons} for the volunteer process', 'creators': [{'creatorType': 'author', 'firstName': 'Marcia', 'lastName': 'Finkelstein'}], 'abstractNote': '', 'publicationTitle': 'Social Behavior and Personality: an international journal', 'volume': '38', 'issue': '4', 'pages': '', 'date': '2010-05-01', 'series': '', 'seriesTitle': '', 'seriesText': '', 'journalAbbreviation': '', 'language': '', 'DOI': '10.2224/sbp.2010.38.4.445', 'ISSN': '', 'shortTitle': '', 'url': 'https://doi.org/10.2224%2Fsbp.2010.38.4.445', 'accessDate': '2022-12-18', 'archive': '', 'archiveLocation': '', 'libraryCatalog': '', 'callNumber': '', 'rights': '', 'extra': '[]', 'tags': [], 'collections': [], 'relations': {}}\n",
      "Now processing: io1AbXyOwe0J\n",
      "https://serpapi.com/search\n",
      "Cozma, I. (2011). How are individualism and collectivism measured. Romanian Journal of Applied Psychology, 13(1), 11-17.\n"
     ]
    },
    {
     "name": "stderr",
     "output_type": "stream",
     "text": [
      "  % Total    % Received % Xferd  Average Speed   Time    Time     Time  Current\n",
      "                                 Dload  Upload   Total   Spent    Left  Speed\n",
      "  0     0    0     0    0     0      0      0 --:--:-- --:--:-- --:--:--     0\n",
      "100   227  100   227    0     0   1166      0 --:--:-- --:--:-- --:--:--  1166\n",
      "100   197    0   197    0     0    512      0 --:--:-- --:--:-- --:--:--   512\n"
     ]
    },
    {
     "name": "stdout",
     "output_type": "stream",
     "text": [
      "Now processing: XhRZmU0tYL4J\n",
      "https://serpapi.com/search\n",
      "Thelen, K., & Busemeyer, M. R. (2012). Institutional change in German vocational training: from collectivism toward segmentalism. The political economy of collective skill formation, 68-100.\n"
     ]
    },
    {
     "name": "stderr",
     "output_type": "stream",
     "text": [
      "  % Total    % Received % Xferd  Average Speed   Time    Time     Time  Current\n",
      "                                 Dload  Upload   Total   Spent    Left  Speed\n",
      "  0     0    0     0    0     0      0      0 --:--:-- --:--:-- --:--:--     0\n",
      "100   267  100   267    0     0   1538      0 --:--:-- --:--:-- --:--:--  1538\n",
      "100   466    0   466    0     0   1310      0 --:--:-- --:--:-- --:--:--  1310\n"
     ]
    },
    {
     "name": "stdout",
     "output_type": "stream",
     "text": [
      "{'itemType': 'journalArticle', 'title': 'Institutional Change in German Vocational Training: From Collectivism toward Segmentalism', 'creators': [{'creatorType': 'author', 'firstName': 'Kathleen', 'lastName': 'Thelen'}, {'creatorType': 'author', 'firstName': 'Marius', 'lastName': 'Busemeyer'}], 'abstractNote': '', 'publicationTitle': '', 'volume': '', 'issue': '', 'pages': '', 'date': '2011-11-01', 'series': '', 'seriesTitle': '', 'seriesText': '', 'journalAbbreviation': '', 'language': '', 'DOI': '10.1093/acprof:oso/9780199599431.003.0003', 'ISSN': '', 'shortTitle': '', 'url': 'https://doi.org/10.1093%2Facprof%3Aoso%2F9780199599431.003.0003', 'accessDate': '2022-12-18', 'archive': '', 'archiveLocation': '', 'libraryCatalog': '', 'callNumber': '', 'rights': '', 'extra': '[]', 'tags': [], 'collections': [], 'relations': {}}\n",
      "Now processing: pN49Om-cQCgJ\n",
      "https://serpapi.com/search\n",
      "Dierdorff, E. C., Bell, S. T., & Belohlav, J. A. (2011). The power of “we”: Effects of psychological collectivism on team performance over time. Journal of applied psychology, 96(2), 247.\n"
     ]
    },
    {
     "name": "stderr",
     "output_type": "stream",
     "text": [
      "  % Total    % Received % Xferd  Average Speed   Time    Time     Time  Current\n",
      "                                 Dload  Upload   Total   Spent    Left  Speed\n",
      "  0     0    0     0    0     0      0      0 --:--:-- --:--:-- --:--:--     0\n",
      "100   209  100   209    0     0   1154      0 --:--:-- --:--:-- --:--:--  1154\n",
      "100   477    0   477    0     0   1283      0 --:--:-- --:--:-- --:--:--  1283\n"
     ]
    },
    {
     "name": "stdout",
     "output_type": "stream",
     "text": [
      "{'itemType': 'journalArticle', 'title': 'The power of {\\\\textquotedblleft}we{\\\\textquotedblright}: Effects of psychological collectivism on team performance over time.', 'creators': [{'creatorType': 'author', 'firstName': 'Erich', 'lastName': 'Dierdorff'}, {'creatorType': 'author', 'firstName': 'Suzanne', 'lastName': 'Bell'}, {'creatorType': 'author', 'firstName': 'James', 'lastName': 'Belohlav'}], 'abstractNote': '', 'publicationTitle': 'Journal of Applied Psychology', 'volume': '96', 'issue': '2', 'pages': '', 'date': '2011', 'series': '', 'seriesTitle': '', 'seriesText': '', 'journalAbbreviation': '', 'language': '', 'DOI': '10.1037/a0020929', 'ISSN': '', 'shortTitle': '', 'url': 'https://doi.org/10.1037%2Fa0020929', 'accessDate': '2022-12-18', 'archive': '', 'archiveLocation': '', 'libraryCatalog': '', 'callNumber': '', 'rights': '', 'extra': '[]', 'tags': [], 'collections': [], 'relations': {}}\n",
      "Now processing: qU6tPc0UbEEJ\n",
      "https://serpapi.com/search\n",
      "Kulkarni, S. P., Hudson, T., Ramamoorthy, N., Marchev, A., Georgieva-Kondakova, P., & Gorskov, V. (2010). Dimensions of individualism-collectivism. Verslo ir Teisės Aktualijos, 93.\n"
     ]
    },
    {
     "name": "stderr",
     "output_type": "stream",
     "text": [
      "  % Total    % Received % Xferd  Average Speed   Time    Time     Time  Current\n",
      "                                 Dload  Upload   Total   Spent    Left  Speed\n",
      "  0     0    0     0    0     0      0      0 --:--:-- --:--:-- --:--:--     0\n",
      "100   227  100   227    0     0    960      0 --:--:-- --:--:-- --:--:--   960\n",
      "100   525    0   525    0     0   1273      0 --:--:-- --:--:-- --:--:--  1273\n"
     ]
    },
    {
     "name": "stdout",
     "output_type": "stream",
     "text": [
      "{'itemType': 'journalArticle', 'title': 'Dimensions of individualism-collectivism: a comparative study of five cultures', 'creators': [{'creatorType': 'author', 'firstName': 'Subodh', 'lastName': 'Kulkarni'}, {'creatorType': 'author', 'firstName': 'Tim', 'lastName': 'Hudson'}, {'creatorType': 'author', 'firstName': 'Nagarajan', 'lastName': 'Ramamoorthy'}, {'creatorType': 'author', 'firstName': 'Angel', 'lastName': 'Marchev'}, {'creatorType': 'author', 'firstName': 'Petia', 'lastName': 'Georgieva-Kondakova'}, {'creatorType': 'author', 'firstName': 'Vladimir', 'lastName': 'Gorskov'}], 'abstractNote': '', 'publicationTitle': 'Verslo ir teis{\\\\.{e}}s aktualijos', 'volume': '5', 'issue': '', 'pages': '', 'date': '2010-06-01', 'series': '', 'seriesTitle': '', 'seriesText': '', 'journalAbbreviation': '', 'language': '', 'DOI': '10.5200/1822-9530.2010.03', 'ISSN': '', 'shortTitle': '', 'url': 'https://doi.org/10.5200%2F1822-9530.2010.03', 'accessDate': '2022-12-18', 'archive': '', 'archiveLocation': '', 'libraryCatalog': '', 'callNumber': '', 'rights': '', 'extra': '[]', 'tags': [], 'collections': [], 'relations': {}}\n",
      "Now processing: W-V3xO-exHwJ\n",
      "https://serpapi.com/search\n",
      "Cohen, A. B., Wu, M. S., & Miller, J. (2016). Religion and culture: Individualism and collectivism in the East and West. Journal of Cross-Cultural Psychology, 47(9), 1236-1249.\n"
     ]
    },
    {
     "name": "stderr",
     "output_type": "stream",
     "text": [
      "  % Total    % Received % Xferd  Average Speed   Time    Time     Time  Current\n",
      "                                 Dload  Upload   Total   Spent    Left  Speed\n",
      "  0     0    0     0    0     0      0      0 --:--:-- --:--:-- --:--:--     0\n",
      "100   225  100   225    0     0    994      0 --:--:-- --:--:-- --:--:--   994\n",
      "100   381    0   381    0     0    975      0 --:--:-- --:--:-- --:--:--   975\n"
     ]
    },
    {
     "name": "stdout",
     "output_type": "stream",
     "text": [
      "{'itemType': 'journalArticle', 'title': 'Religion and Culture', 'creators': [{'creatorType': 'author', 'firstName': 'Adam', 'lastName': 'Cohen'}, {'creatorType': 'author', 'firstName': 'Michael', 'lastName': 'Wu'}, {'creatorType': 'author', 'firstName': 'Jacob', 'lastName': 'Miller'}], 'abstractNote': '', 'publicationTitle': 'Journal of Cross-Cultural Psychology', 'volume': '47', 'issue': '9', 'pages': '', 'date': '2016-09-01', 'series': '', 'seriesTitle': '', 'seriesText': '', 'journalAbbreviation': '', 'language': '', 'DOI': '10.1177/0022022116667895', 'ISSN': '', 'shortTitle': '', 'url': 'https://doi.org/10.1177%2F0022022116667895', 'accessDate': '2022-12-18', 'archive': '', 'archiveLocation': '', 'libraryCatalog': '', 'callNumber': '', 'rights': '', 'extra': '[]', 'tags': [], 'collections': [], 'relations': {}}\n",
      "Now processing: MW2okUrAr2EJ\n",
      "https://serpapi.com/search\n",
      "Zheng, X., Ghoul, S. E., Guedhami, O., & Kwok, C. C. (2013). Collectivism and corruption in bank lending. Journal of International Business Studies, 44(4), 363-390.\n"
     ]
    },
    {
     "name": "stderr",
     "output_type": "stream",
     "text": [
      "  % Total    % Received % Xferd  Average Speed   Time    Time     Time  Current\n",
      "                                 Dload  Upload   Total   Spent    Left  Speed\n",
      "  0     0    0     0    0     0      0      0 --:--:-- --:--:-- --:--:--     0\n",
      "100   217  100   217    0     0   1281      0 --:--:-- --:--:-- --:--:--  1281\n",
      "100   438    0   438    0     0   1277      0 --:--:-- --:--:-- --:--:--  1277\n"
     ]
    },
    {
     "name": "stdout",
     "output_type": "stream",
     "text": [
      "{'itemType': 'journalArticle', 'title': 'Collectivism and corruption in bank lending', 'creators': [{'creatorType': 'author', 'firstName': 'Xiaolan', 'lastName': 'Zheng'}, {'creatorType': 'author', 'firstName': 'Sadok', 'lastName': 'Ghoul'}, {'creatorType': 'author', 'firstName': 'Omrane', 'lastName': 'Guedhami'}, {'creatorType': 'author', 'firstName': 'Chuck', 'lastName': 'Kwok'}], 'abstractNote': '', 'publicationTitle': 'Journal of International Business Studies', 'volume': '44', 'issue': '4', 'pages': '', 'date': '2013-05-01', 'series': '', 'seriesTitle': '', 'seriesText': '', 'journalAbbreviation': '', 'language': '', 'DOI': '10.1057/jibs.2013.19', 'ISSN': '', 'shortTitle': '', 'url': 'https://doi.org/10.1057%2Fjibs.2013.19', 'accessDate': '2022-12-18', 'archive': '', 'archiveLocation': '', 'libraryCatalog': '', 'callNumber': '', 'rights': '', 'extra': '[]', 'tags': [], 'collections': [], 'relations': {}}\n",
      "Now processing: edFqfL3F7TIJ\n",
      "https://serpapi.com/search\n",
      "Kelly, J. (2012). Rethinking industrial relations: Mobilisation, collectivism and long waves. Routledge.\n"
     ]
    },
    {
     "name": "stderr",
     "output_type": "stream",
     "text": [
      "  % Total    % Received % Xferd  Average Speed   Time    Time     Time  Current\n",
      "                                 Dload  Upload   Total   Spent    Left  Speed\n",
      "  0     0    0     0    0     0      0      0 --:--:-- --:--:-- --:--:--     0\n",
      "100   219  100   219    0     0   1138      0 --:--:-- --:--:-- --:--:--  1138\n",
      "100   224    0   224    0     0    610      0 --:--:-- --:--:-- --:--:--   610\n"
     ]
    },
    {
     "name": "stdout",
     "output_type": "stream",
     "text": [
      "{'itemType': 'journalArticle', 'title': 'Rethinking Industrial Relations', 'creators': [{'creatorType': 'author', 'firstName': 'John', 'lastName': 'Kelly'}], 'abstractNote': '', 'publicationTitle': '', 'volume': '', 'issue': '', 'pages': '', 'date': '2012-10-01', 'series': '', 'seriesTitle': '', 'seriesText': '', 'journalAbbreviation': '', 'language': '', 'DOI': '10.4324/9780203213940', 'ISSN': '', 'shortTitle': '', 'url': 'https://doi.org/10.4324%2F9780203213940', 'accessDate': '2022-12-18', 'archive': '', 'archiveLocation': '', 'libraryCatalog': '', 'callNumber': '', 'rights': '', 'extra': '[]', 'tags': [], 'collections': [], 'relations': {}}\n",
      "Now processing: D1WDEVNXe2MJ\n",
      "https://serpapi.com/search\n",
      "LeFebvre, R., & Franke, V. (2013). Culture matters: Individualism vs. collectivism in conflict decision-making. Societies, 3(1), 128-146.\n"
     ]
    },
    {
     "name": "stderr",
     "output_type": "stream",
     "text": [
      "  % Total    % Received % Xferd  Average Speed   Time    Time     Time  Current\n",
      "                                 Dload  Upload   Total   Spent    Left  Speed\n",
      "  0     0    0     0    0     0      0      0 --:--:-- --:--:-- --:--:--     0\n",
      "100   213  100   213    0     0   1040      0 --:--:-- --:--:-- --:--:--  1040\n",
      "100   369    0   369    0     0    980      0 --:--:-- --:--:-- --:--:--   980\n"
     ]
    },
    {
     "name": "stdout",
     "output_type": "stream",
     "text": [
      "{'itemType': 'journalArticle', 'title': 'Culture Matters: Individualism vs. Collectivism in Conflict Decision-Making', 'creators': [{'creatorType': 'author', 'firstName': 'Rebecca', 'lastName': 'LeFebvre'}, {'creatorType': 'author', 'firstName': 'Volker', 'lastName': 'Franke'}], 'abstractNote': '', 'publicationTitle': 'Societies', 'volume': '3', 'issue': '1', 'pages': '', 'date': '2013-03-01', 'series': '', 'seriesTitle': '', 'seriesText': '', 'journalAbbreviation': '', 'language': '', 'DOI': '10.3390/soc3010128', 'ISSN': '', 'shortTitle': '', 'url': 'https://doi.org/10.3390%2Fsoc3010128', 'accessDate': '2022-12-18', 'archive': '', 'archiveLocation': '', 'libraryCatalog': '', 'callNumber': '', 'rights': '', 'extra': '[]', 'tags': [], 'collections': [], 'relations': {}}\n",
      "Now processing: oNNbcJjtgV8J\n",
      "https://serpapi.com/search\n",
      "Mazar, N., & Aggarwal, P. (2011). Greasing the palm: Can collectivism promote bribery?. Psychological Science, 22(7), 843-848.\n"
     ]
    },
    {
     "name": "stderr",
     "output_type": "stream",
     "text": [
      "  % Total    % Received % Xferd  Average Speed   Time    Time     Time  Current\n",
      "                                 Dload  Upload   Total   Spent    Left  Speed\n",
      "  0     0    0     0    0     0      0      0 --:--:-- --:--:-- --:--:--     0\n",
      "100   225  100   225    0     0   1325      0 --:--:-- --:--:-- --:--:--  1325\n",
      "100   337    0   337    0     0    970      0 --:--:-- --:--:-- --:--:--   970\n"
     ]
    },
    {
     "name": "stdout",
     "output_type": "stream",
     "text": [
      "{'itemType': 'journalArticle', 'title': 'Greasing the Palm', 'creators': [{'creatorType': 'author', 'firstName': 'Nina', 'lastName': 'Mazar'}, {'creatorType': 'author', 'firstName': 'Pankaj', 'lastName': 'Aggarwal'}], 'abstractNote': '', 'publicationTitle': 'Psychological Science', 'volume': '22', 'issue': '7', 'pages': '', 'date': '2011-06-01', 'series': '', 'seriesTitle': '', 'seriesText': '', 'journalAbbreviation': '', 'language': '', 'DOI': '10.1177/0956797611412389', 'ISSN': '', 'shortTitle': '', 'url': 'https://doi.org/10.1177%2F0956797611412389', 'accessDate': '2022-12-18', 'archive': '', 'archiveLocation': '', 'libraryCatalog': '', 'callNumber': '', 'rights': '', 'extra': '[]', 'tags': [], 'collections': [], 'relations': {}}\n",
      "Now processing: e5hYJ8eb4TMJ\n",
      "https://serpapi.com/search\n",
      "Merkin, R. (2015). The relationship between individualism/collectivism. Journal of Intercultural Communication, 39(4), 1-17.\n"
     ]
    },
    {
     "name": "stderr",
     "output_type": "stream",
     "text": [
      "  % Total    % Received % Xferd  Average Speed   Time    Time     Time  Current\n",
      "                                 Dload  Upload   Total   Spent    Left  Speed\n",
      "  0     0    0     0    0     0      0      0 --:--:-- --:--:-- --:--:--     0\n",
      "100   229  100   229    0     0   1217      0 --:--:-- --:--:-- --:--:--  1217\n",
      "100   203    0   203    0     0    554      0 --:--:-- --:--:-- --:--:--   554\n"
     ]
    },
    {
     "name": "stdout",
     "output_type": "stream",
     "text": [
      "0\n",
      "https://serpapi.com/search\n",
      "0\n",
      "This should've returned 0 (sucess)\n",
      "Now processing: 7XCj_WCNeusJ\n",
      "https://serpapi.com/search\n",
      "Osipa, J. (2010). Stop staring: facial modeling and animation done right. John Wiley & Sons.\n"
     ]
    },
    {
     "name": "stderr",
     "output_type": "stream",
     "text": [
      "  % Total    % Received % Xferd  Average Speed   Time    Time     Time  Current\n",
      "                                 Dload  Upload   Total   Spent    Left  Speed\n",
      "  0     0    0     0    0     0      0      0 --:--:-- --:--:-- --:--:--     0\n",
      "100   249  100   249    0     0   1298      0 --:--:-- --:--:-- --:--:--     0\n",
      "100   423    0   423    0     0   1140      0 --:--:-- --:--:-- --:--:--  1140\n"
     ]
    },
    {
     "name": "stdout",
     "output_type": "stream",
     "text": [
      "Now processing: 1KD2rNsA6OgJ\n",
      "https://serpapi.com/search\n",
      "Kazak, S., Wegerif, R., & Fujita, T. (2015). Combining scaffolding for content and scaffolding for dialogue to support conceptual breakthroughs in understanding probability. ZDM, 47(7), 1269-1283.\n"
     ]
    },
    {
     "name": "stderr",
     "output_type": "stream",
     "text": [
      "  % Total    % Received % Xferd  Average Speed   Time    Time     Time  Current\n",
      "                                 Dload  Upload   Total   Spent    Left  Speed\n",
      "  0     0    0     0    0     0      0      0 --:--:-- --:--:-- --:--:--     0\n",
      "100   227  100   227    0     0    891      0 --:--:-- --:--:-- --:--:--     0\n",
      "100   473    0   473    0     0    992      0 --:--:-- --:--:-- --:--:--   992\n"
     ]
    },
    {
     "name": "stdout",
     "output_type": "stream",
     "text": [
      "{'itemType': 'journalArticle', 'title': 'Combining scaffolding for content and scaffolding for dialogue to support conceptual breakthroughs in understanding probability', 'creators': [{'creatorType': 'author', 'firstName': 'Sibel', 'lastName': 'Kazak'}, {'creatorType': 'author', 'firstName': 'Rupert', 'lastName': 'Wegerif'}, {'creatorType': 'author', 'firstName': 'Taro', 'lastName': 'Fujita'}], 'abstractNote': '', 'publicationTitle': '{ZDM}', 'volume': '47', 'issue': '7', 'pages': '', 'date': '2015-09-01', 'series': '', 'seriesTitle': '', 'seriesText': '', 'journalAbbreviation': '', 'language': '', 'DOI': '10.1007/s11858-015-0720-5', 'ISSN': '', 'shortTitle': '', 'url': 'https://doi.org/10.1007%2Fs11858-015-0720-5', 'accessDate': '2022-12-18', 'archive': '', 'archiveLocation': '', 'libraryCatalog': '', 'callNumber': '', 'rights': '', 'extra': '[]', 'tags': [], 'collections': [], 'relations': {}}\n",
      "Now processing: Wp2B-0iOuOIJ\n",
      "https://serpapi.com/search\n",
      "Creighton, R. H. (2010). Unity 3D game development by example: A Seat-of-your-pants manual for building fun, groovy little games quickly. Packt Publishing Ltd.\n"
     ]
    },
    {
     "name": "stderr",
     "output_type": "stream",
     "text": [
      "  % Total    % Received % Xferd  Average Speed   Time    Time     Time  Current\n",
      "                                 Dload  Upload   Total   Spent    Left  Speed\n",
      "  0     0    0     0    0     0      0      0 --:--:-- --:--:-- --:--:--     0\n",
      "100   223  100   223    0     0   1240      0 --:--:-- --:--:-- --:--:--  1240\n",
      "100   268    0   268    0     0    741      0 --:--:-- --:--:-- --:--:--   741\n"
     ]
    },
    {
     "name": "stdout",
     "output_type": "stream",
     "text": [
      "Now processing: k1l9z6WSo2gJ\n",
      "https://serpapi.com/search\n",
      "Fehr, E., & Schneider, F. (2010). Eyes are on us, but nobody cares: are eye cues relevant for strong reciprocity?. Proceedings of the Royal Society B: Biological Sciences, 277(1686), 1315-1323.\n"
     ]
    },
    {
     "name": "stderr",
     "output_type": "stream",
     "text": [
      "  % Total    % Received % Xferd  Average Speed   Time    Time     Time  Current\n",
      "                                 Dload  Upload   Total   Spent    Left  Speed\n",
      "  0     0    0     0    0     0      0      0 --:--:-- --:--:-- --:--:--     0\n",
      "100   221  100   221    0     0   1216      0 --:--:-- --:--:-- --:--:--  1216\n",
      "100   447    0   447    0     0   1250      0 --:--:-- --:--:-- --:--:--     0\n"
     ]
    },
    {
     "name": "stdout",
     "output_type": "stream",
     "text": [
      "{'itemType': 'journalArticle', 'title': 'Eyes are on us, but nobody cares: are eye cues relevant for strong reciprocity?', 'creators': [{'creatorType': 'author', 'firstName': 'Ernst', 'lastName': 'Fehr'}, {'creatorType': 'author', 'firstName': \"Fr{\\\\'{e}}d{\\\\'{e}}ric\", 'lastName': 'Schneider'}], 'abstractNote': '', 'publicationTitle': 'Proceedings of the Royal Society B: Biological Sciences', 'volume': '277', 'issue': '1686', 'pages': '', 'date': '2009-12-01', 'series': '', 'seriesTitle': '', 'seriesText': '', 'journalAbbreviation': '', 'language': '', 'DOI': '10.1098/rspb.2009.1900', 'ISSN': '', 'shortTitle': '', 'url': 'https://doi.org/10.1098%2Frspb.2009.1900', 'accessDate': '2022-12-18', 'archive': '', 'archiveLocation': '', 'libraryCatalog': '', 'callNumber': '', 'rights': '', 'extra': '[]', 'tags': [], 'collections': [], 'relations': {}}\n",
      "Now processing: 4uk_puLhUbgJ\n",
      "https://serpapi.com/search\n",
      "Naser, S. S. A., & Al-Bayed, M. H. (2016). Detecting Health Problems Related to Addiction of Video Game Playing Using an Expert System. World Wide Journal of Multidisciplinary Research and Development, 2(9).\n"
     ]
    },
    {
     "name": "stderr",
     "output_type": "stream",
     "text": [
      "  % Total    % Received % Xferd  Average Speed   Time    Time     Time  Current\n",
      "                                 Dload  Upload   Total   Spent    Left  Speed\n",
      "  0     0    0     0    0     0      0      0 --:--:-- --:--:-- --:--:--     0\n",
      "100   241  100   241    0     0   1024      0 --:--:-- --:--:-- --:--:--  1024\n",
      "100   410    0   410    0     0    989      0 --:--:-- --:--:-- --:--:--   989\n"
     ]
    },
    {
     "name": "stdout",
     "output_type": "stream",
     "text": [
      "{'itemType': 'journalArticle', 'title': 'Measuring problem video game playing in adolescents', 'creators': [{'creatorType': 'author', 'firstName': 'Ricardo', 'lastName': 'Salguero'}, {'creatorType': 'author', 'firstName': 'Rosa', 'lastName': \"Mor{\\\\'{a}}n\"}], 'abstractNote': '', 'publicationTitle': 'Addiction', 'volume': '97', 'issue': '12', 'pages': '', 'date': '2002-12-01', 'series': '', 'seriesTitle': '', 'seriesText': '', 'journalAbbreviation': '', 'language': '', 'DOI': '10.1046/j.1360-0443.2002.00218.x', 'ISSN': '', 'shortTitle': '', 'url': 'https://doi.org/10.1046%2Fj.1360-0443.2002.00218.x', 'accessDate': '2022-12-18', 'archive': '', 'archiveLocation': '', 'libraryCatalog': '', 'callNumber': '', 'rights': '', 'extra': '[]', 'tags': [], 'collections': [], 'relations': {}}\n",
      "Now processing: 32N3ldGW0EgJ\n",
      "https://serpapi.com/search\n",
      "Viergever, M. A., Maintz, J. A., Klein, S., Murphy, K., Staring, M., & Pluim, J. P. (2016). A survey of medical image registration–under review. Medical image analysis, 33, 140-144.\n"
     ]
    },
    {
     "name": "stderr",
     "output_type": "stream",
     "text": [
      "  % Total    % Received % Xferd  Average Speed   Time    Time     Time  Current\n",
      "                                 Dload  Upload   Total   Spent    Left  Speed\n",
      "  0     0    0     0    0     0      0      0 --:--:-- --:--:-- --:--:--     0\n",
      "100   231  100   231    0     0   1169      0 --:--:-- --:--:-- --:--:--  1169\n",
      "100   461    0   461    0     0   1208      0 --:--:-- --:--:-- --:--:--  1208\n"
     ]
    },
    {
     "name": "stdout",
     "output_type": "stream",
     "text": [
      "{'itemType': 'journalArticle', 'title': 'A survey of medical image registration {\\\\textendash} under review', 'creators': [{'creatorType': 'author', 'firstName': 'Max', 'lastName': 'Viergever'}, {'creatorType': 'author', 'firstName': 'J.', 'lastName': 'Maintz'}, {'creatorType': 'author', 'firstName': 'Stefan', 'lastName': 'Klein'}, {'creatorType': 'author', 'firstName': 'Keelin', 'lastName': 'Murphy'}, {'creatorType': 'author', 'firstName': 'Marius', 'lastName': 'Staring'}, {'creatorType': 'author', 'firstName': 'Josien', 'lastName': 'Pluim'}], 'abstractNote': '', 'publicationTitle': 'Medical Image Analysis', 'volume': '33', 'issue': '', 'pages': '', 'date': '2016-10-01', 'series': '', 'seriesTitle': '', 'seriesText': '', 'journalAbbreviation': '', 'language': '', 'DOI': '10.1016/j.media.2016.06.030', 'ISSN': '', 'shortTitle': '', 'url': 'https://doi.org/10.1016%2Fj.media.2016.06.030', 'accessDate': '2022-12-18', 'archive': '', 'archiveLocation': '', 'libraryCatalog': '', 'callNumber': '', 'rights': '', 'extra': '[]', 'tags': [], 'collections': [], 'relations': {}}\n",
      "Now processing: mGdJg_jPZcYJ\n",
      "https://serpapi.com/search\n",
      "Soltanifar, Z., Behnam, H., Khorrami Banaraki, A., Khodadadi, M., Hamed Ali, B., & Golbazi Mahdipour, A. (2021). Analysis of eye tracking in individuals with autism spectrum disorder and control group in the task of staring at the Emotional facial expressions. Iranian Journal of Biomedical Engineering, 15(3), 235-246.\n"
     ]
    },
    {
     "name": "stderr",
     "output_type": "stream",
     "text": [
      "  % Total    % Received % Xferd  Average Speed   Time    Time     Time  Current\n",
      "                                 Dload  Upload   Total   Spent    Left  Speed\n",
      "  0     0    0     0    0     0      0      0 --:--:-- --:--:-- --:--:--     0\n",
      "100   223  100   223    0     0   1197      0 --:--:-- --:--:-- --:--:--  1197\n",
      "100   364    0   364    0     0    935      0 --:--:-- --:--:-- --:--:--  1866\n"
     ]
    },
    {
     "name": "stdout",
     "output_type": "stream",
     "text": [
      "Now processing: rGs8tTQnNN0J\n",
      "https://serpapi.com/search\n",
      "Raskin, E. (2020). The westing game. Penguin.\n"
     ]
    },
    {
     "name": "stderr",
     "output_type": "stream",
     "text": [
      "  % Total    % Received % Xferd  Average Speed   Time    Time     Time  Current\n",
      "                                 Dload  Upload   Total   Spent    Left  Speed\n",
      "  0     0    0     0    0     0      0      0 --:--:-- --:--:-- --:--:--     0\n",
      "100   233  100   233    0     0   1331      0 --:--:-- --:--:-- --:--:--  1331\n",
      "100   312    0   312    0     0    887      0 --:--:-- --:--:-- --:--:--   887\n"
     ]
    },
    {
     "name": "stdout",
     "output_type": "stream",
     "text": [
      "{'itemType': 'journalArticle', 'title': 'Finishing the Penguin Pairs Game', 'creators': [{'creatorType': 'author', 'firstName': 'Arjan', 'lastName': 'Egges'}], 'abstractNote': '', 'publicationTitle': '', 'volume': '', 'issue': '', 'pages': '', 'date': '2015', 'series': '', 'seriesTitle': '', 'seriesText': '', 'journalAbbreviation': '', 'language': '', 'DOI': '10.1007/978-1-4842-0650-8_21', 'ISSN': '', 'shortTitle': '', 'url': 'https://doi.org/10.1007%2F978-1-4842-0650-8_21', 'accessDate': '2022-12-18', 'archive': '', 'archiveLocation': '', 'libraryCatalog': '', 'callNumber': '', 'rights': '', 'extra': '[]', 'tags': [], 'collections': [], 'relations': {}}\n",
      "Now processing: 0TK9hEbH14QJ\n",
      "https://serpapi.com/search\n",
      "Weiland, K., Green, C., & Porter, T. (Eds.). (2016). Game of thrones. Warner Home Video Denmark.\n"
     ]
    },
    {
     "name": "stderr",
     "output_type": "stream",
     "text": [
      "  % Total    % Received % Xferd  Average Speed   Time    Time     Time  Current\n",
      "                                 Dload  Upload   Total   Spent    Left  Speed\n",
      "  0     0    0     0    0     0      0      0 --:--:-- --:--:-- --:--:--     0\n",
      "100   233  100   233    0     0   1417      0 --:--:-- --:--:-- --:--:--  1417\n",
      "100   337    0   337    0     0    988      0 --:--:-- --:--:-- --:--:--   988\n"
     ]
    },
    {
     "name": "stdout",
     "output_type": "stream",
     "text": [
      "Now processing: OJLTKlU_iUwJ\n",
      "https://serpapi.com/search\n",
      "Game, O. S., Buchsbaum, G. J., Zhou, Y., Padture, N. P., & Kingon, A. I. (2017). Ions matter: description of the anomalous electronic behavior in methylammonium lead halide perovskite devices. Advanced Functional Materials, 27(16), 1606584.\n"
     ]
    },
    {
     "name": "stderr",
     "output_type": "stream",
     "text": [
      "  % Total    % Received % Xferd  Average Speed   Time    Time     Time  Current\n",
      "                                 Dload  Upload   Total   Spent    Left  Speed\n",
      "  0     0    0     0    0     0      0      0 --:--:-- --:--:-- --:--:--     0\n",
      "100   221  100   221    0     0   1179      0 --:--:-- --:--:-- --:--:--  1179\n",
      "100   486    0   486    0     0   1217      0 --:--:-- --:--:-- --:--:--  158k\n"
     ]
    },
    {
     "name": "stdout",
     "output_type": "stream",
     "text": [
      "{'itemType': 'journalArticle', 'title': 'Ions Matter: Description of the Anomalous Electronic Behavior in Methylammonium Lead Halide Perovskite Devices', 'creators': [{'creatorType': 'author', 'firstName': 'Onkar', 'lastName': 'Game'}, {'creatorType': 'author', 'firstName': 'Gabriel', 'lastName': 'Buchsbaum'}, {'creatorType': 'author', 'firstName': 'Yuanyuan', 'lastName': 'Zhou'}, {'creatorType': 'author', 'firstName': 'Nitin', 'lastName': 'Padture'}, {'creatorType': 'author', 'firstName': 'Angus', 'lastName': 'Kingon'}], 'abstractNote': '', 'publicationTitle': 'Advanced Functional Materials', 'volume': '27', 'issue': '16', 'pages': '', 'date': '2017-03-01', 'series': '', 'seriesTitle': '', 'seriesText': '', 'journalAbbreviation': '', 'language': '', 'DOI': '10.1002/adfm.201606584', 'ISSN': '', 'shortTitle': '', 'url': 'https://doi.org/10.1002%2Fadfm.201606584', 'accessDate': '2022-12-18', 'archive': '', 'archiveLocation': '', 'libraryCatalog': '', 'callNumber': '', 'rights': '', 'extra': '[]', 'tags': [], 'collections': [], 'relations': {}}\n",
      "Now processing: 0tNWvHLEfcAJ\n",
      "https://serpapi.com/search\n",
      "Marder, B., Gattig, D., Collins, E., Pitt, L., Kietzmann, J., & Erz, A. (2019). The Avatar's new clothes: Understanding why players purchase non-functional items in free-to-play games. Computers in Human Behavior, 91, 72-83.\n"
     ]
    },
    {
     "name": "stderr",
     "output_type": "stream",
     "text": [
      "  % Total    % Received % Xferd  Average Speed   Time    Time     Time  Current\n",
      "                                 Dload  Upload   Total   Spent    Left  Speed\n",
      "  0     0    0     0    0     0      0      0 --:--:-- --:--:-- --:--:--     0\n",
      "100   227  100   227    0     0   1292      0 --:--:-- --:--:-- --:--:--     0\n",
      "100   492    0   492    0     0    937      0 --:--:-- --:--:-- --:--:--   937\n"
     ]
    },
    {
     "name": "stdout",
     "output_type": "stream",
     "text": [
      "{'itemType': 'journalArticle', 'title': 'The Avatar{\\\\textquotesingle}s new clothes: Understanding why players purchase non-functional items in free-to-play games', 'creators': [{'creatorType': 'author', 'firstName': 'Ben', 'lastName': 'Marder'}, {'creatorType': 'author', 'firstName': 'David', 'lastName': 'Gattig'}, {'creatorType': 'author', 'firstName': 'Emily', 'lastName': 'Collins'}, {'creatorType': 'author', 'firstName': 'Leyland', 'lastName': 'Pitt'}, {'creatorType': 'author', 'firstName': 'Jan', 'lastName': 'Kietzmann'}, {'creatorType': 'author', 'firstName': 'Antonia', 'lastName': 'Erz'}], 'abstractNote': '', 'publicationTitle': 'Computers in Human Behavior', 'volume': '91', 'issue': '', 'pages': '', 'date': '2019-02-01', 'series': '', 'seriesTitle': '', 'seriesText': '', 'journalAbbreviation': '', 'language': '', 'DOI': '10.1016/j.chb.2018.09.006', 'ISSN': '', 'shortTitle': '', 'url': 'https://doi.org/10.1016%2Fj.chb.2018.09.006', 'accessDate': '2022-12-18', 'archive': '', 'archiveLocation': '', 'libraryCatalog': '', 'callNumber': '', 'rights': '', 'extra': '[]', 'tags': [], 'collections': [], 'relations': {}}\n",
      "Now processing: efn7eN_obL8J\n",
      "https://serpapi.com/search\n",
      "Sheldrake, R. (2013). The sense of being stared at: And other aspects of the extended mind. Random House.\n"
     ]
    },
    {
     "name": "stderr",
     "output_type": "stream",
     "text": [
      "  % Total    % Received % Xferd  Average Speed   Time    Time     Time  Current\n",
      "                                 Dload  Upload   Total   Spent    Left  Speed\n",
      "  0     0    0     0    0     0      0      0 --:--:-- --:--:-- --:--:--     0\n",
      "100   207  100   207    0     0   1217      0 --:--:-- --:--:-- --:--:--  1217\n",
      "100   450    0   450    0     0   1278      0 --:--:-- --:--:-- --:--:--  1278\n"
     ]
    },
    {
     "name": "stdout",
     "output_type": "stream",
     "text": [
      "{'itemType': 'journalArticle', 'title': 'The sense of being stared at, and other aspects of the extended mind. By Rupert Sheldrake. Three Rivers, {CA}: Three Rivers Press, 2004, {ISBN} 1400051290.', 'creators': [{'creatorType': 'author', 'firstName': 'Jean', 'lastName': 'Sayre-Adams'}], 'abstractNote': '', 'publicationTitle': 'Spirituality and Health International', 'volume': '5', 'issue': '4', 'pages': '', 'date': '2004-12-01', 'series': '', 'seriesTitle': '', 'seriesText': '', 'journalAbbreviation': '', 'language': '', 'DOI': '10.1002/shi.279', 'ISSN': '', 'shortTitle': '', 'url': 'https://doi.org/10.1002%2Fshi.279', 'accessDate': '2022-12-18', 'archive': '', 'archiveLocation': '', 'libraryCatalog': '', 'callNumber': '', 'rights': '', 'extra': '[]', 'tags': [], 'collections': [], 'relations': {}}\n",
      "Now processing: xIBD3vrbhg8J\n",
      "https://serpapi.com/search\n",
      "Fernandes, J., Duarte, D., Ribeiro, C., Farinha, C., Pereira, J. M., & da Silva, M. M. (2012). iThink: A game-based approach towards improving collaboration and participation in requirement elicitation. Procedia Computer Science, 15, 66-77.\n"
     ]
    },
    {
     "name": "stderr",
     "output_type": "stream",
     "text": [
      "  % Total    % Received % Xferd  Average Speed   Time    Time     Time  Current\n",
      "                                 Dload  Upload   Total   Spent    Left  Speed\n",
      "  0     0    0     0    0     0      0      0 --:--:-- --:--:-- --:--:--     0\n",
      "100   231  100   231    0     0   1260      0 --:--:-- --:--:-- --:--:--  1260\n",
      "100   505    0   505    0     0   1279      0 --:--:-- --:--:-- --:--:--  2805\n"
     ]
    },
    {
     "name": "stdout",
     "output_type": "stream",
     "text": [
      "{'itemType': 'journalArticle', 'title': '{iThink}: A Game-Based Approach Towards Improving Collaboration and Participation in Requirement Elicitation', 'creators': [{'creatorType': 'author', 'firstName': 'Jo{\\\\~{a}}o', 'lastName': 'Fernandes'}, {'creatorType': 'author', 'firstName': 'Diogo', 'lastName': 'Duarte'}, {'creatorType': 'author', 'firstName': 'Claudia', 'lastName': 'Ribeiro'}, {'creatorType': 'author', 'firstName': 'Carla', 'lastName': 'Farinha'}, {'creatorType': 'author', 'firstName': 'Jo{\\\\~{a}}o', 'lastName': 'Pereira'}, {'creatorType': 'author', 'firstName': 'Miguel', 'lastName': 'Silva'}], 'abstractNote': '', 'publicationTitle': 'Procedia Computer Science', 'volume': '15', 'issue': '', 'pages': '', 'date': '2012', 'series': '', 'seriesTitle': '', 'seriesText': '', 'journalAbbreviation': '', 'language': '', 'DOI': '10.1016/j.procs.2012.10.059', 'ISSN': '', 'shortTitle': '', 'url': 'https://doi.org/10.1016%2Fj.procs.2012.10.059', 'accessDate': '2022-12-18', 'archive': '', 'archiveLocation': '', 'libraryCatalog': '', 'callNumber': '', 'rights': '', 'extra': '[]', 'tags': [], 'collections': [], 'relations': {}}\n",
      "Now processing: b33FEYJo-OQJ\n",
      "https://serpapi.com/search\n",
      "Sundstedt, V. (2012). Gazing at games: An introduction to eye tracking control. Synthesis Lectures on Computer Graphics and Animation, 5(1), 1-113.\n"
     ]
    },
    {
     "name": "stderr",
     "output_type": "stream",
     "text": [
      "  % Total    % Received % Xferd  Average Speed   Time    Time     Time  Current\n",
      "                                 Dload  Upload   Total   Spent    Left  Speed\n",
      "  0     0    0     0    0     0      0      0 --:--:-- --:--:-- --:--:--     0\n",
      "  0     0    0     0    0     0      0      0 --:--:-- --:--:-- --:--:--     0\n",
      "100   227  100   227    0     0   1006      0 --:--:-- --:--:-- --:--:--  1006\n",
      "100   236    0   236    0     0    561      0 --:--:-- --:--:-- --:--:--   561\n"
     ]
    },
    {
     "name": "stdout",
     "output_type": "stream",
     "text": [
      "{'itemType': 'journalArticle', 'title': 'Gazing at Games', 'creators': [{'creatorType': 'author', 'firstName': 'Veronica', 'lastName': 'Sundstedt'}], 'abstractNote': '', 'publicationTitle': '', 'volume': '', 'issue': '', 'pages': '', 'date': '2012', 'series': '', 'seriesTitle': '', 'seriesText': '', 'journalAbbreviation': '', 'language': '', 'DOI': '10.2200/s00395ed1v01y201111cgr014', 'ISSN': '', 'shortTitle': '', 'url': 'https://doi.org/10.1007%2F978-3-031-79552-7', 'accessDate': '2022-12-18', 'archive': '', 'archiveLocation': '', 'libraryCatalog': '', 'callNumber': '', 'rights': '', 'extra': '[]', 'tags': [], 'collections': [], 'relations': {}}\n",
      "Now processing: 2khQoTQytHkJ\n",
      "https://serpapi.com/search\n",
      "Velloso, E., & Carter, M. (2016, October). The emergence of eyeplay: a survey of eye interaction in games. In Proceedings of the 2016 annual symposium on computer-human interaction in play (pp. 171-185).\n"
     ]
    },
    {
     "name": "stderr",
     "output_type": "stream",
     "text": [
      "  % Total    % Received % Xferd  Average Speed   Time    Time     Time  Current\n",
      "                                 Dload  Upload   Total   Spent    Left  Speed\n",
      "  0     0    0     0    0     0      0      0 --:--:-- --:--:-- --:--:--     0\n",
      "100   223  100   223    0     0    895      0 --:--:-- --:--:-- --:--:--   895\n",
      "100   348    0   348    0     0    741      0 --:--:-- --:--:-- --:--:--   741\n"
     ]
    },
    {
     "name": "stdout",
     "output_type": "stream",
     "text": [
      "{'itemType': 'journalArticle', 'title': 'The Emergence of {EyePlay}', 'creators': [{'creatorType': 'author', 'firstName': 'Eduardo', 'lastName': 'Velloso'}, {'creatorType': 'author', 'firstName': 'Marcus', 'lastName': 'Carter'}], 'abstractNote': '', 'publicationTitle': '', 'volume': '', 'issue': '', 'pages': '', 'date': '2016-10-01', 'series': '', 'seriesTitle': '', 'seriesText': '', 'journalAbbreviation': '', 'language': '', 'DOI': '10.1145/2967934.2968084', 'ISSN': '', 'shortTitle': '', 'url': 'https://doi.org/10.1145%2F2967934.2968084', 'accessDate': '2022-12-18', 'archive': '', 'archiveLocation': '', 'libraryCatalog': '', 'callNumber': '', 'rights': '', 'extra': '[]', 'tags': [], 'collections': [], 'relations': {}}\n",
      "Now processing: eJ93WB-ZFHEJ\n",
      "https://serpapi.com/search\n",
      "Sundstedt, V. (2010). Gazing at games: using eye tracking to control virtual characters. In ACM SIGGRAPH 2010 Courses (pp. 1-160).\n"
     ]
    },
    {
     "name": "stderr",
     "output_type": "stream",
     "text": [
      "  % Total    % Received % Xferd  Average Speed   Time    Time     Time  Current\n",
      "                                 Dload  Upload   Total   Spent    Left  Speed\n",
      "  0     0    0     0    0     0      0      0 --:--:-- --:--:-- --:--:--     0\n",
      "100   223  100   223    0     0    903      0 --:--:-- --:--:-- --:--:--   903\n",
      "100   302    0   302    0     0    705      0 --:--:-- --:--:-- --:--:--     0\n"
     ]
    },
    {
     "name": "stdout",
     "output_type": "stream",
     "text": [
      "{'itemType': 'journalArticle', 'title': 'Gazing at games', 'creators': [{'creatorType': 'author', 'firstName': 'Veronica', 'lastName': 'Sundstedt'}], 'abstractNote': '', 'publicationTitle': '', 'volume': '', 'issue': '', 'pages': '', 'date': '2010', 'series': '', 'seriesTitle': '', 'seriesText': '', 'journalAbbreviation': '', 'language': '', 'DOI': '10.1145/1837101.1837106', 'ISSN': '', 'shortTitle': '', 'url': 'https://doi.org/10.1145%2F1837101.1837106', 'accessDate': '2022-12-18', 'archive': '', 'archiveLocation': '', 'libraryCatalog': '', 'callNumber': '', 'rights': '', 'extra': '[]', 'tags': [], 'collections': [], 'relations': {}}\n",
      "Now processing: 5mYIlxX4cxcJ\n",
      "https://serpapi.com/search\n",
      "Connell, R. (2017). The most dangerous game. In Stories for Men (pp. 88-107). Routledge.\n"
     ]
    },
    {
     "name": "stderr",
     "output_type": "stream",
     "text": [
      "  % Total    % Received % Xferd  Average Speed   Time    Time     Time  Current\n",
      "                                 Dload  Upload   Total   Spent    Left  Speed\n",
      "  0     0    0     0    0     0      0      0 --:--:-- --:--:-- --:--:--     0\n",
      "100   223  100   223    0     0    892      0 --:--:-- --:--:-- --:--:--   892\n",
      "100   287    0   287    0     0    665      0 --:--:-- --:--:-- --:--:--   665\n"
     ]
    },
    {
     "name": "stdout",
     "output_type": "stream",
     "text": [
      "{'itemType': 'journalArticle', 'title': 'The Most Dangerous Game', 'creators': [{'creatorType': 'author', 'firstName': 'Richard', 'lastName': 'Connell'}], 'abstractNote': '', 'publicationTitle': '', 'volume': '', 'issue': '', 'pages': '', 'date': '2017-09-01', 'series': '', 'seriesTitle': '', 'seriesText': '', 'journalAbbreviation': '', 'language': '', 'DOI': '10.4324/9781315130279-7', 'ISSN': '', 'shortTitle': '', 'url': 'https://doi.org/10.4324%2F9781315130279-7', 'accessDate': '2022-12-18', 'archive': '', 'archiveLocation': '', 'libraryCatalog': '', 'callNumber': '', 'rights': '', 'extra': '[]', 'tags': [], 'collections': [], 'relations': {}}\n",
      "Now processing: 92EfNDr7vZgJ\n",
      "https://serpapi.com/search\n",
      "DeMaria, R. (2018). High Score! Expanded: The Illustrated History of Electronic Games 3rd Edition. CRC Press.\n"
     ]
    },
    {
     "name": "stderr",
     "output_type": "stream",
     "text": [
      "  % Total    % Received % Xferd  Average Speed   Time    Time     Time  Current\n",
      "                                 Dload  Upload   Total   Spent    Left  Speed\n",
      "  0     0    0     0    0     0      0      0 --:--:-- --:--:-- --:--:--     0\n",
      "100   219  100   219    0     0    596      0 --:--:-- --:--:-- --:--:--   596\n",
      "100   220    0   220    0     0    393      0 --:--:-- --:--:-- --:--:--   393\n"
     ]
    },
    {
     "name": "stdout",
     "output_type": "stream",
     "text": [
      "{'itemType': 'journalArticle', 'title': 'High Score! Expanded', 'creators': [{'creatorType': 'author', 'firstName': 'Rusel', 'lastName': 'DeMaria'}], 'abstractNote': '', 'publicationTitle': '', 'volume': '', 'issue': '', 'pages': '', 'date': '2018-12-01', 'series': '', 'seriesTitle': '', 'seriesText': '', 'journalAbbreviation': '', 'language': '', 'DOI': '10.1201/9780429429910', 'ISSN': '', 'shortTitle': '', 'url': 'https://doi.org/10.1201%2F9780429429910', 'accessDate': '2022-12-18', 'archive': '', 'archiveLocation': '', 'libraryCatalog': '', 'callNumber': '', 'rights': '', 'extra': '[]', 'tags': [], 'collections': [], 'relations': {}}\n",
      "Now processing: fUv3_UkWqC0J\n",
      "https://serpapi.com/search\n",
      "Gardner, A. J., Iverson, G. L., Quinn, T. N., Makdissi, M., Levi, C. R., Shultz, S. R., ... & Stanwell, P. (2015). A preliminary video analysis of concussion in the National Rugby League. Brain injury, 29(10), 1182-1185.\n"
     ]
    },
    {
     "name": "stderr",
     "output_type": "stream",
     "text": [
      "  % Total    % Received % Xferd  Average Speed   Time    Time     Time  Current\n",
      "                                 Dload  Upload   Total   Spent    Left  Speed\n",
      "  0     0    0     0    0     0      0      0 --:--:-- --:--:-- --:--:--     0\n",
      "100   235  100   235    0     0    645      0 --:--:-- --:--:-- --:--:--   645\n",
      "100   529    0   529    0     0    965      0 --:--:-- --:--:-- --:--:--   965\n"
     ]
    },
    {
     "name": "stdout",
     "output_type": "stream",
     "text": [
      "{'itemType': 'journalArticle', 'title': 'A preliminary video analysis of concussion in the National Rugby League', 'creators': [{'creatorType': 'author', 'firstName': 'Andrew', 'lastName': 'Gardner'}, {'creatorType': 'author', 'firstName': 'Grant', 'lastName': 'Iverson'}, {'creatorType': 'author', 'firstName': 'Tanya', 'lastName': 'Quinn'}, {'creatorType': 'author', 'firstName': 'Michael', 'lastName': 'Makdissi'}, {'creatorType': 'author', 'firstName': 'Christopher', 'lastName': 'Levi'}, {'creatorType': 'author', 'firstName': 'Sandy', 'lastName': 'Shultz'}, {'creatorType': 'author', 'firstName': 'David', 'lastName': 'Wright'}, {'creatorType': 'author', 'firstName': 'Peter', 'lastName': 'Stanwell'}], 'abstractNote': '', 'publicationTitle': 'Brain Injury', 'volume': '29', 'issue': '10', 'pages': '', 'date': '2015-06-01', 'series': '', 'seriesTitle': '', 'seriesText': '', 'journalAbbreviation': '', 'language': '', 'DOI': '10.3109/02699052.2015.1034179', 'ISSN': '', 'shortTitle': '', 'url': 'https://doi.org/10.3109%2F02699052.2015.1034179', 'accessDate': '2022-12-18', 'archive': '', 'archiveLocation': '', 'libraryCatalog': '', 'callNumber': '', 'rights': '', 'extra': '[]', 'tags': [], 'collections': [], 'relations': {}}\n",
      "Now processing: OhDZzgnpepwJ\n",
      "https://serpapi.com/search\n",
      "Landis, H., Hughes, A., & Kay, C. (2020). Staring into a blue circle: Reflections on school-based drama therapy during COVID-19. Drama Therapy Review, 6(2), 21-28.\n"
     ]
    },
    {
     "name": "stderr",
     "output_type": "stream",
     "text": [
      "  % Total    % Received % Xferd  Average Speed   Time    Time     Time  Current\n",
      "                                 Dload  Upload   Total   Spent    Left  Speed\n",
      "  0     0    0     0    0     0      0      0 --:--:-- --:--:-- --:--:--     0\n",
      "100   215  100   215    0     0   1322      0 --:--:-- --:--:-- --:--:--  1322\n",
      "100   399    0   399    0     0   1179      0 --:--:-- --:--:-- --:--:--     0\n"
     ]
    },
    {
     "name": "stdout",
     "output_type": "stream",
     "text": [
      "{'itemType': 'journalArticle', 'title': 'Staring into a blue circle: Reflections on school-based drama therapy during {COVID}-19', 'creators': [{'creatorType': 'author', 'firstName': 'Heidi', 'lastName': 'Landis'}, {'creatorType': 'author', 'firstName': 'Alessia', 'lastName': 'Hughes'}, {'creatorType': 'author', 'firstName': 'Cindy', 'lastName': 'Kay'}], 'abstractNote': '', 'publicationTitle': 'Drama Therapy Review', 'volume': '6', 'issue': '2', 'pages': '', 'date': '2020-10-01', 'series': '', 'seriesTitle': '', 'seriesText': '', 'journalAbbreviation': '', 'language': '', 'DOI': '10.1386/dtr_00037_1', 'ISSN': '', 'shortTitle': '', 'url': 'https://doi.org/10.1386%2Fdtr_00037_1', 'accessDate': '2022-12-18', 'archive': '', 'archiveLocation': '', 'libraryCatalog': '', 'callNumber': '', 'rights': '', 'extra': '[]', 'tags': [], 'collections': [], 'relations': {}}\n",
      "0\n",
      "https://serpapi.com/search\n",
      "0\n",
      "This should've returned 0 (sucess)\n",
      "Now processing: OUAHo48tv4UJ\n",
      "https://serpapi.com/search\n",
      "Baack, D. W., Dow, D., Parente, R., & Bacon, D. R. (2015). Confirmation bias in individual-level perceptions of psychic distance: An experimental investigation. Journal of International Business Studies, 46(8), 938-959.\n"
     ]
    },
    {
     "name": "stderr",
     "output_type": "stream",
     "text": [
      "  % Total    % Received % Xferd  Average Speed   Time    Time     Time  Current\n",
      "                                 Dload  Upload   Total   Spent    Left  Speed\n",
      "  0     0    0     0    0     0      0      0 --:--:-- --:--:-- --:--:--     0\n",
      "100   217  100   217    0     0   1262      0 --:--:-- --:--:-- --:--:--  2932\n",
      "100   493    0   493    0     0   1398      0 --:--:-- --:--:-- --:--:--  1398\n"
     ]
    },
    {
     "name": "stdout",
     "output_type": "stream",
     "text": [
      "{'itemType': 'journalArticle', 'title': 'Confirmation bias in individual-level perceptions of psychic distance: An experimental investigation', 'creators': [{'creatorType': 'author', 'firstName': 'Daniel', 'lastName': 'Baack'}, {'creatorType': 'author', 'firstName': 'Douglas', 'lastName': 'Dow'}, {'creatorType': 'author', 'firstName': 'Ronaldo', 'lastName': 'Parente'}, {'creatorType': 'author', 'firstName': 'Donald', 'lastName': 'Bacon'}], 'abstractNote': '', 'publicationTitle': 'Journal of International Business Studies', 'volume': '46', 'issue': '8', 'pages': '', 'date': '2015-07-01', 'series': '', 'seriesTitle': '', 'seriesText': '', 'journalAbbreviation': '', 'language': '', 'DOI': '10.1057/jibs.2015.19', 'ISSN': '', 'shortTitle': '', 'url': 'https://doi.org/10.1057%2Fjibs.2015.19', 'accessDate': '2022-12-18', 'archive': '', 'archiveLocation': '', 'libraryCatalog': '', 'callNumber': '', 'rights': '', 'extra': '[]', 'tags': [], 'collections': [], 'relations': {}}\n",
      "Now processing: uGWSgFGLf1IJ\n",
      "https://serpapi.com/search\n",
      "Carter, C. (2012). Science and psychic phenomena: The fall of the house of skeptics. Simon and Schuster.\n"
     ]
    },
    {
     "name": "stderr",
     "output_type": "stream",
     "text": [
      "  % Total    % Received % Xferd  Average Speed   Time    Time     Time  Current\n",
      "                                 Dload  Upload   Total   Spent    Left  Speed\n",
      "  0     0    0     0    0     0      0      0 --:--:-- --:--:-- --:--:--     0\n",
      "100   207  100   207    0     0   1225      0 --:--:-- --:--:-- --:--:--  1225\n",
      "100   404    0   404    0     0   1151      0 --:--:-- --:--:-- --:--:--  1151\n"
     ]
    },
    {
     "name": "stdout",
     "output_type": "stream",
     "text": [
      "{'itemType': 'journalArticle', 'title': 'Palestine: peace not apartheid. By Jimmy Carter, London: Simon and Schuster, 2006', 'creators': [{'creatorType': 'author', 'firstName': 'Jonathan', 'lastName': 'House'}, {'creatorType': 'author', 'firstName': 'Antonia', 'lastName': 'House'}], 'abstractNote': '', 'publicationTitle': 'International Journal of Applied Psychoanalytic Studies', 'volume': '6', 'issue': '3', 'pages': '', 'date': '2009-08-01', 'series': '', 'seriesTitle': '', 'seriesText': '', 'journalAbbreviation': '', 'language': '', 'DOI': '10.1002/aps.211', 'ISSN': '', 'shortTitle': '', 'url': 'https://doi.org/10.1002%2Faps.211', 'accessDate': '2022-12-18', 'archive': '', 'archiveLocation': '', 'libraryCatalog': '', 'callNumber': '', 'rights': '', 'extra': '[]', 'tags': [], 'collections': [], 'relations': {}}\n",
      "Now processing: G7zelXwv3nQJ\n",
      "https://serpapi.com/search\n",
      "Beischel, J., Mosher, C., & Boccuzzi, M. (2014). The possible effects on bereavement of assisted after-death communication during readings with psychic mediums: A continuing bonds perspective. OMEGA-Journal of Death and Dying, 70(2), 169-194.\n"
     ]
    },
    {
     "name": "stderr",
     "output_type": "stream",
     "text": [
      "  % Total    % Received % Xferd  Average Speed   Time    Time     Time  Current\n",
      "                                 Dload  Upload   Total   Spent    Left  Speed\n",
      "  0     0    0     0    0     0      0      0 --:--:-- --:--:-- --:--:--     0\n",
      "100   211  100   211    0     0   1144      0 --:--:-- --:--:-- --:--:--  1144\n",
      "100   524    0   524    0     0   1438      0 --:--:-- --:--:-- --:--:--  1438\n"
     ]
    },
    {
     "name": "stdout",
     "output_type": "stream",
     "text": [
      "{'itemType': 'journalArticle', 'title': 'The Possible Effects on Bereavement of Assisted After-Death                     Communication during Readings with Psychic Mediums: A Continuing Bonds                     Perspective', 'creators': [{'creatorType': 'author', 'firstName': 'Julie', 'lastName': 'Beischel'}, {'creatorType': 'author', 'firstName': 'Chad', 'lastName': 'Mosher'}, {'creatorType': 'author', 'firstName': 'Mark', 'lastName': 'Boccuzzi'}], 'abstractNote': '', 'publicationTitle': '{OMEGA} - Journal of Death and Dying', 'volume': '70', 'issue': '2', 'pages': '', 'date': '2014-12-01', 'series': '', 'seriesTitle': '', 'seriesText': '', 'journalAbbreviation': '', 'language': '', 'DOI': '10.2190/om.70.2.b', 'ISSN': '', 'shortTitle': '', 'url': 'https://doi.org/10.2190%2Fom.70.2.b', 'accessDate': '2022-12-18', 'archive': '', 'archiveLocation': '', 'libraryCatalog': '', 'callNumber': '', 'rights': '', 'extra': '[]', 'tags': [], 'collections': [], 'relations': {}}\n",
      "Now processing: KniahOce438J\n",
      "https://serpapi.com/search\n",
      "Sera-Shriar, E. (2022). Psychic investigators: Anthropology, modern spiritualism, and credible witnessing in the late Victorian age. University of Pittsburgh Press.\n"
     ]
    },
    {
     "name": "stderr",
     "output_type": "stream",
     "text": [
      "  % Total    % Received % Xferd  Average Speed   Time    Time     Time  Current\n",
      "                                 Dload  Upload   Total   Spent    Left  Speed\n",
      "  0     0    0     0    0     0      0      0 --:--:-- --:--:-- --:--:--     0\n",
      "100   217  100   217    0     0   1202      0 --:--:-- --:--:-- --:--:--  1202\n",
      "100   246    0   246    0     0    694      0 --:--:-- --:--:-- --:--:--   694\n"
     ]
    },
    {
     "name": "stdout",
     "output_type": "stream",
     "text": [
      "{'itemType': 'journalArticle', 'title': 'Psychic Investigators', 'creators': [{'creatorType': 'author', 'firstName': 'EFRAM', 'lastName': 'SERA-SHRIAR'}], 'abstractNote': '', 'publicationTitle': '', 'volume': '', 'issue': '', 'pages': '', 'date': '2022-06-01', 'series': '', 'seriesTitle': '', 'seriesText': '', 'journalAbbreviation': '', 'language': '', 'DOI': '10.2307/j.ctv2zt9mtm', 'ISSN': '', 'shortTitle': '', 'url': 'https://doi.org/10.2307%2Fj.ctv2zt9mtm', 'accessDate': '2022-12-18', 'archive': '', 'archiveLocation': '', 'libraryCatalog': '', 'callNumber': '', 'rights': '', 'extra': '[]', 'tags': [], 'collections': [], 'relations': {}}\n",
      "Now processing: 47SXeszwef4J\n",
      "https://serpapi.com/search\n",
      "Greenaway, K. H., Louis, W. R., & Hornsey, M. J. (2013). Loss of control increases belief in precognition and belief in precognition increases control. PloS one, 8(8), e71327.\n"
     ]
    },
    {
     "name": "stderr",
     "output_type": "stream",
     "text": [
      "  % Total    % Received % Xferd  Average Speed   Time    Time     Time  Current\n",
      "                                 Dload  Upload   Total   Spent    Left  Speed\n",
      "  0     0    0     0    0     0      0      0 --:--:-- --:--:-- --:--:--     0\n",
      "100   233  100   233    0     0   1122      0 --:--:-- --:--:-- --:--:--  1122\n",
      "100   493    0   493    0     0   1170      0 --:--:-- --:--:-- --:--:--  1170\n"
     ]
    },
    {
     "name": "stdout",
     "output_type": "stream",
     "text": [
      "{'itemType': 'journalArticle', 'title': 'Loss of Control Increases Belief in Precognition and Belief in Precognition Increases Control', 'creators': [{'creatorType': 'author', 'firstName': 'Katharine', 'lastName': 'Greenaway'}, {'creatorType': 'author', 'firstName': 'Winnifred', 'lastName': 'Louis'}, {'creatorType': 'author', 'firstName': 'Matthew', 'lastName': 'Hornsey'}], 'abstractNote': '', 'publicationTitle': '{PLoS} {ONE}', 'volume': '8', 'issue': '8', 'pages': '', 'date': '2013-08-01', 'series': '', 'seriesTitle': '', 'seriesText': '', 'journalAbbreviation': '', 'language': '', 'DOI': '10.1371/journal.pone.0071327', 'ISSN': '', 'shortTitle': '', 'url': 'https://doi.org/10.1371%2Fjournal.pone.0071327', 'accessDate': '2022-12-18', 'archive': '', 'archiveLocation': '', 'libraryCatalog': '', 'callNumber': '', 'rights': '', 'extra': '[]', 'tags': [], 'collections': [], 'relations': {}}\n",
      "Now processing: 7AKPpEE5_GUJ\n",
      "https://serpapi.com/search\n",
      "Thalbourne, M. A. (2010). The Australian sheep-goat scale: Development and empirical findings. Australian Journal of Parapsychology, 10(1), 5-39.\n"
     ]
    },
    {
     "name": "stderr",
     "output_type": "stream",
     "text": [
      "  % Total    % Received % Xferd  Average Speed   Time    Time     Time  Current\n",
      "                                 Dload  Upload   Total   Spent    Left  Speed\n",
      "  0     0    0     0    0     0      0      0 --:--:-- --:--:-- --:--:--     0\n",
      "100   231  100   231    0     0   1143      0 --:--:-- --:--:-- --:--:--  3500\n",
      "100   476    0   476    0     0   1266      0 --:--:-- --:--:-- --:--:--  1266\n"
     ]
    },
    {
     "name": "stdout",
     "output_type": "stream",
     "text": [
      "{'itemType': 'journalArticle', 'title': 'Rasch Scaling Paranormal Belief and Experience: Structure and Semantics of Thalbourne{\\\\textquotesingle}s Australian Sheep-Goat Scale', 'creators': [{'creatorType': 'author', 'firstName': 'Rense', 'lastName': 'Lange'}, {'creatorType': 'author', 'firstName': 'Michael', 'lastName': 'Thalbourne'}], 'abstractNote': '', 'publicationTitle': 'Psychological Reports', 'volume': '91', 'issue': '3{\\\\_}suppl', 'pages': '', 'date': '2002-12-01', 'series': '', 'seriesTitle': '', 'seriesText': '', 'journalAbbreviation': '', 'language': '', 'DOI': '10.2466/pr0.2002.91.3f.1065', 'ISSN': '', 'shortTitle': '', 'url': 'https://doi.org/10.2466%2Fpr0.2002.91.3f.1065', 'accessDate': '2022-12-18', 'archive': '', 'archiveLocation': '', 'libraryCatalog': '', 'callNumber': '', 'rights': '', 'extra': '[]', 'tags': [], 'collections': [], 'relations': {}}\n",
      "Now processing: crG-5z7bQiMJ\n",
      "https://serpapi.com/search\n",
      "Wilson, J. A. (2018). Reducing pseudoscientific and paranormal beliefs in university students through a course in science and critical thinking. Science & Education, 27(1), 183-210.\n"
     ]
    },
    {
     "name": "stderr",
     "output_type": "stream",
     "text": [
      "  % Total    % Received % Xferd  Average Speed   Time    Time     Time  Current\n",
      "                                 Dload  Upload   Total   Spent    Left  Speed\n",
      "  0     0    0     0    0     0      0      0 --:--:-- --:--:-- --:--:--     0\n",
      "100   227  100   227    0     0   1311      0 --:--:-- --:--:-- --:--:--  1311\n",
      "100   473    0   473    0     0   1312      0 --:--:-- --:--:-- --:--:--  1312\n"
     ]
    },
    {
     "name": "stdout",
     "output_type": "stream",
     "text": [
      "{'itemType': 'journalArticle', 'title': 'Reducing Pseudoscientific and Paranormal Beliefs in University Students Through a Course in Science and Critical Thinking', 'creators': [{'creatorType': 'author', 'firstName': 'James', 'lastName': 'Wilson'}], 'abstractNote': '', 'publicationTitle': 'Science {\\\\&}amp$\\\\mathsemicolon$ Education', 'volume': '27', 'issue': '1-2', 'pages': '', 'date': '2018-02-01', 'series': '', 'seriesTitle': '', 'seriesText': '', 'journalAbbreviation': '', 'language': '', 'DOI': '10.1007/s11191-018-9956-0', 'ISSN': '', 'shortTitle': '', 'url': 'https://doi.org/10.1007%2Fs11191-018-9956-0', 'accessDate': '2022-12-18', 'archive': '', 'archiveLocation': '', 'libraryCatalog': '', 'callNumber': '', 'rights': '', 'extra': '[]', 'tags': [], 'collections': [], 'relations': {}}\n",
      "Now processing: mkgxcP_fc7MJ\n",
      "https://serpapi.com/search\n",
      "Wahbeh, H., Radin, D., Yount, G., of Menie, M. A. W., Sarraf, M. A., & Karpuj, M. V. (2022). Genetics of psychic ability-A pilot case-control exome sequencing study. EXPLORE, 18(3), 264-271.\n"
     ]
    },
    {
     "name": "stderr",
     "output_type": "stream",
     "text": [
      "  % Total    % Received % Xferd  Average Speed   Time    Time     Time  Current\n",
      "                                 Dload  Upload   Total   Spent    Left  Speed\n",
      "  0     0    0     0    0     0      0      0 --:--:-- --:--:-- --:--:--     0\n",
      "100   235  100   235    0     0   1349      0 --:--:-- --:--:-- --:--:--  1349\n",
      "100   483    0   483    0     0   1228      0 --:--:-- --:--:-- --:--:-- 69000\n"
     ]
    },
    {
     "name": "stdout",
     "output_type": "stream",
     "text": [
      "{'itemType': 'journalArticle', 'title': 'Genetics of psychic ability - A pilot case-control exome sequencing study', 'creators': [{'creatorType': 'author', 'firstName': \"Helan{\\\\'{e}}\", 'lastName': 'Wahbeh'}, {'creatorType': 'author', 'firstName': 'Dean', 'lastName': 'Radin'}, {'creatorType': 'author', 'firstName': 'Garret', 'lastName': 'Yount'}, {'creatorType': 'author', 'firstName': 'Michael', 'lastName': 'Menie'}, {'creatorType': 'author', 'firstName': 'Matthew', 'lastName': 'Sarraf'}, {'creatorType': 'author', 'firstName': 'Marcela', 'lastName': 'Karpuj'}], 'abstractNote': '', 'publicationTitle': '{EXPLORE}', 'volume': '18', 'issue': '3', 'pages': '', 'date': '2022-05-01', 'series': '', 'seriesTitle': '', 'seriesText': '', 'journalAbbreviation': '', 'language': '', 'DOI': '10.1016/j.explore.2021.02.014', 'ISSN': '', 'shortTitle': '', 'url': 'https://doi.org/10.1016%2Fj.explore.2021.02.014', 'accessDate': '2022-12-18', 'archive': '', 'archiveLocation': '', 'libraryCatalog': '', 'callNumber': '', 'rights': '', 'extra': '[]', 'tags': [], 'collections': [], 'relations': {}}\n",
      "Now processing: 7tCoUh3bGWIJ\n",
      "https://serpapi.com/search\n",
      "Movsesian, M. (2014). Defining religion in American law: Psychic Sophie and the rise of the Nones. Robert Schuman Centre for Advanced Studies Research Paper, (2014/19), 14-0001.\n"
     ]
    },
    {
     "name": "stderr",
     "output_type": "stream",
     "text": [
      "  % Total    % Received % Xferd  Average Speed   Time    Time     Time  Current\n",
      "                                 Dload  Upload   Total   Spent    Left  Speed\n",
      "  0     0    0     0    0     0      0      0 --:--:-- --:--:-- --:--:--     0\n",
      "100   217  100   217    0     0   1210      0 --:--:-- --:--:-- --:--:--  1210\n",
      "100   308    0   308    0     0    861      0 --:--:-- --:--:-- --:--:--     0\n"
     ]
    },
    {
     "name": "stdout",
     "output_type": "stream",
     "text": [
      "{'itemType': 'journalArticle', 'title': 'Defining Religion in American Law: Psychic Sophie and the Rise of the Nones', 'creators': [{'creatorType': 'author', 'firstName': 'Mark', 'lastName': 'Movsesian'}], 'abstractNote': '', 'publicationTitle': '{SSRN} Electronic Journal', 'volume': '', 'issue': '', 'pages': '', 'date': '2014', 'series': '', 'seriesTitle': '', 'seriesText': '', 'journalAbbreviation': '', 'language': '', 'DOI': '10.2139/ssrn.2399470', 'ISSN': '', 'shortTitle': '', 'url': 'https://doi.org/10.2139%2Fssrn.2399470', 'accessDate': '2022-12-18', 'archive': '', 'archiveLocation': '', 'libraryCatalog': '', 'callNumber': '', 'rights': '', 'extra': '[]', 'tags': [], 'collections': [], 'relations': {}}\n",
      "Now processing: ptjlduBqFyMJ\n",
      "https://serpapi.com/search\n",
      "Moodley, R., & Sutherland, P. (2010). Psychic retreats in other places: Clients who seek healing with traditional healers and psychotherapists. Counselling Psychology Quarterly, 23(3), 267-282.\n"
     ]
    },
    {
     "name": "stderr",
     "output_type": "stream",
     "text": [
      "  % Total    % Received % Xferd  Average Speed   Time    Time     Time  Current\n",
      "                                 Dload  Upload   Total   Spent    Left  Speed\n",
      "  0     0    0     0    0     0      0      0 --:--:-- --:--:-- --:--:--     0\n",
      "100   233  100   233    0     0   1284      0 --:--:-- --:--:-- --:--:--  1284\n",
      "100   449    0   449    0     0   1246      0 --:--:-- --:--:-- --:--:--  1246\n"
     ]
    },
    {
     "name": "stdout",
     "output_type": "stream",
     "text": [
      "{'itemType': 'journalArticle', 'title': 'Psychic retreats in other places: Clients who seek healing with traditional healers and psychotherapists1', 'creators': [{'creatorType': 'author', 'firstName': 'Roy', 'lastName': 'Moodley'}, {'creatorType': 'author', 'firstName': 'Patsy', 'lastName': 'Sutherland'}], 'abstractNote': '', 'publicationTitle': 'Counselling Psychology Quarterly', 'volume': '23', 'issue': '3', 'pages': '', 'date': '2010-09-01', 'series': '', 'seriesTitle': '', 'seriesText': '', 'journalAbbreviation': '', 'language': '', 'DOI': '10.1080/09515070.2010.505748', 'ISSN': '', 'shortTitle': '', 'url': 'https://doi.org/10.1080%2F09515070.2010.505748', 'accessDate': '2022-12-18', 'archive': '', 'archiveLocation': '', 'libraryCatalog': '', 'callNumber': '', 'rights': '', 'extra': '[]', 'tags': [], 'collections': [], 'relations': {}}\n",
      "Now processing: Mp-xcqNeikkJ\n",
      "https://serpapi.com/search\n",
      "Melville, N. P. (2010). Information systems innovation for environmental sustainability. MIS quarterly, 1-21.\n"
     ]
    },
    {
     "name": "stderr",
     "output_type": "stream",
     "text": [
      "  % Total    % Received % Xferd  Average Speed   Time    Time     Time  Current\n",
      "                                 Dload  Upload   Total   Spent    Left  Speed\n",
      "  0     0    0     0    0     0      0      0 --:--:-- --:--:-- --:--:--     0\n",
      "100   209  100   209    0     0    833      0 --:--:-- --:--:-- --:--:--   833\n",
      "100   307    0   307    0     0    714      0 --:--:-- --:--:-- --:--:--  5293\n"
     ]
    },
    {
     "name": "stdout",
     "output_type": "stream",
     "text": [
      "Now processing: x9f7SmktO1UJ\n",
      "https://serpapi.com/search\n",
      "Choquette, S. (2015). The psychic pathway: A workbook for reawakening the voice of your soul. Harmony.\n"
     ]
    },
    {
     "name": "stderr",
     "output_type": "stream",
     "text": [
      "  % Total    % Received % Xferd  Average Speed   Time    Time     Time  Current\n",
      "                                 Dload  Upload   Total   Spent    Left  Speed\n",
      "  0     0    0     0    0     0      0      0 --:--:-- --:--:-- --:--:--     0\n",
      "100   231  100   231    0     0   1046      0 --:--:-- --:--:-- --:--:--  1046\n",
      "100   412    0   412    0     0   1048      0 --:--:-- --:--:-- --:--:--  1048\n"
     ]
    },
    {
     "name": "stdout",
     "output_type": "stream",
     "text": [
      "{'itemType': 'journalArticle', 'title': \"{\\\\textquotedblleft}The Hum of Your Valv{\\\\`{e}}d Voice{\\\\textquotedblright}: Walt Whitman's Soul and His Democratic Soul Politic\", 'creators': [{'creatorType': 'author', 'firstName': 'Julia', 'lastName': 'Saville'}], 'abstractNote': '', 'publicationTitle': '', 'volume': '', 'issue': '', 'pages': '', 'date': '2017', 'series': '', 'seriesTitle': '', 'seriesText': '', 'journalAbbreviation': '', 'language': '', 'DOI': '10.1007/978-3-319-52506-8_5', 'ISSN': '', 'shortTitle': '', 'url': 'https://doi.org/10.1007%2F978-3-319-52506-8_5', 'accessDate': '2022-12-18', 'archive': '', 'archiveLocation': '', 'libraryCatalog': '', 'callNumber': '', 'rights': '', 'extra': '[]', 'tags': [], 'collections': [], 'relations': {}}\n",
      "Now processing: o0xn5-0up5kJ\n",
      "https://serpapi.com/search\n",
      "Jung, C. G. (2013). Answer to job. Psychology Press.\n"
     ]
    },
    {
     "name": "stderr",
     "output_type": "stream",
     "text": [
      "  % Total    % Received % Xferd  Average Speed   Time    Time     Time  Current\n",
      "                                 Dload  Upload   Total   Spent    Left  Speed\n",
      "  0     0    0     0    0     0      0      0 --:--:-- --:--:-- --:--:--     0\n",
      "100   219  100   219    0     0   1209      0 --:--:-- --:--:-- --:--:--  1209\n",
      "100   216    0   216    0     0    583      0 --:--:-- --:--:-- --:--:--   583\n"
     ]
    },
    {
     "name": "stdout",
     "output_type": "stream",
     "text": [
      "{'itemType': 'journalArticle', 'title': 'Answer to Job', 'creators': [{'creatorType': 'author', 'firstName': 'Jung', 'lastName': 'C.G.'}], 'abstractNote': '', 'publicationTitle': '', 'volume': '', 'issue': '', 'pages': '', 'date': '2013-09-01', 'series': '', 'seriesTitle': '', 'seriesText': '', 'journalAbbreviation': '', 'language': '', 'DOI': '10.4324/9780203994740', 'ISSN': '', 'shortTitle': '', 'url': 'https://doi.org/10.4324%2F9780203994740', 'accessDate': '2022-12-18', 'archive': '', 'archiveLocation': '', 'libraryCatalog': '', 'callNumber': '', 'rights': '', 'extra': '[]', 'tags': [], 'collections': [], 'relations': {}}\n",
      "Now processing: 1fVfRUtUZCsJ\n",
      "https://serpapi.com/search\n",
      "Dugan, E. (2015). The Natural Psychic: Ellen Dugan's Personal Guide to the Psychic Realm. Llewellyn Worldwide.\n"
     ]
    },
    {
     "name": "stderr",
     "output_type": "stream",
     "text": [
      "  % Total    % Received % Xferd  Average Speed   Time    Time     Time  Current\n",
      "                                 Dload  Upload   Total   Spent    Left  Speed\n",
      "  0     0    0     0    0     0      0      0 --:--:-- --:--:-- --:--:--     0\n",
      "100   219  100   219    0     0   1092      0 --:--:-- --:--:-- --:--:--     0\n",
      "100   208    0   208    0     0    550      0 --:--:-- --:--:-- --:--:--   550\n"
     ]
    },
    {
     "name": "stdout",
     "output_type": "stream",
     "text": [
      "{'itemType': 'journalArticle', 'title': 'Dark Matters', 'creators': [{'creatorType': 'author', 'firstName': 'Ira', 'lastName': 'Brenner'}], 'abstractNote': '', 'publicationTitle': '', 'volume': '', 'issue': '', 'pages': '', 'date': '2018-03-01', 'series': '', 'seriesTitle': '', 'seriesText': '', 'journalAbbreviation': '', 'language': '', 'DOI': '10.4324/9780429473531', 'ISSN': '', 'shortTitle': '', 'url': 'https://doi.org/10.4324%2F9780429473531', 'accessDate': '2022-12-18', 'archive': '', 'archiveLocation': '', 'libraryCatalog': '', 'callNumber': '', 'rights': '', 'extra': '[]', 'tags': [], 'collections': [], 'relations': {}}\n",
      "Now processing: kLuDdQD4AhQJ\n",
      "https://serpapi.com/search\n",
      "Dines, M., & Grimes, M. (2021). ‘Message From Thee Temple’: Magick, Occultism, Mysticism and Psychic TV. Exploring the Spiritual in Popular Music: Beatified Beats, 193.\n"
     ]
    },
    {
     "name": "stderr",
     "output_type": "stream",
     "text": [
      "  % Total    % Received % Xferd  Average Speed   Time    Time     Time  Current\n",
      "                                 Dload  Upload   Total   Spent    Left  Speed\n",
      "  0     0    0     0    0     0      0      0 --:--:-- --:--:-- --:--:--     0\n",
      "100   233  100   233    0     0   1423      0 --:--:-- --:--:-- --:--:--  1423\n",
      "100   355    0   355    0     0   1026      0 --:--:-- --:--:-- --:--:--  1026\n"
     ]
    },
    {
     "name": "stdout",
     "output_type": "stream",
     "text": [
      "{'itemType': 'journalArticle', 'title': \"`Message From Thee Temple': Magick, Occultism, Mysticism and Psychic {TV}\", 'creators': [{'creatorType': 'author', 'firstName': 'Mike', 'lastName': 'Dines'}, {'creatorType': 'author', 'firstName': 'Matt', 'lastName': 'Grimes'}], 'abstractNote': '', 'publicationTitle': '', 'volume': '', 'issue': '', 'pages': '', 'date': '2021', 'series': '', 'seriesTitle': '', 'seriesText': '', 'journalAbbreviation': '', 'language': '', 'DOI': '10.5040/9781350086951.ch-010', 'ISSN': '', 'shortTitle': '', 'url': 'https://doi.org/10.5040%2F9781350086951.ch-010', 'accessDate': '2022-12-18', 'archive': '', 'archiveLocation': '', 'libraryCatalog': '', 'callNumber': '', 'rights': '', 'extra': '[]', 'tags': [], 'collections': [], 'relations': {}}\n",
      "Now processing: SkgzPlUvW_QJ\n",
      "https://serpapi.com/search\n",
      "Alvarado, C. S. (2012). Psychic phenomena and the mind–body problem: historical notes on a neglected conceptual tradition. In Exploring frontiers of the mind-brain relationship (pp. 35-51). Springer, New York, NY.\n"
     ]
    },
    {
     "name": "stderr",
     "output_type": "stream",
     "text": [
      "  % Total    % Received % Xferd  Average Speed   Time    Time     Time  Current\n",
      "                                 Dload  Upload   Total   Spent    Left  Speed\n",
      "  0     0    0     0    0     0      0      0 --:--:-- --:--:-- --:--:--     0\n",
      "100   231  100   231    0     0   1232      0 --:--:-- --:--:-- --:--:--  1232\n",
      "100   427    0   427    0     0   1140      0 --:--:-- --:--:-- --:--:--  1140\n"
     ]
    },
    {
     "name": "stdout",
     "output_type": "stream",
     "text": [
      "{'itemType': 'journalArticle', 'title': 'Psychic Phenomena and the Mind{\\\\textendash}Body Problem: Historical Notes on a Neglected Conceptual Tradition', 'creators': [{'creatorType': 'author', 'firstName': 'Carlos', 'lastName': 'Alvarado'}], 'abstractNote': '', 'publicationTitle': '', 'volume': '', 'issue': '', 'pages': '', 'date': '2011-10-01', 'series': '', 'seriesTitle': '', 'seriesText': '', 'journalAbbreviation': '', 'language': '', 'DOI': '10.1007/978-1-4614-0647-1_3', 'ISSN': '', 'shortTitle': '', 'url': 'https://doi.org/10.1007%2F978-1-4614-0647-1_3', 'accessDate': '2022-12-18', 'archive': '', 'archiveLocation': '', 'libraryCatalog': '', 'callNumber': '', 'rights': '', 'extra': '[]', 'tags': [], 'collections': [], 'relations': {}}\n",
      "Now processing: i3cssHBN-X0J\n",
      "https://serpapi.com/search\n",
      "Benor, D. J. (2022). Psychic healing. In Alternative Medicines (pp. 165-190). Routledge.\n"
     ]
    },
    {
     "name": "stderr",
     "output_type": "stream",
     "text": [
      "  % Total    % Received % Xferd  Average Speed   Time    Time     Time  Current\n",
      "                                 Dload  Upload   Total   Spent    Left  Speed\n",
      "  0     0    0     0    0     0      0      0 --:--:-- --:--:-- --:--:--     0\n",
      "100   223  100   223    0     0   1230      0 --:--:-- --:--:-- --:--:--  1230\n",
      "100   284    0   284    0     0    793      0 --:--:-- --:--:-- --:--:--   793\n"
     ]
    },
    {
     "name": "stdout",
     "output_type": "stream",
     "text": [
      "{'itemType': 'journalArticle', 'title': 'Psychic healing', 'creators': [{'creatorType': 'author', 'firstName': 'Daniel', 'lastName': 'Benor'}], 'abstractNote': '', 'publicationTitle': '', 'volume': '', 'issue': '', 'pages': '', 'date': '2022-08-01', 'series': '', 'seriesTitle': '', 'seriesText': '', 'journalAbbreviation': '', 'language': '', 'DOI': '10.4324/9781003294900-7', 'ISSN': '', 'shortTitle': '', 'url': 'https://doi.org/10.4324%2F9781003294900-7', 'accessDate': '2022-12-18', 'archive': '', 'archiveLocation': '', 'libraryCatalog': '', 'callNumber': '', 'rights': '', 'extra': '[]', 'tags': [], 'collections': [], 'relations': {}}\n",
      "Now processing: ubLRzd_XzG0J\n",
      "https://serpapi.com/search\n",
      "Kammeyer-Mueller, J. D., Simon, L. S., & Rich, B. L. (2012). The psychic cost of doing wrong: Ethical conflict, divestiture socialization, and emotional exhaustion. Journal of management, 38(3), 784-808.\n"
     ]
    },
    {
     "name": "stderr",
     "output_type": "stream",
     "text": [
      "  % Total    % Received % Xferd  Average Speed   Time    Time     Time  Current\n",
      "                                 Dload  Upload   Total   Spent    Left  Speed\n",
      "  0     0    0     0    0     0      0      0 --:--:-- --:--:-- --:--:--     0\n",
      "100   225  100   225    0     0   1243      0 --:--:-- --:--:-- --:--:--  1243\n",
      "100   394    0   394    0     0   1109      0 --:--:-- --:--:-- --:--:--  1109\n"
     ]
    },
    {
     "name": "stdout",
     "output_type": "stream",
     "text": [
      "{'itemType': 'journalArticle', 'title': 'The Psychic Cost of Doing Wrong', 'creators': [{'creatorType': 'author', 'firstName': 'John', 'lastName': 'Kammeyer-Mueller'}, {'creatorType': 'author', 'firstName': 'Lauren', 'lastName': 'Simon'}, {'creatorType': 'author', 'firstName': 'Bruce', 'lastName': 'Rich'}], 'abstractNote': '', 'publicationTitle': 'Journal of Management', 'volume': '38', 'issue': '3', 'pages': '', 'date': '2010-08-01', 'series': '', 'seriesTitle': '', 'seriesText': '', 'journalAbbreviation': '', 'language': '', 'DOI': '10.1177/0149206310381133', 'ISSN': '', 'shortTitle': '', 'url': 'https://doi.org/10.1177%2F0149206310381133', 'accessDate': '2022-12-18', 'archive': '', 'archiveLocation': '', 'libraryCatalog': '', 'callNumber': '', 'rights': '', 'extra': '[]', 'tags': [], 'collections': [], 'relations': {}}\n",
      "Now processing: WQEzNIqu604J\n",
      "https://serpapi.com/search\n",
      "Hill, A. (2010). Paranormal media: Audiences, spirits and magic in popular culture. Routledge.\n"
     ]
    },
    {
     "name": "stderr",
     "output_type": "stream",
     "text": [
      "  % Total    % Received % Xferd  Average Speed   Time    Time     Time  Current\n",
      "                                 Dload  Upload   Total   Spent    Left  Speed\n",
      "  0     0    0     0    0     0      0      0 --:--:-- --:--:-- --:--:--     0\n",
      "100   211  100   211    0     0    985      0 --:--:-- --:--:-- --:--:--   985\n",
      "100   512    0   512    0     0   1337      0 --:--:-- --:--:-- --:--:--  5565\n"
     ]
    },
    {
     "name": "stdout",
     "output_type": "stream",
     "text": [
      "{'itemType': 'journalArticle', 'title': 'Paranormal Media: Audiences, Spirits and Magic in Popular Culture. By Annette Hill. New York: Routledge, 2011. Pp. x{\\\\hspace{0.167em}}$\\\\mathplus${\\\\hspace{0.167em}}210. Cloth, {\\\\textdollar}140.00$\\\\mathsemicolon$ paper, {\\\\textdollar}43.95.', 'creators': [{'creatorType': 'author', 'firstName': 'Daniel', 'lastName': 'Wise'}], 'abstractNote': '', 'publicationTitle': 'Religious Studies Review', 'volume': '40', 'issue': '4', 'pages': '', 'date': '2014-12-01', 'series': '', 'seriesTitle': '', 'seriesText': '', 'journalAbbreviation': '', 'language': '', 'DOI': '10.1111/rsr.12169', 'ISSN': '', 'shortTitle': '', 'url': 'https://doi.org/10.1111%2Frsr.12169', 'accessDate': '2022-12-18', 'archive': '', 'archiveLocation': '', 'libraryCatalog': '', 'callNumber': '', 'rights': '', 'extra': '[]', 'tags': [], 'collections': [], 'relations': {}}\n",
      "Now processing: 2dqxdNFgsX8J\n",
      "https://serpapi.com/search\n",
      "Stanley, D. M. (2010). Becoming psychic: Embodying incorporeal experience. University of Colorado at Boulder.\n"
     ]
    },
    {
     "name": "stderr",
     "output_type": "stream",
     "text": [
      "  % Total    % Received % Xferd  Average Speed   Time    Time     Time  Current\n",
      "                                 Dload  Upload   Total   Spent    Left  Speed\n",
      "  0     0    0     0    0     0      0      0 --:--:-- --:--:-- --:--:--     0\n",
      "100   225  100   225    0     0   1177      0 --:--:-- --:--:-- --:--:--  1177\n",
      "100   360    0   360    0     0    939      0 --:--:-- --:--:-- --:--:--   939\n"
     ]
    },
    {
     "name": "stdout",
     "output_type": "stream",
     "text": [
      "0\n",
      "https://serpapi.com/search\n",
      "0\n",
      "This should've returned 0 (sucess)\n",
      "Now processing: vYYgeSGXyRYJ\n",
      "https://serpapi.com/search\n",
      "Fiske, M. (2022). Book selection and censorship: A study of school and public libraries in California. Univ of California Press.\n"
     ]
    },
    {
     "name": "stderr",
     "output_type": "stream",
     "text": [
      "  % Total    % Received % Xferd  Average Speed   Time    Time     Time  Current\n",
      "                                 Dload  Upload   Total   Spent    Left  Speed\n",
      "  0     0    0     0    0     0      0      0 --:--:-- --:--:-- --:--:--     0\n",
      "100   207  100   207    0     0    914      0 --:--:-- --:--:-- --:--:--   914\n",
      "100   393    0   393    0     0    974      0 --:--:-- --:--:-- --:--:--  6550\n"
     ]
    },
    {
     "name": "stdout",
     "output_type": "stream",
     "text": [
      "{'itemType': 'journalArticle', 'title': 'Book Selection and Censorship: A Study of School and Public Libraries in California.', 'creators': [{'creatorType': 'author', 'firstName': 'Alfred', 'lastName': 'Lee'}, {'creatorType': 'author', 'firstName': 'Marjorie', 'lastName': 'Fiske'}], 'abstractNote': '', 'publicationTitle': 'American Sociological Review', 'volume': '25', 'issue': '2', 'pages': '', 'date': '1960-04-01', 'series': '', 'seriesTitle': '', 'seriesText': '', 'journalAbbreviation': '', 'language': '', 'DOI': '10.2307/2092661', 'ISSN': '', 'shortTitle': '', 'url': 'https://doi.org/10.2307%2F2092661', 'accessDate': '2022-12-18', 'archive': '', 'archiveLocation': '', 'libraryCatalog': '', 'callNumber': '', 'rights': '', 'extra': '[]', 'tags': [], 'collections': [], 'relations': {}}\n",
      "Now processing: xqy3SZ8LiokJ\n",
      "https://serpapi.com/search\n",
      "Abel, J. (2012). Redacted: The archives of censorship in transwar Japan (Vol. 11). Univ of California Press.\n"
     ]
    },
    {
     "name": "stderr",
     "output_type": "stream",
     "text": [
      "  % Total    % Received % Xferd  Average Speed   Time    Time     Time  Current\n",
      "                                 Dload  Upload   Total   Spent    Left  Speed\n",
      "  0     0    0     0    0     0      0      0 --:--:-- --:--:-- --:--:--     0\n",
      "100   205  100   205    0     0   1153      0 --:--:-- --:--:-- --:--:--  4183\n",
      "100   579    0   579    0     0   1600      0 --:--:-- --:--:-- --:--:--  1600\n"
     ]
    },
    {
     "name": "stdout",
     "output_type": "stream",
     "text": [
      "{'itemType': 'journalArticle', 'title': '$\\\\less$i$\\\\greater$Jonathan E. Abel$\\\\less$/i$\\\\greater$ Redacted: The Archives of Censorship in Transwar Japan$\\\\less$i$\\\\greater$Redacted: The Archives of Censorship in Transwar Japan$\\\\less$/i$\\\\greater$. Jonathan E. Abel. Berkeley: University of California Press, 2012. Pp. xi$\\\\mathplus$355.', 'creators': [{'creatorType': 'author', 'firstName': 'Kirsten', 'lastName': 'Cather'}], 'abstractNote': '', 'publicationTitle': 'Modern Philology', 'volume': '111', 'issue': '4', 'pages': '', 'date': '2014-05-01', 'series': '', 'seriesTitle': '', 'seriesText': '', 'journalAbbreviation': '', 'language': '', 'DOI': '10.1086/674785', 'ISSN': '', 'shortTitle': '', 'url': 'https://doi.org/10.1086%2F674785', 'accessDate': '2022-12-18', 'archive': '', 'archiveLocation': '', 'libraryCatalog': '', 'callNumber': '', 'rights': '', 'extra': '[]', 'tags': [], 'collections': [], 'relations': {}}\n",
      "Now processing: dAJhhPHOkn0J\n",
      "https://serpapi.com/search\n",
      "Tehranian, J. (2015). The new censorship. Iowa L. Rev., 101, 245.\n"
     ]
    },
    {
     "name": "stderr",
     "output_type": "stream",
     "text": [
      "  % Total    % Received % Xferd  Average Speed   Time    Time     Time  Current\n",
      "                                 Dload  Upload   Total   Spent    Left  Speed\n",
      "  0     0    0     0    0     0      0      0 --:--:-- --:--:-- --:--:--     0\n",
      "100   227  100   227    0     0   1340      0 --:--:-- --:--:-- --:--:--  5404\n",
      "100   430    0   430    0     0   1149      0 --:--:-- --:--:-- --:--:--  1149\n"
     ]
    },
    {
     "name": "stdout",
     "output_type": "stream",
     "text": [
      "{'itemType': 'journalArticle', 'title': 'New word (dis)order: Short story about words disappearing from the Turkish language, featuring illustrations by Molly Crabapple', 'creators': [{'creatorType': 'author', 'firstName': 'Kaya', 'lastName': 'Gen{\\\\c{c}}'}], 'abstractNote': '', 'publicationTitle': 'Index on Censorship', 'volume': '44', 'issue': '3', 'pages': '', 'date': '2015-09-01', 'series': '', 'seriesTitle': '', 'seriesText': '', 'journalAbbreviation': '', 'language': '', 'DOI': '10.1177/0306422015605733a', 'ISSN': '', 'shortTitle': '', 'url': 'https://doi.org/10.1177%2F0306422015605733a', 'accessDate': '2022-12-18', 'archive': '', 'archiveLocation': '', 'libraryCatalog': '', 'callNumber': '', 'rights': '', 'extra': '[]', 'tags': [], 'collections': [], 'relations': {}}\n",
      "Now processing: o09KuZYgZzIJ\n",
      "https://serpapi.com/search\n",
      "Lorentzen, P. (2014). China's strategic censorship. American Journal of political science, 58(2), 402-414.\n"
     ]
    },
    {
     "name": "stderr",
     "output_type": "stream",
     "text": [
      "  % Total    % Received % Xferd  Average Speed   Time    Time     Time  Current\n",
      "                                 Dload  Upload   Total   Spent    Left  Speed\n",
      "  0     0    0     0    0     0      0      0 --:--:-- --:--:-- --:--:--     0\n",
      "100   213  100   213    0     0   1209      0 --:--:-- --:--:-- --:--:--  1209\n",
      "100   344    0   344    0     0    964      0 --:--:-- --:--:-- --:--:--   964\n"
     ]
    },
    {
     "name": "stdout",
     "output_type": "stream",
     "text": [
      "{'itemType': 'journalArticle', 'title': 'China{\\\\textquotesingle}s Strategic Censorship', 'creators': [{'creatorType': 'author', 'firstName': 'Peter', 'lastName': 'Lorentzen'}], 'abstractNote': '', 'publicationTitle': 'American Journal of Political Science', 'volume': '58', 'issue': '2', 'pages': '', 'date': '2013-10-01', 'series': '', 'seriesTitle': '', 'seriesText': '', 'journalAbbreviation': '', 'language': '', 'DOI': '10.1111/ajps.12065', 'ISSN': '', 'shortTitle': '', 'url': 'https://doi.org/10.1111%2Fajps.12065', 'accessDate': '2022-12-18', 'archive': '', 'archiveLocation': '', 'libraryCatalog': '', 'callNumber': '', 'rights': '', 'extra': '[]', 'tags': [], 'collections': [], 'relations': {}}\n",
      "Now processing: f_IUaW77aBIJ\n",
      "https://serpapi.com/search\n",
      "Wang, D., & Mark, G. (2015). Internet censorship in China: Examining user awareness and attitudes. ACM Transactions on Computer-Human Interaction (TOCHI), 22(6), 1-22.\n"
     ]
    },
    {
     "name": "stderr",
     "output_type": "stream",
     "text": [
      "  % Total    % Received % Xferd  Average Speed   Time    Time     Time  Current\n",
      "                                 Dload  Upload   Total   Spent    Left  Speed\n",
      "  0     0    0     0    0     0      0      0 --:--:-- --:--:-- --:--:--     0\n",
      "100   207  100   207    0     0    858      0 --:--:-- --:--:-- --:--:--     0\n",
      "100   373    0   373    0     0    894      0 --:--:-- --:--:-- --:--:--   894\n"
     ]
    },
    {
     "name": "stdout",
     "output_type": "stream",
     "text": [
      "{'itemType': 'journalArticle', 'title': 'Internet Censorship in China', 'creators': [{'creatorType': 'author', 'firstName': 'Dakuo', 'lastName': 'Wang'}, {'creatorType': 'author', 'firstName': 'Gloria', 'lastName': 'Mark'}], 'abstractNote': '', 'publicationTitle': '{ACM} Transactions on Computer-Human Interaction', 'volume': '22', 'issue': '6', 'pages': '', 'date': '2015-12-01', 'series': '', 'seriesTitle': '', 'seriesText': '', 'journalAbbreviation': '', 'language': '', 'DOI': '10.1145/2818997', 'ISSN': '', 'shortTitle': '', 'url': 'https://doi.org/10.1145%2F2818997', 'accessDate': '2022-12-18', 'archive': '', 'archiveLocation': '', 'libraryCatalog': '', 'callNumber': '', 'rights': '', 'extra': '[]', 'tags': [], 'collections': [], 'relations': {}}\n",
      "Now processing: tJrl9JaS-9YJ\n",
      "https://serpapi.com/search\n",
      "Cardoso, V., Costa, J. L., Destounis, K., Hintz, P., & Jansen, A. (2018). Quasinormal modes and strong cosmic censorship. Physical review letters, 120(3), 031103.\n"
     ]
    },
    {
     "name": "stderr",
     "output_type": "stream",
     "text": [
      "  % Total    % Received % Xferd  Average Speed   Time    Time     Time  Current\n",
      "                                 Dload  Upload   Total   Spent    Left  Speed\n",
      "  0     0    0     0    0     0      0      0 --:--:-- --:--:-- --:--:--     0\n",
      "100   237  100   237    0     0   1434      0 --:--:-- --:--:-- --:--:--  1434\n",
      "100   438    0   438    0     0   1245      0 --:--:-- --:--:-- --:--:--  1245\n"
     ]
    },
    {
     "name": "stdout",
     "output_type": "stream",
     "text": [
      "{'itemType': 'journalArticle', 'title': 'Quasinormal Modes and Strong Cosmic Censorship', 'creators': [{'creatorType': 'author', 'firstName': 'Vitor', 'lastName': 'Cardoso'}, {'creatorType': 'author', 'firstName': 'Jo{\\\\~{a}}o', 'lastName': 'Costa'}, {'creatorType': 'author', 'firstName': 'Kyriakos', 'lastName': 'Destounis'}, {'creatorType': 'author', 'firstName': 'Peter', 'lastName': 'Hintz'}, {'creatorType': 'author', 'firstName': 'Aron', 'lastName': 'Jansen'}], 'abstractNote': '', 'publicationTitle': 'Physical Review Letters', 'volume': '120', 'issue': '3', 'pages': '', 'date': '2018-01-01', 'series': '', 'seriesTitle': '', 'seriesText': '', 'journalAbbreviation': '', 'language': '', 'DOI': '10.1103/physrevlett.120.031103', 'ISSN': '', 'shortTitle': '', 'url': 'https://doi.org/10.1103%2Fphysrevlett.120.031103', 'accessDate': '2022-12-18', 'archive': '', 'archiveLocation': '', 'libraryCatalog': '', 'callNumber': '', 'rights': '', 'extra': '[]', 'tags': [], 'collections': [], 'relations': {}}\n",
      "Now processing: gu3xlUi26MQJ\n",
      "https://serpapi.com/search\n",
      "Roberts, M. E. (2018). Censored. In Censored. Princeton University Press.\n"
     ]
    },
    {
     "name": "stderr",
     "output_type": "stream",
     "text": [
      "  % Total    % Received % Xferd  Average Speed   Time    Time     Time  Current\n",
      "                                 Dload  Upload   Total   Spent    Left  Speed\n",
      "  0     0    0     0    0     0      0      0 --:--:-- --:--:-- --:--:--     0\n",
      "100   227  100   227    0     0   1159      0 --:--:-- --:--:-- --:--:--  1159\n",
      "100   488    0   488    0     0   1251      0 --:--:-- --:--:-- --:--:--  4831\n"
     ]
    },
    {
     "name": "stdout",
     "output_type": "stream",
     "text": [
      "{'itemType': 'journalArticle', 'title': \"Censored: Distraction and Diversion Inside China's Great Firewall. By Margaret E. Roberts. Princeton: Princeton University Press, 2018. 288p. {\\\\textdollar}29.95 cloth.\", 'creators': [{'creatorType': 'author', 'firstName': 'Rongbin', 'lastName': 'Han'}], 'abstractNote': '', 'publicationTitle': 'Perspectives on Politics', 'volume': '16', 'issue': '4', 'pages': '', 'date': '2018-11-01', 'series': '', 'seriesTitle': '', 'seriesText': '', 'journalAbbreviation': '', 'language': '', 'DOI': '10.1017/s1537592718002608', 'ISSN': '', 'shortTitle': '', 'url': 'https://doi.org/10.1017%2Fs1537592718002608', 'accessDate': '2022-12-18', 'archive': '', 'archiveLocation': '', 'libraryCatalog': '', 'callNumber': '', 'rights': '', 'extra': '[]', 'tags': [], 'collections': [], 'relations': {}}\n",
      "Now processing: Rtv_ok0YeRUJ\n",
      "https://serpapi.com/search\n",
      "Jackson, B. F. (2014). Censorship and Freedom of Expression in the Age of Facebook. NML Rev., 44, 121.\n"
     ]
    },
    {
     "name": "stderr",
     "output_type": "stream",
     "text": [
      "  % Total    % Received % Xferd  Average Speed   Time    Time     Time  Current\n",
      "                                 Dload  Upload   Total   Spent    Left  Speed\n",
      "  0     0    0     0    0     0      0      0 --:--:-- --:--:-- --:--:--     0\n",
      "100   227  100   227    0     0    862      0 --:--:-- --:--:-- --:--:--   862\n",
      "100   334    0   334    0     0    746      0 --:--:-- --:--:-- --:--:--     0\n"
     ]
    },
    {
     "name": "stdout",
     "output_type": "stream",
     "text": [
      "{'itemType': 'journalArticle', 'title': 'Chapter Ten: Time to Re-Think Press Freedom?', 'creators': [{'creatorType': 'author', 'firstName': 'Julian', 'lastName': 'Petley'}], 'abstractNote': '', 'publicationTitle': '', 'volume': '', 'issue': '', 'pages': '', 'date': '2010', 'series': '', 'seriesTitle': '', 'seriesText': '', 'journalAbbreviation': '', 'language': '', 'DOI': '10.5771/9783845224701-116', 'ISSN': '', 'shortTitle': '', 'url': 'https://doi.org/10.5771%2F9783845224701-116', 'accessDate': '2022-12-18', 'archive': '', 'archiveLocation': '', 'libraryCatalog': '', 'callNumber': '', 'rights': '', 'extra': '[]', 'tags': [], 'collections': [], 'relations': {}}\n",
      "Now processing: spedaz2yS3UJ\n",
      "https://serpapi.com/search\n",
      "Biltereyst, D., Winkel, R. V., & Winkel, R. V. (Eds.). (2013). Silencing cinema: Film censorship around the world. Springer.\n"
     ]
    },
    {
     "name": "stderr",
     "output_type": "stream",
     "text": [
      "  % Total    % Received % Xferd  Average Speed   Time    Time     Time  Current\n",
      "                                 Dload  Upload   Total   Spent    Left  Speed\n",
      "  0     0    0     0    0     0      0      0 --:--:-- --:--:-- --:--:--     0\n",
      "100   229  100   229    0     0    992      0 --:--:-- --:--:-- --:--:--   992\n",
      "100   268    0   268    0     0    675      0 --:--:-- --:--:-- --:--:--     0\n"
     ]
    },
    {
     "name": "stdout",
     "output_type": "stream",
     "text": [
      "Now processing: 2E0HWW-2WTsJ\n",
      "https://serpapi.com/search\n",
      "Green, J., & Karolides, N. J. (2014). Encyclopedia of censorship. Infobase Publishing.\n"
     ]
    },
    {
     "name": "stderr",
     "output_type": "stream",
     "text": [
      "  % Total    % Received % Xferd  Average Speed   Time    Time     Time  Current\n",
      "                                 Dload  Upload   Total   Spent    Left  Speed\n",
      "  0     0    0     0    0     0      0      0 --:--:-- --:--:-- --:--:--     0\n",
      "100   221  100   221    0     0    885      0 --:--:-- --:--:-- --:--:--   885\n",
      "100   147    0   147    0     0    316      0 --:--:-- --:--:-- --:--:--   316\n"
     ]
    },
    {
     "name": "stdout",
     "output_type": "stream",
     "text": [
      "Now processing: -cc2zmyMpc4J\n",
      "https://serpapi.com/search\n",
      "Hobbs, W. R., & Roberts, M. E. (2018). How sudden censorship can increase access to information. American Political Science Review, 112(3), 621-636.\n"
     ]
    },
    {
     "name": "stderr",
     "output_type": "stream",
     "text": [
      "  % Total    % Received % Xferd  Average Speed   Time    Time     Time  Current\n",
      "                                 Dload  Upload   Total   Spent    Left  Speed\n",
      "  0     0    0     0    0     0      0      0 --:--:-- --:--:-- --:--:--     0\n",
      "100   227  100   227    0     0   1401      0 --:--:-- --:--:-- --:--:--  1401\n",
      "100   416    0   416    0     0   1227      0 --:--:-- --:--:-- --:--:--  1227\n"
     ]
    },
    {
     "name": "stdout",
     "output_type": "stream",
     "text": [
      "{'itemType': 'journalArticle', 'title': 'How Sudden Censorship Can Increase Access to Information', 'creators': [{'creatorType': 'author', 'firstName': 'WILLIAM', 'lastName': 'HOBBS'}, {'creatorType': 'author', 'firstName': 'MARGARET', 'lastName': 'ROBERTS'}], 'abstractNote': '', 'publicationTitle': 'American Political Science Review', 'volume': '112', 'issue': '3', 'pages': '', 'date': '2018-04-01', 'series': '', 'seriesTitle': '', 'seriesText': '', 'journalAbbreviation': '', 'language': '', 'DOI': '10.1017/s0003055418000084', 'ISSN': '', 'shortTitle': '', 'url': 'https://doi.org/10.1017%2Fs0003055418000084', 'accessDate': '2022-12-18', 'archive': '', 'archiveLocation': '', 'libraryCatalog': '', 'callNumber': '', 'rights': '', 'extra': '[]', 'tags': [], 'collections': [], 'relations': {}}\n",
      "Now processing: 1zVeQy7LH5cJ\n",
      "https://serpapi.com/search\n",
      "Downey, J., Antell, K., & Strothmann, M. (2013). Self-censorship in selection of LGBT themed materials. Reference and User Services Quarterly, 53(2), 104-107.\n"
     ]
    },
    {
     "name": "stderr",
     "output_type": "stream",
     "text": [
      "  % Total    % Received % Xferd  Average Speed   Time    Time     Time  Current\n",
      "                                 Dload  Upload   Total   Spent    Left  Speed\n",
      "  0     0    0     0    0     0      0      0 --:--:-- --:--:-- --:--:--     0\n",
      "100   219  100   219    0     0   1090      0 --:--:-- --:--:-- --:--:--     0\n",
      "100   438    0   438    0     0   1178      0 --:--:-- --:--:-- --:--:--  1178\n"
     ]
    },
    {
     "name": "stdout",
     "output_type": "stream",
     "text": [
      "{'itemType': 'journalArticle', 'title': 'Self-Censorship in Selection of {LGBT}-Themed Materials', 'creators': [{'creatorType': 'author', 'firstName': 'Karen', 'lastName': 'Antell'}, {'creatorType': 'author', 'firstName': 'Molly', 'lastName': 'Strothmann'}, {'creatorType': 'author', 'firstName': 'Jennifer', 'lastName': 'Downey'}], 'abstractNote': '', 'publicationTitle': 'Reference {\\\\&}amp$\\\\mathsemicolon$ User Services Quarterly', 'volume': '53', 'issue': '2', 'pages': '', 'date': '2013-12-01', 'series': '', 'seriesTitle': '', 'seriesText': '', 'journalAbbreviation': '', 'language': '', 'DOI': '10.5860/rusq.53n2.104', 'ISSN': '', 'shortTitle': '', 'url': 'https://doi.org/10.5860%2Frusq.53n2.104', 'accessDate': '2022-12-18', 'archive': '', 'archiveLocation': '', 'libraryCatalog': '', 'callNumber': '', 'rights': '', 'extra': '[]', 'tags': [], 'collections': [], 'relations': {}}\n",
      "Now processing: gw2yUYWvL0AJ\n",
      "https://serpapi.com/search\n",
      "Athanasopoulos, E., Ioannidis, S., & Sfakianakis, A. (2011). {CensMon}: A Web Censorship Monitor. In USENIX Workshop on Free and Open Communications on the Internet (FOCI 11).\n"
     ]
    },
    {
     "name": "stderr",
     "output_type": "stream",
     "text": [
      "  % Total    % Received % Xferd  Average Speed   Time    Time     Time  Current\n",
      "                                 Dload  Upload   Total   Spent    Left  Speed\n",
      "  0     0    0     0    0     0      0      0 --:--:-- --:--:-- --:--:--     0\n",
      "100   223  100   223    0     0   1264      0 --:--:-- --:--:-- --:--:--  1264\n",
      "100   351    0   351    0     0   1008      0 --:--:-- --:--:-- --:--:--  1008\n"
     ]
    },
    {
     "name": "stdout",
     "output_type": "stream",
     "text": [
      "{'itemType': 'journalArticle', 'title': '{BlindTLS}', 'creators': [{'creatorType': 'author', 'firstName': 'Sambhav', 'lastName': 'Satija'}, {'creatorType': 'author', 'firstName': 'Rahul', 'lastName': 'Chatterjee'}], 'abstractNote': '', 'publicationTitle': '', 'volume': '', 'issue': '', 'pages': '', 'date': '2021-08-01', 'series': '', 'seriesTitle': '', 'seriesText': '', 'journalAbbreviation': '', 'language': '', 'DOI': '10.1145/3473604.3474564', 'ISSN': '', 'shortTitle': '', 'url': 'https://doi.org/10.1145%2F3473604.3474564', 'accessDate': '2022-12-18', 'archive': '', 'archiveLocation': '', 'libraryCatalog': '', 'callNumber': '', 'rights': '', 'extra': '[]', 'tags': [], 'collections': [], 'relations': {}}\n",
      "Now processing: m0_rBajql88J\n",
      "https://serpapi.com/search\n",
      "Tosoian, J. J., Loeb, S., Kettermann, A., Landis, P., Elliot, D. J., Epstein, J. I., ... & Sokoll, L. J. (2010). Accuracy of PCA3 measurement in predicting short-term biopsy progression in an active surveillance program. The Journal of urology, 183(2), 534-538.\n"
     ]
    },
    {
     "name": "stderr",
     "output_type": "stream",
     "text": [
      "  % Total    % Received % Xferd  Average Speed   Time    Time     Time  Current\n",
      "                                 Dload  Upload   Total   Spent    Left  Speed\n",
      "  0     0    0     0    0     0      0      0 --:--:-- --:--:-- --:--:--     0\n",
      "100   229  100   229    0     0   1329      0 --:--:-- --:--:-- --:--:--  1329\n",
      "100   604    0   604    0     0   1637      0 --:--:-- --:--:-- --:--:--  1637\n"
     ]
    },
    {
     "name": "stdout",
     "output_type": "stream",
     "text": [
      "{'itemType': 'journalArticle', 'title': 'Accuracy of {PCA}3 Measurement in Predicting Short-Term Biopsy Progression in an Active Surveillance Program', 'creators': [{'creatorType': 'author', 'firstName': 'Jeffrey', 'lastName': 'Tosoian'}, {'creatorType': 'author', 'firstName': 'Stacy', 'lastName': 'Loeb'}, {'creatorType': 'author', 'firstName': 'Anna', 'lastName': 'Kettermann'}, {'creatorType': 'author', 'firstName': 'Patricia', 'lastName': 'Landis'}, {'creatorType': 'author', 'firstName': 'Debra', 'lastName': 'Elliot'}, {'creatorType': 'author', 'firstName': 'Jonathan', 'lastName': 'Epstein'}, {'creatorType': 'author', 'firstName': 'Alan', 'lastName': 'Partin'}, {'creatorType': 'author', 'firstName': 'H.', 'lastName': 'Carter'}, {'creatorType': 'author', 'firstName': 'Lori', 'lastName': 'Sokoll'}], 'abstractNote': '', 'publicationTitle': 'Journal of Urology', 'volume': '183', 'issue': '2', 'pages': '', 'date': '2010-02-01', 'series': '', 'seriesTitle': '', 'seriesText': '', 'journalAbbreviation': '', 'language': '', 'DOI': '10.1016/j.juro.2009.10.003', 'ISSN': '', 'shortTitle': '', 'url': 'https://doi.org/10.1016%2Fj.juro.2009.10.003', 'accessDate': '2022-12-18', 'archive': '', 'archiveLocation': '', 'libraryCatalog': '', 'callNumber': '', 'rights': '', 'extra': '[]', 'tags': [], 'collections': [], 'relations': {}}\n",
      "Now processing: t3H8dZxVYNYJ\n",
      "https://serpapi.com/search\n",
      "Jansen, S. C., & Martin, B. (2015). The Streisand effect and censorship backfire.\n"
     ]
    },
    {
     "name": "stderr",
     "output_type": "stream",
     "text": [
      "  % Total    % Received % Xferd  Average Speed   Time    Time     Time  Current\n",
      "                                 Dload  Upload   Total   Spent    Left  Speed\n",
      "  0     0    0     0    0     0      0      0 --:--:-- --:--:-- --:--:--     0\n",
      "100   221  100   221    0     0    911      0 --:--:-- --:--:-- --:--:--     0\n",
      "100   451    0   451    0     0   1064      0 --:--:-- --:--:-- --:--:--  1064\n"
     ]
    },
    {
     "name": "stdout",
     "output_type": "stream",
     "text": [
      "{'itemType': 'journalArticle', 'title': 'Exposing and exposing censorship: Backfire dynamics in freedom-of-speech struggle', 'creators': [{'creatorType': 'author', 'firstName': 'Sue', 'lastName': 'Jansen'}, {'creatorType': 'author', 'firstName': 'Brian', 'lastName': 'Martin'}], 'abstractNote': '', 'publicationTitle': 'Pacific Journalism Review : Te Koakoa', 'volume': '10', 'issue': '1', 'pages': '', 'date': '2004-04-01', 'series': '', 'seriesTitle': '', 'seriesText': '', 'journalAbbreviation': '', 'language': '', 'DOI': '10.24135/pjr.v10i1.777', 'ISSN': '', 'shortTitle': '', 'url': 'https://doi.org/10.24135%2Fpjr.v10i1.777', 'accessDate': '2022-12-18', 'archive': '', 'archiveLocation': '', 'libraryCatalog': '', 'callNumber': '', 'rights': '', 'extra': '[]', 'tags': [], 'collections': [], 'relations': {}}\n",
      "Now processing: VDiXn9xUvScJ\n",
      "https://serpapi.com/search\n",
      "King, G., Pan, J., & Roberts, M. E. (2013). How censorship in China allows government criticism but silences collective expression. American political science Review, 107(2), 326-343.\n"
     ]
    },
    {
     "name": "stderr",
     "output_type": "stream",
     "text": [
      "  % Total    % Received % Xferd  Average Speed   Time    Time     Time  Current\n",
      "                                 Dload  Upload   Total   Spent    Left  Speed\n",
      "  0     0    0     0    0     0      0      0 --:--:-- --:--:-- --:--:--     0\n",
      "100   227  100   227    0     0    956      0 --:--:-- --:--:-- --:--:--   956\n",
      "100   455    0   455    0     0   1096      0 --:--:-- --:--:-- --:--:--  1096\n"
     ]
    },
    {
     "name": "stdout",
     "output_type": "stream",
     "text": [
      "{'itemType': 'journalArticle', 'title': 'How Censorship in China Allows Government Criticism but Silences Collective Expression', 'creators': [{'creatorType': 'author', 'firstName': 'GARY', 'lastName': 'KING'}, {'creatorType': 'author', 'firstName': 'JENNIFER', 'lastName': 'PAN'}, {'creatorType': 'author', 'firstName': 'MARGARET', 'lastName': 'ROBERTS'}], 'abstractNote': '', 'publicationTitle': 'American Political Science Review', 'volume': '107', 'issue': '2', 'pages': '', 'date': '2013-05-01', 'series': '', 'seriesTitle': '', 'seriesText': '', 'journalAbbreviation': '', 'language': '', 'DOI': '10.1017/s0003055413000014', 'ISSN': '', 'shortTitle': '', 'url': 'https://doi.org/10.1017%2Fs0003055413000014', 'accessDate': '2022-12-18', 'archive': '', 'archiveLocation': '', 'libraryCatalog': '', 'callNumber': '', 'rights': '', 'extra': '[]', 'tags': [], 'collections': [], 'relations': {}}\n",
      "Now processing: C8j3HbqZwUMJ\n",
      "https://serpapi.com/search\n",
      "Ruan, L., Knockel, J., Ng, J. Q., & Crete-Nishihata, M. (2016). One App, Two Systems: How WeChat uses one censorship policy in China and another internationally.\n"
     ]
    },
    {
     "name": "stderr",
     "output_type": "stream",
     "text": [
      "  % Total    % Received % Xferd  Average Speed   Time    Time     Time  Current\n",
      "                                 Dload  Upload   Total   Spent    Left  Speed\n",
      "  0     0    0     0    0     0      0      0 --:--:-- --:--:-- --:--:--     0\n",
      "100   227  100   227    0     0   1004      0 --:--:-- --:--:-- --:--:--  1004\n",
      "100   509    0   509    0     0   1211      0 --:--:-- --:--:-- --:--:--  1211\n"
     ]
    },
    {
     "name": "stdout",
     "output_type": "stream",
     "text": [
      "{'itemType': 'journalArticle', 'title': 'The Intermingling of State and Private Companies: Analysing Censorship of the 19th National Communist Party Congress on {WeChat}', 'creators': [{'creatorType': 'author', 'firstName': 'Lotus', 'lastName': 'Ruan'}, {'creatorType': 'author', 'firstName': 'Masashi', 'lastName': 'Crete-Nishihata'}, {'creatorType': 'author', 'firstName': 'Jeffrey', 'lastName': 'Knockel'}, {'creatorType': 'author', 'firstName': 'Ruohan', 'lastName': 'Xiong'}, {'creatorType': 'author', 'firstName': 'Jakub', 'lastName': 'Dalek'}], 'abstractNote': '', 'publicationTitle': 'The China Quarterly', 'volume': '246', 'issue': '', 'pages': '', 'date': '2020-07-01', 'series': '', 'seriesTitle': '', 'seriesText': '', 'journalAbbreviation': '', 'language': '', 'DOI': '10.1017/s0305741020000491', 'ISSN': '', 'shortTitle': '', 'url': 'https://doi.org/10.1017%2Fs0305741020000491', 'accessDate': '2022-12-18', 'archive': '', 'archiveLocation': '', 'libraryCatalog': '', 'callNumber': '', 'rights': '', 'extra': '[]', 'tags': [], 'collections': [], 'relations': {}}\n",
      "Now processing: 0eLAIKv-h04J\n",
      "https://serpapi.com/search\n",
      "Allison, A. (2019). Permitted and prohibited desires: Mothers, comics, and censorship in Japan. Routledge.\n"
     ]
    },
    {
     "name": "stderr",
     "output_type": "stream",
     "text": [
      "  % Total    % Received % Xferd  Average Speed   Time    Time     Time  Current\n",
      "                                 Dload  Upload   Total   Spent    Left  Speed\n",
      "  0     0    0     0    0     0      0      0 --:--:-- --:--:-- --:--:--     0\n",
      "100   219  100   219    0     0   1176      0 --:--:-- --:--:-- --:--:--  1176\n",
      "100   229    0   229    0     0    621      0 --:--:-- --:--:-- --:--:--   621\n"
     ]
    },
    {
     "name": "stdout",
     "output_type": "stream",
     "text": [
      "{'itemType': 'journalArticle', 'title': 'Permitted and Prohibited Desires', 'creators': [{'creatorType': 'author', 'firstName': 'Anne', 'lastName': 'Allison'}], 'abstractNote': '', 'publicationTitle': '', 'volume': '', 'issue': '', 'pages': '', 'date': '2019-06-01', 'series': '', 'seriesTitle': '', 'seriesText': '', 'journalAbbreviation': '', 'language': '', 'DOI': '10.4324/9780429301384', 'ISSN': '', 'shortTitle': '', 'url': 'https://doi.org/10.4324%2F9780429301384', 'accessDate': '2022-12-18', 'archive': '', 'archiveLocation': '', 'libraryCatalog': '', 'callNumber': '', 'rights': '', 'extra': '[]', 'tags': [], 'collections': [], 'relations': {}}\n",
      "Now processing: acZ5aA-q96IJ\n",
      "https://serpapi.com/search\n",
      "Thomas, K., Grier, C., & Paxson, V. (2012). Adapting social spam infrastructure for political censorship. In 5th USENIX Workshop on Large-Scale Exploits and Emergent Threats (LEET 12).\n"
     ]
    },
    {
     "name": "stderr",
     "output_type": "stream",
     "text": [
      "  % Total    % Received % Xferd  Average Speed   Time    Time     Time  Current\n",
      "                                 Dload  Upload   Total   Spent    Left  Speed\n",
      "  0     0    0     0    0     0      0      0 --:--:-- --:--:-- --:--:--     0\n",
      "100   213  100   213    0     0   1118      0 --:--:-- --:--:-- --:--:--  1118\n",
      "100   382    0   382    0     0   1031      0 --:--:-- --:--:-- --:--:--     0\n"
     ]
    },
    {
     "name": "stdout",
     "output_type": "stream",
     "text": [
      "{'itemType': 'journalArticle', 'title': 'Design and Evaluation of a Real-Time {URL} Spam Filtering Service', 'creators': [{'creatorType': 'author', 'firstName': 'Kurt', 'lastName': 'Thomas'}, {'creatorType': 'author', 'firstName': 'Chris', 'lastName': 'Grier'}, {'creatorType': 'author', 'firstName': 'Justin', 'lastName': 'Ma'}, {'creatorType': 'author', 'firstName': 'Vern', 'lastName': 'Paxson'}, {'creatorType': 'author', 'firstName': 'Dawn', 'lastName': 'Song'}], 'abstractNote': '', 'publicationTitle': '', 'volume': '', 'issue': '', 'pages': '', 'date': '2011-05-01', 'series': '', 'seriesTitle': '', 'seriesText': '', 'journalAbbreviation': '', 'language': '', 'DOI': '10.1109/sp.2011.25', 'ISSN': '', 'shortTitle': '', 'url': 'https://doi.org/10.1109%2Fsp.2011.25', 'accessDate': '2022-12-18', 'archive': '', 'archiveLocation': '', 'libraryCatalog': '', 'callNumber': '', 'rights': '', 'extra': '[]', 'tags': [], 'collections': [], 'relations': {}}\n",
      "Now processing: RW_YoeAlLWgJ\n",
      "https://serpapi.com/search\n",
      "Storch, T. (2014). The History of Chinese Buddhist Bibliography: Censorship and Transformation of the Tripitaka. Cambria Press.\n"
     ]
    },
    {
     "name": "stderr",
     "output_type": "stream",
     "text": [
      "  % Total    % Received % Xferd  Average Speed   Time    Time     Time  Current\n",
      "                                 Dload  Upload   Total   Spent    Left  Speed\n",
      "  0     0    0     0    0     0      0      0 --:--:-- --:--:-- --:--:--     0\n",
      "100   227  100   227    0     0   1181      0 --:--:-- --:--:-- --:--:--  1181\n",
      "100   495    0   495    0     0   1312      0 --:--:-- --:--:-- --:--:--  1312\n"
     ]
    },
    {
     "name": "stdout",
     "output_type": "stream",
     "text": [
      "{'itemType': 'journalArticle', 'title': 'The History of Chinese Buddhist Bibliography: Censorship and Transformation of the Tripitaka. By Tanya Storch. Amherst, ny: Cambria Press, 2014. isbn 9781604978773. us{\\\\textdollar}109.99.', 'creators': [{'creatorType': 'author', 'firstName': 'Alexander', 'lastName': 'Hsu'}], 'abstractNote': '', 'publicationTitle': 'Review of Religion and Chinese Society', 'volume': '4', 'issue': '2', 'pages': '', 'date': '2017-11-01', 'series': '', 'seriesTitle': '', 'seriesText': '', 'journalAbbreviation': '', 'language': '', 'DOI': '10.1163/22143955-00402008', 'ISSN': '', 'shortTitle': '', 'url': 'https://doi.org/10.1163%2F22143955-00402008', 'accessDate': '2022-12-18', 'archive': '', 'archiveLocation': '', 'libraryCatalog': '', 'callNumber': '', 'rights': '', 'extra': '[]', 'tags': [], 'collections': [], 'relations': {}}\n",
      "0\n"
     ]
    }
   ],
   "source": [
    "#### Build a list of search terms:\n",
    "TERMS = ['soviet union psychiatry',\n",
    "        'ussr psychiatry',\n",
    "        'political psychiatry',\n",
    "        'psychiatry socialis',\n",
    "         'collectivis',\n",
    "         'staring game',\n",
    "         'psychic belief',\n",
    "         'california censorsh'\n",
    "        ]\n",
    "\n",
    "MIN_YEAR = \"2010\" # Oldest year to search\n",
    "SAVE_BIB = False  # Save a Bibtex file (.bib)?\n",
    "USE_ZOT  = True   # Upload to Zotero?\n",
    "CLEAN    = False  # Attempt to remove/repair broken LaTex and other formatting \n",
    "\n",
    "\n",
    "#### Load libraries\n",
    "from box import Box\n",
    "\n",
    "import cleanZot\n",
    "import importlib\n",
    "import pyserpCite\n",
    "import yaml\n",
    "\n",
    "importlib.reload(pyserpCite)\n",
    "\n",
    "#### Import Credentials from Your YAML File\n",
    "with open(\"/Users/jason.miller/Documents/data-science-scripts/jason/litBot/litbot/config.yaml\", \"r\") as ymlfile:\n",
    "    cfg = Box(yaml.safe_load(ymlfile), default_box=True, default_box_attr=None)\n",
    "\n",
    "API_KEY = cfg.API_KEY\n",
    "ZOT_ID  = cfg.ZOT_ID\n",
    "ZOT_KEY = cfg.ZOT_KEY\n",
    "\n",
    "#### Instantiate a serpZot object for API management\n",
    "citeObj = pyserpCite.serpZot(API_KEY  = API_KEY, \n",
    "                             ZOT_ID   = ZOT_ID, \n",
    "                             ZOT_KEY  = ZOT_KEY)\n",
    "\n",
    "#### Call the search method\n",
    "for i in range(len(TERMS)):\n",
    "    print(citeObj.searchScholar(TERM     = TERMS[i], \n",
    "                                MIN_YEAR = MIN_YEAR,\n",
    "                                SAVE_BIB = SAVE_BIB))\n",
    "    print(\"This should've returned 0 (sucess)\")\n",
    "    # Upload the parsed results\n",
    "    print(citeObj.search2Zotero())\n",
    "\n",
    "\n",
    "#### Clean Ugly Raw LaText (as Much as Possible)\n",
    "if CLEAN:\n",
    "    cleanZot.serpZot(ZOT_ID      = ZOT_ID, \n",
    "                     ZOT_KEY     = ZOT_KEY,\n",
    "                     SEARCH_TERM = \"\\\\\") # optional (defaults to all items)\n"
   ]
  },
  {
   "cell_type": "code",
   "execution_count": null,
   "id": "4bcb376a-c4d8-4f6f-8764-7ef463e57b06",
   "metadata": {},
   "outputs": [],
   "source": []
  }
 ],
 "metadata": {
  "kernelspec": {
   "display_name": "Python 3 (ipykernel)",
   "language": "python",
   "name": "python3"
  },
  "language_info": {
   "codemirror_mode": {
    "name": "ipython",
    "version": 3
   },
   "file_extension": ".py",
   "mimetype": "text/x-python",
   "name": "python",
   "nbconvert_exporter": "python",
   "pygments_lexer": "ipython3",
   "version": "3.9.13"
  }
 },
 "nbformat": 4,
 "nbformat_minor": 5
}
