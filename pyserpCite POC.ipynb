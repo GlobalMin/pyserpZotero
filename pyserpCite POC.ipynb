{
 "cells": [
  {
   "cell_type": "code",
   "execution_count": 126,
   "id": "19eed423-4903-4808-a6c7-9e7ce5418627",
   "metadata": {},
   "outputs": [
    {
     "data": {
      "text/plain": [
       "<module 'pyserpCite' from '/Users/jason.miller/Documents/data-science-scripts/jason/litBot/litbot/pyserpCite.py'>"
      ]
     },
     "execution_count": 126,
     "metadata": {},
     "output_type": "execute_result"
    }
   ],
   "source": [
    "# Load libraries\n",
    "import importlib\n",
    "import pyserpCite\n",
    "import yaml\n",
    "\n",
    "from box import Box\n",
    "\n",
    "importlib.reload(pyserpCite)"
   ]
  },
  {
   "cell_type": "code",
   "execution_count": 127,
   "id": "1a446452-69d4-4fd1-9ad3-d49b8b3f8dd9",
   "metadata": {},
   "outputs": [],
   "source": [
    "with open(\"config.yaml\", \"r\") as ymlfile:\n",
    "    cfg = Box(yaml.safe_load(ymlfile), default_box=True, default_box_attr=None)\n",
    "    \n",
    "API_KEY = cfg.API_KEY\n",
    "ZOT_ID  = cfg.ZOT_ID\n",
    "ZOT_KEY = cfg.ZOT_KEY"
   ]
  },
  {
   "cell_type": "code",
   "execution_count": 128,
   "id": "d21329ec-8cac-4403-8ef3-26b177cbb5e5",
   "metadata": {},
   "outputs": [
    {
     "name": "stdout",
     "output_type": "stream",
     "text": [
      "Reminder: Make sure your Zotero key has write permissions.\n"
     ]
    }
   ],
   "source": [
    "# Instantiate a serpZot object for API management\n",
    "citeObj = pyserpCite.serpZot(API_KEY  = API_KEY, \n",
    "                             ZOT_ID   = ZOT_ID, \n",
    "                             ZOT_KEY  = ZOT_KEY)"
   ]
  },
  {
   "cell_type": "code",
   "execution_count": 129,
   "id": "5a18b524-a9c6-4cff-b44f-286bba985847",
   "metadata": {},
   "outputs": [
    {
     "name": "stdout",
     "output_type": "stream",
     "text": [
      "https://serpapi.com/search\n",
      "0\n",
      "This should've returned 0 (sucess)\n"
     ]
    }
   ],
   "source": [
    "# Call the search method\n",
    "print(citeObj.searchScholar(TERM = \"quantum vs classical algorithm accuracy\", MIN_YEAR = \"1990\"))\n",
    "print(\"This should've returned 0 (sucess)\")"
   ]
  },
  {
   "cell_type": "code",
   "execution_count": null,
   "id": "ba92f02e-707e-425c-82bf-e01fecd9b8d6",
   "metadata": {},
   "outputs": [
    {
     "name": "stdout",
     "output_type": "stream",
     "text": [
      "Now processing: mkWXIfjuEL8J\n",
      "https://serpapi.com/search\n",
      "Montanaro, A. (2016). Quantum algorithms: an overview. npj Quantum Information, 2(1), 1-8.\n"
     ]
    },
    {
     "name": "stderr",
     "output_type": "stream",
     "text": [
      "  % Total    % Received % Xferd  Average Speed   Time    Time     Time  Current\n",
      "                                 Dload  Upload   Total   Spent    Left  Speed\n",
      "  0     0    0     0    0     0      0      0 --:--:-- --:--:-- --:--:--     0\n",
      "100   219  100   219    0     0    999      0 --:--:-- --:--:-- --:--:--     0\n",
      "100   337    0   337    0     0    839      0 --:--:-- --:--:-- --:--:--   839\n"
     ]
    },
    {
     "name": "stdout",
     "output_type": "stream",
     "text": [
      "{'itemType': 'journalArticle', 'title': 'Quantum algorithms: an overview', 'creators': [{'creatorType': 'author', 'firstName': 'Ashley', 'lastName': 'Montanaro'}], 'abstractNote': '', 'publicationTitle': 'npj Quantum Information', 'volume': '2', 'issue': '1', 'pages': '', 'date': '2016-01-01', 'series': '', 'seriesTitle': '', 'seriesText': '', 'journalAbbreviation': '', 'language': '', 'DOI': '10.1038/npjqi.2015.23', 'ISSN': '', 'shortTitle': '', 'url': 'https://doi.org/10.1038%2Fnpjqi.2015.23', 'accessDate': '2022-12-15', 'archive': '', 'archiveLocation': '', 'libraryCatalog': '', 'callNumber': '', 'rights': '', 'extra': '[]', 'tags': [], 'collections': [], 'relations': {}}\n",
      "Now processing: IT9PfXBqPtYJ\n",
      "https://serpapi.com/search\n",
      "Cerezo, M., Arrasmith, A., Babbush, R., Benjamin, S. C., Endo, S., Fujii, K., ... & Coles, P. J. (2021). Variational quantum algorithms. Nature Reviews Physics, 3(9), 625-644.\n"
     ]
    },
    {
     "name": "stderr",
     "output_type": "stream",
     "text": [
      "  % Total    % Received % Xferd  Average Speed   Time    Time     Time  Current\n",
      "                                 Dload  Upload   Total   Spent    Left  Speed\n",
      "  0     0    0     0    0     0      0      0 --:--:-- --:--:-- --:--:--     0\n",
      "100   229  100   229    0     0    941      0 --:--:-- --:--:-- --:--:--   941\n",
      "100   544    0   544    0     0   1273      0 --:--:-- --:--:-- --:--:--  1273\n"
     ]
    },
    {
     "name": "stdout",
     "output_type": "stream",
     "text": [
      "{'itemType': 'journalArticle', 'title': 'Variational quantum algorithms', 'creators': [{'creatorType': 'author', 'firstName': 'M.', 'lastName': 'Cerezo'}, {'creatorType': 'author', 'firstName': 'Andrew', 'lastName': 'Arrasmith'}, {'creatorType': 'author', 'firstName': 'Ryan', 'lastName': 'Babbush'}, {'creatorType': 'author', 'firstName': 'Simon', 'lastName': 'Benjamin'}, {'creatorType': 'author', 'firstName': 'Suguru', 'lastName': 'Endo'}, {'creatorType': 'author', 'firstName': 'Keisuke', 'lastName': 'Fujii'}, {'creatorType': 'author', 'firstName': 'Jarrod', 'lastName': 'McClean'}, {'creatorType': 'author', 'firstName': 'Kosuke', 'lastName': 'Mitarai'}, {'creatorType': 'author', 'firstName': 'Xiao', 'lastName': 'Yuan'}, {'creatorType': 'author', 'firstName': 'Lukasz', 'lastName': 'Cincio'}, {'creatorType': 'author', 'firstName': 'Patrick', 'lastName': 'Coles'}], 'abstractNote': '', 'publicationTitle': 'Nature Reviews Physics', 'volume': '3', 'issue': '9', 'pages': '', 'date': '2021-08-01', 'series': '', 'seriesTitle': '', 'seriesText': '', 'journalAbbreviation': '', 'language': '', 'DOI': '10.1038/s42254-021-00348-9', 'ISSN': '', 'shortTitle': '', 'url': 'https://doi.org/10.1038%2Fs42254-021-00348-9', 'accessDate': '2022-12-15', 'archive': '', 'archiveLocation': '', 'libraryCatalog': '', 'callNumber': '', 'rights': '', 'extra': '[]', 'tags': [], 'collections': [], 'relations': {}}\n",
      "Now processing: bvg3OSOigZEJ\n",
      "https://serpapi.com/search\n",
      "Abrams, D. S., & Lloyd, S. (1999). Quantum algorithm providing exponential speed increase for finding eigenvalues and eigenvectors. Physical Review Letters, 83(24), 5162.\n"
     ]
    },
    {
     "name": "stderr",
     "output_type": "stream",
     "text": [
      "  % Total    % Received % Xferd  Average Speed   Time    Time     Time  Current\n",
      "                                 Dload  Upload   Total   Spent    Left  Speed\n",
      "  0     0    0     0    0     0      0      0 --:--:-- --:--:-- --:--:--     0\n",
      "100   231  100   231    0     0    962      0 --:--:-- --:--:-- --:--:--   962\n",
      "100   442    0   442    0     0   1039      0 --:--:-- --:--:-- --:--:--  1039\n"
     ]
    },
    {
     "name": "stdout",
     "output_type": "stream",
     "text": [
      "{'itemType': 'journalArticle', 'title': 'Quantum Algorithm Providing Exponential Speed Increase for Finding Eigenvalues and Eigenvectors', 'creators': [{'creatorType': 'author', 'firstName': 'Daniel', 'lastName': 'Abrams'}, {'creatorType': 'author', 'firstName': 'Seth', 'lastName': 'Lloyd'}], 'abstractNote': '', 'publicationTitle': 'Physical Review Letters', 'volume': '83', 'issue': '24', 'pages': '', 'date': '1999-12-01', 'series': '', 'seriesTitle': '', 'seriesText': '', 'journalAbbreviation': '', 'language': '', 'DOI': '10.1103/physrevlett.83.5162', 'ISSN': '', 'shortTitle': '', 'url': 'https://doi.org/10.1103%2Fphysrevlett.83.5162', 'accessDate': '2022-12-15', 'archive': '', 'archiveLocation': '', 'libraryCatalog': '', 'callNumber': '', 'rights': '', 'extra': '[]', 'tags': [], 'collections': [], 'relations': {}}\n",
      "Now processing: iPwqi7Xkbb0J\n",
      "https://serpapi.com/search\n",
      "Bauer, B., Wecker, D., Millis, A. J., Hastings, M. B., & Troyer, M. (2016). Hybrid quantum-classical approach to correlated materials. Physical Review X, 6(3), 031045.\n"
     ]
    },
    {
     "name": "stderr",
     "output_type": "stream",
     "text": [
      "  % Total    % Received % Xferd  Average Speed   Time    Time     Time  Current\n",
      "                                 Dload  Upload   Total   Spent    Left  Speed\n",
      "  0     0    0     0    0     0      0      0 --:--:-- --:--:-- --:--:--     0\n",
      "100   227  100   227    0     0   1176      0 --:--:-- --:--:-- --:--:--  1176\n",
      "100   428    0   428    0     0   1147      0 --:--:-- --:--:-- --:--:--  1147\n"
     ]
    },
    {
     "name": "stdout",
     "output_type": "stream",
     "text": [
      "{'itemType': 'journalArticle', 'title': 'Hybrid Quantum-Classical Approach to Correlated Materials', 'creators': [{'creatorType': 'author', 'firstName': 'Bela', 'lastName': 'Bauer'}, {'creatorType': 'author', 'firstName': 'Dave', 'lastName': 'Wecker'}, {'creatorType': 'author', 'firstName': 'Andrew', 'lastName': 'Millis'}, {'creatorType': 'author', 'firstName': 'Matthew', 'lastName': 'Hastings'}, {'creatorType': 'author', 'firstName': 'Matthias', 'lastName': 'Troyer'}], 'abstractNote': '', 'publicationTitle': 'Physical Review X', 'volume': '6', 'issue': '3', 'pages': '', 'date': '2016-09-01', 'series': '', 'seriesTitle': '', 'seriesText': '', 'journalAbbreviation': '', 'language': '', 'DOI': '10.1103/physrevx.6.031045', 'ISSN': '', 'shortTitle': '', 'url': 'https://doi.org/10.1103%2Fphysrevx.6.031045', 'accessDate': '2022-12-15', 'archive': '', 'archiveLocation': '', 'libraryCatalog': '', 'callNumber': '', 'rights': '', 'extra': '[]', 'tags': [], 'collections': [], 'relations': {}}\n",
      "Now processing: 4UcEhWy7HfcJ\n",
      "https://serpapi.com/search\n",
      "Bauer, B., Bravyi, S., Motta, M., & Chan, G. K. L. (2020). Quantum algorithms for quantum chemistry and quantum materials science. Chemical Reviews, 120(22), 12685-12717.\n"
     ]
    }
   ],
   "source": [
    "# Upload the parsed results\n",
    "print(citeObj.search2Zotero())"
   ]
  },
  {
   "cell_type": "code",
   "execution_count": null,
   "id": "419ae705-54bb-4a0e-8c78-73cafe354813",
   "metadata": {},
   "outputs": [],
   "source": [
    "# I've added more since writing the notebook. I will update this soon."
   ]
  }
 ],
 "metadata": {
  "kernelspec": {
   "display_name": "Python 3 (ipykernel)",
   "language": "python",
   "name": "python3"
  },
  "language_info": {
   "codemirror_mode": {
    "name": "ipython",
    "version": 3
   },
   "file_extension": ".py",
   "mimetype": "text/x-python",
   "name": "python",
   "nbconvert_exporter": "python",
   "pygments_lexer": "ipython3",
   "version": "3.9.13"
  }
 },
 "nbformat": 4,
 "nbformat_minor": 5
}
