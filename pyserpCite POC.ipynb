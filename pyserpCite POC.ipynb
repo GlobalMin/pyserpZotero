{
 "cells": [
  {
   "cell_type": "code",
   "execution_count": 104,
   "id": "19eed423-4903-4808-a6c7-9e7ce5418627",
   "metadata": {},
   "outputs": [
    {
     "data": {
      "text/plain": [
       "<module 'untitled' from '/Users/jason.miller/Documents/data-science-scripts/jason/litBot/litbot/untitled.py'>"
      ]
     },
     "execution_count": 104,
     "metadata": {},
     "output_type": "execute_result"
    }
   ],
   "source": [
    "import importlib\n",
    "import pyserpCite\n",
    "importlib.reload(pyserpCite)"
   ]
  },
  {
   "cell_type": "code",
   "execution_count": 105,
   "id": "d21329ec-8cac-4403-8ef3-26b177cbb5e5",
   "metadata": {},
   "outputs": [
    {
     "name": "stdout",
     "output_type": "stream",
     "text": [
      "Make sure your Zotero key has write permissions.\n"
     ]
    }
   ],
   "source": [
    "# Instantiate a serpZot object for API management\n",
    "citeObj = untitled.serpZot(API_KEY  = \"YOUR_API_KEY\", \n",
    "                           ZOT_ID   = \"7032524\", \n",
    "                           ZOT_KEY  = \"YOUR_ZOTERO_KEY\")\n"
   ]
  },
  {
   "cell_type": "code",
   "execution_count": 106,
   "id": "5a18b524-a9c6-4cff-b44f-286bba985847",
   "metadata": {},
   "outputs": [
    {
     "name": "stdout",
     "output_type": "stream",
     "text": [
      "https://serpapi.com/search\n",
      "0\n",
      "This should've returned 0 (sucess)\n"
     ]
    }
   ],
   "source": [
    "# Call the search method\n",
    "print(citeObj.searchScholar(TERM = \"memory oxygen treatment\", MIN_YEAR = \"2020\"))\n",
    "print(\"This should've returned 0 (sucess)\")"
   ]
  },
  {
   "cell_type": "code",
   "execution_count": 107,
   "id": "ba92f02e-707e-425c-82bf-e01fecd9b8d6",
   "metadata": {},
   "outputs": [
    {
     "name": "stdout",
     "output_type": "stream",
     "text": [
      "https://serpapi.com/search\n"
     ]
    },
    {
     "name": "stderr",
     "output_type": "stream",
     "text": [
      "  % Total    % Received % Xferd  Average Speed   Time    Time     Time  Current\n",
      "                                 Dload  Upload   Total   Spent    Left  Speed\n",
      "  0     0    0     0    0     0      0      0 --:--:-- --:--:-- --:--:--     0\n",
      "100   233  100   233    0     0   1075      0 --:--:-- --:--:-- --:--:--  1075\n",
      "100   473    0   473    0     0   1184      0 --:--:-- --:--:-- --:--:--  1184\n"
     ]
    },
    {
     "name": "stdout",
     "output_type": "stream",
     "text": [
      "{'journal': 'Nano Energy', 'title': 'Moisture-powered memristor with interfacial oxygen migration for power-free reading of multiple memory states', 'author': ['Tao, Ye', 'Wang, Zhongqiang', 'Xu, Haiyang', 'Ding, Wentao', 'Zhao, Xiaoning', 'Lin, Ya', 'Liu, Yichun'], 'pages': '104628', 'volume': '71', 'publisher': 'Elsevier {BV}', 'month': 'may', 'year': '2020', 'url': 'https://doi.org/10.1016%2Fj.nanoen.2020.104628', 'doi': '10.1016/j.nanoen.2020.104628', 'ENTRYTYPE': 'article', 'ID': 'Tao_2020'}\n",
      "{'itemType': 'journalArticle', 'title': 'Moisture-powered memristor with interfacial oxygen migration for power-free reading of multiple memory states', 'creators': [{'creatorType': 'author', 'firstName': 'Ye', 'lastName': 'Tao'}, {'creatorType': 'author', 'firstName': 'Zhongqiang', 'lastName': 'Wang'}, {'creatorType': 'author', 'firstName': 'Haiyang', 'lastName': 'Xu'}, {'creatorType': 'author', 'firstName': 'Wentao', 'lastName': 'Ding'}, {'creatorType': 'author', 'firstName': 'Xiaoning', 'lastName': 'Zhao'}, {'creatorType': 'author', 'firstName': 'Ya', 'lastName': 'Lin'}, {'creatorType': 'author', 'firstName': 'Yichun', 'lastName': 'Liu'}], 'abstractNote': '', 'publicationTitle': 'Nano Energy', 'volume': '71', 'issue': '', 'pages': '', 'date': '2020-05-01', 'series': '', 'seriesTitle': '', 'seriesText': '', 'journalAbbreviation': '', 'language': '', 'DOI': '10.1016/j.nanoen.2020.104628', 'ISSN': '', 'shortTitle': '', 'url': 'https://doi.org/10.1016%2Fj.nanoen.2020.104628', 'accessDate': '2022-12-09', 'archive': '', 'archiveLocation': '', 'libraryCatalog': '', 'callNumber': '', 'rights': '', 'extra': '[]', 'tags': [], 'collections': [], 'relations': {}}\n",
      "https://serpapi.com/search\n"
     ]
    },
    {
     "name": "stderr",
     "output_type": "stream",
     "text": [
      "  % Total    % Received % Xferd  Average Speed   Time    Time     Time  Current\n",
      "                                 Dload  Upload   Total   Spent    Left  Speed\n",
      "  0     0    0     0    0     0      0      0 --:--:-- --:--:-- --:--:--     0\n",
      "100   231  100   231    0     0   1100      0 --:--:-- --:--:-- --:--:--  1100\n",
      "100   476    0   476    0     0   1223      0 --:--:-- --:--:-- --:--:--  4760\n"
     ]
    },
    {
     "name": "stdout",
     "output_type": "stream",
     "text": [
      "{'journal': 'Japanese Journal of Applied Physics', 'title': 'Transparent {ZnO} resistive switching memory fabricated by neutral oxygen beam treatment', 'author': ['Simanjuntak, Firman Mangasa', 'Ohno, Takeo', 'Minami, Kana', 'Samukawa, Seiji'], 'pages': 'SM1010', 'number': '{SM}', 'volume': '61', 'publisher': '{IOP} Publishing', 'month': 'jul', 'year': '2022', 'url': 'https://doi.org/10.35848%2F1347-4065%2Fac762e', 'doi': '10.35848/1347-4065/ac762e', 'ENTRYTYPE': 'article', 'ID': 'Simanjuntak_2022'}\n",
      "{'itemType': 'journalArticle', 'title': 'Transparent {ZnO} resistive switching memory fabricated by neutral oxygen beam treatment', 'creators': [{'creatorType': 'author', 'firstName': 'Firman', 'lastName': 'Simanjuntak'}, {'creatorType': 'author', 'firstName': 'Takeo', 'lastName': 'Ohno'}, {'creatorType': 'author', 'firstName': 'Kana', 'lastName': 'Minami'}, {'creatorType': 'author', 'firstName': 'Seiji', 'lastName': 'Samukawa'}], 'abstractNote': '', 'publicationTitle': 'Japanese Journal of Applied Physics', 'volume': '61', 'issue': '{SM}', 'pages': '', 'date': '2022-07-01', 'series': '', 'seriesTitle': '', 'seriesText': '', 'journalAbbreviation': '', 'language': '', 'DOI': '10.35848/1347-4065/ac762e', 'ISSN': '', 'shortTitle': '', 'url': 'https://doi.org/10.35848%2F1347-4065%2Fac762e', 'accessDate': '2022-12-09', 'archive': '', 'archiveLocation': '', 'libraryCatalog': '', 'callNumber': '', 'rights': '', 'extra': '[]', 'tags': [], 'collections': [], 'relations': {}}\n",
      "https://serpapi.com/search\n"
     ]
    },
    {
     "name": "stderr",
     "output_type": "stream",
     "text": [
      "  % Total    % Received % Xferd  Average Speed   Time    Time     Time  Current\n",
      "                                 Dload  Upload   Total   Spent    Left  Speed\n",
      "  0     0    0     0    0     0      0      0 --:--:-- --:--:-- --:--:--     0\n",
      "100   229  100   229    0     0   1317      0 --:--:-- --:--:-- --:--:--  1317\n",
      "100   495    0   495    0     0   1377      0 --:--:-- --:--:-- --:--:--  1377\n"
     ]
    },
    {
     "name": "stdout",
     "output_type": "stream",
     "text": [
      "{'journal': 'Journal of Water Process Engineering', 'title': 'Modeling of a full-scale sewage treatment plant to predict the nutrient removal efficiency using a long short-term memory ({LSTM}) neural network', 'author': ['Yaqub, Muhammad', 'Asif, Hasnain', 'Kim, Seongboem', 'Lee, Wontae'], 'pages': '101388', 'volume': '37', 'publisher': 'Elsevier {BV}', 'month': 'oct', 'year': '2020', 'url': 'https://doi.org/10.1016%2Fj.jwpe.2020.101388', 'doi': '10.1016/j.jwpe.2020.101388', 'ENTRYTYPE': 'article', 'ID': 'Yaqub_2020'}\n",
      "{'itemType': 'journalArticle', 'title': 'Modeling of a full-scale sewage treatment plant to predict the nutrient removal efficiency using a long short-term memory ({LSTM}) neural network', 'creators': [{'creatorType': 'author', 'firstName': 'Muhammad', 'lastName': 'Yaqub'}, {'creatorType': 'author', 'firstName': 'Hasnain', 'lastName': 'Asif'}, {'creatorType': 'author', 'firstName': 'Seongboem', 'lastName': 'Kim'}, {'creatorType': 'author', 'firstName': 'Wontae', 'lastName': 'Lee'}], 'abstractNote': '', 'publicationTitle': 'Journal of Water Process Engineering', 'volume': '37', 'issue': '', 'pages': '', 'date': '2020-10-01', 'series': '', 'seriesTitle': '', 'seriesText': '', 'journalAbbreviation': '', 'language': '', 'DOI': '10.1016/j.jwpe.2020.101388', 'ISSN': '', 'shortTitle': '', 'url': 'https://doi.org/10.1016%2Fj.jwpe.2020.101388', 'accessDate': '2022-12-09', 'archive': '', 'archiveLocation': '', 'libraryCatalog': '', 'callNumber': '', 'rights': '', 'extra': '[]', 'tags': [], 'collections': [], 'relations': {}}\n",
      "https://serpapi.com/search\n"
     ]
    },
    {
     "name": "stderr",
     "output_type": "stream",
     "text": [
      "  % Total    % Received % Xferd  Average Speed   Time    Time     Time  Current\n",
      "                                 Dload  Upload   Total   Spent    Left  Speed\n",
      "  0     0    0     0    0     0      0      0 --:--:-- --:--:-- --:--:--     0\n",
      "100   217  100   217    0     0    915      0 --:--:-- --:--:-- --:--:--   915\n",
      "100   403    0   403    0     0    975      0 --:--:-- --:--:-- --:--:--   975\n"
     ]
    },
    {
     "name": "stdout",
     "output_type": "stream",
     "text": [
      "{'journal': 'Nanomaterials', 'title': 'Transformed Filaments by Oxygen Plasma Treatment and Improved Resistance State', 'author': ['Park, Jongmin', 'Choi, Jungwhan', 'Chung, Daewon', 'Kim, Sungjun'], 'pages': '2716', 'number': '15', 'volume': '12', 'publisher': '{MDPI} {AG}', 'month': 'aug', 'year': '2022', 'url': 'https://doi.org/10.3390%2Fnano12152716', 'doi': '10.3390/nano12152716', 'ENTRYTYPE': 'article', 'ID': 'Park_2022'}\n",
      "{'itemType': 'journalArticle', 'title': 'Transformed Filaments by Oxygen Plasma Treatment and Improved Resistance State', 'creators': [{'creatorType': 'author', 'firstName': 'Jongmin', 'lastName': 'Park'}, {'creatorType': 'author', 'firstName': 'Jungwhan', 'lastName': 'Choi'}, {'creatorType': 'author', 'firstName': 'Daewon', 'lastName': 'Chung'}, {'creatorType': 'author', 'firstName': 'Sungjun', 'lastName': 'Kim'}], 'abstractNote': '', 'publicationTitle': 'Nanomaterials', 'volume': '12', 'issue': '15', 'pages': '', 'date': '2022-08-01', 'series': '', 'seriesTitle': '', 'seriesText': '', 'journalAbbreviation': '', 'language': '', 'DOI': '10.3390/nano12152716', 'ISSN': '', 'shortTitle': '', 'url': 'https://doi.org/10.3390%2Fnano12152716', 'accessDate': '2022-12-09', 'archive': '', 'archiveLocation': '', 'libraryCatalog': '', 'callNumber': '', 'rights': '', 'extra': '[]', 'tags': [], 'collections': [], 'relations': {}}\n",
      "https://serpapi.com/search\n"
     ]
    },
    {
     "name": "stderr",
     "output_type": "stream",
     "text": [
      "  % Total    % Received % Xferd  Average Speed   Time    Time     Time  Current\n",
      "                                 Dload  Upload   Total   Spent    Left  Speed\n",
      "  0     0    0     0    0     0      0      0 --:--:-- --:--:-- --:--:--     0\n",
      "100   213  100   213    0     0    743      0 --:--:-- --:--:-- --:--:--   743\n",
      "100   580    0   580    0     0   1238      0 --:--:-- --:--:-- --:--:--  1238\n"
     ]
    },
    {
     "name": "stdout",
     "output_type": "stream",
     "text": [
      "{'journal': 'Restorative Neurology and Neuroscience', 'title': 'Hyperbaric oxygen therapy improves neurocognitive functions of post-stroke patients {\\\\textendash} a retrospective analysis', 'author': ['Hadanny, Amir', 'Rittblat, Mor', 'Bitterman, Mor', 'May-Raz, Ido', 'Suzin, Gil', 'Boussi-Gross, Rahav', 'Zemel, Yonatan', 'Bechor, Yair', 'Catalogna, Merav', 'Efrati, Shai'], 'pages': '93--107', 'number': '1', 'volume': '38', 'publisher': '{IOS} Press', 'month': 'feb', 'year': '2020', 'url': 'https://doi.org/10.3233%2Frnn-190959', 'doi': '10.3233/rnn-190959', 'ENTRYTYPE': 'article', 'ID': 'Hadanny_2020'}\n",
      "{'itemType': 'journalArticle', 'title': 'Hyperbaric oxygen therapy improves neurocognitive functions of post-stroke patients {\\\\textendash} a retrospective analysis', 'creators': [{'creatorType': 'author', 'firstName': 'Amir', 'lastName': 'Hadanny'}, {'creatorType': 'author', 'firstName': 'Mor', 'lastName': 'Rittblat'}, {'creatorType': 'author', 'firstName': 'Mor', 'lastName': 'Bitterman'}, {'creatorType': 'author', 'firstName': 'Ido', 'lastName': 'May-Raz'}, {'creatorType': 'author', 'firstName': 'Gil', 'lastName': 'Suzin'}, {'creatorType': 'author', 'firstName': 'Rahav', 'lastName': 'Boussi-Gross'}, {'creatorType': 'author', 'firstName': 'Yonatan', 'lastName': 'Zemel'}, {'creatorType': 'author', 'firstName': 'Yair', 'lastName': 'Bechor'}, {'creatorType': 'author', 'firstName': 'Merav', 'lastName': 'Catalogna'}, {'creatorType': 'author', 'firstName': 'Shai', 'lastName': 'Efrati'}], 'abstractNote': '', 'publicationTitle': 'Restorative Neurology and Neuroscience', 'volume': '38', 'issue': '1', 'pages': '', 'date': '2020-02-01', 'series': '', 'seriesTitle': '', 'seriesText': '', 'journalAbbreviation': '', 'language': '', 'DOI': '10.3233/rnn-190959', 'ISSN': '', 'shortTitle': '', 'url': 'https://doi.org/10.3233%2Frnn-190959', 'accessDate': '2022-12-09', 'archive': '', 'archiveLocation': '', 'libraryCatalog': '', 'callNumber': '', 'rights': '', 'extra': '[]', 'tags': [], 'collections': [], 'relations': {}}\n",
      "https://serpapi.com/search\n"
     ]
    },
    {
     "name": "stderr",
     "output_type": "stream",
     "text": [
      "  % Total    % Received % Xferd  Average Speed   Time    Time     Time  Current\n",
      "                                 Dload  Upload   Total   Spent    Left  Speed\n",
      "  0     0    0     0    0     0      0      0 --:--:-- --:--:-- --:--:--     0\n",
      "100   221  100   221    0     0    933      0 --:--:-- --:--:-- --:--:--   933\n",
      "100   536    0   536    0     0   1199      0 --:--:-- --:--:-- --:--:--  6871\n"
     ]
    },
    {
     "name": "stdout",
     "output_type": "stream",
     "text": [
      "{'journal': 'Advanced Electronic Materials', 'title': 'Vertical-Resolved Composition and Aggregation Gradient of Conjugated-Polymer@Insulator-Matrix for Transistors and Memory', 'author': ['Wei, Peng', 'Li, Xianglong', 'Wang, Lei', 'Liu, Nannan', 'He, Shi', 'Ren, Yurong', 'Zhu, Yuanwei', 'Yang, Yaodong', 'Lu, Guanghao', 'Bu, Laju'], 'pages': '1901156', 'number': '4', 'volume': '6', 'publisher': 'Wiley', 'month': 'feb', 'year': '2020', 'url': 'https://doi.org/10.1002%2Faelm.201901156', 'doi': '10.1002/aelm.201901156', 'ENTRYTYPE': 'article', 'ID': 'Wei_2020'}\n",
      "{'itemType': 'journalArticle', 'title': 'Vertical-Resolved Composition and Aggregation Gradient of Conjugated-Polymer@Insulator-Matrix for Transistors and Memory', 'creators': [{'creatorType': 'author', 'firstName': 'Peng', 'lastName': 'Wei'}, {'creatorType': 'author', 'firstName': 'Xianglong', 'lastName': 'Li'}, {'creatorType': 'author', 'firstName': 'Lei', 'lastName': 'Wang'}, {'creatorType': 'author', 'firstName': 'Nannan', 'lastName': 'Liu'}, {'creatorType': 'author', 'firstName': 'Shi', 'lastName': 'He'}, {'creatorType': 'author', 'firstName': 'Yurong', 'lastName': 'Ren'}, {'creatorType': 'author', 'firstName': 'Yuanwei', 'lastName': 'Zhu'}, {'creatorType': 'author', 'firstName': 'Yaodong', 'lastName': 'Yang'}, {'creatorType': 'author', 'firstName': 'Guanghao', 'lastName': 'Lu'}, {'creatorType': 'author', 'firstName': 'Laju', 'lastName': 'Bu'}], 'abstractNote': '', 'publicationTitle': 'Advanced Electronic Materials', 'volume': '6', 'issue': '4', 'pages': '', 'date': '2020-02-01', 'series': '', 'seriesTitle': '', 'seriesText': '', 'journalAbbreviation': '', 'language': '', 'DOI': '10.1002/aelm.201901156', 'ISSN': '', 'shortTitle': '', 'url': 'https://doi.org/10.1002%2Faelm.201901156', 'accessDate': '2022-12-09', 'archive': '', 'archiveLocation': '', 'libraryCatalog': '', 'callNumber': '', 'rights': '', 'extra': '[]', 'tags': [], 'collections': [], 'relations': {}}\n",
      "https://serpapi.com/search\n"
     ]
    },
    {
     "name": "stderr",
     "output_type": "stream",
     "text": [
      "  % Total    % Received % Xferd  Average Speed   Time    Time     Time  Current\n",
      "                                 Dload  Upload   Total   Spent    Left  Speed\n",
      "  0     0    0     0    0     0      0      0 --:--:-- --:--:-- --:--:--     0\n",
      "100   229  100   229    0     0   1067      0 --:--:-- --:--:-- --:--:--  1067\n",
      "100   485    0   485    0     0   1192      0 --:--:-- --:--:-- --:--:--  4663\n"
     ]
    },
    {
     "name": "stdout",
     "output_type": "stream",
     "text": [
      "{'journal': 'Neuropsychology Review', 'title': 'Impact of Hyperbaric Oxygen Therapy on Cognitive Functions: a Systematic Review', 'author': ['Marcinkowska, Anna B.', 'Mankowska, Natalia D.', 'Kot, Jacek', 'Winklewski, Pawel J.'], 'pages': '99--126', 'number': '1', 'volume': '32', 'publisher': 'Springer Science and Business Media {LLC}', 'month': 'apr', 'year': '2021', 'url': 'https://doi.org/10.1007%2Fs11065-021-09500-9', 'doi': '10.1007/s11065-021-09500-9', 'ENTRYTYPE': 'article', 'ID': 'Marcinkowska_2021'}\n",
      "{'itemType': 'journalArticle', 'title': 'Impact of Hyperbaric Oxygen Therapy on Cognitive Functions: a Systematic Review', 'creators': [{'creatorType': 'author', 'firstName': 'Anna', 'lastName': 'Marcinkowska'}, {'creatorType': 'author', 'firstName': 'Natalia', 'lastName': 'Mankowska'}, {'creatorType': 'author', 'firstName': 'Jacek', 'lastName': 'Kot'}, {'creatorType': 'author', 'firstName': 'Pawel', 'lastName': 'Winklewski'}], 'abstractNote': '', 'publicationTitle': 'Neuropsychology Review', 'volume': '32', 'issue': '1', 'pages': '', 'date': '2021-04-01', 'series': '', 'seriesTitle': '', 'seriesText': '', 'journalAbbreviation': '', 'language': '', 'DOI': '10.1007/s11065-021-09500-9', 'ISSN': '', 'shortTitle': '', 'url': 'https://doi.org/10.1007%2Fs11065-021-09500-9', 'accessDate': '2022-12-09', 'archive': '', 'archiveLocation': '', 'libraryCatalog': '', 'callNumber': '', 'rights': '', 'extra': '[]', 'tags': [], 'collections': [], 'relations': {}}\n",
      "https://serpapi.com/search\n"
     ]
    },
    {
     "name": "stderr",
     "output_type": "stream",
     "text": [
      "  % Total    % Received % Xferd  Average Speed   Time    Time     Time  Current\n",
      "                                 Dload  Upload   Total   Spent    Left  Speed\n",
      "  0     0    0     0    0     0      0      0 --:--:-- --:--:-- --:--:--     0\n",
      "100   213  100   213    0     0   1158      0 --:--:-- --:--:-- --:--:--  1158\n",
      "100   557    0   557    0     0   1426      0 --:--:-- --:--:-- --:--:--  1426\n"
     ]
    },
    {
     "name": "stdout",
     "output_type": "stream",
     "text": [
      "{'journal': 'Inorganic Chemistry Frontiers', 'title': 'Interplay between oxygen defects and dopants: effect on structure and performance of {HfO}$\\\\less$sub$\\\\greater$2$\\\\less$/sub$\\\\greater$-based ferroelectrics', 'author': ['Materano, Monica', 'Lomenzo, Patrick D.', 'Kersch, Alfred', 'Park, Min Hyuk', 'Mikolajick, Thomas', 'Schroeder, Uwe'], 'pages': '2650--2672', 'number': '10', 'volume': '8', 'publisher': 'Royal Society of Chemistry ({RSC})', 'year': '2021', 'url': 'https://doi.org/10.1039%2Fd1qi00167a', 'doi': '10.1039/d1qi00167a', 'ENTRYTYPE': 'article', 'ID': 'Materano_2021'}\n"
     ]
    },
    {
     "ename": "KeyError",
     "evalue": "'month'",
     "output_type": "error",
     "traceback": [
      "\u001b[0;31m---------------------------------------------------------------------------\u001b[0m",
      "\u001b[0;31mKeyError\u001b[0m                                  Traceback (most recent call last)",
      "Input \u001b[0;32mIn [107]\u001b[0m, in \u001b[0;36m<module>\u001b[0;34m\u001b[0m\n\u001b[1;32m      1\u001b[0m \u001b[38;5;66;03m# Upload the parsed results\u001b[39;00m\n\u001b[0;32m----> 2\u001b[0m \u001b[38;5;28mprint\u001b[39m(\u001b[43mciteObj\u001b[49m\u001b[38;5;241;43m.\u001b[39;49m\u001b[43msearch2Zotero\u001b[49m\u001b[43m(\u001b[49m\u001b[43m)\u001b[49m)\n",
      "File \u001b[0;32m~/Documents/data-science-scripts/jason/litBot/litbot/untitled.py:177\u001b[0m, in \u001b[0;36mserpZot.search2Zotero\u001b[0;34m(self)\u001b[0m\n\u001b[1;32m    174\u001b[0m     \u001b[38;5;28;01mpass\u001b[39;00m\n\u001b[1;32m    176\u001b[0m \u001b[38;5;66;03m# Fix Date\u001b[39;00m\n\u001b[0;32m--> 177\u001b[0m mydate \u001b[38;5;241m=\u001b[39m \u001b[43mbib_dict\u001b[49m\u001b[43m[\u001b[49m\u001b[38;5;124;43m'\u001b[39;49m\u001b[38;5;124;43mmonth\u001b[39;49m\u001b[38;5;124;43m'\u001b[39;49m\u001b[43m]\u001b[49m\u001b[38;5;241m+\u001b[39m\u001b[38;5;124m'\u001b[39m\u001b[38;5;124m \u001b[39m\u001b[38;5;124m'\u001b[39m\u001b[38;5;241m+\u001b[39mbib_dict[\u001b[38;5;124m'\u001b[39m\u001b[38;5;124myear\u001b[39m\u001b[38;5;124m'\u001b[39m]\n\u001b[1;32m    178\u001b[0m template[\u001b[38;5;124m'\u001b[39m\u001b[38;5;124mdate\u001b[39m\u001b[38;5;124m'\u001b[39m] \u001b[38;5;241m=\u001b[39m \u001b[38;5;28mstr\u001b[39m(datetime\u001b[38;5;241m.\u001b[39mdatetime\u001b[38;5;241m.\u001b[39mstrptime(mydate, \u001b[38;5;124m'\u001b[39m\u001b[38;5;124m%\u001b[39m\u001b[38;5;124mb \u001b[39m\u001b[38;5;124m%\u001b[39m\u001b[38;5;124mY\u001b[39m\u001b[38;5;124m'\u001b[39m)\u001b[38;5;241m.\u001b[39mdate())\n\u001b[1;32m    180\u001b[0m \u001b[38;5;66;03m# Parse Names into Template/Data\u001b[39;00m\n",
      "\u001b[0;31mKeyError\u001b[0m: 'month'"
     ]
    }
   ],
   "source": [
    "# Upload the parsed results\n",
    "print(citeObj.search2Zotero())"
   ]
  },
  {
   "cell_type": "code",
   "execution_count": null,
   "id": "419ae705-54bb-4a0e-8c78-73cafe354813",
   "metadata": {},
   "outputs": [],
   "source": []
  },
  {
   "cell_type": "code",
   "execution_count": null,
   "id": "c7cd9630-7ac2-426c-badb-041399bd971d",
   "metadata": {},
   "outputs": [],
   "source": []
  },
  {
   "cell_type": "code",
   "execution_count": null,
   "id": "e0ade9d7-faa5-43ec-b55a-69c1c0bbd79b",
   "metadata": {},
   "outputs": [],
   "source": []
  },
  {
   "cell_type": "code",
   "execution_count": 91,
   "id": "6b153c3b-4697-4efa-8c38-8d8198cba114",
   "metadata": {},
   "outputs": [],
   "source": [
    "def searchScholar(TERM = \"datarobot\", MIN_YEAR=\"2015\"):\n",
    "    \"\"\"\n",
    "    Search for journal articles\n",
    "\n",
    "    :param TERM: search term for Google Scholar\n",
    "    :type TERM: str\n",
    "\n",
    "    :param MIN_YEAR: oldest year to search on\n",
    "    :type MIN_YEAR: str\n",
    "    \"\"\"    \n",
    "    API_KEY  = \"2d7e471867259b72fb019add2ef26d4d477a87f913ef55d90b2c649f4b8af9de\" \n",
    "    ZOT_ID   = \"7032524\"\n",
    "    ZOT_KEY  = \"AHUiTfE6jN7hKweV5798MSrv\"\n",
    "\n",
    "\n",
    "    # Search Parameters \n",
    "    params = {\n",
    "      \"api_key\": API_KEY,\n",
    "      \"device\": \"desktop\",\n",
    "      \"engine\": \"google_scholar\",\n",
    "      \"q\": TERM,\n",
    "      \"hl\": \"en\",\n",
    "      \"num\": \"20\",\n",
    "      \"as_ylo\": MIN_YEAR\n",
    "    }\n",
    "\n",
    "    # Search\n",
    "    search = GoogleSearch(params)\n",
    "\n",
    "    # Scrape Results, Extract Result Id's\n",
    "    json_data = search.get_raw_json()\n",
    "    data = json.loads(json_data)\n",
    "    df = pd.json_normalize(data['organic_results'])\n",
    "    ris = df['result_id']\n",
    "\n",
    "    return ris"
   ]
  },
  {
   "cell_type": "code",
   "execution_count": 92,
   "id": "b9401fe9-eb20-4e0a-95bc-a2f0655ba410",
   "metadata": {},
   "outputs": [
    {
     "name": "stdout",
     "output_type": "stream",
     "text": [
      "https://serpapi.com/search\n"
     ]
    },
    {
     "data": {
      "text/plain": [
       "0     TxbFPLU7ZxYJ\n",
       "1     qfJG0vdwBf4J\n",
       "2     kcGpvXdkX1EJ\n",
       "3     5UEoptUpsuQJ\n",
       "4     u1a3MXjoP2oJ\n",
       "5     X_50FJDXwuMJ\n",
       "6     jjIp8RRmfwsJ\n",
       "7     ivH0ppxYOQwJ\n",
       "8     7UBt8DpkJPAJ\n",
       "9     LbFcvPhWB80J\n",
       "10    GRAHDfEU8EgJ\n",
       "11    dkMbLUM2S_oJ\n",
       "12    Mw1O2DDAD60J\n",
       "13    rDGfisFBYL0J\n",
       "14    6Vb_lLQkEQAJ\n",
       "15    NrTnrBZCzZcJ\n",
       "16    GQh6XVZ57Y4J\n",
       "17    yeOX20qfQXsJ\n",
       "18    KFSpCLdGq1IJ\n",
       "19    PsFYzuldr5UJ\n",
       "Name: result_id, dtype: object"
      ]
     },
     "execution_count": 92,
     "metadata": {},
     "output_type": "execute_result"
    }
   ],
   "source": [
    "from serpapi import GoogleSearch\n",
    "import json\n",
    "import pandas as pd\n",
    "searchScholar()"
   ]
  },
  {
   "cell_type": "code",
   "execution_count": null,
   "id": "96e45516-0bf3-4dcd-b33d-c490c50e59f4",
   "metadata": {},
   "outputs": [],
   "source": []
  }
 ],
 "metadata": {
  "kernelspec": {
   "display_name": "Python 3 (ipykernel)",
   "language": "python",
   "name": "python3"
  },
  "language_info": {
   "codemirror_mode": {
    "name": "ipython",
    "version": 3
   },
   "file_extension": ".py",
   "mimetype": "text/x-python",
   "name": "python",
   "nbconvert_exporter": "python",
   "pygments_lexer": "ipython3",
   "version": "3.9.13"
  }
 },
 "nbformat": 4,
 "nbformat_minor": 5
}
